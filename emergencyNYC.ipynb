{
 "cells": [
  {
   "cell_type": "code",
   "execution_count": 1,
   "metadata": {},
   "outputs": [],
   "source": [
    "import pandas as pd\n",
    "import numpy as np\n",
    "import matplotlib.pyplot as plt\n",
    "from functools import reduce\n",
    "import statsmodels.formula.api as smf\n",
    "from sklearn.model_selection import train_test_split\n",
    "from sklearn.metrics import mean_squared_error as mse\n",
    "from sklearn.metrics import r2_score"
   ]
  },
  {
   "cell_type": "code",
   "execution_count": 2,
   "metadata": {},
   "outputs": [],
   "source": [
    "import graphing"
   ]
  },
  {
   "cell_type": "code",
   "execution_count": 16,
   "metadata": {},
   "outputs": [],
   "source": [
    "df25 = pd.read_csv('Datasets/NYC/EmergencyNYC.csv',delimiter=',',on_bad_lines='skip')\n",
    "df26 = pd.read_csv('Datasets/NYC/acuteHydrocephalus.csv',delimiter=',',on_bad_lines='skip')\n",
    "df27 = pd.read_csv('Datasets/NYC/autoimmune.csv',delimiter=',',on_bad_lines='skip')\n",
    "df28 = pd.read_csv('Datasets/NYC/clot.csv',delimiter=',',on_bad_lines='skip')\n",
    "df29 = pd.read_csv('Datasets/NYC/delirium.csv',delimiter=',',on_bad_lines='skip')\n",
    "df30 = pd.read_csv('Datasets/NYC/dementia.csv',delimiter=',',on_bad_lines='skip')\n",
    "df31 = pd.read_csv('Datasets/NYC/donor.csv',delimiter=',',on_bad_lines='skip')\n",
    "df32 = pd.read_csv('Datasets/NYC/EMTs.csv',delimiter=',',on_bad_lines='skip')\n",
    "df33 = pd.read_csv('Datasets/NYC/gunshot.csv',delimiter=',',on_bad_lines='skip')\n",
    "df34 = pd.read_csv('Datasets/NYC/gynecologist.csv',delimiter=',',on_bad_lines='skip')\n",
    "df35 = pd.read_csv('Datasets/NYC/HepaticComa.csv',delimiter=',',on_bad_lines='skip')\n",
    "df36 = pd.read_csv('Datasets/NYC/incision.csv',delimiter=',',on_bad_lines='skip')\n",
    "df37 = pd.read_csv('Datasets/NYC/internal.csv',delimiter=',',on_bad_lines='skip')\n",
    "df38 = pd.read_csv('Datasets/NYC/metastasized.csv',delimiter=',',on_bad_lines='skip')\n",
    "df39 = pd.read_csv('Datasets/NYC/neurosurgery.csv',delimiter=',',on_bad_lines='skip')\n",
    "df40 = pd.read_csv('Datasets/NYC/organTransplant.csv',delimiter=',',on_bad_lines='skip')\n",
    "df41 = pd.read_csv('Datasets/NYC/paediatric.csv',delimiter=',',on_bad_lines='skip')\n",
    "df42 = pd.read_csv('Datasets/NYC/paramedics.csv',delimiter=',',on_bad_lines='skip')\n",
    "df43 = pd.read_csv('Datasets/NYC/seizures.csv',delimiter=',',on_bad_lines='skip')\n",
    "df44 = pd.read_csv('Datasets/NYC/SpinalCordInjury.csv',delimiter=',',on_bad_lines='skip')\n",
    "df45 = pd.read_csv('Datasets/NYC/stroke.csv',delimiter=',',on_bad_lines='skip')\n",
    "df46 = pd.read_csv('Datasets/NYC/trauma.csv',delimiter=',',on_bad_lines='skip')\n",
    "df47 = pd.read_csv('Datasets/NYC/tumor.csv',delimiter=',',on_bad_lines='skip')\n",
    "df48 = pd.read_csv('Datasets/NYC/vaccine.csv',delimiter=',',on_bad_lines='skip')"
   ]
  },
  {
   "cell_type": "code",
   "execution_count": 9,
   "metadata": {},
   "outputs": [
    {
     "data": {
      "text/html": [
       "<div>\n",
       "<style scoped>\n",
       "    .dataframe tbody tr th:only-of-type {\n",
       "        vertical-align: middle;\n",
       "    }\n",
       "\n",
       "    .dataframe tbody tr th {\n",
       "        vertical-align: top;\n",
       "    }\n",
       "\n",
       "    .dataframe thead th {\n",
       "        text-align: right;\n",
       "    }\n",
       "</style>\n",
       "<table border=\"1\" class=\"dataframe\">\n",
       "  <thead>\n",
       "    <tr style=\"text-align: right;\">\n",
       "      <th></th>\n",
       "      <th>Category: All categories</th>\n",
       "    </tr>\n",
       "  </thead>\n",
       "  <tbody>\n",
       "    <tr>\n",
       "      <th>Week</th>\n",
       "      <td>acute hydrocephalus: (United States)</td>\n",
       "    </tr>\n",
       "    <tr>\n",
       "      <th>2023-02-26</th>\n",
       "      <td>0</td>\n",
       "    </tr>\n",
       "    <tr>\n",
       "      <th>2023-03-05</th>\n",
       "      <td>0</td>\n",
       "    </tr>\n",
       "    <tr>\n",
       "      <th>2023-03-12</th>\n",
       "      <td>0</td>\n",
       "    </tr>\n",
       "    <tr>\n",
       "      <th>2023-03-19</th>\n",
       "      <td>0</td>\n",
       "    </tr>\n",
       "  </tbody>\n",
       "</table>\n",
       "</div>"
      ],
      "text/plain": [
       "                        Category: All categories\n",
       "Week        acute hydrocephalus: (United States)\n",
       "2023-02-26                                     0\n",
       "2023-03-05                                     0\n",
       "2023-03-12                                     0\n",
       "2023-03-19                                     0"
      ]
     },
     "execution_count": 9,
     "metadata": {},
     "output_type": "execute_result"
    }
   ],
   "source": [
    "df26.head()"
   ]
  },
  {
   "cell_type": "code",
   "execution_count": 17,
   "metadata": {},
   "outputs": [],
   "source": [
    "df25.reset_index(inplace=True)\n",
    "df25.rename(columns={'index':'Date'},inplace=True)\n",
    "df25.rename(columns={'Category: All categories':'EmergencyNYC'},inplace=True)\n",
    "df25.drop(index=0,inplace=True)"
   ]
  },
  {
   "cell_type": "code",
   "execution_count": 18,
   "metadata": {},
   "outputs": [],
   "source": [
    "df26.reset_index(inplace=True)\n",
    "df26.rename(columns={'index':'Date'},inplace=True)\n",
    "df26.rename(columns={'Category: All categories':'AcuteHydrocephalus'},inplace=True)\n",
    "\n",
    "df27.reset_index(inplace=True)\n",
    "df27.rename(columns={'index':'Date'},inplace=True)\n",
    "df27.rename(columns={'Category: All categories':'Autoimmune'},inplace=True)\n",
    "\n",
    "df28.reset_index(inplace=True)\n",
    "df28.rename(columns={'index':'Date'},inplace=True)\n",
    "df28.rename(columns={'Category: All categories':'Clot'},inplace=True)\n",
    "\n",
    "df29.reset_index(inplace=True)\n",
    "df29.rename(columns={'index':'Date'},inplace=True)\n",
    "df29.rename(columns={'Category: All categories':'Delirium'},inplace=True)\n",
    "\n",
    "df30.reset_index(inplace=True)\n",
    "df30.rename(columns={'index':'Date'},inplace=True)\n",
    "df30.rename(columns={'Category: All categories':'Dementia'},inplace=True)\n",
    "\n",
    "df31.reset_index(inplace=True)\n",
    "df31.rename(columns={'index':'Date'},inplace=True)\n",
    "df31.rename(columns={'Category: All categories':'Donor'},inplace=True)\n",
    "\n",
    "df32.reset_index(inplace=True)\n",
    "df32.rename(columns={'index':'Date'},inplace=True)\n",
    "df32.rename(columns={'Category: All categories':'EMTs'},inplace=True)\n",
    "\n",
    "df33.reset_index(inplace=True)\n",
    "df33.rename(columns={'index':'Date'},inplace=True)\n",
    "df33.rename(columns={'Category: All categories':'GunshotWounds'},inplace=True)\n",
    "\n",
    "df34.reset_index(inplace=True)\n",
    "df34.rename(columns={'index':'Date'},inplace=True)\n",
    "df34.rename(columns={'Category: All categories':'Gynecologist'},inplace=True)\n",
    "\n",
    "df35.reset_index(inplace=True)\n",
    "df35.rename(columns={'index':'Date'},inplace=True)\n",
    "df35.rename(columns={'Category: All categories':'HepaticComa'},inplace=True)\n",
    "\n",
    "df36.reset_index(inplace=True)\n",
    "df36.rename(columns={'index':'Date'},inplace=True)\n",
    "df36.rename(columns={'Category: All categories':'Incision'},inplace=True)\n",
    "\n",
    "df37.reset_index(inplace=True)\n",
    "df37.rename(columns={'index':'Date'},inplace=True)\n",
    "df37.rename(columns={'Category: All categories':'InternalBleeding'},inplace=True)\n",
    "\n",
    "df38.reset_index(inplace=True)\n",
    "df38.rename(columns={'index':'Date'},inplace=True)\n",
    "df38.rename(columns={'Category: All categories':'Metastasized'},inplace=True)\n",
    "\n",
    "df39.reset_index(inplace=True)\n",
    "df39.rename(columns={'index':'Date'},inplace=True)\n",
    "df39.rename(columns={'Category: All categories':'Neurosurgery'},inplace=True)\n",
    "\n",
    "df40.reset_index(inplace=True)\n",
    "df40.rename(columns={'index':'Date'},inplace=True)\n",
    "df40.rename(columns={'Category: All categories':'OrganTransplant'},inplace=True)\n",
    "\n",
    "df41.reset_index(inplace=True)\n",
    "df41.rename(columns={'index':'Date'},inplace=True)\n",
    "df41.rename(columns={'Category: All categories':'Paediatric'},inplace=True)\n",
    "\n",
    "df42.reset_index(inplace=True)\n",
    "df42.rename(columns={'index':'Date'},inplace=True)\n",
    "df42.rename(columns={'Category: All categories':'Paramedics'},inplace=True)\n",
    "\n",
    "df43.reset_index(inplace=True)\n",
    "df43.rename(columns={'index':'Date'},inplace=True)\n",
    "df43.rename(columns={'Category: All categories':'Seizures'},inplace=True)\n",
    "\n",
    "df44.reset_index(inplace=True)\n",
    "df44.rename(columns={'index':'Date'},inplace=True)\n",
    "df44.rename(columns={'Category: All categories':'SpinalCordInjury'},inplace=True)\n",
    "\n",
    "df45.reset_index(inplace=True)\n",
    "df45.rename(columns={'index':'Date'},inplace=True)\n",
    "df45.rename(columns={'Category: All categories':'Stroke'},inplace=True)\n",
    "\n",
    "df46.reset_index(inplace=True)\n",
    "df46.rename(columns={'index':'Date'},inplace=True)\n",
    "df46.rename(columns={'Category: All categories':'Trauma'},inplace=True)\n",
    "\n",
    "df47.reset_index(inplace=True)\n",
    "df47.rename(columns={'index':'Date'},inplace=True)\n",
    "df47.rename(columns={'Category: All categories':'Tumor'},inplace=True)\n",
    "\n",
    "df48.reset_index(inplace=True)\n",
    "df48.rename(columns={'index':'Date'},inplace=True)\n",
    "df48.rename(columns={'Category: All categories':'CovidVaccine'},inplace=True)"
   ]
  },
  {
   "cell_type": "code",
   "execution_count": 19,
   "metadata": {},
   "outputs": [],
   "source": [
    "df26.drop(index=0,inplace=True)\n",
    "df27.drop(index=0,inplace=True)\n",
    "df28.drop(index=0,inplace=True)\n",
    "df29.drop(index=0,inplace=True)\n",
    "df30.drop(index=0,inplace=True)\n",
    "df31.drop(index=0,inplace=True)\n",
    "df32.drop(index=0,inplace=True)\n",
    "df33.drop(index=0,inplace=True)\n",
    "df34.drop(index=0,inplace=True)\n",
    "df35.drop(index=0,inplace=True)\n",
    "df36.drop(index=0,inplace=True)\n",
    "df37.drop(index=0,inplace=True)\n",
    "df38.drop(index=0,inplace=True)\n",
    "df39.drop(index=0,inplace=True)\n",
    "df40.drop(index=0,inplace=True)\n",
    "df41.drop(index=0,inplace=True)\n",
    "df42.drop(index=0,inplace=True)\n",
    "df43.drop(index=0,inplace=True)\n",
    "df44.drop(index=0,inplace=True)\n",
    "df45.drop(index=0,inplace=True)\n",
    "df46.drop(index=0,inplace=True)\n",
    "df47.drop(index=0,inplace=True)\n",
    "df48.drop(index=0,inplace=True)"
   ]
  },
  {
   "cell_type": "code",
   "execution_count": 12,
   "metadata": {},
   "outputs": [],
   "source": [
    "df25['Date'] = pd.to_datetime(df25['Date'],format='%Y-%m',errors='coerce')\n",
    "df26['Date'] = pd.to_datetime(df26['Date'],format='%Y-%m',errors='coerce')\n",
    "df27['Date'] = pd.to_datetime(df27['Date'],format='%Y-%m',errors='coerce')\n",
    "df28['Date'] = pd.to_datetime(df28['Date'],format='%Y-%m',errors='coerce')\n",
    "df29['Date'] = pd.to_datetime(df29['Date'],format='%Y-%m',errors='coerce')\n",
    "df30['Date'] = pd.to_datetime(df30['Date'],format='%Y-%m',errors='coerce')\n",
    "df31['Date'] = pd.to_datetime(df31['Date'],format='%Y-%m',errors='coerce')\n",
    "df32['Date'] = pd.to_datetime(df32['Date'],format='%Y-%m',errors='coerce')\n",
    "df33['Date'] = pd.to_datetime(df33['Date'],format='%Y-%m',errors='coerce')\n",
    "df34['Date'] = pd.to_datetime(df34['Date'],format='%Y-%m',errors='coerce')\n",
    "df35['Date'] = pd.to_datetime(df35['Date'],format='%Y-%m',errors='coerce')\n",
    "df36['Date'] = pd.to_datetime(df36['Date'],format='%Y-%m',errors='coerce')\n",
    "df37['Date'] = pd.to_datetime(df37['Date'],format='%Y-%m',errors='coerce')\n",
    "df38['Date'] = pd.to_datetime(df38['Date'],format='%Y-%m',errors='coerce')\n",
    "df39['Date'] = pd.to_datetime(df39['Date'],format='%Y-%m',errors='coerce')\n",
    "df40['Date'] = pd.to_datetime(df40['Date'],format='%Y-%m',errors='coerce')\n",
    "df41['Date'] = pd.to_datetime(df41['Date'],format='%Y-%m',errors='coerce')\n",
    "df42['Date'] = pd.to_datetime(df42['Date'],format='%Y-%m',errors='coerce')\n",
    "df43['Date'] = pd.to_datetime(df43['Date'],format='%Y-%m',errors='coerce')\n",
    "df44['Date'] = pd.to_datetime(df44['Date'],format='%Y-%m',errors='coerce')\n",
    "df45['Date'] = pd.to_datetime(df45['Date'],format='%Y-%m',errors='coerce')\n",
    "df46['Date'] = pd.to_datetime(df46['Date'],format='%Y-%m',errors='coerce')\n",
    "df47['Date'] = pd.to_datetime(df47['Date'],format='%Y-%m',errors='coerce')\n",
    "df48['Date'] = pd.to_datetime(df48['Date'],format='%Y-%m',errors='coerce')"
   ]
  },
  {
   "cell_type": "code",
   "execution_count": 20,
   "metadata": {},
   "outputs": [
    {
     "data": {
      "text/html": [
       "<div>\n",
       "<style scoped>\n",
       "    .dataframe tbody tr th:only-of-type {\n",
       "        vertical-align: middle;\n",
       "    }\n",
       "\n",
       "    .dataframe tbody tr th {\n",
       "        vertical-align: top;\n",
       "    }\n",
       "\n",
       "    .dataframe thead th {\n",
       "        text-align: right;\n",
       "    }\n",
       "</style>\n",
       "<table border=\"1\" class=\"dataframe\">\n",
       "  <thead>\n",
       "    <tr style=\"text-align: right;\">\n",
       "      <th></th>\n",
       "      <th>Date</th>\n",
       "      <th>EmergencyNYC</th>\n",
       "      <th>AcuteHydrocephalus</th>\n",
       "      <th>Autoimmune</th>\n",
       "      <th>Clot</th>\n",
       "      <th>Delirium</th>\n",
       "      <th>Dementia</th>\n",
       "      <th>Donor</th>\n",
       "      <th>EMTs</th>\n",
       "      <th>GunshotWounds</th>\n",
       "      <th>...</th>\n",
       "      <th>Neurosurgery</th>\n",
       "      <th>OrganTransplant</th>\n",
       "      <th>Paediatric</th>\n",
       "      <th>Paramedics</th>\n",
       "      <th>Seizures</th>\n",
       "      <th>SpinalCordInjury</th>\n",
       "      <th>Stroke</th>\n",
       "      <th>Trauma</th>\n",
       "      <th>Tumor</th>\n",
       "      <th>CovidVaccine</th>\n",
       "    </tr>\n",
       "  </thead>\n",
       "  <tbody>\n",
       "    <tr>\n",
       "      <th>0</th>\n",
       "      <td>2023-02-26</td>\n",
       "      <td>0</td>\n",
       "      <td>0</td>\n",
       "      <td>85</td>\n",
       "      <td>92</td>\n",
       "      <td>69</td>\n",
       "      <td>63</td>\n",
       "      <td>80</td>\n",
       "      <td>63</td>\n",
       "      <td>100</td>\n",
       "      <td>...</td>\n",
       "      <td>81</td>\n",
       "      <td>74</td>\n",
       "      <td>54</td>\n",
       "      <td>60</td>\n",
       "      <td>94</td>\n",
       "      <td>79</td>\n",
       "      <td>78</td>\n",
       "      <td>95</td>\n",
       "      <td>70</td>\n",
       "      <td>55</td>\n",
       "    </tr>\n",
       "    <tr>\n",
       "      <th>1</th>\n",
       "      <td>2023-03-05</td>\n",
       "      <td>0</td>\n",
       "      <td>0</td>\n",
       "      <td>87</td>\n",
       "      <td>84</td>\n",
       "      <td>68</td>\n",
       "      <td>65</td>\n",
       "      <td>72</td>\n",
       "      <td>71</td>\n",
       "      <td>58</td>\n",
       "      <td>...</td>\n",
       "      <td>81</td>\n",
       "      <td>66</td>\n",
       "      <td>57</td>\n",
       "      <td>67</td>\n",
       "      <td>95</td>\n",
       "      <td>75</td>\n",
       "      <td>71</td>\n",
       "      <td>94</td>\n",
       "      <td>85</td>\n",
       "      <td>53</td>\n",
       "    </tr>\n",
       "    <tr>\n",
       "      <th>2</th>\n",
       "      <td>2023-03-12</td>\n",
       "      <td>0</td>\n",
       "      <td>0</td>\n",
       "      <td>82</td>\n",
       "      <td>84</td>\n",
       "      <td>75</td>\n",
       "      <td>60</td>\n",
       "      <td>66</td>\n",
       "      <td>69</td>\n",
       "      <td>47</td>\n",
       "      <td>...</td>\n",
       "      <td>87</td>\n",
       "      <td>56</td>\n",
       "      <td>52</td>\n",
       "      <td>61</td>\n",
       "      <td>92</td>\n",
       "      <td>78</td>\n",
       "      <td>69</td>\n",
       "      <td>91</td>\n",
       "      <td>80</td>\n",
       "      <td>46</td>\n",
       "    </tr>\n",
       "    <tr>\n",
       "      <th>3</th>\n",
       "      <td>2023-03-19</td>\n",
       "      <td>0</td>\n",
       "      <td>0</td>\n",
       "      <td>85</td>\n",
       "      <td>87</td>\n",
       "      <td>79</td>\n",
       "      <td>76</td>\n",
       "      <td>73</td>\n",
       "      <td>0</td>\n",
       "      <td>58</td>\n",
       "      <td>...</td>\n",
       "      <td>93</td>\n",
       "      <td>85</td>\n",
       "      <td>56</td>\n",
       "      <td>65</td>\n",
       "      <td>96</td>\n",
       "      <td>81</td>\n",
       "      <td>72</td>\n",
       "      <td>92</td>\n",
       "      <td>83</td>\n",
       "      <td>51</td>\n",
       "    </tr>\n",
       "    <tr>\n",
       "      <th>4</th>\n",
       "      <td>2023-03-26</td>\n",
       "      <td>67</td>\n",
       "      <td>100</td>\n",
       "      <td>94</td>\n",
       "      <td>84</td>\n",
       "      <td>77</td>\n",
       "      <td>65</td>\n",
       "      <td>76</td>\n",
       "      <td>43</td>\n",
       "      <td>79</td>\n",
       "      <td>...</td>\n",
       "      <td>88</td>\n",
       "      <td>76</td>\n",
       "      <td>56</td>\n",
       "      <td>67</td>\n",
       "      <td>100</td>\n",
       "      <td>80</td>\n",
       "      <td>74</td>\n",
       "      <td>92</td>\n",
       "      <td>79</td>\n",
       "      <td>48</td>\n",
       "    </tr>\n",
       "  </tbody>\n",
       "</table>\n",
       "<p>5 rows × 25 columns</p>\n",
       "</div>"
      ],
      "text/plain": [
       "         Date EmergencyNYC AcuteHydrocephalus Autoimmune Clot Delirium  \\\n",
       "0  2023-02-26            0                  0         85   92       69   \n",
       "1  2023-03-05            0                  0         87   84       68   \n",
       "2  2023-03-12            0                  0         82   84       75   \n",
       "3  2023-03-19            0                  0         85   87       79   \n",
       "4  2023-03-26           67                100         94   84       77   \n",
       "\n",
       "  Dementia Donor EMTs GunshotWounds  ... Neurosurgery OrganTransplant  \\\n",
       "0       63    80   63           100  ...           81              74   \n",
       "1       65    72   71            58  ...           81              66   \n",
       "2       60    66   69            47  ...           87              56   \n",
       "3       76    73    0            58  ...           93              85   \n",
       "4       65    76   43            79  ...           88              76   \n",
       "\n",
       "  Paediatric Paramedics Seizures SpinalCordInjury Stroke Trauma Tumor  \\\n",
       "0         54         60       94               79     78     95    70   \n",
       "1         57         67       95               75     71     94    85   \n",
       "2         52         61       92               78     69     91    80   \n",
       "3         56         65       96               81     72     92    83   \n",
       "4         56         67      100               80     74     92    79   \n",
       "\n",
       "  CovidVaccine  \n",
       "0           55  \n",
       "1           53  \n",
       "2           46  \n",
       "3           51  \n",
       "4           48  \n",
       "\n",
       "[5 rows x 25 columns]"
      ]
     },
     "execution_count": 20,
     "metadata": {},
     "output_type": "execute_result"
    }
   ],
   "source": [
    "dfs = [df25,df26,df27,df28,df29,df30,df31,df32,df33,df34,df35,df36,df37,df38,df39,df40,df41,df42,df43,df44,df45,df46,df47,df48]\n",
    "\n",
    "NewDF = reduce(lambda left, right: left.merge(right, on='Date'), dfs)\n",
    "\n",
    "NewDF.head()"
   ]
  },
  {
   "cell_type": "code",
   "execution_count": 21,
   "metadata": {},
   "outputs": [
    {
     "data": {
      "text/html": [
       "<div>\n",
       "<style scoped>\n",
       "    .dataframe tbody tr th:only-of-type {\n",
       "        vertical-align: middle;\n",
       "    }\n",
       "\n",
       "    .dataframe tbody tr th {\n",
       "        vertical-align: top;\n",
       "    }\n",
       "\n",
       "    .dataframe thead th {\n",
       "        text-align: right;\n",
       "    }\n",
       "</style>\n",
       "<table border=\"1\" class=\"dataframe\">\n",
       "  <thead>\n",
       "    <tr style=\"text-align: right;\">\n",
       "      <th></th>\n",
       "      <th>Date</th>\n",
       "      <th>EmergencyNYC</th>\n",
       "      <th>AcuteHydrocephalus</th>\n",
       "      <th>Autoimmune</th>\n",
       "      <th>Clot</th>\n",
       "      <th>Delirium</th>\n",
       "      <th>Dementia</th>\n",
       "      <th>Donor</th>\n",
       "      <th>EMTs</th>\n",
       "      <th>GunshotWounds</th>\n",
       "      <th>...</th>\n",
       "      <th>Neurosurgery</th>\n",
       "      <th>OrganTransplant</th>\n",
       "      <th>Paediatric</th>\n",
       "      <th>Paramedics</th>\n",
       "      <th>Seizures</th>\n",
       "      <th>SpinalCordInjury</th>\n",
       "      <th>Stroke</th>\n",
       "      <th>Trauma</th>\n",
       "      <th>Tumor</th>\n",
       "      <th>CovidVaccine</th>\n",
       "    </tr>\n",
       "  </thead>\n",
       "  <tbody>\n",
       "    <tr>\n",
       "      <th>87</th>\n",
       "      <td>2024-10-27</td>\n",
       "      <td>0</td>\n",
       "      <td>0</td>\n",
       "      <td>84</td>\n",
       "      <td>79</td>\n",
       "      <td>69</td>\n",
       "      <td>58</td>\n",
       "      <td>79</td>\n",
       "      <td>60</td>\n",
       "      <td>68</td>\n",
       "      <td>...</td>\n",
       "      <td>91</td>\n",
       "      <td>82</td>\n",
       "      <td>70</td>\n",
       "      <td>67</td>\n",
       "      <td>94</td>\n",
       "      <td>79</td>\n",
       "      <td>72</td>\n",
       "      <td>96</td>\n",
       "      <td>98</td>\n",
       "      <td>38</td>\n",
       "    </tr>\n",
       "    <tr>\n",
       "      <th>88</th>\n",
       "      <td>2024-11-03</td>\n",
       "      <td>0</td>\n",
       "      <td>0</td>\n",
       "      <td>75</td>\n",
       "      <td>77</td>\n",
       "      <td>62</td>\n",
       "      <td>53</td>\n",
       "      <td>70</td>\n",
       "      <td>49</td>\n",
       "      <td>38</td>\n",
       "      <td>...</td>\n",
       "      <td>87</td>\n",
       "      <td>73</td>\n",
       "      <td>59</td>\n",
       "      <td>63</td>\n",
       "      <td>85</td>\n",
       "      <td>79</td>\n",
       "      <td>64</td>\n",
       "      <td>91</td>\n",
       "      <td>83</td>\n",
       "      <td>32</td>\n",
       "    </tr>\n",
       "    <tr>\n",
       "      <th>89</th>\n",
       "      <td>2024-11-10</td>\n",
       "      <td>0</td>\n",
       "      <td>0</td>\n",
       "      <td>91</td>\n",
       "      <td>85</td>\n",
       "      <td>72</td>\n",
       "      <td>60</td>\n",
       "      <td>79</td>\n",
       "      <td>0</td>\n",
       "      <td>55</td>\n",
       "      <td>...</td>\n",
       "      <td>88</td>\n",
       "      <td>70</td>\n",
       "      <td>74</td>\n",
       "      <td>63</td>\n",
       "      <td>86</td>\n",
       "      <td>92</td>\n",
       "      <td>70</td>\n",
       "      <td>93</td>\n",
       "      <td>89</td>\n",
       "      <td>30</td>\n",
       "    </tr>\n",
       "    <tr>\n",
       "      <th>90</th>\n",
       "      <td>2024-11-17</td>\n",
       "      <td>1</td>\n",
       "      <td>31</td>\n",
       "      <td>95</td>\n",
       "      <td>87</td>\n",
       "      <td>74</td>\n",
       "      <td>63</td>\n",
       "      <td>82</td>\n",
       "      <td>33</td>\n",
       "      <td>34</td>\n",
       "      <td>...</td>\n",
       "      <td>95</td>\n",
       "      <td>71</td>\n",
       "      <td>65</td>\n",
       "      <td>64</td>\n",
       "      <td>98</td>\n",
       "      <td>92</td>\n",
       "      <td>67</td>\n",
       "      <td>94</td>\n",
       "      <td>95</td>\n",
       "      <td>31</td>\n",
       "    </tr>\n",
       "    <tr>\n",
       "      <th>91</th>\n",
       "      <td>2024-11-24</td>\n",
       "      <td>1</td>\n",
       "      <td>35</td>\n",
       "      <td>76</td>\n",
       "      <td>79</td>\n",
       "      <td>62</td>\n",
       "      <td>67</td>\n",
       "      <td>71</td>\n",
       "      <td>31</td>\n",
       "      <td>44</td>\n",
       "      <td>...</td>\n",
       "      <td>67</td>\n",
       "      <td>57</td>\n",
       "      <td>74</td>\n",
       "      <td>59</td>\n",
       "      <td>88</td>\n",
       "      <td>69</td>\n",
       "      <td>68</td>\n",
       "      <td>85</td>\n",
       "      <td>80</td>\n",
       "      <td>25</td>\n",
       "    </tr>\n",
       "  </tbody>\n",
       "</table>\n",
       "<p>5 rows × 25 columns</p>\n",
       "</div>"
      ],
      "text/plain": [
       "          Date EmergencyNYC AcuteHydrocephalus Autoimmune Clot Delirium  \\\n",
       "87  2024-10-27            0                  0         84   79       69   \n",
       "88  2024-11-03            0                  0         75   77       62   \n",
       "89  2024-11-10            0                  0         91   85       72   \n",
       "90  2024-11-17            1                 31         95   87       74   \n",
       "91  2024-11-24            1                 35         76   79       62   \n",
       "\n",
       "   Dementia Donor EMTs GunshotWounds  ... Neurosurgery OrganTransplant  \\\n",
       "87       58    79   60            68  ...           91              82   \n",
       "88       53    70   49            38  ...           87              73   \n",
       "89       60    79    0            55  ...           88              70   \n",
       "90       63    82   33            34  ...           95              71   \n",
       "91       67    71   31            44  ...           67              57   \n",
       "\n",
       "   Paediatric Paramedics Seizures SpinalCordInjury Stroke Trauma Tumor  \\\n",
       "87         70         67       94               79     72     96    98   \n",
       "88         59         63       85               79     64     91    83   \n",
       "89         74         63       86               92     70     93    89   \n",
       "90         65         64       98               92     67     94    95   \n",
       "91         74         59       88               69     68     85    80   \n",
       "\n",
       "   CovidVaccine  \n",
       "87           38  \n",
       "88           32  \n",
       "89           30  \n",
       "90           31  \n",
       "91           25  \n",
       "\n",
       "[5 rows x 25 columns]"
      ]
     },
     "execution_count": 21,
     "metadata": {},
     "output_type": "execute_result"
    }
   ],
   "source": [
    "NewDF.tail()"
   ]
  },
  {
   "cell_type": "code",
   "execution_count": null,
   "metadata": {},
   "outputs": [
    {
     "data": {
      "text/html": [
       "<div>\n",
       "<style scoped>\n",
       "    .dataframe tbody tr th:only-of-type {\n",
       "        vertical-align: middle;\n",
       "    }\n",
       "\n",
       "    .dataframe tbody tr th {\n",
       "        vertical-align: top;\n",
       "    }\n",
       "\n",
       "    .dataframe thead th {\n",
       "        text-align: right;\n",
       "    }\n",
       "</style>\n",
       "<table border=\"1\" class=\"dataframe\">\n",
       "  <thead>\n",
       "    <tr style=\"text-align: right;\">\n",
       "      <th></th>\n",
       "      <th>Date</th>\n",
       "      <th>TheGoodDoctor</th>\n",
       "      <th>Autism</th>\n",
       "      <th>Acute</th>\n",
       "      <th>Angina</th>\n",
       "      <th>Anti-inflammatory</th>\n",
       "      <th>Benign</th>\n",
       "      <th>Biopsy</th>\n",
       "      <th>BMI</th>\n",
       "      <th>Cellutitis</th>\n",
       "      <th>...</th>\n",
       "      <th>Malignant</th>\n",
       "      <th>Membrane</th>\n",
       "      <th>Neutrophils</th>\n",
       "      <th>Outpatient</th>\n",
       "      <th>Reflux</th>\n",
       "      <th>Remission</th>\n",
       "      <th>Savant</th>\n",
       "      <th>Surgery</th>\n",
       "      <th>Sutures</th>\n",
       "      <th>Average</th>\n",
       "    </tr>\n",
       "  </thead>\n",
       "  <tbody>\n",
       "    <tr>\n",
       "      <th>0</th>\n",
       "      <td>2017-09-01</td>\n",
       "      <td>57</td>\n",
       "      <td>44</td>\n",
       "      <td>65</td>\n",
       "      <td>64</td>\n",
       "      <td>58</td>\n",
       "      <td>71</td>\n",
       "      <td>65</td>\n",
       "      <td>11</td>\n",
       "      <td>14</td>\n",
       "      <td>...</td>\n",
       "      <td>8</td>\n",
       "      <td>69</td>\n",
       "      <td>33</td>\n",
       "      <td>72</td>\n",
       "      <td>66</td>\n",
       "      <td>43</td>\n",
       "      <td>100</td>\n",
       "      <td>69</td>\n",
       "      <td>71</td>\n",
       "      <td>55.956522</td>\n",
       "    </tr>\n",
       "    <tr>\n",
       "      <th>1</th>\n",
       "      <td>2017-10-01</td>\n",
       "      <td>100</td>\n",
       "      <td>49</td>\n",
       "      <td>71</td>\n",
       "      <td>75</td>\n",
       "      <td>56</td>\n",
       "      <td>82</td>\n",
       "      <td>72</td>\n",
       "      <td>12</td>\n",
       "      <td>13</td>\n",
       "      <td>...</td>\n",
       "      <td>10</td>\n",
       "      <td>84</td>\n",
       "      <td>36</td>\n",
       "      <td>79</td>\n",
       "      <td>68</td>\n",
       "      <td>49</td>\n",
       "      <td>94</td>\n",
       "      <td>76</td>\n",
       "      <td>74</td>\n",
       "      <td>61.086957</td>\n",
       "    </tr>\n",
       "    <tr>\n",
       "      <th>2</th>\n",
       "      <td>2017-11-01</td>\n",
       "      <td>61</td>\n",
       "      <td>49</td>\n",
       "      <td>71</td>\n",
       "      <td>67</td>\n",
       "      <td>57</td>\n",
       "      <td>78</td>\n",
       "      <td>70</td>\n",
       "      <td>11</td>\n",
       "      <td>11</td>\n",
       "      <td>...</td>\n",
       "      <td>10</td>\n",
       "      <td>61</td>\n",
       "      <td>33</td>\n",
       "      <td>73</td>\n",
       "      <td>64</td>\n",
       "      <td>55</td>\n",
       "      <td>58</td>\n",
       "      <td>74</td>\n",
       "      <td>77</td>\n",
       "      <td>56.217391</td>\n",
       "    </tr>\n",
       "    <tr>\n",
       "      <th>3</th>\n",
       "      <td>2017-12-01</td>\n",
       "      <td>48</td>\n",
       "      <td>40</td>\n",
       "      <td>60</td>\n",
       "      <td>59</td>\n",
       "      <td>51</td>\n",
       "      <td>69</td>\n",
       "      <td>62</td>\n",
       "      <td>9</td>\n",
       "      <td>9</td>\n",
       "      <td>...</td>\n",
       "      <td>8</td>\n",
       "      <td>44</td>\n",
       "      <td>30</td>\n",
       "      <td>63</td>\n",
       "      <td>64</td>\n",
       "      <td>50</td>\n",
       "      <td>47</td>\n",
       "      <td>70</td>\n",
       "      <td>57</td>\n",
       "      <td>47.695652</td>\n",
       "    </tr>\n",
       "    <tr>\n",
       "      <th>4</th>\n",
       "      <td>2018-09-01</td>\n",
       "      <td>68</td>\n",
       "      <td>48</td>\n",
       "      <td>72</td>\n",
       "      <td>64</td>\n",
       "      <td>60</td>\n",
       "      <td>75</td>\n",
       "      <td>74</td>\n",
       "      <td>11</td>\n",
       "      <td>14</td>\n",
       "      <td>...</td>\n",
       "      <td>9</td>\n",
       "      <td>76</td>\n",
       "      <td>39</td>\n",
       "      <td>74</td>\n",
       "      <td>70</td>\n",
       "      <td>49</td>\n",
       "      <td>33</td>\n",
       "      <td>73</td>\n",
       "      <td>75</td>\n",
       "      <td>57.347826</td>\n",
       "    </tr>\n",
       "  </tbody>\n",
       "</table>\n",
       "<p>5 rows × 26 columns</p>\n",
       "</div>"
      ],
      "text/plain": [
       "        Date  TheGoodDoctor  Autism  Acute  Angina  Anti-inflammatory  Benign  \\\n",
       "0 2017-09-01             57      44     65      64                 58      71   \n",
       "1 2017-10-01            100      49     71      75                 56      82   \n",
       "2 2017-11-01             61      49     71      67                 57      78   \n",
       "3 2017-12-01             48      40     60      59                 51      69   \n",
       "4 2018-09-01             68      48     72      64                 60      75   \n",
       "\n",
       "   Biopsy  BMI  Cellutitis  ...  Malignant  Membrane  Neutrophils  Outpatient  \\\n",
       "0      65   11          14  ...          8        69           33          72   \n",
       "1      72   12          13  ...         10        84           36          79   \n",
       "2      70   11          11  ...         10        61           33          73   \n",
       "3      62    9           9  ...          8        44           30          63   \n",
       "4      74   11          14  ...          9        76           39          74   \n",
       "\n",
       "   Reflux  Remission  Savant  Surgery  Sutures    Average  \n",
       "0      66         43     100       69       71  55.956522  \n",
       "1      68         49      94       76       74  61.086957  \n",
       "2      64         55      58       74       77  56.217391  \n",
       "3      64         50      47       70       57  47.695652  \n",
       "4      70         49      33       73       75  57.347826  \n",
       "\n",
       "[5 rows x 26 columns]"
      ]
     },
     "execution_count": 41,
     "metadata": {},
     "output_type": "execute_result"
    }
   ],
   "source": [
    "columns = ['EmergencyNYC', 'AcuteHydrocephalus', 'Autoimmune', 'Clot', 'Delirium', 'Dementia', 'Donor', 'EMTs', 'GunshotWounds', 'Gynecologist', 'HepaticComa', 'Incision', 'InternalBleeding', 'Metastasized', 'Neurosurgery', 'OrganTransplant', 'Paediatric', 'Paramedics', 'Seizures', 'SpinalCordInjury', 'Stroke', 'Trauma', 'Tumor', 'CovidVaccine']\n",
    "NewDF[columns] = NewDF[columns].apply(pd.to_numeric,errors='coerce')\n",
    "\n",
    "terms = ['AcuteHydrocephalus', 'Autoimmune', 'Clot', 'Delirium', 'Dementia', 'Donor', 'EMTs', 'GunshotWounds', 'Gynecologist', 'HepaticComa', 'Incision', 'InternalBleeding', 'Metastasized', 'Neurosurgery', 'OrganTransplant', 'Paediatric', 'Paramedics', 'Seizures', 'SpinalCordInjury', 'Stroke', 'Trauma', 'Tumor', 'CovidVaccine']\n",
    "NewDF['Average'] = NewDF[terms].mean(axis=1)\n",
    "\n",
    "NewDF.head()"
   ]
  },
  {
   "cell_type": "code",
   "execution_count": null,
   "metadata": {},
   "outputs": [
    {
     "data": {
      "image/png": "[encoded data removed]",
      "text/plain": [
       "<Figure size 640x480 with 1 Axes>"
      ]
     },
     "metadata": {},
     "output_type": "display_data"
    }
   ],
   "source": [
    "plt.scatter(NewDF['EmergencyNYC'],NewDF['Average'],color='blue')\n",
    "plt.xlabel('The Good Doctor Trends')\n",
    "plt.ylabel('Average Medical Terms Trends')\n",
    "plt.title('Relationship Between the Good Doctor Show & the Medical Terms')\n",
    "\n",
    "plt.show()"
   ]
  },
  {
   "cell_type": "code",
   "execution_count": null,
   "metadata": {},
   "outputs": [
    {
     "data": {
      "text/plain": [
       "-0.5042403803354453"
      ]
     },
     "execution_count": 43,
     "metadata": {},
     "output_type": "execute_result"
    }
   ],
   "source": [
    "NewDF['EmergencyNYC'].corr(NewDF['Average'])"
   ]
  },
  {
   "cell_type": "code",
   "execution_count": 44,
   "metadata": {},
   "outputs": [],
   "source": [
    "NewDF.to_csv('The_Good_Doctor.csv', index=False)"
   ]
  },
  {
   "cell_type": "code",
   "execution_count": 45,
   "metadata": {},
   "outputs": [
    {
     "data": {
      "text/html": [
       "<div>\n",
       "<style scoped>\n",
       "    .dataframe tbody tr th:only-of-type {\n",
       "        vertical-align: middle;\n",
       "    }\n",
       "\n",
       "    .dataframe tbody tr th {\n",
       "        vertical-align: top;\n",
       "    }\n",
       "\n",
       "    .dataframe thead th {\n",
       "        text-align: right;\n",
       "    }\n",
       "</style>\n",
       "<table border=\"1\" class=\"dataframe\">\n",
       "  <thead>\n",
       "    <tr style=\"text-align: right;\">\n",
       "      <th></th>\n",
       "      <th>Date</th>\n",
       "      <th>TheGoodDoctor</th>\n",
       "      <th>Autism</th>\n",
       "      <th>Acute</th>\n",
       "      <th>Angina</th>\n",
       "      <th>Anti-inflammatory</th>\n",
       "      <th>Benign</th>\n",
       "      <th>Biopsy</th>\n",
       "      <th>BMI</th>\n",
       "      <th>Cellutitis</th>\n",
       "      <th>...</th>\n",
       "      <th>Malignant</th>\n",
       "      <th>Membrane</th>\n",
       "      <th>Neutrophils</th>\n",
       "      <th>Outpatient</th>\n",
       "      <th>Reflux</th>\n",
       "      <th>Remission</th>\n",
       "      <th>Savant</th>\n",
       "      <th>Surgery</th>\n",
       "      <th>Sutures</th>\n",
       "      <th>Average</th>\n",
       "    </tr>\n",
       "  </thead>\n",
       "  <tbody>\n",
       "    <tr>\n",
       "      <th>0</th>\n",
       "      <td>2017-09-01</td>\n",
       "      <td>57</td>\n",
       "      <td>44</td>\n",
       "      <td>65</td>\n",
       "      <td>64</td>\n",
       "      <td>58</td>\n",
       "      <td>71</td>\n",
       "      <td>65</td>\n",
       "      <td>11</td>\n",
       "      <td>14</td>\n",
       "      <td>...</td>\n",
       "      <td>8</td>\n",
       "      <td>69</td>\n",
       "      <td>33</td>\n",
       "      <td>72</td>\n",
       "      <td>66</td>\n",
       "      <td>43</td>\n",
       "      <td>100</td>\n",
       "      <td>69</td>\n",
       "      <td>71</td>\n",
       "      <td>55.956522</td>\n",
       "    </tr>\n",
       "    <tr>\n",
       "      <th>1</th>\n",
       "      <td>2017-10-01</td>\n",
       "      <td>100</td>\n",
       "      <td>49</td>\n",
       "      <td>71</td>\n",
       "      <td>75</td>\n",
       "      <td>56</td>\n",
       "      <td>82</td>\n",
       "      <td>72</td>\n",
       "      <td>12</td>\n",
       "      <td>13</td>\n",
       "      <td>...</td>\n",
       "      <td>10</td>\n",
       "      <td>84</td>\n",
       "      <td>36</td>\n",
       "      <td>79</td>\n",
       "      <td>68</td>\n",
       "      <td>49</td>\n",
       "      <td>94</td>\n",
       "      <td>76</td>\n",
       "      <td>74</td>\n",
       "      <td>61.086957</td>\n",
       "    </tr>\n",
       "    <tr>\n",
       "      <th>2</th>\n",
       "      <td>2017-11-01</td>\n",
       "      <td>61</td>\n",
       "      <td>49</td>\n",
       "      <td>71</td>\n",
       "      <td>67</td>\n",
       "      <td>57</td>\n",
       "      <td>78</td>\n",
       "      <td>70</td>\n",
       "      <td>11</td>\n",
       "      <td>11</td>\n",
       "      <td>...</td>\n",
       "      <td>10</td>\n",
       "      <td>61</td>\n",
       "      <td>33</td>\n",
       "      <td>73</td>\n",
       "      <td>64</td>\n",
       "      <td>55</td>\n",
       "      <td>58</td>\n",
       "      <td>74</td>\n",
       "      <td>77</td>\n",
       "      <td>56.217391</td>\n",
       "    </tr>\n",
       "    <tr>\n",
       "      <th>3</th>\n",
       "      <td>2017-12-01</td>\n",
       "      <td>48</td>\n",
       "      <td>40</td>\n",
       "      <td>60</td>\n",
       "      <td>59</td>\n",
       "      <td>51</td>\n",
       "      <td>69</td>\n",
       "      <td>62</td>\n",
       "      <td>9</td>\n",
       "      <td>9</td>\n",
       "      <td>...</td>\n",
       "      <td>8</td>\n",
       "      <td>44</td>\n",
       "      <td>30</td>\n",
       "      <td>63</td>\n",
       "      <td>64</td>\n",
       "      <td>50</td>\n",
       "      <td>47</td>\n",
       "      <td>70</td>\n",
       "      <td>57</td>\n",
       "      <td>47.695652</td>\n",
       "    </tr>\n",
       "    <tr>\n",
       "      <th>4</th>\n",
       "      <td>2018-09-01</td>\n",
       "      <td>68</td>\n",
       "      <td>48</td>\n",
       "      <td>72</td>\n",
       "      <td>64</td>\n",
       "      <td>60</td>\n",
       "      <td>75</td>\n",
       "      <td>74</td>\n",
       "      <td>11</td>\n",
       "      <td>14</td>\n",
       "      <td>...</td>\n",
       "      <td>9</td>\n",
       "      <td>76</td>\n",
       "      <td>39</td>\n",
       "      <td>74</td>\n",
       "      <td>70</td>\n",
       "      <td>49</td>\n",
       "      <td>33</td>\n",
       "      <td>73</td>\n",
       "      <td>75</td>\n",
       "      <td>57.347826</td>\n",
       "    </tr>\n",
       "  </tbody>\n",
       "</table>\n",
       "<p>5 rows × 26 columns</p>\n",
       "</div>"
      ],
      "text/plain": [
       "         Date  TheGoodDoctor  Autism  Acute  Angina  Anti-inflammatory  \\\n",
       "0  2017-09-01             57      44     65      64                 58   \n",
       "1  2017-10-01            100      49     71      75                 56   \n",
       "2  2017-11-01             61      49     71      67                 57   \n",
       "3  2017-12-01             48      40     60      59                 51   \n",
       "4  2018-09-01             68      48     72      64                 60   \n",
       "\n",
       "   Benign  Biopsy  BMI  Cellutitis  ...  Malignant  Membrane  Neutrophils  \\\n",
       "0      71      65   11          14  ...          8        69           33   \n",
       "1      82      72   12          13  ...         10        84           36   \n",
       "2      78      70   11          11  ...         10        61           33   \n",
       "3      69      62    9           9  ...          8        44           30   \n",
       "4      75      74   11          14  ...          9        76           39   \n",
       "\n",
       "   Outpatient  Reflux  Remission  Savant  Surgery  Sutures    Average  \n",
       "0          72      66         43     100       69       71  55.956522  \n",
       "1          79      68         49      94       76       74  61.086957  \n",
       "2          73      64         55      58       74       77  56.217391  \n",
       "3          63      64         50      47       70       57  47.695652  \n",
       "4          74      70         49      33       73       75  57.347826  \n",
       "\n",
       "[5 rows x 26 columns]"
      ]
     },
     "execution_count": 45,
     "metadata": {},
     "output_type": "execute_result"
    }
   ],
   "source": [
    "dataset = pd.read_csv(\"The_Good_Doctor.csv\", delimiter=',',on_bad_lines='skip')\n",
    "dataset.head()"
   ]
  },
  {
   "cell_type": "code",
   "execution_count": null,
   "metadata": {},
   "outputs": [
    {
     "name": "stderr",
     "output_type": "stream",
     "text": [
      "C:\\Users\\User\\AppData\\Local\\Temp\\ipykernel_3128\\1033221245.py:7: FutureWarning:\n",
      "\n",
      "Series.__getitem__ treating keys as positions is deprecated. In a future version, integer keys will always be treated as labels (consistent with DataFrame behavior). To access a value by position, use `ser.iloc[pos]`\n",
      "\n"
     ]
    },
    {
     "data": {
      "application/vnd.plotly.v1+json": {
       "config": {
        "plotlyServerURL": "https://plot.ly"
       },
       "data": [
        {
         "hovertemplate": "TheGoodDoctor=%{x}<br>Average=%{y}<extra></extra>",
         "legendgroup": "",
         "marker": {
          "color": "#636efa",
          "size": 19,
          "symbol": "circle"
         },
         "mode": "markers",
         "name": "",
         "orientation": "v",
         "showlegend": false,
         "type": "scatter",
         "x": [
          57,
          100,
          61,
          48,
          68,
          66,
          42,
          36,
          35,
          51,
          47,
          34,
          19,
          24,
          72,
          49,
          36,
          41,
          39,
          22,
          18,
          33,
          32,
          23,
          14,
          13,
          20,
          10,
          10,
          9,
          9
         ],
         "xaxis": "x",
         "y": [
          55.95652173913044,
          61.08695652173913,
          56.21739130434783,
          47.69565217391305,
          57.34782608695652,
          61.60869565217392,
          54.30434782608695,
          49.391304347826086,
          59.17391304347826,
          62.34782608695652,
          55.30434782608695,
          49.73913043478261,
          59.869565217391305,
          60.73913043478261,
          50.78260869565217,
          49.130434782608695,
          63.08695652173913,
          60.30434782608695,
          56.43478260869565,
          51.21739130434783,
          66.47826086956522,
          68.30434782608695,
          62.43478260869565,
          58.43478260869565,
          70.17391304347827,
          72.17391304347827,
          66,
          60.56521739130435,
          73.65217391304348,
          76.04347826086956,
          70.69565217391305
         ],
         "yaxis": "y"
        }
       ],
       "layout": {
        "legend": {
         "tracegroupgap": 0
        },
        "shapes": [
         {
          "line": {
           "color": "rgb(228,26,28)"
          },
          "path": "M9.0 65.08339567803857 L 9.457286432160805 65.00306998168766 L 9.914572864321608 64.92274428533675 L 10.371859296482413 64.84241858898585 L 10.829145728643216 64.76209289263494 L 11.28643216080402 64.68176719628403 L 11.743718592964825 64.60144149993312 L 12.201005025125628 64.5211158035822 L 12.658291457286431 64.44079010723131 L 13.115577889447236 64.3604644108804 L 13.57286432160804 64.28013871452949 L 14.030150753768844 64.19981301817857 L 14.487437185929648 64.11948732182766 L 14.944723618090453 64.03916162547675 L 15.402010050251256 63.95883592912585 L 15.85929648241206 63.87851023277494 L 16.316582914572862 63.79818453642403 L 16.77386934673367 63.71785884007312 L 17.231155778894472 63.637533143722216 L 17.688442211055275 63.557207447371304 L 18.14572864321608 63.47688175102039 L 18.603015075376884 63.39655605466949 L 19.060301507537687 63.31623035831858 L 19.517587939698494 63.235904661967666 L 19.974874371859297 63.15557896561676 L 20.4321608040201 63.07525326926585 L 20.889447236180906 62.994927572914946 L 21.346733668341706 62.914601876564035 L 21.804020100502512 62.83427618021312 L 22.261306532663315 62.75395048386222 L 22.71859296482412 62.67362478751131 L 23.175879396984925 62.5932990911604 L 23.633165829145728 62.51297339480949 L 24.09045226130653 62.43264769845858 L 24.547738693467338 62.35232200210767 L 25.00502512562814 62.271996305756765 L 25.462311557788944 62.191670609405854 L 25.919597989949747 62.11134491305495 L 26.376884422110553 62.03101921670404 L 26.834170854271356 61.95069352035313 L 27.29145728643216 61.87036782400222 L 27.748743718592966 61.79004212765131 L 28.20603015075377 61.70971643130041 L 28.66331658291457 61.629390734949496 L 29.120603015075375 61.549065038598584 L 29.57788944723618 61.46873934224767 L 30.035175879396984 61.38841364589677 L 30.492462311557787 61.30808794954586 L 30.949748743718594 61.22776225319495 L 31.407035175879397 61.14743655684404 L 31.8643216080402 61.06711086049313 L 32.321608040201 60.986785164142226 L 32.77889447236181 60.906459467791315 L 33.23618090452261 60.82613377144041 L 33.69346733668341 60.7458080750895 L 34.15075376884422 60.66548237873859 L 34.608040201005025 60.58515668238768 L 35.065326633165824 60.50483098603677 L 35.52261306532663 60.42450528968586 L 35.97989949748744 60.34417959333496 L 36.43718592964824 60.263853896984045 L 36.89447236180904 60.183528200633134 L 37.35175879396985 60.10320250428223 L 37.80904522613065 60.02287680793132 L 38.266331658291456 59.942551111580414 L 38.72361809045226 59.8622254152295 L 39.18090452261306 59.78189971887859 L 39.63819095477387 59.70157402252768 L 40.095477386934675 59.621248326176776 L 40.552763819095475 59.540922629825864 L 41.01005025125628 59.46059693347496 L 41.46733668341708 59.38027123712405 L 41.92462311557789 59.29994554077314 L 42.381909547738694 59.21961984442223 L 42.83919597989949 59.13929414807132 L 43.2964824120603 59.05896845172042 L 43.753768844221106 58.978642755369506 L 44.211055276381906 58.898317059018595 L 44.66834170854271 58.817991362667684 L 45.12562814070352 58.73766566631678 L 45.58291457286432 58.65733996996587 L 46.040201005025125 58.577014273614964 L 46.49748743718593 58.49668857726405 L 46.95477386934673 58.41636288091314 L 47.41206030150754 58.33603718456224 L 47.86934673366834 58.255711488211325 L 48.32663316582914 58.17538579186042 L 48.78391959798995 58.09506009550951 L 49.24120603015075 58.0147343991586 L 49.698492462311556 57.93440870280769 L 50.15577889447236 57.85408300645678 L 50.61306532663316 57.77375731010587 L 51.07035175879397 57.69343161375497 L 51.527638190954775 57.613105917404056 L 51.984924623115575 57.532780221053144 L 52.44221105527638 57.45245452470224 L 52.89949748743719 57.37212882835133 L 53.35678391959799 57.291803132000425 L 53.814070351758794 57.21147743564951 L 54.27135678391959 57.1311517392986 L 54.7286432160804 57.05082604294769 L 55.185929648241206 56.970500346596786 L 55.643216080402006 56.890174650245875 L 56.10050251256281 56.80984895389497 L 56.55778894472362 56.72952325754406 L 57.01507537688442 56.64919756119315 L 57.472361809045225 56.568871864842244 L 57.92964824120603 56.48854616849133 L 58.38693467336683 56.40822047214043 L 58.84422110552764 56.32789477578952 L 59.30150753768844 56.247569079438605 L 59.75879396984924 56.167243383087694 L 60.21608040201005 56.08691768673679 L 60.67336683417085 56.00659199038588 L 61.130653266331656 55.926266294034974 L 61.58793969849246 55.84594059768406 L 62.04522613065326 55.76561490133315 L 62.50251256281407 55.68528920498225 L 62.959798994974875 55.604963508631336 L 63.417085427135675 55.52463781228043 L 63.87437185929648 55.44431211592952 L 64.33165829145729 55.36398641957861 L 64.78894472361809 55.2836607232277 L 65.2462311557789 55.20333502687679 L 65.7035175879397 55.12300933052588 L 66.1608040201005 55.04268363417498 L 66.6180904522613 54.962357937824066 L 67.0753768844221 54.882032241473155 L 67.53266331658291 54.80170654512225 L 67.98994974874373 54.72138084877134 L 68.44723618090453 54.64105515242043 L 68.90452261306532 54.560729456069524 L 69.36180904522612 54.48040375971861 L 69.81909547738692 54.40007806336771 L 70.27638190954774 54.3197523670168 L 70.73366834170854 54.239426670665885 L 71.19095477386935 54.15910097431498 L 71.64824120603015 54.07877527796407 L 72.10552763819095 53.99844958161316 L 72.56281407035175 53.918123885262254 L 73.02010050251256 53.83779818891134 L 73.47738693467336 53.75747249256044 L 73.93467336683416 53.67714679620953 L 74.39195979899498 53.596821099858616 L 74.84924623115577 53.516495403507705 L 75.30653266331657 53.4361697071568 L 75.76381909547739 53.35584401080589 L 76.22110552763819 53.275518314454985 L 76.67839195979899 53.19519261810407 L 77.1356783919598 53.11486692175316 L 77.5929648241206 53.03454122540226 L 78.0502512562814 52.954215529051346 L 78.50753768844221 52.873889832700435 L 78.96482412060301 52.79356413634953 L 79.42211055276381 52.71323843999862 L 79.87939698492463 52.63291274364771 L 80.33668341708542 52.552587047296804 L 80.79396984924622 52.47226135094589 L 81.25125628140704 52.39193565459499 L 81.70854271356784 52.31160995824408 L 82.16582914572864 52.231284261893165 L 82.62311557788945 52.150958565542254 L 83.08040201005025 52.07063286919135 L 83.53768844221105 51.990307172840446 L 83.99497487437186 51.909981476489534 L 84.45226130653266 51.82965578013862 L 84.90954773869346 51.74933008378771 L 85.36683417085426 51.66900438743681 L 85.82412060301507 51.588678691085896 L 86.28140703517587 51.50835299473499 L 86.73869346733667 51.42802729838408 L 87.19597989949749 51.34770160203317 L 87.65326633165829 51.267375905682265 L 88.11055276381909 51.18705020933135 L 88.5678391959799 51.10672451298044 L 89.0251256281407 51.02639881662954 L 89.4824120603015 50.946073120278626 L 89.93969849246231 50.865747423927715 L 90.39698492462311 50.78542172757681 L 90.85427135678391 50.7050960312259 L 91.31155778894473 50.624770334874995 L 91.76884422110552 50.544444638524084 L 92.22613065326632 50.46411894217317 L 92.68341708542714 50.38379324582226 L 93.14070351758794 50.30346754947136 L 93.59798994974874 50.22314185312045 L 94.05527638190955 50.14281615676954 L 94.51256281407035 50.06249046041863 L 94.96984924623115 49.98216476406772 L 95.42713567839196 49.90183906771681 L 95.88442211055276 49.8215133713659 L 96.34170854271356 49.741187675015 L 96.79899497487438 49.66086197866409 L 97.25628140703517 49.580536282313176 L 97.71356783919597 49.500210585962265 L 98.17085427135677 49.41988488961136 L 98.62814070351759 49.339559193260456 L 99.08542713567839 49.259233496909545 L 99.54271356783919 49.17890780055863 L 100.0 49.09858210420772",
          "type": "path"
         }
        ],
        "template": {
         "data": {
          "bar": [
           {
            "error_x": {
             "color": "#2a3f5f"
            },
            "error_y": {
             "color": "#2a3f5f"
            },
            "marker": {
             "line": {
              "color": "white",
              "width": 0.5
             },
             "pattern": {
              "fillmode": "overlay",
              "size": 10,
              "solidity": 0.2
             }
            },
            "type": "bar"
           }
          ],
          "barpolar": [
           {
            "marker": {
             "line": {
              "color": "white",
              "width": 0.5
             },
             "pattern": {
              "fillmode": "overlay",
              "size": 10,
              "solidity": 0.2
             }
            },
            "type": "barpolar"
           }
          ],
          "box": [
           {
            "boxpoints": "outliers",
            "notched": false,
            "type": "box"
           }
          ],
          "carpet": [
           {
            "aaxis": {
             "endlinecolor": "#2a3f5f",
             "gridcolor": "#C8D4E3",
             "linecolor": "#C8D4E3",
             "minorgridcolor": "#C8D4E3",
             "startlinecolor": "#2a3f5f"
            },
            "baxis": {
             "endlinecolor": "#2a3f5f",
             "gridcolor": "#C8D4E3",
             "linecolor": "#C8D4E3",
             "minorgridcolor": "#C8D4E3",
             "startlinecolor": "#2a3f5f"
            },
            "type": "carpet"
           }
          ],
          "choropleth": [
           {
            "colorbar": {
             "outlinewidth": 0,
             "ticks": ""
            },
            "type": "choropleth"
           }
          ],
          "contour": [
           {
            "colorbar": {
             "outlinewidth": 0,
             "ticks": ""
            },
            "colorscale": [
             [
              0,
              "#0d0887"
             ],
             [
              0.1111111111111111,
              "#46039f"
             ],
             [
              0.2222222222222222,
              "#7201a8"
             ],
             [
              0.3333333333333333,
              "#9c179e"
             ],
             [
              0.4444444444444444,
              "#bd3786"
             ],
             [
              0.5555555555555556,
              "#d8576b"
             ],
             [
              0.6666666666666666,
              "#ed7953"
             ],
             [
              0.7777777777777778,
              "#fb9f3a"
             ],
             [
              0.8888888888888888,
              "#fdca26"
             ],
             [
              1,
              "#f0f921"
             ]
            ],
            "type": "contour"
           }
          ],
          "contourcarpet": [
           {
            "colorbar": {
             "outlinewidth": 0,
             "ticks": ""
            },
            "type": "contourcarpet"
           }
          ],
          "heatmap": [
           {
            "colorbar": {
             "outlinewidth": 0,
             "ticks": ""
            },
            "colorscale": [
             [
              0,
              "#0d0887"
             ],
             [
              0.1111111111111111,
              "#46039f"
             ],
             [
              0.2222222222222222,
              "#7201a8"
             ],
             [
              0.3333333333333333,
              "#9c179e"
             ],
             [
              0.4444444444444444,
              "#bd3786"
             ],
             [
              0.5555555555555556,
              "#d8576b"
             ],
             [
              0.6666666666666666,
              "#ed7953"
             ],
             [
              0.7777777777777778,
              "#fb9f3a"
             ],
             [
              0.8888888888888888,
              "#fdca26"
             ],
             [
              1,
              "#f0f921"
             ]
            ],
            "type": "heatmap"
           }
          ],
          "heatmapgl": [
           {
            "colorbar": {
             "outlinewidth": 0,
             "ticks": ""
            },
            "colorscale": [
             [
              0,
              "#0d0887"
             ],
             [
              0.1111111111111111,
              "#46039f"
             ],
             [
              0.2222222222222222,
              "#7201a8"
             ],
             [
              0.3333333333333333,
              "#9c179e"
             ],
             [
              0.4444444444444444,
              "#bd3786"
             ],
             [
              0.5555555555555556,
              "#d8576b"
             ],
             [
              0.6666666666666666,
              "#ed7953"
             ],
             [
              0.7777777777777778,
              "#fb9f3a"
             ],
             [
              0.8888888888888888,
              "#fdca26"
             ],
             [
              1,
              "#f0f921"
             ]
            ],
            "type": "heatmapgl"
           }
          ],
          "histogram": [
           {
            "marker": {
             "line": {
              "width": 1
             },
             "pattern": {
              "fillmode": "overlay",
              "size": 10,
              "solidity": 0.2
             }
            },
            "type": "histogram"
           }
          ],
          "histogram2d": [
           {
            "colorbar": {
             "outlinewidth": 0,
             "ticks": ""
            },
            "colorscale": [
             [
              0,
              "#0d0887"
             ],
             [
              0.1111111111111111,
              "#46039f"
             ],
             [
              0.2222222222222222,
              "#7201a8"
             ],
             [
              0.3333333333333333,
              "#9c179e"
             ],
             [
              0.4444444444444444,
              "#bd3786"
             ],
             [
              0.5555555555555556,
              "#d8576b"
             ],
             [
              0.6666666666666666,
              "#ed7953"
             ],
             [
              0.7777777777777778,
              "#fb9f3a"
             ],
             [
              0.8888888888888888,
              "#fdca26"
             ],
             [
              1,
              "#f0f921"
             ]
            ],
            "type": "histogram2d"
           }
          ],
          "histogram2dcontour": [
           {
            "colorbar": {
             "outlinewidth": 0,
             "ticks": ""
            },
            "colorscale": [
             [
              0,
              "#0d0887"
             ],
             [
              0.1111111111111111,
              "#46039f"
             ],
             [
              0.2222222222222222,
              "#7201a8"
             ],
             [
              0.3333333333333333,
              "#9c179e"
             ],
             [
              0.4444444444444444,
              "#bd3786"
             ],
             [
              0.5555555555555556,
              "#d8576b"
             ],
             [
              0.6666666666666666,
              "#ed7953"
             ],
             [
              0.7777777777777778,
              "#fb9f3a"
             ],
             [
              0.8888888888888888,
              "#fdca26"
             ],
             [
              1,
              "#f0f921"
             ]
            ],
            "type": "histogram2dcontour"
           }
          ],
          "mesh3d": [
           {
            "colorbar": {
             "outlinewidth": 0,
             "ticks": ""
            },
            "type": "mesh3d"
           }
          ],
          "parcoords": [
           {
            "line": {
             "colorbar": {
              "outlinewidth": 0,
              "ticks": ""
             }
            },
            "type": "parcoords"
           }
          ],
          "pie": [
           {
            "automargin": true,
            "type": "pie"
           }
          ],
          "scatter": [
           {
            "fillpattern": {
             "fillmode": "overlay",
             "size": 10,
             "solidity": 0.2
            },
            "marker": {
             "opacity": 0.8
            },
            "type": "scatter"
           }
          ],
          "scatter3d": [
           {
            "line": {
             "colorbar": {
              "outlinewidth": 0,
              "ticks": ""
             }
            },
            "marker": {
             "colorbar": {
              "outlinewidth": 0,
              "ticks": ""
             },
             "opacity": 0.8
            },
            "type": "scatter3d"
           }
          ],
          "scattercarpet": [
           {
            "marker": {
             "colorbar": {
              "outlinewidth": 0,
              "ticks": ""
             }
            },
            "type": "scattercarpet"
           }
          ],
          "scattergeo": [
           {
            "marker": {
             "colorbar": {
              "outlinewidth": 0,
              "ticks": ""
             }
            },
            "type": "scattergeo"
           }
          ],
          "scattergl": [
           {
            "marker": {
             "colorbar": {
              "outlinewidth": 0,
              "ticks": ""
             }
            },
            "type": "scattergl"
           }
          ],
          "scattermapbox": [
           {
            "marker": {
             "colorbar": {
              "outlinewidth": 0,
              "ticks": ""
             }
            },
            "type": "scattermapbox"
           }
          ],
          "scatterpolar": [
           {
            "marker": {
             "colorbar": {
              "outlinewidth": 0,
              "ticks": ""
             }
            },
            "type": "scatterpolar"
           }
          ],
          "scatterpolargl": [
           {
            "marker": {
             "colorbar": {
              "outlinewidth": 0,
              "ticks": ""
             }
            },
            "type": "scatterpolargl"
           }
          ],
          "scatterternary": [
           {
            "marker": {
             "colorbar": {
              "outlinewidth": 0,
              "ticks": ""
             }
            },
            "type": "scatterternary"
           }
          ],
          "surface": [
           {
            "colorbar": {
             "outlinewidth": 0,
             "ticks": ""
            },
            "colorscale": [
             [
              0,
              "#0d0887"
             ],
             [
              0.1111111111111111,
              "#46039f"
             ],
             [
              0.2222222222222222,
              "#7201a8"
             ],
             [
              0.3333333333333333,
              "#9c179e"
             ],
             [
              0.4444444444444444,
              "#bd3786"
             ],
             [
              0.5555555555555556,
              "#d8576b"
             ],
             [
              0.6666666666666666,
              "#ed7953"
             ],
             [
              0.7777777777777778,
              "#fb9f3a"
             ],
             [
              0.8888888888888888,
              "#fdca26"
             ],
             [
              1,
              "#f0f921"
             ]
            ],
            "type": "surface"
           }
          ],
          "table": [
           {
            "cells": {
             "fill": {
              "color": "#EBF0F8"
             },
             "line": {
              "color": "white"
             }
            },
            "header": {
             "fill": {
              "color": "#C8D4E3"
             },
             "line": {
              "color": "white"
             }
            },
            "type": "table"
           }
          ]
         },
         "layout": {
          "annotationdefaults": {
           "arrowcolor": "#2a3f5f",
           "arrowhead": 0,
           "arrowwidth": 1
          },
          "autotypenumbers": "strict",
          "coloraxis": {
           "colorbar": {
            "outlinewidth": 0,
            "ticks": ""
           }
          },
          "colorscale": {
           "diverging": [
            [
             0,
             "#8e0152"
            ],
            [
             0.1,
             "#c51b7d"
            ],
            [
             0.2,
             "#de77ae"
            ],
            [
             0.3,
             "#f1b6da"
            ],
            [
             0.4,
             "#fde0ef"
            ],
            [
             0.5,
             "#f7f7f7"
            ],
            [
             0.6,
             "#e6f5d0"
            ],
            [
             0.7,
             "#b8e186"
            ],
            [
             0.8,
             "#7fbc41"
            ],
            [
             0.9,
             "#4d9221"
            ],
            [
             1,
             "#276419"
            ]
           ],
           "sequential": [
            [
             0,
             "#0d0887"
            ],
            [
             0.1111111111111111,
             "#46039f"
            ],
            [
             0.2222222222222222,
             "#7201a8"
            ],
            [
             0.3333333333333333,
             "#9c179e"
            ],
            [
             0.4444444444444444,
             "#bd3786"
            ],
            [
             0.5555555555555556,
             "#d8576b"
            ],
            [
             0.6666666666666666,
             "#ed7953"
            ],
            [
             0.7777777777777778,
             "#fb9f3a"
            ],
            [
             0.8888888888888888,
             "#fdca26"
            ],
            [
             1,
             "#f0f921"
            ]
           ],
           "sequentialminus": [
            [
             0,
             "#0d0887"
            ],
            [
             0.1111111111111111,
             "#46039f"
            ],
            [
             0.2222222222222222,
             "#7201a8"
            ],
            [
             0.3333333333333333,
             "#9c179e"
            ],
            [
             0.4444444444444444,
             "#bd3786"
            ],
            [
             0.5555555555555556,
             "#d8576b"
            ],
            [
             0.6666666666666666,
             "#ed7953"
            ],
            [
             0.7777777777777778,
             "#fb9f3a"
            ],
            [
             0.8888888888888888,
             "#fdca26"
            ],
            [
             1,
             "#f0f921"
            ]
           ]
          },
          "colorway": [
           "#636efa",
           "#EF553B",
           "#00cc96",
           "#ab63fa",
           "#FFA15A",
           "#19d3f3",
           "#FF6692",
           "#B6E880",
           "#FF97FF",
           "#FECB52"
          ],
          "font": {
           "color": "#2a3f5f"
          },
          "geo": {
           "bgcolor": "white",
           "lakecolor": "white",
           "landcolor": "white",
           "showlakes": true,
           "showland": true,
           "subunitcolor": "#C8D4E3"
          },
          "height": 400,
          "hoverlabel": {
           "align": "left"
          },
          "hovermode": "closest",
          "mapbox": {
           "style": "light"
          },
          "margin": {
           "b": 2,
           "l": 2,
           "r": 2,
           "t": 30
          },
          "paper_bgcolor": "white",
          "plot_bgcolor": "white",
          "polar": {
           "angularaxis": {
            "gridcolor": "#EBF0F8",
            "linecolor": "#EBF0F8",
            "ticks": ""
           },
           "bgcolor": "white",
           "radialaxis": {
            "gridcolor": "#EBF0F8",
            "linecolor": "#EBF0F8",
            "ticks": ""
           }
          },
          "scene": {
           "camera": {
            "eye": {
             "x": 1.5,
             "y": 1.5,
             "z": 0.1
            }
           },
           "xaxis": {
            "backgroundcolor": "white",
            "gridcolor": "#DFE8F3",
            "gridwidth": 2,
            "linecolor": "#EBF0F8",
            "showbackground": true,
            "ticks": "",
            "zerolinecolor": "#EBF0F8"
           },
           "yaxis": {
            "backgroundcolor": "white",
            "gridcolor": "#DFE8F3",
            "gridwidth": 2,
            "linecolor": "#EBF0F8",
            "showbackground": true,
            "ticks": "",
            "zerolinecolor": "#EBF0F8"
           },
           "zaxis": {
            "backgroundcolor": "white",
            "gridcolor": "#DFE8F3",
            "gridwidth": 2,
            "linecolor": "#EBF0F8",
            "showbackground": true,
            "ticks": "",
            "zerolinecolor": "#EBF0F8"
           }
          },
          "shapedefaults": {
           "line": {
            "color": "#2a3f5f"
           }
          },
          "ternary": {
           "aaxis": {
            "gridcolor": "#DFE8F3",
            "linecolor": "#A2B1C6",
            "ticks": ""
           },
           "baxis": {
            "gridcolor": "#DFE8F3",
            "linecolor": "#A2B1C6",
            "ticks": ""
           },
           "bgcolor": "white",
           "caxis": {
            "gridcolor": "#DFE8F3",
            "linecolor": "#A2B1C6",
            "ticks": ""
           }
          },
          "title": {
           "x": 0.5
          },
          "xaxis": {
           "automargin": true,
           "gridcolor": "#EBF0F8",
           "linecolor": "#EBF0F8",
           "linewidth": 2,
           "showline": true,
           "ticks": "",
           "title": {
            "standoff": 15
           },
           "zerolinecolor": "#EBF0F8",
           "zerolinewidth": 2
          },
          "yaxis": {
           "automargin": true,
           "gridcolor": "#EBF0F8",
           "linecolor": "#EBF0F8",
           "linewidth": 2,
           "showline": true,
           "ticks": "",
           "title": {
            "standoff": 15
           },
           "zerolinecolor": "#EBF0F8",
           "zerolinewidth": 2
          }
         }
        },
        "xaxis": {
         "anchor": "y",
         "domain": [
          0,
          1
         ],
         "title": {
          "text": "TheGoodDoctor"
         }
        },
        "yaxis": {
         "anchor": "x",
         "domain": [
          0,
          1
         ],
         "title": {
          "text": "Average"
         }
        }
       }
      }
     },
     "metadata": {},
     "output_type": "display_data"
    }
   ],
   "source": [
    "formula = \"Average ~ EmergencyNYC\"\n",
    "\n",
    "model = smf.ols(formula = formula, data = dataset).fit()\n",
    "\n",
    "graphing.scatter_2D(dataset,    label_x=\"EmergencyNYC\",\n",
    "                                label_y=\"Average\",\n",
    "                                trendline=lambda x: model.params[1] * x + model.params[0]\n",
    "                                )"
   ]
  },
  {
   "cell_type": "code",
   "execution_count": 47,
   "metadata": {},
   "outputs": [
    {
     "name": "stdout",
     "output_type": "stream",
     "text": [
      "Intercept: 66.66431130621964 Slope: -0.1756572920201192\n"
     ]
    },
    {
     "name": "stderr",
     "output_type": "stream",
     "text": [
      "C:\\Users\\User\\AppData\\Local\\Temp\\ipykernel_3128\\2475838416.py:1: FutureWarning:\n",
      "\n",
      "Series.__getitem__ treating keys as positions is deprecated. In a future version, integer keys will always be treated as labels (consistent with DataFrame behavior). To access a value by position, use `ser.iloc[pos]`\n",
      "\n"
     ]
    }
   ],
   "source": [
    "print(\"Intercept:\", model.params[0], \"Slope:\", model.params[1])"
   ]
  },
  {
   "cell_type": "code",
   "execution_count": null,
   "metadata": {},
   "outputs": [
    {
     "name": "stdout",
     "output_type": "stream",
     "text": [
      "Train\n",
      "    TheGoodDoctor    Average\n",
      "14             72  50.782609\n",
      "10             47  55.304348\n",
      "4              68  57.347826\n",
      "6              42  54.304348\n",
      "3              48  47.695652\n",
      "(21, 2)\n",
      "Test\n",
      "    TheGoodDoctor    Average\n",
      "16             36  63.086957\n",
      "0              57  55.956522\n",
      "26             20  66.000000\n",
      "24             14  70.173913\n",
      "12             19  59.869565\n",
      "(10, 2)\n"
     ]
    }
   ],
   "source": [
    "data = dataset[['EmergencyNYC', 'Average']]\n",
    "\n",
    "train, test = train_test_split(data, train_size=0.7, random_state=2)\n",
    "\n",
    "print(\"Train\")\n",
    "print(train.head())\n",
    "print(train.shape)\n",
    "\n",
    "print(\"Test\")\n",
    "print(test.head())\n",
    "print(test.shape)"
   ]
  },
  {
   "cell_type": "code",
   "execution_count": null,
   "metadata": {},
   "outputs": [
    {
     "name": "stderr",
     "output_type": "stream",
     "text": [
      "C:\\Users\\User\\AppData\\Local\\Temp\\ipykernel_3128\\599972456.py:9: FutureWarning:\n",
      "\n",
      "Series.__getitem__ treating keys as positions is deprecated. In a future version, integer keys will always be treated as labels (consistent with DataFrame behavior). To access a value by position, use `ser.iloc[pos]`\n",
      "\n"
     ]
    },
    {
     "data": {
      "application/vnd.plotly.v1+json": {
       "config": {
        "plotlyServerURL": "https://plot.ly"
       },
       "data": [
        {
         "hovertemplate": "Data=train<br>TheGoodDoctor=%{x}<br>Average=%{y}<extra></extra>",
         "legendgroup": "train",
         "marker": {
          "color": "#636efa",
          "size": 19,
          "symbol": "circle"
         },
         "mode": "markers",
         "name": "train",
         "orientation": "v",
         "showlegend": true,
         "type": "scatter",
         "x": [
          72,
          47,
          68,
          42,
          48,
          33,
          66,
          9,
          23,
          41,
          61,
          36,
          10,
          13,
          39,
          34,
          32,
          9,
          24,
          49,
          35
         ],
         "xaxis": "x",
         "y": [
          50.78260869565217,
          55.30434782608695,
          57.34782608695652,
          54.30434782608695,
          47.69565217391305,
          68.30434782608695,
          61.60869565217392,
          76.04347826086956,
          58.43478260869565,
          60.30434782608695,
          56.21739130434783,
          49.391304347826086,
          60.56521739130435,
          72.17391304347827,
          56.43478260869565,
          49.73913043478261,
          62.43478260869565,
          70.69565217391305,
          60.73913043478261,
          49.130434782608695,
          59.17391304347826
         ],
         "yaxis": "y"
        },
        {
         "hovertemplate": "Data=test<br>TheGoodDoctor=%{x}<br>Average=%{y}<extra></extra>",
         "legendgroup": "test",
         "marker": {
          "color": "#EF553B",
          "size": 19,
          "symbol": "circle"
         },
         "mode": "markers",
         "name": "test",
         "orientation": "v",
         "showlegend": true,
         "type": "scatter",
         "x": [
          36,
          57,
          20,
          14,
          19,
          51,
          100,
          18,
          10,
          22
         ],
         "xaxis": "x",
         "y": [
          63.08695652173913,
          55.95652173913044,
          66,
          70.17391304347827,
          59.869565217391305,
          62.34782608695652,
          61.08695652173913,
          66.47826086956522,
          73.65217391304348,
          51.21739130434783
         ],
         "yaxis": "y"
        }
       ],
       "layout": {
        "legend": {
         "title": {
          "text": "Data"
         },
         "tracegroupgap": 0
        },
        "shapes": [
         {
          "line": {
           "color": "rgb(228,26,28)"
          },
          "path": "M9.0 65.08339567803857 L 9.457286432160805 65.00306998168766 L 9.914572864321608 64.92274428533675 L 10.371859296482413 64.84241858898585 L 10.829145728643216 64.76209289263494 L 11.28643216080402 64.68176719628403 L 11.743718592964825 64.60144149993312 L 12.201005025125628 64.5211158035822 L 12.658291457286431 64.44079010723131 L 13.115577889447236 64.3604644108804 L 13.57286432160804 64.28013871452949 L 14.030150753768844 64.19981301817857 L 14.487437185929648 64.11948732182766 L 14.944723618090453 64.03916162547675 L 15.402010050251256 63.95883592912585 L 15.85929648241206 63.87851023277494 L 16.316582914572862 63.79818453642403 L 16.77386934673367 63.71785884007312 L 17.231155778894472 63.637533143722216 L 17.688442211055275 63.557207447371304 L 18.14572864321608 63.47688175102039 L 18.603015075376884 63.39655605466949 L 19.060301507537687 63.31623035831858 L 19.517587939698494 63.235904661967666 L 19.974874371859297 63.15557896561676 L 20.4321608040201 63.07525326926585 L 20.889447236180906 62.994927572914946 L 21.346733668341706 62.914601876564035 L 21.804020100502512 62.83427618021312 L 22.261306532663315 62.75395048386222 L 22.71859296482412 62.67362478751131 L 23.175879396984925 62.5932990911604 L 23.633165829145728 62.51297339480949 L 24.09045226130653 62.43264769845858 L 24.547738693467338 62.35232200210767 L 25.00502512562814 62.271996305756765 L 25.462311557788944 62.191670609405854 L 25.919597989949747 62.11134491305495 L 26.376884422110553 62.03101921670404 L 26.834170854271356 61.95069352035313 L 27.29145728643216 61.87036782400222 L 27.748743718592966 61.79004212765131 L 28.20603015075377 61.70971643130041 L 28.66331658291457 61.629390734949496 L 29.120603015075375 61.549065038598584 L 29.57788944723618 61.46873934224767 L 30.035175879396984 61.38841364589677 L 30.492462311557787 61.30808794954586 L 30.949748743718594 61.22776225319495 L 31.407035175879397 61.14743655684404 L 31.8643216080402 61.06711086049313 L 32.321608040201 60.986785164142226 L 32.77889447236181 60.906459467791315 L 33.23618090452261 60.82613377144041 L 33.69346733668341 60.7458080750895 L 34.15075376884422 60.66548237873859 L 34.608040201005025 60.58515668238768 L 35.065326633165824 60.50483098603677 L 35.52261306532663 60.42450528968586 L 35.97989949748744 60.34417959333496 L 36.43718592964824 60.263853896984045 L 36.89447236180904 60.183528200633134 L 37.35175879396985 60.10320250428223 L 37.80904522613065 60.02287680793132 L 38.266331658291456 59.942551111580414 L 38.72361809045226 59.8622254152295 L 39.18090452261306 59.78189971887859 L 39.63819095477387 59.70157402252768 L 40.095477386934675 59.621248326176776 L 40.552763819095475 59.540922629825864 L 41.01005025125628 59.46059693347496 L 41.46733668341708 59.38027123712405 L 41.92462311557789 59.29994554077314 L 42.381909547738694 59.21961984442223 L 42.83919597989949 59.13929414807132 L 43.2964824120603 59.05896845172042 L 43.753768844221106 58.978642755369506 L 44.211055276381906 58.898317059018595 L 44.66834170854271 58.817991362667684 L 45.12562814070352 58.73766566631678 L 45.58291457286432 58.65733996996587 L 46.040201005025125 58.577014273614964 L 46.49748743718593 58.49668857726405 L 46.95477386934673 58.41636288091314 L 47.41206030150754 58.33603718456224 L 47.86934673366834 58.255711488211325 L 48.32663316582914 58.17538579186042 L 48.78391959798995 58.09506009550951 L 49.24120603015075 58.0147343991586 L 49.698492462311556 57.93440870280769 L 50.15577889447236 57.85408300645678 L 50.61306532663316 57.77375731010587 L 51.07035175879397 57.69343161375497 L 51.527638190954775 57.613105917404056 L 51.984924623115575 57.532780221053144 L 52.44221105527638 57.45245452470224 L 52.89949748743719 57.37212882835133 L 53.35678391959799 57.291803132000425 L 53.814070351758794 57.21147743564951 L 54.27135678391959 57.1311517392986 L 54.7286432160804 57.05082604294769 L 55.185929648241206 56.970500346596786 L 55.643216080402006 56.890174650245875 L 56.10050251256281 56.80984895389497 L 56.55778894472362 56.72952325754406 L 57.01507537688442 56.64919756119315 L 57.472361809045225 56.568871864842244 L 57.92964824120603 56.48854616849133 L 58.38693467336683 56.40822047214043 L 58.84422110552764 56.32789477578952 L 59.30150753768844 56.247569079438605 L 59.75879396984924 56.167243383087694 L 60.21608040201005 56.08691768673679 L 60.67336683417085 56.00659199038588 L 61.130653266331656 55.926266294034974 L 61.58793969849246 55.84594059768406 L 62.04522613065326 55.76561490133315 L 62.50251256281407 55.68528920498225 L 62.959798994974875 55.604963508631336 L 63.417085427135675 55.52463781228043 L 63.87437185929648 55.44431211592952 L 64.33165829145729 55.36398641957861 L 64.78894472361809 55.2836607232277 L 65.2462311557789 55.20333502687679 L 65.7035175879397 55.12300933052588 L 66.1608040201005 55.04268363417498 L 66.6180904522613 54.962357937824066 L 67.0753768844221 54.882032241473155 L 67.53266331658291 54.80170654512225 L 67.98994974874373 54.72138084877134 L 68.44723618090453 54.64105515242043 L 68.90452261306532 54.560729456069524 L 69.36180904522612 54.48040375971861 L 69.81909547738692 54.40007806336771 L 70.27638190954774 54.3197523670168 L 70.73366834170854 54.239426670665885 L 71.19095477386935 54.15910097431498 L 71.64824120603015 54.07877527796407 L 72.10552763819095 53.99844958161316 L 72.56281407035175 53.918123885262254 L 73.02010050251256 53.83779818891134 L 73.47738693467336 53.75747249256044 L 73.93467336683416 53.67714679620953 L 74.39195979899498 53.596821099858616 L 74.84924623115577 53.516495403507705 L 75.30653266331657 53.4361697071568 L 75.76381909547739 53.35584401080589 L 76.22110552763819 53.275518314454985 L 76.67839195979899 53.19519261810407 L 77.1356783919598 53.11486692175316 L 77.5929648241206 53.03454122540226 L 78.0502512562814 52.954215529051346 L 78.50753768844221 52.873889832700435 L 78.96482412060301 52.79356413634953 L 79.42211055276381 52.71323843999862 L 79.87939698492463 52.63291274364771 L 80.33668341708542 52.552587047296804 L 80.79396984924622 52.47226135094589 L 81.25125628140704 52.39193565459499 L 81.70854271356784 52.31160995824408 L 82.16582914572864 52.231284261893165 L 82.62311557788945 52.150958565542254 L 83.08040201005025 52.07063286919135 L 83.53768844221105 51.990307172840446 L 83.99497487437186 51.909981476489534 L 84.45226130653266 51.82965578013862 L 84.90954773869346 51.74933008378771 L 85.36683417085426 51.66900438743681 L 85.82412060301507 51.588678691085896 L 86.28140703517587 51.50835299473499 L 86.73869346733667 51.42802729838408 L 87.19597989949749 51.34770160203317 L 87.65326633165829 51.267375905682265 L 88.11055276381909 51.18705020933135 L 88.5678391959799 51.10672451298044 L 89.0251256281407 51.02639881662954 L 89.4824120603015 50.946073120278626 L 89.93969849246231 50.865747423927715 L 90.39698492462311 50.78542172757681 L 90.85427135678391 50.7050960312259 L 91.31155778894473 50.624770334874995 L 91.76884422110552 50.544444638524084 L 92.22613065326632 50.46411894217317 L 92.68341708542714 50.38379324582226 L 93.14070351758794 50.30346754947136 L 93.59798994974874 50.22314185312045 L 94.05527638190955 50.14281615676954 L 94.51256281407035 50.06249046041863 L 94.96984924623115 49.98216476406772 L 95.42713567839196 49.90183906771681 L 95.88442211055276 49.8215133713659 L 96.34170854271356 49.741187675015 L 96.79899497487438 49.66086197866409 L 97.25628140703517 49.580536282313176 L 97.71356783919597 49.500210585962265 L 98.17085427135677 49.41988488961136 L 98.62814070351759 49.339559193260456 L 99.08542713567839 49.259233496909545 L 99.54271356783919 49.17890780055863 L 100.0 49.09858210420772",
          "type": "path"
         }
        ],
        "template": {
         "data": {
          "bar": [
           {
            "error_x": {
             "color": "#2a3f5f"
            },
            "error_y": {
             "color": "#2a3f5f"
            },
            "marker": {
             "line": {
              "color": "white",
              "width": 0.5
             },
             "pattern": {
              "fillmode": "overlay",
              "size": 10,
              "solidity": 0.2
             }
            },
            "type": "bar"
           }
          ],
          "barpolar": [
           {
            "marker": {
             "line": {
              "color": "white",
              "width": 0.5
             },
             "pattern": {
              "fillmode": "overlay",
              "size": 10,
              "solidity": 0.2
             }
            },
            "type": "barpolar"
           }
          ],
          "box": [
           {
            "boxpoints": "outliers",
            "notched": false,
            "type": "box"
           }
          ],
          "carpet": [
           {
            "aaxis": {
             "endlinecolor": "#2a3f5f",
             "gridcolor": "#C8D4E3",
             "linecolor": "#C8D4E3",
             "minorgridcolor": "#C8D4E3",
             "startlinecolor": "#2a3f5f"
            },
            "baxis": {
             "endlinecolor": "#2a3f5f",
             "gridcolor": "#C8D4E3",
             "linecolor": "#C8D4E3",
             "minorgridcolor": "#C8D4E3",
             "startlinecolor": "#2a3f5f"
            },
            "type": "carpet"
           }
          ],
          "choropleth": [
           {
            "colorbar": {
             "outlinewidth": 0,
             "ticks": ""
            },
            "type": "choropleth"
           }
          ],
          "contour": [
           {
            "colorbar": {
             "outlinewidth": 0,
             "ticks": ""
            },
            "colorscale": [
             [
              0,
              "#0d0887"
             ],
             [
              0.1111111111111111,
              "#46039f"
             ],
             [
              0.2222222222222222,
              "#7201a8"
             ],
             [
              0.3333333333333333,
              "#9c179e"
             ],
             [
              0.4444444444444444,
              "#bd3786"
             ],
             [
              0.5555555555555556,
              "#d8576b"
             ],
             [
              0.6666666666666666,
              "#ed7953"
             ],
             [
              0.7777777777777778,
              "#fb9f3a"
             ],
             [
              0.8888888888888888,
              "#fdca26"
             ],
             [
              1,
              "#f0f921"
             ]
            ],
            "type": "contour"
           }
          ],
          "contourcarpet": [
           {
            "colorbar": {
             "outlinewidth": 0,
             "ticks": ""
            },
            "type": "contourcarpet"
           }
          ],
          "heatmap": [
           {
            "colorbar": {
             "outlinewidth": 0,
             "ticks": ""
            },
            "colorscale": [
             [
              0,
              "#0d0887"
             ],
             [
              0.1111111111111111,
              "#46039f"
             ],
             [
              0.2222222222222222,
              "#7201a8"
             ],
             [
              0.3333333333333333,
              "#9c179e"
             ],
             [
              0.4444444444444444,
              "#bd3786"
             ],
             [
              0.5555555555555556,
              "#d8576b"
             ],
             [
              0.6666666666666666,
              "#ed7953"
             ],
             [
              0.7777777777777778,
              "#fb9f3a"
             ],
             [
              0.8888888888888888,
              "#fdca26"
             ],
             [
              1,
              "#f0f921"
             ]
            ],
            "type": "heatmap"
           }
          ],
          "heatmapgl": [
           {
            "colorbar": {
             "outlinewidth": 0,
             "ticks": ""
            },
            "colorscale": [
             [
              0,
              "#0d0887"
             ],
             [
              0.1111111111111111,
              "#46039f"
             ],
             [
              0.2222222222222222,
              "#7201a8"
             ],
             [
              0.3333333333333333,
              "#9c179e"
             ],
             [
              0.4444444444444444,
              "#bd3786"
             ],
             [
              0.5555555555555556,
              "#d8576b"
             ],
             [
              0.6666666666666666,
              "#ed7953"
             ],
             [
              0.7777777777777778,
              "#fb9f3a"
             ],
             [
              0.8888888888888888,
              "#fdca26"
             ],
             [
              1,
              "#f0f921"
             ]
            ],
            "type": "heatmapgl"
           }
          ],
          "histogram": [
           {
            "marker": {
             "line": {
              "width": 1
             },
             "pattern": {
              "fillmode": "overlay",
              "size": 10,
              "solidity": 0.2
             }
            },
            "type": "histogram"
           }
          ],
          "histogram2d": [
           {
            "colorbar": {
             "outlinewidth": 0,
             "ticks": ""
            },
            "colorscale": [
             [
              0,
              "#0d0887"
             ],
             [
              0.1111111111111111,
              "#46039f"
             ],
             [
              0.2222222222222222,
              "#7201a8"
             ],
             [
              0.3333333333333333,
              "#9c179e"
             ],
             [
              0.4444444444444444,
              "#bd3786"
             ],
             [
              0.5555555555555556,
              "#d8576b"
             ],
             [
              0.6666666666666666,
              "#ed7953"
             ],
             [
              0.7777777777777778,
              "#fb9f3a"
             ],
             [
              0.8888888888888888,
              "#fdca26"
             ],
             [
              1,
              "#f0f921"
             ]
            ],
            "type": "histogram2d"
           }
          ],
          "histogram2dcontour": [
           {
            "colorbar": {
             "outlinewidth": 0,
             "ticks": ""
            },
            "colorscale": [
             [
              0,
              "#0d0887"
             ],
             [
              0.1111111111111111,
              "#46039f"
             ],
             [
              0.2222222222222222,
              "#7201a8"
             ],
             [
              0.3333333333333333,
              "#9c179e"
             ],
             [
              0.4444444444444444,
              "#bd3786"
             ],
             [
              0.5555555555555556,
              "#d8576b"
             ],
             [
              0.6666666666666666,
              "#ed7953"
             ],
             [
              0.7777777777777778,
              "#fb9f3a"
             ],
             [
              0.8888888888888888,
              "#fdca26"
             ],
             [
              1,
              "#f0f921"
             ]
            ],
            "type": "histogram2dcontour"
           }
          ],
          "mesh3d": [
           {
            "colorbar": {
             "outlinewidth": 0,
             "ticks": ""
            },
            "type": "mesh3d"
           }
          ],
          "parcoords": [
           {
            "line": {
             "colorbar": {
              "outlinewidth": 0,
              "ticks": ""
             }
            },
            "type": "parcoords"
           }
          ],
          "pie": [
           {
            "automargin": true,
            "type": "pie"
           }
          ],
          "scatter": [
           {
            "fillpattern": {
             "fillmode": "overlay",
             "size": 10,
             "solidity": 0.2
            },
            "marker": {
             "opacity": 0.8
            },
            "type": "scatter"
           }
          ],
          "scatter3d": [
           {
            "line": {
             "colorbar": {
              "outlinewidth": 0,
              "ticks": ""
             }
            },
            "marker": {
             "colorbar": {
              "outlinewidth": 0,
              "ticks": ""
             },
             "opacity": 0.8
            },
            "type": "scatter3d"
           }
          ],
          "scattercarpet": [
           {
            "marker": {
             "colorbar": {
              "outlinewidth": 0,
              "ticks": ""
             }
            },
            "type": "scattercarpet"
           }
          ],
          "scattergeo": [
           {
            "marker": {
             "colorbar": {
              "outlinewidth": 0,
              "ticks": ""
             }
            },
            "type": "scattergeo"
           }
          ],
          "scattergl": [
           {
            "marker": {
             "colorbar": {
              "outlinewidth": 0,
              "ticks": ""
             }
            },
            "type": "scattergl"
           }
          ],
          "scattermapbox": [
           {
            "marker": {
             "colorbar": {
              "outlinewidth": 0,
              "ticks": ""
             }
            },
            "type": "scattermapbox"
           }
          ],
          "scatterpolar": [
           {
            "marker": {
             "colorbar": {
              "outlinewidth": 0,
              "ticks": ""
             }
            },
            "type": "scatterpolar"
           }
          ],
          "scatterpolargl": [
           {
            "marker": {
             "colorbar": {
              "outlinewidth": 0,
              "ticks": ""
             }
            },
            "type": "scatterpolargl"
           }
          ],
          "scatterternary": [
           {
            "marker": {
             "colorbar": {
              "outlinewidth": 0,
              "ticks": ""
             }
            },
            "type": "scatterternary"
           }
          ],
          "surface": [
           {
            "colorbar": {
             "outlinewidth": 0,
             "ticks": ""
            },
            "colorscale": [
             [
              0,
              "#0d0887"
             ],
             [
              0.1111111111111111,
              "#46039f"
             ],
             [
              0.2222222222222222,
              "#7201a8"
             ],
             [
              0.3333333333333333,
              "#9c179e"
             ],
             [
              0.4444444444444444,
              "#bd3786"
             ],
             [
              0.5555555555555556,
              "#d8576b"
             ],
             [
              0.6666666666666666,
              "#ed7953"
             ],
             [
              0.7777777777777778,
              "#fb9f3a"
             ],
             [
              0.8888888888888888,
              "#fdca26"
             ],
             [
              1,
              "#f0f921"
             ]
            ],
            "type": "surface"
           }
          ],
          "table": [
           {
            "cells": {
             "fill": {
              "color": "#EBF0F8"
             },
             "line": {
              "color": "white"
             }
            },
            "header": {
             "fill": {
              "color": "#C8D4E3"
             },
             "line": {
              "color": "white"
             }
            },
            "type": "table"
           }
          ]
         },
         "layout": {
          "annotationdefaults": {
           "arrowcolor": "#2a3f5f",
           "arrowhead": 0,
           "arrowwidth": 1
          },
          "autotypenumbers": "strict",
          "coloraxis": {
           "colorbar": {
            "outlinewidth": 0,
            "ticks": ""
           }
          },
          "colorscale": {
           "diverging": [
            [
             0,
             "#8e0152"
            ],
            [
             0.1,
             "#c51b7d"
            ],
            [
             0.2,
             "#de77ae"
            ],
            [
             0.3,
             "#f1b6da"
            ],
            [
             0.4,
             "#fde0ef"
            ],
            [
             0.5,
             "#f7f7f7"
            ],
            [
             0.6,
             "#e6f5d0"
            ],
            [
             0.7,
             "#b8e186"
            ],
            [
             0.8,
             "#7fbc41"
            ],
            [
             0.9,
             "#4d9221"
            ],
            [
             1,
             "#276419"
            ]
           ],
           "sequential": [
            [
             0,
             "#0d0887"
            ],
            [
             0.1111111111111111,
             "#46039f"
            ],
            [
             0.2222222222222222,
             "#7201a8"
            ],
            [
             0.3333333333333333,
             "#9c179e"
            ],
            [
             0.4444444444444444,
             "#bd3786"
            ],
            [
             0.5555555555555556,
             "#d8576b"
            ],
            [
             0.6666666666666666,
             "#ed7953"
            ],
            [
             0.7777777777777778,
             "#fb9f3a"
            ],
            [
             0.8888888888888888,
             "#fdca26"
            ],
            [
             1,
             "#f0f921"
            ]
           ],
           "sequentialminus": [
            [
             0,
             "#0d0887"
            ],
            [
             0.1111111111111111,
             "#46039f"
            ],
            [
             0.2222222222222222,
             "#7201a8"
            ],
            [
             0.3333333333333333,
             "#9c179e"
            ],
            [
             0.4444444444444444,
             "#bd3786"
            ],
            [
             0.5555555555555556,
             "#d8576b"
            ],
            [
             0.6666666666666666,
             "#ed7953"
            ],
            [
             0.7777777777777778,
             "#fb9f3a"
            ],
            [
             0.8888888888888888,
             "#fdca26"
            ],
            [
             1,
             "#f0f921"
            ]
           ]
          },
          "colorway": [
           "#636efa",
           "#EF553B",
           "#00cc96",
           "#ab63fa",
           "#FFA15A",
           "#19d3f3",
           "#FF6692",
           "#B6E880",
           "#FF97FF",
           "#FECB52"
          ],
          "font": {
           "color": "#2a3f5f"
          },
          "geo": {
           "bgcolor": "white",
           "lakecolor": "white",
           "landcolor": "white",
           "showlakes": true,
           "showland": true,
           "subunitcolor": "#C8D4E3"
          },
          "height": 400,
          "hoverlabel": {
           "align": "left"
          },
          "hovermode": "closest",
          "mapbox": {
           "style": "light"
          },
          "margin": {
           "b": 2,
           "l": 2,
           "r": 2,
           "t": 30
          },
          "paper_bgcolor": "white",
          "plot_bgcolor": "white",
          "polar": {
           "angularaxis": {
            "gridcolor": "#EBF0F8",
            "linecolor": "#EBF0F8",
            "ticks": ""
           },
           "bgcolor": "white",
           "radialaxis": {
            "gridcolor": "#EBF0F8",
            "linecolor": "#EBF0F8",
            "ticks": ""
           }
          },
          "scene": {
           "camera": {
            "eye": {
             "x": 1.5,
             "y": 1.5,
             "z": 0.1
            }
           },
           "xaxis": {
            "backgroundcolor": "white",
            "gridcolor": "#DFE8F3",
            "gridwidth": 2,
            "linecolor": "#EBF0F8",
            "showbackground": true,
            "ticks": "",
            "zerolinecolor": "#EBF0F8"
           },
           "yaxis": {
            "backgroundcolor": "white",
            "gridcolor": "#DFE8F3",
            "gridwidth": 2,
            "linecolor": "#EBF0F8",
            "showbackground": true,
            "ticks": "",
            "zerolinecolor": "#EBF0F8"
           },
           "zaxis": {
            "backgroundcolor": "white",
            "gridcolor": "#DFE8F3",
            "gridwidth": 2,
            "linecolor": "#EBF0F8",
            "showbackground": true,
            "ticks": "",
            "zerolinecolor": "#EBF0F8"
           }
          },
          "shapedefaults": {
           "line": {
            "color": "#2a3f5f"
           }
          },
          "ternary": {
           "aaxis": {
            "gridcolor": "#DFE8F3",
            "linecolor": "#A2B1C6",
            "ticks": ""
           },
           "baxis": {
            "gridcolor": "#DFE8F3",
            "linecolor": "#A2B1C6",
            "ticks": ""
           },
           "bgcolor": "white",
           "caxis": {
            "gridcolor": "#DFE8F3",
            "linecolor": "#A2B1C6",
            "ticks": ""
           }
          },
          "title": {
           "x": 0.5
          },
          "xaxis": {
           "automargin": true,
           "gridcolor": "#EBF0F8",
           "linecolor": "#EBF0F8",
           "linewidth": 2,
           "showline": true,
           "ticks": "",
           "title": {
            "standoff": 15
           },
           "zerolinecolor": "#EBF0F8",
           "zerolinewidth": 2
          },
          "yaxis": {
           "automargin": true,
           "gridcolor": "#EBF0F8",
           "linecolor": "#EBF0F8",
           "linewidth": 2,
           "showline": true,
           "ticks": "",
           "title": {
            "standoff": 15
           },
           "zerolinecolor": "#EBF0F8",
           "zerolinewidth": 2
          }
         }
        },
        "xaxis": {
         "anchor": "y",
         "domain": [
          0,
          1
         ],
         "title": {
          "text": "TheGoodDoctor"
         }
        },
        "yaxis": {
         "anchor": "x",
         "domain": [
          0,
          1
         ],
         "title": {
          "text": "Average"
         }
        }
       }
      }
     },
     "metadata": {},
     "output_type": "display_data"
    }
   ],
   "source": [
    "# You don't need to understand this code well\n",
    "# It's just used to create a scatter plot\n",
    "\n",
    "# concatenate training and test so they can be graphed\n",
    "plot_set = pd.concat([train,test])\n",
    "plot_set[\"Data\"] = [\"train\"] * len(train) + [\"test\"] * len(test)\n",
    "\n",
    "# Create graph\n",
    "graphing.scatter_2D(plot_set, \"EmergencyNYC\", \"Average\", \"Data\", trendline = lambda x: model.params[1] * x + model.params[0])"
   ]
  },
  {
   "cell_type": "code",
   "execution_count": null,
   "metadata": {},
   "outputs": [
    {
     "name": "stderr",
     "output_type": "stream",
     "text": [
      "C:\\Users\\User\\AppData\\Local\\Temp\\ipykernel_3128\\577880455.py:2: FutureWarning:\n",
      "\n",
      "Series.__getitem__ treating keys as positions is deprecated. In a future version, integer keys will always be treated as labels (consistent with DataFrame behavior). To access a value by position, use `ser.iloc[pos]`\n",
      "\n"
     ]
    },
    {
     "data": {
      "application/vnd.plotly.v1+json": {
       "config": {
        "plotlyServerURL": "https://plot.ly"
       },
       "data": [
        {
         "hovertemplate": "TheGoodDoctor=%{x}<br>Average=%{y}<extra></extra>",
         "legendgroup": "",
         "marker": {
          "color": "#636efa",
          "size": 19,
          "symbol": "circle"
         },
         "mode": "markers",
         "name": "",
         "orientation": "v",
         "showlegend": false,
         "type": "scatter",
         "x": [
          72,
          47,
          68,
          42,
          48,
          33,
          66,
          9,
          23,
          41,
          61,
          36,
          10,
          13,
          39,
          34,
          32,
          9,
          24,
          49,
          35
         ],
         "xaxis": "x",
         "y": [
          50.78260869565217,
          55.30434782608695,
          57.34782608695652,
          54.30434782608695,
          47.69565217391305,
          68.30434782608695,
          61.60869565217392,
          76.04347826086956,
          58.43478260869565,
          60.30434782608695,
          56.21739130434783,
          49.391304347826086,
          60.56521739130435,
          72.17391304347827,
          56.43478260869565,
          49.73913043478261,
          62.43478260869565,
          70.69565217391305,
          60.73913043478261,
          49.130434782608695,
          59.17391304347826
         ],
         "yaxis": "y"
        }
       ],
       "layout": {
        "legend": {
         "tracegroupgap": 0
        },
        "shapes": [
         {
          "line": {
           "color": "rgb(228,26,28)"
          },
          "path": "M9.0 66.07353821620809 L 9.316582914572864 65.99427773121015 L 9.633165829145728 65.91501724621222 L 9.949748743718594 65.83575676121428 L 10.266331658291458 65.75649627621635 L 10.582914572864322 65.67723579121842 L 10.899497487437186 65.59797530622048 L 11.21608040201005 65.51871482122255 L 11.532663316582914 65.43945433622461 L 11.849246231155778 65.36019385122668 L 12.165829145728644 65.28093336622875 L 12.482412060301508 65.20167288123082 L 12.798994974874372 65.12241239623287 L 13.115577889447236 65.04315191123494 L 13.4321608040201 64.96389142623701 L 13.748743718592966 64.88463094123908 L 14.065326633165828 64.80537045624115 L 14.381909547738694 64.72610997124322 L 14.698492462311558 64.64684948624527 L 15.015075376884422 64.56758900124734 L 15.331658291457286 64.48832851624941 L 15.64824120603015 64.40906803125148 L 15.964824120603016 64.32980754625355 L 16.281407035175878 64.25054706125562 L 16.597989949748744 64.17128657625767 L 16.914572864321606 64.09202609125974 L 17.231155778894472 64.01276560626181 L 17.547738693467338 63.93350512126388 L 17.8643216080402 63.85424463626594 L 18.180904522613066 63.77498415126801 L 18.49748743718593 63.69572366627008 L 18.814070351758794 63.61646318127214 L 19.130653266331656 63.53720269627421 L 19.44723618090452 63.457942211276276 L 19.763819095477388 63.37868172627834 L 20.08040201005025 63.299421241280406 L 20.396984924623116 63.220160756282475 L 20.71356783919598 63.140900271284536 L 21.030150753768844 63.061639786286605 L 21.346733668341706 62.982379301288674 L 21.66331658291457 62.903118816290736 L 21.979899497487438 62.823858331292804 L 22.2964824120603 62.74459784629487 L 22.613065326633166 62.665337361296935 L 22.92964824120603 62.586076876299 L 23.246231155778894 62.50681639130107 L 23.562814070351756 62.427555906303134 L 23.87939698492462 62.3482954213052 L 24.195979899497488 62.269034936307264 L 24.51256281407035 62.18977445130933 L 24.829145728643216 62.1105139663114 L 25.145728643216078 62.03125348131347 L 25.462311557788944 61.95199299631553 L 25.77889447236181 61.8727325113176 L 26.09547738693467 61.79347202631966 L 26.412060301507537 61.71421154132173 L 26.7286432160804 61.6349510563238 L 27.045226130653266 61.55569057132586 L 27.36180904522613 61.47643008632793 L 27.678391959798994 61.39716960133 L 27.99497487437186 61.31790911633206 L 28.31155778894472 61.23864863133413 L 28.628140703517587 61.1593881463362 L 28.94472361809045 61.08012766133826 L 29.261306532663315 61.00086717634033 L 29.57788944723618 60.9216066913424 L 29.894472361809044 60.84234620634446 L 30.21105527638191 60.76308572134653 L 30.52763819095477 60.683825236348596 L 30.844221105527637 60.60456475135066 L 31.1608040201005 60.52530426635273 L 31.477386934673365 60.446043781354795 L 31.79396984924623 60.36678329635686 L 32.11055276381909 60.287522811358926 L 32.42713567839196 60.20826232636099 L 32.743718592964825 60.129001841363056 L 33.06030150753769 60.049741356365125 L 33.37688442211055 59.97048087136719 L 33.69346733668341 59.891220386369255 L 34.01005025125628 59.811959901371324 L 34.32663316582914 59.73269941637339 L 34.64321608040201 59.653438931375455 L 34.959798994974875 59.57417844637752 L 35.27638190954774 59.494917961379585 L 35.5929648241206 59.415657476381654 L 35.90954773869346 59.33639699138372 L 36.22613065326633 59.257136506385784 L 36.54271356783919 59.17787602138785 L 36.85929648241206 59.098615536389914 L 37.175879396984925 59.01935505139198 L 37.49246231155779 58.94009456639405 L 37.80904522613065 58.86083408139612 L 38.12562814070351 58.78157359639819 L 38.44221105527638 58.70231311140025 L 38.75879396984924 58.62305262640232 L 39.07537688442211 58.54379214140438 L 39.391959798994975 58.46453165640645 L 39.70854271356784 58.38527117140852 L 40.0251256281407 58.30601068641058 L 40.34170854271356 58.22675020141265 L 40.65829145728643 58.14748971641471 L 40.97487437185929 58.06822923141678 L 41.291457286432156 57.98896874641885 L 41.608040201005025 57.90970826142092 L 41.92462311557789 57.83044777642298 L 42.24120603015075 57.75118729142505 L 42.55778894472362 57.67192680642711 L 42.87437185929648 57.59266632142918 L 43.19095477386934 57.51340583643125 L 43.50753768844221 57.43414535143331 L 43.824120603015075 57.35488486643538 L 44.14070351758794 57.275624381437446 L 44.4572864321608 57.19636389643951 L 44.77386934673367 57.117103411441576 L 45.09045226130653 57.037842926443645 L 45.40703517587939 56.958582441445714 L 45.72361809045226 56.879321956447775 L 46.040201005025125 56.800061471449844 L 46.35678391959799 56.720800986451906 L 46.67336683417085 56.641540501453974 L 46.98994974874372 56.56228001645604 L 47.30653266331658 56.483019531458105 L 47.62311557788944 56.40375904646017 L 47.93969849246231 56.324498561462235 L 48.256281407035175 56.245238076464304 L 48.57286432160804 56.16597759146637 L 48.8894472361809 56.08671710646844 L 49.20603015075377 56.0074566214705 L 49.52261306532663 55.92819613647257 L 49.83919597989949 55.84893565147464 L 50.15577889447236 55.7696751664767 L 50.472361809045225 55.69041468147877 L 50.78894472361809 55.61115419648084 L 51.10552763819095 55.5318937114829 L 51.42211055276382 55.45263322648497 L 51.73869346733668 55.37337274148703 L 52.05527638190954 55.2941122564891 L 52.37185929648241 55.21485177149117 L 52.688442211055275 55.13559128649324 L 53.00502512562814 55.0563308014953 L 53.321608040201 54.97707031649737 L 53.63819095477387 54.89780983149943 L 53.95477386934673 54.8185493465015 L 54.27135678391959 54.73928886150357 L 54.58793969849246 54.66002837650563 L 54.904522613065325 54.5807678915077 L 55.22110552763819 54.501507406509766 L 55.53768844221105 54.42224692151183 L 55.85427135678392 54.3429864365139 L 56.17085427135678 54.263725951515966 L 56.48743718592964 54.184465466518034 L 56.80402010050251 54.105204981520096 L 57.120603015075375 54.02594449652216 L 57.43718592964824 53.946684011524226 L 57.753768844221106 53.867423526526295 L 58.07035175879397 53.788163041528364 L 58.38693467336683 53.708902556530425 L 58.70351758793969 53.629642071532494 L 59.02010050251256 53.550381586534556 L 59.336683417085425 53.471121101536625 L 59.65326633165829 53.39186061653869 L 59.969849246231156 53.31260013154076 L 60.28643216080402 53.233339646542824 L 60.60301507537688 53.15407916154489 L 60.91959798994974 53.074818676546954 L 61.23618090452261 52.99555819154902 L 61.552763819095475 52.91629770655109 L 61.86934673366834 52.83703722155316 L 62.185929648241206 52.75777673655522 L 62.50251256281407 52.67851625155729 L 62.81909547738693 52.59925576655935 L 63.13567839195979 52.51999528156142 L 63.45226130653266 52.44073479656349 L 63.768844221105525 52.36147431156556 L 64.08542713567839 52.28221382656762 L 64.40201005025125 52.20295334156969 L 64.71859296482413 52.12369285657175 L 65.03517587939697 52.04443237157382 L 65.35175879396985 51.96517188657589 L 65.66834170854271 51.88591140157796 L 65.98492462311557 51.80665091658002 L 66.30150753768844 51.72739043158208 L 66.6180904522613 51.64812994658415 L 66.93467336683418 51.56886946158622 L 67.25125628140702 51.489608976588286 L 67.5678391959799 51.41034849159035 L 67.88442211055276 51.33108800659242 L 68.20100502512562 51.25182752159448 L 68.51758793969849 51.17256703659655 L 68.83417085427135 51.093306551598616 L 69.15075376884423 51.014046066600685 L 69.46733668341707 50.93478558160275 L 69.78391959798995 50.85552509660481 L 70.10050251256281 50.77626461160688 L 70.41708542713567 50.697004126608945 L 70.73366834170854 50.617743641611014 L 71.0502512562814 50.53848315661308 L 71.36683417085428 50.459222671615144 L 71.68341708542712 50.37996218661721 L 72.0 50.300701701619275",
          "type": "path"
         }
        ],
        "template": {
         "data": {
          "bar": [
           {
            "error_x": {
             "color": "#2a3f5f"
            },
            "error_y": {
             "color": "#2a3f5f"
            },
            "marker": {
             "line": {
              "color": "white",
              "width": 0.5
             },
             "pattern": {
              "fillmode": "overlay",
              "size": 10,
              "solidity": 0.2
             }
            },
            "type": "bar"
           }
          ],
          "barpolar": [
           {
            "marker": {
             "line": {
              "color": "white",
              "width": 0.5
             },
             "pattern": {
              "fillmode": "overlay",
              "size": 10,
              "solidity": 0.2
             }
            },
            "type": "barpolar"
           }
          ],
          "box": [
           {
            "boxpoints": "outliers",
            "notched": false,
            "type": "box"
           }
          ],
          "carpet": [
           {
            "aaxis": {
             "endlinecolor": "#2a3f5f",
             "gridcolor": "#C8D4E3",
             "linecolor": "#C8D4E3",
             "minorgridcolor": "#C8D4E3",
             "startlinecolor": "#2a3f5f"
            },
            "baxis": {
             "endlinecolor": "#2a3f5f",
             "gridcolor": "#C8D4E3",
             "linecolor": "#C8D4E3",
             "minorgridcolor": "#C8D4E3",
             "startlinecolor": "#2a3f5f"
            },
            "type": "carpet"
           }
          ],
          "choropleth": [
           {
            "colorbar": {
             "outlinewidth": 0,
             "ticks": ""
            },
            "type": "choropleth"
           }
          ],
          "contour": [
           {
            "colorbar": {
             "outlinewidth": 0,
             "ticks": ""
            },
            "colorscale": [
             [
              0,
              "#0d0887"
             ],
             [
              0.1111111111111111,
              "#46039f"
             ],
             [
              0.2222222222222222,
              "#7201a8"
             ],
             [
              0.3333333333333333,
              "#9c179e"
             ],
             [
              0.4444444444444444,
              "#bd3786"
             ],
             [
              0.5555555555555556,
              "#d8576b"
             ],
             [
              0.6666666666666666,
              "#ed7953"
             ],
             [
              0.7777777777777778,
              "#fb9f3a"
             ],
             [
              0.8888888888888888,
              "#fdca26"
             ],
             [
              1,
              "#f0f921"
             ]
            ],
            "type": "contour"
           }
          ],
          "contourcarpet": [
           {
            "colorbar": {
             "outlinewidth": 0,
             "ticks": ""
            },
            "type": "contourcarpet"
           }
          ],
          "heatmap": [
           {
            "colorbar": {
             "outlinewidth": 0,
             "ticks": ""
            },
            "colorscale": [
             [
              0,
              "#0d0887"
             ],
             [
              0.1111111111111111,
              "#46039f"
             ],
             [
              0.2222222222222222,
              "#7201a8"
             ],
             [
              0.3333333333333333,
              "#9c179e"
             ],
             [
              0.4444444444444444,
              "#bd3786"
             ],
             [
              0.5555555555555556,
              "#d8576b"
             ],
             [
              0.6666666666666666,
              "#ed7953"
             ],
             [
              0.7777777777777778,
              "#fb9f3a"
             ],
             [
              0.8888888888888888,
              "#fdca26"
             ],
             [
              1,
              "#f0f921"
             ]
            ],
            "type": "heatmap"
           }
          ],
          "heatmapgl": [
           {
            "colorbar": {
             "outlinewidth": 0,
             "ticks": ""
            },
            "colorscale": [
             [
              0,
              "#0d0887"
             ],
             [
              0.1111111111111111,
              "#46039f"
             ],
             [
              0.2222222222222222,
              "#7201a8"
             ],
             [
              0.3333333333333333,
              "#9c179e"
             ],
             [
              0.4444444444444444,
              "#bd3786"
             ],
             [
              0.5555555555555556,
              "#d8576b"
             ],
             [
              0.6666666666666666,
              "#ed7953"
             ],
             [
              0.7777777777777778,
              "#fb9f3a"
             ],
             [
              0.8888888888888888,
              "#fdca26"
             ],
             [
              1,
              "#f0f921"
             ]
            ],
            "type": "heatmapgl"
           }
          ],
          "histogram": [
           {
            "marker": {
             "line": {
              "width": 1
             },
             "pattern": {
              "fillmode": "overlay",
              "size": 10,
              "solidity": 0.2
             }
            },
            "type": "histogram"
           }
          ],
          "histogram2d": [
           {
            "colorbar": {
             "outlinewidth": 0,
             "ticks": ""
            },
            "colorscale": [
             [
              0,
              "#0d0887"
             ],
             [
              0.1111111111111111,
              "#46039f"
             ],
             [
              0.2222222222222222,
              "#7201a8"
             ],
             [
              0.3333333333333333,
              "#9c179e"
             ],
             [
              0.4444444444444444,
              "#bd3786"
             ],
             [
              0.5555555555555556,
              "#d8576b"
             ],
             [
              0.6666666666666666,
              "#ed7953"
             ],
             [
              0.7777777777777778,
              "#fb9f3a"
             ],
             [
              0.8888888888888888,
              "#fdca26"
             ],
             [
              1,
              "#f0f921"
             ]
            ],
            "type": "histogram2d"
           }
          ],
          "histogram2dcontour": [
           {
            "colorbar": {
             "outlinewidth": 0,
             "ticks": ""
            },
            "colorscale": [
             [
              0,
              "#0d0887"
             ],
             [
              0.1111111111111111,
              "#46039f"
             ],
             [
              0.2222222222222222,
              "#7201a8"
             ],
             [
              0.3333333333333333,
              "#9c179e"
             ],
             [
              0.4444444444444444,
              "#bd3786"
             ],
             [
              0.5555555555555556,
              "#d8576b"
             ],
             [
              0.6666666666666666,
              "#ed7953"
             ],
             [
              0.7777777777777778,
              "#fb9f3a"
             ],
             [
              0.8888888888888888,
              "#fdca26"
             ],
             [
              1,
              "#f0f921"
             ]
            ],
            "type": "histogram2dcontour"
           }
          ],
          "mesh3d": [
           {
            "colorbar": {
             "outlinewidth": 0,
             "ticks": ""
            },
            "type": "mesh3d"
           }
          ],
          "parcoords": [
           {
            "line": {
             "colorbar": {
              "outlinewidth": 0,
              "ticks": ""
             }
            },
            "type": "parcoords"
           }
          ],
          "pie": [
           {
            "automargin": true,
            "type": "pie"
           }
          ],
          "scatter": [
           {
            "fillpattern": {
             "fillmode": "overlay",
             "size": 10,
             "solidity": 0.2
            },
            "marker": {
             "opacity": 0.8
            },
            "type": "scatter"
           }
          ],
          "scatter3d": [
           {
            "line": {
             "colorbar": {
              "outlinewidth": 0,
              "ticks": ""
             }
            },
            "marker": {
             "colorbar": {
              "outlinewidth": 0,
              "ticks": ""
             },
             "opacity": 0.8
            },
            "type": "scatter3d"
           }
          ],
          "scattercarpet": [
           {
            "marker": {
             "colorbar": {
              "outlinewidth": 0,
              "ticks": ""
             }
            },
            "type": "scattercarpet"
           }
          ],
          "scattergeo": [
           {
            "marker": {
             "colorbar": {
              "outlinewidth": 0,
              "ticks": ""
             }
            },
            "type": "scattergeo"
           }
          ],
          "scattergl": [
           {
            "marker": {
             "colorbar": {
              "outlinewidth": 0,
              "ticks": ""
             }
            },
            "type": "scattergl"
           }
          ],
          "scattermapbox": [
           {
            "marker": {
             "colorbar": {
              "outlinewidth": 0,
              "ticks": ""
             }
            },
            "type": "scattermapbox"
           }
          ],
          "scatterpolar": [
           {
            "marker": {
             "colorbar": {
              "outlinewidth": 0,
              "ticks": ""
             }
            },
            "type": "scatterpolar"
           }
          ],
          "scatterpolargl": [
           {
            "marker": {
             "colorbar": {
              "outlinewidth": 0,
              "ticks": ""
             }
            },
            "type": "scatterpolargl"
           }
          ],
          "scatterternary": [
           {
            "marker": {
             "colorbar": {
              "outlinewidth": 0,
              "ticks": ""
             }
            },
            "type": "scatterternary"
           }
          ],
          "surface": [
           {
            "colorbar": {
             "outlinewidth": 0,
             "ticks": ""
            },
            "colorscale": [
             [
              0,
              "#0d0887"
             ],
             [
              0.1111111111111111,
              "#46039f"
             ],
             [
              0.2222222222222222,
              "#7201a8"
             ],
             [
              0.3333333333333333,
              "#9c179e"
             ],
             [
              0.4444444444444444,
              "#bd3786"
             ],
             [
              0.5555555555555556,
              "#d8576b"
             ],
             [
              0.6666666666666666,
              "#ed7953"
             ],
             [
              0.7777777777777778,
              "#fb9f3a"
             ],
             [
              0.8888888888888888,
              "#fdca26"
             ],
             [
              1,
              "#f0f921"
             ]
            ],
            "type": "surface"
           }
          ],
          "table": [
           {
            "cells": {
             "fill": {
              "color": "#EBF0F8"
             },
             "line": {
              "color": "white"
             }
            },
            "header": {
             "fill": {
              "color": "#C8D4E3"
             },
             "line": {
              "color": "white"
             }
            },
            "type": "table"
           }
          ]
         },
         "layout": {
          "annotationdefaults": {
           "arrowcolor": "#2a3f5f",
           "arrowhead": 0,
           "arrowwidth": 1
          },
          "autotypenumbers": "strict",
          "coloraxis": {
           "colorbar": {
            "outlinewidth": 0,
            "ticks": ""
           }
          },
          "colorscale": {
           "diverging": [
            [
             0,
             "#8e0152"
            ],
            [
             0.1,
             "#c51b7d"
            ],
            [
             0.2,
             "#de77ae"
            ],
            [
             0.3,
             "#f1b6da"
            ],
            [
             0.4,
             "#fde0ef"
            ],
            [
             0.5,
             "#f7f7f7"
            ],
            [
             0.6,
             "#e6f5d0"
            ],
            [
             0.7,
             "#b8e186"
            ],
            [
             0.8,
             "#7fbc41"
            ],
            [
             0.9,
             "#4d9221"
            ],
            [
             1,
             "#276419"
            ]
           ],
           "sequential": [
            [
             0,
             "#0d0887"
            ],
            [
             0.1111111111111111,
             "#46039f"
            ],
            [
             0.2222222222222222,
             "#7201a8"
            ],
            [
             0.3333333333333333,
             "#9c179e"
            ],
            [
             0.4444444444444444,
             "#bd3786"
            ],
            [
             0.5555555555555556,
             "#d8576b"
            ],
            [
             0.6666666666666666,
             "#ed7953"
            ],
            [
             0.7777777777777778,
             "#fb9f3a"
            ],
            [
             0.8888888888888888,
             "#fdca26"
            ],
            [
             1,
             "#f0f921"
            ]
           ],
           "sequentialminus": [
            [
             0,
             "#0d0887"
            ],
            [
             0.1111111111111111,
             "#46039f"
            ],
            [
             0.2222222222222222,
             "#7201a8"
            ],
            [
             0.3333333333333333,
             "#9c179e"
            ],
            [
             0.4444444444444444,
             "#bd3786"
            ],
            [
             0.5555555555555556,
             "#d8576b"
            ],
            [
             0.6666666666666666,
             "#ed7953"
            ],
            [
             0.7777777777777778,
             "#fb9f3a"
            ],
            [
             0.8888888888888888,
             "#fdca26"
            ],
            [
             1,
             "#f0f921"
            ]
           ]
          },
          "colorway": [
           "#636efa",
           "#EF553B",
           "#00cc96",
           "#ab63fa",
           "#FFA15A",
           "#19d3f3",
           "#FF6692",
           "#B6E880",
           "#FF97FF",
           "#FECB52"
          ],
          "font": {
           "color": "#2a3f5f"
          },
          "geo": {
           "bgcolor": "white",
           "lakecolor": "white",
           "landcolor": "white",
           "showlakes": true,
           "showland": true,
           "subunitcolor": "#C8D4E3"
          },
          "height": 400,
          "hoverlabel": {
           "align": "left"
          },
          "hovermode": "closest",
          "mapbox": {
           "style": "light"
          },
          "margin": {
           "b": 2,
           "l": 2,
           "r": 2,
           "t": 30
          },
          "paper_bgcolor": "white",
          "plot_bgcolor": "white",
          "polar": {
           "angularaxis": {
            "gridcolor": "#EBF0F8",
            "linecolor": "#EBF0F8",
            "ticks": ""
           },
           "bgcolor": "white",
           "radialaxis": {
            "gridcolor": "#EBF0F8",
            "linecolor": "#EBF0F8",
            "ticks": ""
           }
          },
          "scene": {
           "camera": {
            "eye": {
             "x": 1.5,
             "y": 1.5,
             "z": 0.1
            }
           },
           "xaxis": {
            "backgroundcolor": "white",
            "gridcolor": "#DFE8F3",
            "gridwidth": 2,
            "linecolor": "#EBF0F8",
            "showbackground": true,
            "ticks": "",
            "zerolinecolor": "#EBF0F8"
           },
           "yaxis": {
            "backgroundcolor": "white",
            "gridcolor": "#DFE8F3",
            "gridwidth": 2,
            "linecolor": "#EBF0F8",
            "showbackground": true,
            "ticks": "",
            "zerolinecolor": "#EBF0F8"
           },
           "zaxis": {
            "backgroundcolor": "white",
            "gridcolor": "#DFE8F3",
            "gridwidth": 2,
            "linecolor": "#EBF0F8",
            "showbackground": true,
            "ticks": "",
            "zerolinecolor": "#EBF0F8"
           }
          },
          "shapedefaults": {
           "line": {
            "color": "#2a3f5f"
           }
          },
          "ternary": {
           "aaxis": {
            "gridcolor": "#DFE8F3",
            "linecolor": "#A2B1C6",
            "ticks": ""
           },
           "baxis": {
            "gridcolor": "#DFE8F3",
            "linecolor": "#A2B1C6",
            "ticks": ""
           },
           "bgcolor": "white",
           "caxis": {
            "gridcolor": "#DFE8F3",
            "linecolor": "#A2B1C6",
            "ticks": ""
           }
          },
          "title": {
           "x": 0.5
          },
          "xaxis": {
           "automargin": true,
           "gridcolor": "#EBF0F8",
           "linecolor": "#EBF0F8",
           "linewidth": 2,
           "showline": true,
           "ticks": "",
           "title": {
            "standoff": 15
           },
           "zerolinecolor": "#EBF0F8",
           "zerolinewidth": 2
          },
          "yaxis": {
           "automargin": true,
           "gridcolor": "#EBF0F8",
           "linecolor": "#EBF0F8",
           "linewidth": 2,
           "showline": true,
           "ticks": "",
           "title": {
            "standoff": 15
           },
           "zerolinecolor": "#EBF0F8",
           "zerolinewidth": 2
          }
         }
        },
        "xaxis": {
         "anchor": "y",
         "domain": [
          0,
          1
         ],
         "title": {
          "text": "TheGoodDoctor"
         }
        },
        "yaxis": {
         "anchor": "x",
         "domain": [
          0,
          1
         ],
         "title": {
          "text": "Average"
         }
        }
       }
      }
     },
     "metadata": {},
     "output_type": "display_data"
    }
   ],
   "source": [
    "model1 = smf.ols(formula=formula, data = train).fit()\n",
    "graphing.scatter_2D(train, \"EmergencyNYC\", \"Average\", trendline = lambda x: model1.params[1] * x + model1.params[0])"
   ]
  },
  {
   "cell_type": "code",
   "execution_count": null,
   "metadata": {},
   "outputs": [
    {
     "name": "stdout",
     "output_type": "stream",
     "text": [
      "0\n",
      "0\n"
     ]
    }
   ],
   "source": [
    "print(train['Average'].isna().sum())  # Check for NaN in 'Average'\n",
    "print(train['EmergencyNYC'].isna().sum())  # Check for NaN in 'EmergencyNYC'\n"
   ]
  },
  {
   "cell_type": "code",
   "execution_count": null,
   "metadata": {},
   "outputs": [
    {
     "name": "stdout",
     "output_type": "stream",
     "text": [
      "MSE = 37.119166 \n"
     ]
    }
   ],
   "source": [
    "correct_labels = train['Average']\n",
    "predicted = model1.predict(train['EmergencyNYC'])\n",
    "\n",
    "MSE = mse(correct_labels, predicted)\n",
    "print('MSE = %f ' % MSE)"
   ]
  },
  {
   "cell_type": "code",
   "execution_count": null,
   "metadata": {},
   "outputs": [
    {
     "name": "stderr",
     "output_type": "stream",
     "text": [
      "C:\\Users\\User\\AppData\\Local\\Temp\\ipykernel_3128\\1393955676.py:1: FutureWarning:\n",
      "\n",
      "Series.__getitem__ treating keys as positions is deprecated. In a future version, integer keys will always be treated as labels (consistent with DataFrame behavior). To access a value by position, use `ser.iloc[pos]`\n",
      "\n"
     ]
    },
    {
     "data": {
      "application/vnd.plotly.v1+json": {
       "config": {
        "plotlyServerURL": "https://plot.ly"
       },
       "data": [
        {
         "hovertemplate": "TheGoodDoctor=%{x}<br>Average=%{y}<extra></extra>",
         "legendgroup": "",
         "marker": {
          "color": "#636efa",
          "size": 20,
          "symbol": "circle"
         },
         "mode": "markers",
         "name": "",
         "orientation": "v",
         "showlegend": false,
         "type": "scatter",
         "x": [
          36,
          57,
          20,
          14,
          19,
          51,
          100,
          18,
          10,
          22
         ],
         "xaxis": "x",
         "y": [
          63.08695652173913,
          55.95652173913044,
          66,
          70.17391304347827,
          59.869565217391305,
          62.34782608695652,
          61.08695652173913,
          66.47826086956522,
          73.65217391304348,
          51.21739130434783
         ],
         "yaxis": "y"
        }
       ],
       "layout": {
        "legend": {
         "tracegroupgap": 0
        },
        "shapes": [
         {
          "line": {
           "color": "rgb(228,26,28)"
          },
          "path": "M10.0 65.82317573184953 L 10.452261306532664 65.70994646756677 L 10.904522613065327 65.59671720328402 L 11.35678391959799 65.48348793900125 L 11.809045226130653 65.37025867471849 L 12.261306532663317 65.25702941043572 L 12.71356783919598 65.14380014615296 L 13.165829145728644 65.03057088187019 L 13.618090452261306 64.91734161758744 L 14.07035175879397 64.80411235330467 L 14.522613065326635 64.69088308902191 L 14.974874371859297 64.57765382473914 L 15.42713567839196 64.46442456045638 L 15.879396984924623 64.35119529617361 L 16.331658291457288 64.23796603189086 L 16.78391959798995 64.1247367676081 L 17.236180904522612 64.01150750332533 L 17.688442211055275 63.89827823904257 L 18.14070351758794 63.78504897475981 L 18.592964824120603 63.671819710477045 L 19.04522613065327 63.55859044619429 L 19.49748743718593 63.44536118191152 L 19.949748743718594 63.33213191762876 L 20.402010050251256 63.218902653346 L 20.85427135678392 63.105673389063234 L 21.30653266331658 62.99244412478047 L 21.758793969849247 62.87921486049771 L 22.21105527638191 62.765985596214946 L 22.663316582914575 62.65275633193218 L 23.115577889447238 62.53952706764942 L 23.5678391959799 62.42629780336666 L 24.020100502512562 62.3130685390839 L 24.472361809045225 62.199839274801136 L 24.92462311557789 62.08661001051837 L 25.376884422110553 61.97338074623561 L 25.82914572864322 61.86015148195285 L 26.28140703517588 61.74692221767008 L 26.733668341708544 61.633692953387325 L 27.185929648241206 61.52046368910456 L 27.63819095477387 61.407234424821795 L 28.090452261306535 61.29400516053904 L 28.542713567839197 61.18077589625627 L 28.99497487437186 61.067546631973514 L 29.44723618090452 60.95431736769075 L 29.899497487437188 60.841088103407984 L 30.35175879396985 60.727858839125226 L 30.804020100502512 60.61462957484246 L 31.256281407035175 60.501400310559696 L 31.70854271356784 60.38817104627694 L 32.1608040201005 60.27494178199417 L 32.61306532663316 60.16171251771141 L 33.06532663316583 60.04848325342865 L 33.517587939698494 59.935253989145885 L 33.969849246231156 59.82202472486313 L 34.42211055276382 59.70879546058036 L 34.87437185929649 59.5955661962976 L 35.32663316582915 59.48233693201483 L 35.77889447236181 59.369107667732074 L 36.231155778894475 59.25587840344931 L 36.68341708542714 59.14264913916655 L 37.1356783919598 59.029419874883786 L 37.58793969849246 58.91619061060102 L 38.040201005025125 58.80296134631826 L 38.49246231155779 58.6897320820355 L 38.94472361809045 58.57650281775274 L 39.39698492462311 58.463273553469975 L 39.84924623115578 58.35004428918721 L 40.301507537688444 58.236815024904445 L 40.753768844221106 58.12358576062169 L 41.20603015075377 58.01035649633892 L 41.65829145728644 57.897127232056164 L 42.11055276381909 57.7838979677734 L 42.56281407035176 57.670668703490634 L 43.015075376884425 57.557439439207876 L 43.46733668341709 57.44421017492511 L 43.91959798994975 57.33098091064235 L 44.37185929648241 57.21775164635959 L 44.824120603015075 57.10452238207682 L 45.27638190954774 56.991293117794065 L 45.7286432160804 56.8780638535113 L 46.18090452261307 56.764834589228535 L 46.63316582914573 56.65160532494578 L 47.085427135678394 56.53837606066301 L 47.537688442211056 56.42514679638025 L 47.98994974874372 56.31191753209749 L 48.44221105527638 56.198688267814724 L 48.89447236180904 56.085459003531966 L 49.34673366834171 55.9722297392492 L 49.798994974874375 55.859000474966436 L 50.25125628140704 55.74577121068367 L 50.7035175879397 55.63254194640091 L 51.15577889447236 55.51931268211815 L 51.608040201005025 55.40608341783539 L 52.06030150753769 55.292854153552625 L 52.51256281407035 55.17962488926986 L 52.96482412060302 55.0663956249871 L 53.41708542713568 54.95316636070434 L 53.869346733668344 54.83993709642158 L 54.321608040201006 54.726707832138814 L 54.77386934673367 54.61347856785605 L 55.22613065326633 54.50024930357329 L 55.678391959798994 54.387020039290526 L 56.13065326633166 54.27379077500776 L 56.582914572864325 54.160561510725 L 57.03517587939699 54.04733224644224 L 57.48743718592965 53.93410298215947 L 57.93969849246231 53.820873717876715 L 58.391959798994975 53.70764445359395 L 58.84422110552764 53.59441518931119 L 59.2964824120603 53.48118592502843 L 59.74874371859297 53.36795666074566 L 60.20100502512563 53.2547273964629 L 60.653266331658294 53.14149813218014 L 61.10552763819096 53.028268867897374 L 61.55778894472362 52.915039603614616 L 62.01005025125628 52.80181033933185 L 62.462311557788944 52.688581075049086 L 62.91457286432161 52.57535181076633 L 63.366834170854275 52.46212254648356 L 63.81909547738694 52.348893282200805 L 64.2713567839196 52.23566401791804 L 64.72361809045226 52.122434753635275 L 65.17587939698493 52.00920548935251 L 65.62814070351759 51.89597622506975 L 66.08040201005025 51.782746960786994 L 66.53266331658293 51.66951769650423 L 66.98492462311557 51.556288432221464 L 67.43718592964825 51.4430591679387 L 67.8894472361809 51.32982990365594 L 68.34170854271358 51.216600639373176 L 68.79396984924622 51.10337137509042 L 69.2462311557789 50.99014211080765 L 69.69849246231156 50.87691284652489 L 70.15075376884423 50.76368358224212 L 70.60301507537689 50.650454317959365 L 71.05527638190955 50.53722505367661 L 71.50753768844221 50.42399578939384 L 71.95979899497488 50.31076652511108 L 72.41206030150754 50.19753726082831 L 72.8643216080402 50.084307996545554 L 73.31658291457288 49.97107873226279 L 73.76884422110552 49.85784946798003 L 74.22110552763819 49.74462020369727 L 74.67336683417085 49.6313909394145 L 75.12562814070353 49.518161675131736 L 75.57788944723619 49.40493241084897 L 76.03015075376885 49.29170314656621 L 76.48241206030151 49.178473882283456 L 76.93467336683418 49.06524461800069 L 77.38693467336684 48.952015353717925 L 77.8391959798995 48.83878608943516 L 78.29145728643216 48.7255568251524 L 78.74371859296483 48.612327560869645 L 79.19597989949749 48.49909829658688 L 79.64824120603015 48.385869032304115 L 80.10050251256281 48.27263976802135 L 80.55276381909547 48.15941050373859 L 81.00502512562814 48.046181239455834 L 81.4572864321608 47.93295197517307 L 81.90954773869348 47.819722710890304 L 82.36180904522614 47.70649344660754 L 82.8140703517588 47.59326418232477 L 83.26633165829146 47.480034918042016 L 83.71859296482413 47.36680565375926 L 84.17085427135679 47.25357638947649 L 84.62311557788945 47.14034712519373 L 85.07537688442211 47.02711786091096 L 85.52763819095478 46.913888596628205 L 85.97989949748744 46.80065933234545 L 86.4321608040201 46.68743006806268 L 86.88442211055276 46.57420080377992 L 87.33668341708542 46.46097153949715 L 87.78894472361809 46.347742275214394 L 88.24120603015075 46.234513010931636 L 88.69346733668343 46.121283746648864 L 89.14572864321609 46.008054482366106 L 89.59798994974875 45.89482521808334 L 90.05025125628141 45.781595953800576 L 90.50251256281408 45.66836668951782 L 90.95477386934674 45.55513742523505 L 91.4070351758794 45.441908160952295 L 91.85929648241206 45.32867889666953 L 92.31155778894473 45.215449632386765 L 92.76381909547739 45.10222036810401 L 93.21608040201005 44.98899110382124 L 93.66834170854271 44.875761839538484 L 94.12060301507537 44.76253257525572 L 94.57286432160804 44.649303310972954 L 95.0251256281407 44.536074046690196 L 95.47738693467338 44.422844782407424 L 95.92964824120604 44.309615518124666 L 96.3819095477387 44.19638625384191 L 96.83417085427136 44.08315698955914 L 97.28643216080403 43.96992772527638 L 97.73869346733669 43.85669846099361 L 98.19095477386935 43.743469196710855 L 98.64321608040201 43.6302399324281 L 99.09547738693468 43.51701066814533 L 99.54773869346734 43.40378140386257 L 100.0 43.2905521395798",
          "type": "path"
         }
        ],
        "template": {
         "data": {
          "bar": [
           {
            "error_x": {
             "color": "#2a3f5f"
            },
            "error_y": {
             "color": "#2a3f5f"
            },
            "marker": {
             "line": {
              "color": "white",
              "width": 0.5
             },
             "pattern": {
              "fillmode": "overlay",
              "size": 10,
              "solidity": 0.2
             }
            },
            "type": "bar"
           }
          ],
          "barpolar": [
           {
            "marker": {
             "line": {
              "color": "white",
              "width": 0.5
             },
             "pattern": {
              "fillmode": "overlay",
              "size": 10,
              "solidity": 0.2
             }
            },
            "type": "barpolar"
           }
          ],
          "box": [
           {
            "boxpoints": "outliers",
            "notched": false,
            "type": "box"
           }
          ],
          "carpet": [
           {
            "aaxis": {
             "endlinecolor": "#2a3f5f",
             "gridcolor": "#C8D4E3",
             "linecolor": "#C8D4E3",
             "minorgridcolor": "#C8D4E3",
             "startlinecolor": "#2a3f5f"
            },
            "baxis": {
             "endlinecolor": "#2a3f5f",
             "gridcolor": "#C8D4E3",
             "linecolor": "#C8D4E3",
             "minorgridcolor": "#C8D4E3",
             "startlinecolor": "#2a3f5f"
            },
            "type": "carpet"
           }
          ],
          "choropleth": [
           {
            "colorbar": {
             "outlinewidth": 0,
             "ticks": ""
            },
            "type": "choropleth"
           }
          ],
          "contour": [
           {
            "colorbar": {
             "outlinewidth": 0,
             "ticks": ""
            },
            "colorscale": [
             [
              0,
              "#0d0887"
             ],
             [
              0.1111111111111111,
              "#46039f"
             ],
             [
              0.2222222222222222,
              "#7201a8"
             ],
             [
              0.3333333333333333,
              "#9c179e"
             ],
             [
              0.4444444444444444,
              "#bd3786"
             ],
             [
              0.5555555555555556,
              "#d8576b"
             ],
             [
              0.6666666666666666,
              "#ed7953"
             ],
             [
              0.7777777777777778,
              "#fb9f3a"
             ],
             [
              0.8888888888888888,
              "#fdca26"
             ],
             [
              1,
              "#f0f921"
             ]
            ],
            "type": "contour"
           }
          ],
          "contourcarpet": [
           {
            "colorbar": {
             "outlinewidth": 0,
             "ticks": ""
            },
            "type": "contourcarpet"
           }
          ],
          "heatmap": [
           {
            "colorbar": {
             "outlinewidth": 0,
             "ticks": ""
            },
            "colorscale": [
             [
              0,
              "#0d0887"
             ],
             [
              0.1111111111111111,
              "#46039f"
             ],
             [
              0.2222222222222222,
              "#7201a8"
             ],
             [
              0.3333333333333333,
              "#9c179e"
             ],
             [
              0.4444444444444444,
              "#bd3786"
             ],
             [
              0.5555555555555556,
              "#d8576b"
             ],
             [
              0.6666666666666666,
              "#ed7953"
             ],
             [
              0.7777777777777778,
              "#fb9f3a"
             ],
             [
              0.8888888888888888,
              "#fdca26"
             ],
             [
              1,
              "#f0f921"
             ]
            ],
            "type": "heatmap"
           }
          ],
          "heatmapgl": [
           {
            "colorbar": {
             "outlinewidth": 0,
             "ticks": ""
            },
            "colorscale": [
             [
              0,
              "#0d0887"
             ],
             [
              0.1111111111111111,
              "#46039f"
             ],
             [
              0.2222222222222222,
              "#7201a8"
             ],
             [
              0.3333333333333333,
              "#9c179e"
             ],
             [
              0.4444444444444444,
              "#bd3786"
             ],
             [
              0.5555555555555556,
              "#d8576b"
             ],
             [
              0.6666666666666666,
              "#ed7953"
             ],
             [
              0.7777777777777778,
              "#fb9f3a"
             ],
             [
              0.8888888888888888,
              "#fdca26"
             ],
             [
              1,
              "#f0f921"
             ]
            ],
            "type": "heatmapgl"
           }
          ],
          "histogram": [
           {
            "marker": {
             "line": {
              "width": 1
             },
             "pattern": {
              "fillmode": "overlay",
              "size": 10,
              "solidity": 0.2
             }
            },
            "type": "histogram"
           }
          ],
          "histogram2d": [
           {
            "colorbar": {
             "outlinewidth": 0,
             "ticks": ""
            },
            "colorscale": [
             [
              0,
              "#0d0887"
             ],
             [
              0.1111111111111111,
              "#46039f"
             ],
             [
              0.2222222222222222,
              "#7201a8"
             ],
             [
              0.3333333333333333,
              "#9c179e"
             ],
             [
              0.4444444444444444,
              "#bd3786"
             ],
             [
              0.5555555555555556,
              "#d8576b"
             ],
             [
              0.6666666666666666,
              "#ed7953"
             ],
             [
              0.7777777777777778,
              "#fb9f3a"
             ],
             [
              0.8888888888888888,
              "#fdca26"
             ],
             [
              1,
              "#f0f921"
             ]
            ],
            "type": "histogram2d"
           }
          ],
          "histogram2dcontour": [
           {
            "colorbar": {
             "outlinewidth": 0,
             "ticks": ""
            },
            "colorscale": [
             [
              0,
              "#0d0887"
             ],
             [
              0.1111111111111111,
              "#46039f"
             ],
             [
              0.2222222222222222,
              "#7201a8"
             ],
             [
              0.3333333333333333,
              "#9c179e"
             ],
             [
              0.4444444444444444,
              "#bd3786"
             ],
             [
              0.5555555555555556,
              "#d8576b"
             ],
             [
              0.6666666666666666,
              "#ed7953"
             ],
             [
              0.7777777777777778,
              "#fb9f3a"
             ],
             [
              0.8888888888888888,
              "#fdca26"
             ],
             [
              1,
              "#f0f921"
             ]
            ],
            "type": "histogram2dcontour"
           }
          ],
          "mesh3d": [
           {
            "colorbar": {
             "outlinewidth": 0,
             "ticks": ""
            },
            "type": "mesh3d"
           }
          ],
          "parcoords": [
           {
            "line": {
             "colorbar": {
              "outlinewidth": 0,
              "ticks": ""
             }
            },
            "type": "parcoords"
           }
          ],
          "pie": [
           {
            "automargin": true,
            "type": "pie"
           }
          ],
          "scatter": [
           {
            "fillpattern": {
             "fillmode": "overlay",
             "size": 10,
             "solidity": 0.2
            },
            "marker": {
             "opacity": 0.8
            },
            "type": "scatter"
           }
          ],
          "scatter3d": [
           {
            "line": {
             "colorbar": {
              "outlinewidth": 0,
              "ticks": ""
             }
            },
            "marker": {
             "colorbar": {
              "outlinewidth": 0,
              "ticks": ""
             },
             "opacity": 0.8
            },
            "type": "scatter3d"
           }
          ],
          "scattercarpet": [
           {
            "marker": {
             "colorbar": {
              "outlinewidth": 0,
              "ticks": ""
             }
            },
            "type": "scattercarpet"
           }
          ],
          "scattergeo": [
           {
            "marker": {
             "colorbar": {
              "outlinewidth": 0,
              "ticks": ""
             }
            },
            "type": "scattergeo"
           }
          ],
          "scattergl": [
           {
            "marker": {
             "colorbar": {
              "outlinewidth": 0,
              "ticks": ""
             }
            },
            "type": "scattergl"
           }
          ],
          "scattermapbox": [
           {
            "marker": {
             "colorbar": {
              "outlinewidth": 0,
              "ticks": ""
             }
            },
            "type": "scattermapbox"
           }
          ],
          "scatterpolar": [
           {
            "marker": {
             "colorbar": {
              "outlinewidth": 0,
              "ticks": ""
             }
            },
            "type": "scatterpolar"
           }
          ],
          "scatterpolargl": [
           {
            "marker": {
             "colorbar": {
              "outlinewidth": 0,
              "ticks": ""
             }
            },
            "type": "scatterpolargl"
           }
          ],
          "scatterternary": [
           {
            "marker": {
             "colorbar": {
              "outlinewidth": 0,
              "ticks": ""
             }
            },
            "type": "scatterternary"
           }
          ],
          "surface": [
           {
            "colorbar": {
             "outlinewidth": 0,
             "ticks": ""
            },
            "colorscale": [
             [
              0,
              "#0d0887"
             ],
             [
              0.1111111111111111,
              "#46039f"
             ],
             [
              0.2222222222222222,
              "#7201a8"
             ],
             [
              0.3333333333333333,
              "#9c179e"
             ],
             [
              0.4444444444444444,
              "#bd3786"
             ],
             [
              0.5555555555555556,
              "#d8576b"
             ],
             [
              0.6666666666666666,
              "#ed7953"
             ],
             [
              0.7777777777777778,
              "#fb9f3a"
             ],
             [
              0.8888888888888888,
              "#fdca26"
             ],
             [
              1,
              "#f0f921"
             ]
            ],
            "type": "surface"
           }
          ],
          "table": [
           {
            "cells": {
             "fill": {
              "color": "#EBF0F8"
             },
             "line": {
              "color": "white"
             }
            },
            "header": {
             "fill": {
              "color": "#C8D4E3"
             },
             "line": {
              "color": "white"
             }
            },
            "type": "table"
           }
          ]
         },
         "layout": {
          "annotationdefaults": {
           "arrowcolor": "#2a3f5f",
           "arrowhead": 0,
           "arrowwidth": 1
          },
          "autotypenumbers": "strict",
          "coloraxis": {
           "colorbar": {
            "outlinewidth": 0,
            "ticks": ""
           }
          },
          "colorscale": {
           "diverging": [
            [
             0,
             "#8e0152"
            ],
            [
             0.1,
             "#c51b7d"
            ],
            [
             0.2,
             "#de77ae"
            ],
            [
             0.3,
             "#f1b6da"
            ],
            [
             0.4,
             "#fde0ef"
            ],
            [
             0.5,
             "#f7f7f7"
            ],
            [
             0.6,
             "#e6f5d0"
            ],
            [
             0.7,
             "#b8e186"
            ],
            [
             0.8,
             "#7fbc41"
            ],
            [
             0.9,
             "#4d9221"
            ],
            [
             1,
             "#276419"
            ]
           ],
           "sequential": [
            [
             0,
             "#0d0887"
            ],
            [
             0.1111111111111111,
             "#46039f"
            ],
            [
             0.2222222222222222,
             "#7201a8"
            ],
            [
             0.3333333333333333,
             "#9c179e"
            ],
            [
             0.4444444444444444,
             "#bd3786"
            ],
            [
             0.5555555555555556,
             "#d8576b"
            ],
            [
             0.6666666666666666,
             "#ed7953"
            ],
            [
             0.7777777777777778,
             "#fb9f3a"
            ],
            [
             0.8888888888888888,
             "#fdca26"
            ],
            [
             1,
             "#f0f921"
            ]
           ],
           "sequentialminus": [
            [
             0,
             "#0d0887"
            ],
            [
             0.1111111111111111,
             "#46039f"
            ],
            [
             0.2222222222222222,
             "#7201a8"
            ],
            [
             0.3333333333333333,
             "#9c179e"
            ],
            [
             0.4444444444444444,
             "#bd3786"
            ],
            [
             0.5555555555555556,
             "#d8576b"
            ],
            [
             0.6666666666666666,
             "#ed7953"
            ],
            [
             0.7777777777777778,
             "#fb9f3a"
            ],
            [
             0.8888888888888888,
             "#fdca26"
            ],
            [
             1,
             "#f0f921"
            ]
           ]
          },
          "colorway": [
           "#636efa",
           "#EF553B",
           "#00cc96",
           "#ab63fa",
           "#FFA15A",
           "#19d3f3",
           "#FF6692",
           "#B6E880",
           "#FF97FF",
           "#FECB52"
          ],
          "font": {
           "color": "#2a3f5f"
          },
          "geo": {
           "bgcolor": "white",
           "lakecolor": "white",
           "landcolor": "white",
           "showlakes": true,
           "showland": true,
           "subunitcolor": "#C8D4E3"
          },
          "height": 400,
          "hoverlabel": {
           "align": "left"
          },
          "hovermode": "closest",
          "mapbox": {
           "style": "light"
          },
          "margin": {
           "b": 2,
           "l": 2,
           "r": 2,
           "t": 30
          },
          "paper_bgcolor": "white",
          "plot_bgcolor": "white",
          "polar": {
           "angularaxis": {
            "gridcolor": "#EBF0F8",
            "linecolor": "#EBF0F8",
            "ticks": ""
           },
           "bgcolor": "white",
           "radialaxis": {
            "gridcolor": "#EBF0F8",
            "linecolor": "#EBF0F8",
            "ticks": ""
           }
          },
          "scene": {
           "camera": {
            "eye": {
             "x": 1.5,
             "y": 1.5,
             "z": 0.1
            }
           },
           "xaxis": {
            "backgroundcolor": "white",
            "gridcolor": "#DFE8F3",
            "gridwidth": 2,
            "linecolor": "#EBF0F8",
            "showbackground": true,
            "ticks": "",
            "zerolinecolor": "#EBF0F8"
           },
           "yaxis": {
            "backgroundcolor": "white",
            "gridcolor": "#DFE8F3",
            "gridwidth": 2,
            "linecolor": "#EBF0F8",
            "showbackground": true,
            "ticks": "",
            "zerolinecolor": "#EBF0F8"
           },
           "zaxis": {
            "backgroundcolor": "white",
            "gridcolor": "#DFE8F3",
            "gridwidth": 2,
            "linecolor": "#EBF0F8",
            "showbackground": true,
            "ticks": "",
            "zerolinecolor": "#EBF0F8"
           }
          },
          "shapedefaults": {
           "line": {
            "color": "#2a3f5f"
           }
          },
          "ternary": {
           "aaxis": {
            "gridcolor": "#DFE8F3",
            "linecolor": "#A2B1C6",
            "ticks": ""
           },
           "baxis": {
            "gridcolor": "#DFE8F3",
            "linecolor": "#A2B1C6",
            "ticks": ""
           },
           "bgcolor": "white",
           "caxis": {
            "gridcolor": "#DFE8F3",
            "linecolor": "#A2B1C6",
            "ticks": ""
           }
          },
          "title": {
           "x": 0.5
          },
          "xaxis": {
           "automargin": true,
           "gridcolor": "#EBF0F8",
           "linecolor": "#EBF0F8",
           "linewidth": 2,
           "showline": true,
           "ticks": "",
           "title": {
            "standoff": 15
           },
           "zerolinecolor": "#EBF0F8",
           "zerolinewidth": 2
          },
          "yaxis": {
           "automargin": true,
           "gridcolor": "#EBF0F8",
           "linecolor": "#EBF0F8",
           "linewidth": 2,
           "showline": true,
           "ticks": "",
           "title": {
            "standoff": 15
           },
           "zerolinecolor": "#EBF0F8",
           "zerolinewidth": 2
          }
         }
        },
        "xaxis": {
         "anchor": "y",
         "domain": [
          0,
          1
         ],
         "title": {
          "text": "TheGoodDoctor"
         }
        },
        "yaxis": {
         "anchor": "x",
         "domain": [
          0,
          1
         ],
         "title": {
          "text": "Average"
         }
        }
       }
      }
     },
     "metadata": {},
     "output_type": "display_data"
    }
   ],
   "source": [
    "graphing.scatter_2D(test, \"EmergencyNYC\", \"Average\", trendline = lambda x: model1.params[1] * x + model1.params[0])"
   ]
  },
  {
   "cell_type": "code",
   "execution_count": null,
   "metadata": {},
   "outputs": [
    {
     "name": "stdout",
     "output_type": "stream",
     "text": [
      "MSE = 63.313269 \n"
     ]
    }
   ],
   "source": [
    "# We use the in-buit sklearn function to calculate the MSE\n",
    "correct_labels = test['Average']\n",
    "predicted = model1.predict(test['EmergencyNYC'])\n",
    "\n",
    "MSE = mse(correct_labels, predicted)\n",
    "print('MSE = %f ' % MSE)"
   ]
  },
  {
   "cell_type": "code",
   "execution_count": null,
   "metadata": {},
   "outputs": [
    {
     "data": {
      "application/vnd.plotly.v1+json": {
       "config": {
        "plotlyServerURL": "https://plot.ly"
       },
       "data": [
        {
         "hovertemplate": "Set=train<br>TheGoodDoctor=%{x}<br>Average=%{y}<extra></extra>",
         "legendgroup": "train",
         "marker": {
          "color": "#636efa",
          "size": 19,
          "symbol": "circle"
         },
         "mode": "markers",
         "name": "train",
         "orientation": "v",
         "showlegend": true,
         "type": "scatter",
         "x": [
          100,
          61,
          13,
          48,
          33,
          20,
          39,
          9,
          18,
          36,
          47,
          72,
          10,
          22,
          42
         ],
         "xaxis": "x",
         "y": [
          61.08695652173913,
          56.21739130434783,
          72.17391304347827,
          47.69565217391305,
          68.30434782608695,
          66,
          56.43478260869565,
          70.69565217391305,
          66.47826086956522,
          49.391304347826086,
          55.30434782608695,
          50.78260869565217,
          73.65217391304348,
          51.21739130434783,
          54.30434782608695
         ],
         "yaxis": "y"
        },
        {
         "hovertemplate": "Set=test<br>TheGoodDoctor=%{x}<br>Average=%{y}<extra></extra>",
         "legendgroup": "test",
         "marker": {
          "color": "#EF553B",
          "size": 19,
          "symbol": "circle"
         },
         "mode": "markers",
         "name": "test",
         "orientation": "v",
         "showlegend": true,
         "type": "scatter",
         "x": [
          10,
          49,
          23,
          41,
          35,
          51,
          9,
          14,
          19,
          57,
          68,
          36,
          66,
          24,
          34,
          32
         ],
         "xaxis": "x",
         "y": [
          60.56521739130435,
          49.130434782608695,
          58.43478260869565,
          60.30434782608695,
          59.17391304347826,
          62.34782608695652,
          76.04347826086956,
          70.17391304347827,
          59.869565217391305,
          55.95652173913044,
          57.34782608695652,
          63.08695652173913,
          61.60869565217392,
          60.73913043478261,
          49.73913043478261,
          62.43478260869565
         ],
         "yaxis": "y"
        }
       ],
       "layout": {
        "legend": {
         "title": {
          "text": "Set"
         },
         "tracegroupgap": 0
        },
        "template": {
         "data": {
          "bar": [
           {
            "error_x": {
             "color": "#2a3f5f"
            },
            "error_y": {
             "color": "#2a3f5f"
            },
            "marker": {
             "line": {
              "color": "white",
              "width": 0.5
             },
             "pattern": {
              "fillmode": "overlay",
              "size": 10,
              "solidity": 0.2
             }
            },
            "type": "bar"
           }
          ],
          "barpolar": [
           {
            "marker": {
             "line": {
              "color": "white",
              "width": 0.5
             },
             "pattern": {
              "fillmode": "overlay",
              "size": 10,
              "solidity": 0.2
             }
            },
            "type": "barpolar"
           }
          ],
          "box": [
           {
            "boxpoints": "outliers",
            "notched": false,
            "type": "box"
           }
          ],
          "carpet": [
           {
            "aaxis": {
             "endlinecolor": "#2a3f5f",
             "gridcolor": "#C8D4E3",
             "linecolor": "#C8D4E3",
             "minorgridcolor": "#C8D4E3",
             "startlinecolor": "#2a3f5f"
            },
            "baxis": {
             "endlinecolor": "#2a3f5f",
             "gridcolor": "#C8D4E3",
             "linecolor": "#C8D4E3",
             "minorgridcolor": "#C8D4E3",
             "startlinecolor": "#2a3f5f"
            },
            "type": "carpet"
           }
          ],
          "choropleth": [
           {
            "colorbar": {
             "outlinewidth": 0,
             "ticks": ""
            },
            "type": "choropleth"
           }
          ],
          "contour": [
           {
            "colorbar": {
             "outlinewidth": 0,
             "ticks": ""
            },
            "colorscale": [
             [
              0,
              "#0d0887"
             ],
             [
              0.1111111111111111,
              "#46039f"
             ],
             [
              0.2222222222222222,
              "#7201a8"
             ],
             [
              0.3333333333333333,
              "#9c179e"
             ],
             [
              0.4444444444444444,
              "#bd3786"
             ],
             [
              0.5555555555555556,
              "#d8576b"
             ],
             [
              0.6666666666666666,
              "#ed7953"
             ],
             [
              0.7777777777777778,
              "#fb9f3a"
             ],
             [
              0.8888888888888888,
              "#fdca26"
             ],
             [
              1,
              "#f0f921"
             ]
            ],
            "type": "contour"
           }
          ],
          "contourcarpet": [
           {
            "colorbar": {
             "outlinewidth": 0,
             "ticks": ""
            },
            "type": "contourcarpet"
           }
          ],
          "heatmap": [
           {
            "colorbar": {
             "outlinewidth": 0,
             "ticks": ""
            },
            "colorscale": [
             [
              0,
              "#0d0887"
             ],
             [
              0.1111111111111111,
              "#46039f"
             ],
             [
              0.2222222222222222,
              "#7201a8"
             ],
             [
              0.3333333333333333,
              "#9c179e"
             ],
             [
              0.4444444444444444,
              "#bd3786"
             ],
             [
              0.5555555555555556,
              "#d8576b"
             ],
             [
              0.6666666666666666,
              "#ed7953"
             ],
             [
              0.7777777777777778,
              "#fb9f3a"
             ],
             [
              0.8888888888888888,
              "#fdca26"
             ],
             [
              1,
              "#f0f921"
             ]
            ],
            "type": "heatmap"
           }
          ],
          "heatmapgl": [
           {
            "colorbar": {
             "outlinewidth": 0,
             "ticks": ""
            },
            "colorscale": [
             [
              0,
              "#0d0887"
             ],
             [
              0.1111111111111111,
              "#46039f"
             ],
             [
              0.2222222222222222,
              "#7201a8"
             ],
             [
              0.3333333333333333,
              "#9c179e"
             ],
             [
              0.4444444444444444,
              "#bd3786"
             ],
             [
              0.5555555555555556,
              "#d8576b"
             ],
             [
              0.6666666666666666,
              "#ed7953"
             ],
             [
              0.7777777777777778,
              "#fb9f3a"
             ],
             [
              0.8888888888888888,
              "#fdca26"
             ],
             [
              1,
              "#f0f921"
             ]
            ],
            "type": "heatmapgl"
           }
          ],
          "histogram": [
           {
            "marker": {
             "line": {
              "width": 1
             },
             "pattern": {
              "fillmode": "overlay",
              "size": 10,
              "solidity": 0.2
             }
            },
            "type": "histogram"
           }
          ],
          "histogram2d": [
           {
            "colorbar": {
             "outlinewidth": 0,
             "ticks": ""
            },
            "colorscale": [
             [
              0,
              "#0d0887"
             ],
             [
              0.1111111111111111,
              "#46039f"
             ],
             [
              0.2222222222222222,
              "#7201a8"
             ],
             [
              0.3333333333333333,
              "#9c179e"
             ],
             [
              0.4444444444444444,
              "#bd3786"
             ],
             [
              0.5555555555555556,
              "#d8576b"
             ],
             [
              0.6666666666666666,
              "#ed7953"
             ],
             [
              0.7777777777777778,
              "#fb9f3a"
             ],
             [
              0.8888888888888888,
              "#fdca26"
             ],
             [
              1,
              "#f0f921"
             ]
            ],
            "type": "histogram2d"
           }
          ],
          "histogram2dcontour": [
           {
            "colorbar": {
             "outlinewidth": 0,
             "ticks": ""
            },
            "colorscale": [
             [
              0,
              "#0d0887"
             ],
             [
              0.1111111111111111,
              "#46039f"
             ],
             [
              0.2222222222222222,
              "#7201a8"
             ],
             [
              0.3333333333333333,
              "#9c179e"
             ],
             [
              0.4444444444444444,
              "#bd3786"
             ],
             [
              0.5555555555555556,
              "#d8576b"
             ],
             [
              0.6666666666666666,
              "#ed7953"
             ],
             [
              0.7777777777777778,
              "#fb9f3a"
             ],
             [
              0.8888888888888888,
              "#fdca26"
             ],
             [
              1,
              "#f0f921"
             ]
            ],
            "type": "histogram2dcontour"
           }
          ],
          "mesh3d": [
           {
            "colorbar": {
             "outlinewidth": 0,
             "ticks": ""
            },
            "type": "mesh3d"
           }
          ],
          "parcoords": [
           {
            "line": {
             "colorbar": {
              "outlinewidth": 0,
              "ticks": ""
             }
            },
            "type": "parcoords"
           }
          ],
          "pie": [
           {
            "automargin": true,
            "type": "pie"
           }
          ],
          "scatter": [
           {
            "fillpattern": {
             "fillmode": "overlay",
             "size": 10,
             "solidity": 0.2
            },
            "marker": {
             "opacity": 0.8
            },
            "type": "scatter"
           }
          ],
          "scatter3d": [
           {
            "line": {
             "colorbar": {
              "outlinewidth": 0,
              "ticks": ""
             }
            },
            "marker": {
             "colorbar": {
              "outlinewidth": 0,
              "ticks": ""
             },
             "opacity": 0.8
            },
            "type": "scatter3d"
           }
          ],
          "scattercarpet": [
           {
            "marker": {
             "colorbar": {
              "outlinewidth": 0,
              "ticks": ""
             }
            },
            "type": "scattercarpet"
           }
          ],
          "scattergeo": [
           {
            "marker": {
             "colorbar": {
              "outlinewidth": 0,
              "ticks": ""
             }
            },
            "type": "scattergeo"
           }
          ],
          "scattergl": [
           {
            "marker": {
             "colorbar": {
              "outlinewidth": 0,
              "ticks": ""
             }
            },
            "type": "scattergl"
           }
          ],
          "scattermapbox": [
           {
            "marker": {
             "colorbar": {
              "outlinewidth": 0,
              "ticks": ""
             }
            },
            "type": "scattermapbox"
           }
          ],
          "scatterpolar": [
           {
            "marker": {
             "colorbar": {
              "outlinewidth": 0,
              "ticks": ""
             }
            },
            "type": "scatterpolar"
           }
          ],
          "scatterpolargl": [
           {
            "marker": {
             "colorbar": {
              "outlinewidth": 0,
              "ticks": ""
             }
            },
            "type": "scatterpolargl"
           }
          ],
          "scatterternary": [
           {
            "marker": {
             "colorbar": {
              "outlinewidth": 0,
              "ticks": ""
             }
            },
            "type": "scatterternary"
           }
          ],
          "surface": [
           {
            "colorbar": {
             "outlinewidth": 0,
             "ticks": ""
            },
            "colorscale": [
             [
              0,
              "#0d0887"
             ],
             [
              0.1111111111111111,
              "#46039f"
             ],
             [
              0.2222222222222222,
              "#7201a8"
             ],
             [
              0.3333333333333333,
              "#9c179e"
             ],
             [
              0.4444444444444444,
              "#bd3786"
             ],
             [
              0.5555555555555556,
              "#d8576b"
             ],
             [
              0.6666666666666666,
              "#ed7953"
             ],
             [
              0.7777777777777778,
              "#fb9f3a"
             ],
             [
              0.8888888888888888,
              "#fdca26"
             ],
             [
              1,
              "#f0f921"
             ]
            ],
            "type": "surface"
           }
          ],
          "table": [
           {
            "cells": {
             "fill": {
              "color": "#EBF0F8"
             },
             "line": {
              "color": "white"
             }
            },
            "header": {
             "fill": {
              "color": "#C8D4E3"
             },
             "line": {
              "color": "white"
             }
            },
            "type": "table"
           }
          ]
         },
         "layout": {
          "annotationdefaults": {
           "arrowcolor": "#2a3f5f",
           "arrowhead": 0,
           "arrowwidth": 1
          },
          "autotypenumbers": "strict",
          "coloraxis": {
           "colorbar": {
            "outlinewidth": 0,
            "ticks": ""
           }
          },
          "colorscale": {
           "diverging": [
            [
             0,
             "#8e0152"
            ],
            [
             0.1,
             "#c51b7d"
            ],
            [
             0.2,
             "#de77ae"
            ],
            [
             0.3,
             "#f1b6da"
            ],
            [
             0.4,
             "#fde0ef"
            ],
            [
             0.5,
             "#f7f7f7"
            ],
            [
             0.6,
             "#e6f5d0"
            ],
            [
             0.7,
             "#b8e186"
            ],
            [
             0.8,
             "#7fbc41"
            ],
            [
             0.9,
             "#4d9221"
            ],
            [
             1,
             "#276419"
            ]
           ],
           "sequential": [
            [
             0,
             "#0d0887"
            ],
            [
             0.1111111111111111,
             "#46039f"
            ],
            [
             0.2222222222222222,
             "#7201a8"
            ],
            [
             0.3333333333333333,
             "#9c179e"
            ],
            [
             0.4444444444444444,
             "#bd3786"
            ],
            [
             0.5555555555555556,
             "#d8576b"
            ],
            [
             0.6666666666666666,
             "#ed7953"
            ],
            [
             0.7777777777777778,
             "#fb9f3a"
            ],
            [
             0.8888888888888888,
             "#fdca26"
            ],
            [
             1,
             "#f0f921"
            ]
           ],
           "sequentialminus": [
            [
             0,
             "#0d0887"
            ],
            [
             0.1111111111111111,
             "#46039f"
            ],
            [
             0.2222222222222222,
             "#7201a8"
            ],
            [
             0.3333333333333333,
             "#9c179e"
            ],
            [
             0.4444444444444444,
             "#bd3786"
            ],
            [
             0.5555555555555556,
             "#d8576b"
            ],
            [
             0.6666666666666666,
             "#ed7953"
            ],
            [
             0.7777777777777778,
             "#fb9f3a"
            ],
            [
             0.8888888888888888,
             "#fdca26"
            ],
            [
             1,
             "#f0f921"
            ]
           ]
          },
          "colorway": [
           "#636efa",
           "#EF553B",
           "#00cc96",
           "#ab63fa",
           "#FFA15A",
           "#19d3f3",
           "#FF6692",
           "#B6E880",
           "#FF97FF",
           "#FECB52"
          ],
          "font": {
           "color": "#2a3f5f"
          },
          "geo": {
           "bgcolor": "white",
           "lakecolor": "white",
           "landcolor": "white",
           "showlakes": true,
           "showland": true,
           "subunitcolor": "#C8D4E3"
          },
          "height": 400,
          "hoverlabel": {
           "align": "left"
          },
          "hovermode": "closest",
          "mapbox": {
           "style": "light"
          },
          "margin": {
           "b": 2,
           "l": 2,
           "r": 2,
           "t": 30
          },
          "paper_bgcolor": "white",
          "plot_bgcolor": "white",
          "polar": {
           "angularaxis": {
            "gridcolor": "#EBF0F8",
            "linecolor": "#EBF0F8",
            "ticks": ""
           },
           "bgcolor": "white",
           "radialaxis": {
            "gridcolor": "#EBF0F8",
            "linecolor": "#EBF0F8",
            "ticks": ""
           }
          },
          "scene": {
           "camera": {
            "eye": {
             "x": 1.5,
             "y": 1.5,
             "z": 0.1
            }
           },
           "xaxis": {
            "backgroundcolor": "white",
            "gridcolor": "#DFE8F3",
            "gridwidth": 2,
            "linecolor": "#EBF0F8",
            "showbackground": true,
            "ticks": "",
            "zerolinecolor": "#EBF0F8"
           },
           "yaxis": {
            "backgroundcolor": "white",
            "gridcolor": "#DFE8F3",
            "gridwidth": 2,
            "linecolor": "#EBF0F8",
            "showbackground": true,
            "ticks": "",
            "zerolinecolor": "#EBF0F8"
           },
           "zaxis": {
            "backgroundcolor": "white",
            "gridcolor": "#DFE8F3",
            "gridwidth": 2,
            "linecolor": "#EBF0F8",
            "showbackground": true,
            "ticks": "",
            "zerolinecolor": "#EBF0F8"
           }
          },
          "shapedefaults": {
           "line": {
            "color": "#2a3f5f"
           }
          },
          "ternary": {
           "aaxis": {
            "gridcolor": "#DFE8F3",
            "linecolor": "#A2B1C6",
            "ticks": ""
           },
           "baxis": {
            "gridcolor": "#DFE8F3",
            "linecolor": "#A2B1C6",
            "ticks": ""
           },
           "bgcolor": "white",
           "caxis": {
            "gridcolor": "#DFE8F3",
            "linecolor": "#A2B1C6",
            "ticks": ""
           }
          },
          "title": {
           "x": 0.5
          },
          "xaxis": {
           "automargin": true,
           "gridcolor": "#EBF0F8",
           "linecolor": "#EBF0F8",
           "linewidth": 2,
           "showline": true,
           "ticks": "",
           "title": {
            "standoff": 15
           },
           "zerolinecolor": "#EBF0F8",
           "zerolinewidth": 2
          },
          "yaxis": {
           "automargin": true,
           "gridcolor": "#EBF0F8",
           "linecolor": "#EBF0F8",
           "linewidth": 2,
           "showline": true,
           "ticks": "",
           "title": {
            "standoff": 15
           },
           "zerolinecolor": "#EBF0F8",
           "zerolinewidth": 2
          }
         }
        },
        "title": {
         "text": "50:50 split"
        },
        "xaxis": {
         "anchor": "y",
         "domain": [
          0,
          1
         ],
         "title": {
          "text": "TheGoodDoctor"
         }
        },
        "yaxis": {
         "anchor": "x",
         "domain": [
          0,
          1
         ],
         "title": {
          "text": "Average"
         }
        }
       }
      }
     },
     "metadata": {},
     "output_type": "display_data"
    },
    {
     "data": {
      "application/vnd.plotly.v1+json": {
       "config": {
        "plotlyServerURL": "https://plot.ly"
       },
       "data": [
        {
         "hovertemplate": "Set=train<br>TheGoodDoctor=%{x}<br>Average=%{y}<extra></extra>",
         "legendgroup": "train",
         "marker": {
          "color": "#636efa",
          "size": 19,
          "symbol": "circle"
         },
         "mode": "markers",
         "name": "train",
         "orientation": "v",
         "showlegend": true,
         "type": "scatter",
         "x": [
          24,
          34,
          32,
          100,
          61,
          13,
          48,
          33,
          20,
          39,
          9,
          18,
          36,
          47,
          72,
          10,
          22,
          42
         ],
         "xaxis": "x",
         "y": [
          60.73913043478261,
          49.73913043478261,
          62.43478260869565,
          61.08695652173913,
          56.21739130434783,
          72.17391304347827,
          47.69565217391305,
          68.30434782608695,
          66,
          56.43478260869565,
          70.69565217391305,
          66.47826086956522,
          49.391304347826086,
          55.30434782608695,
          50.78260869565217,
          73.65217391304348,
          51.21739130434783,
          54.30434782608695
         ],
         "yaxis": "y"
        },
        {
         "hovertemplate": "Set=test<br>TheGoodDoctor=%{x}<br>Average=%{y}<extra></extra>",
         "legendgroup": "test",
         "marker": {
          "color": "#EF553B",
          "size": 19,
          "symbol": "circle"
         },
         "mode": "markers",
         "name": "test",
         "orientation": "v",
         "showlegend": true,
         "type": "scatter",
         "x": [
          10,
          49,
          23,
          41,
          35,
          51,
          9,
          14,
          19,
          57,
          68,
          36,
          66
         ],
         "xaxis": "x",
         "y": [
          60.56521739130435,
          49.130434782608695,
          58.43478260869565,
          60.30434782608695,
          59.17391304347826,
          62.34782608695652,
          76.04347826086956,
          70.17391304347827,
          59.869565217391305,
          55.95652173913044,
          57.34782608695652,
          63.08695652173913,
          61.60869565217392
         ],
         "yaxis": "y"
        }
       ],
       "layout": {
        "legend": {
         "title": {
          "text": "Set"
         },
         "tracegroupgap": 0
        },
        "template": {
         "data": {
          "bar": [
           {
            "error_x": {
             "color": "#2a3f5f"
            },
            "error_y": {
             "color": "#2a3f5f"
            },
            "marker": {
             "line": {
              "color": "white",
              "width": 0.5
             },
             "pattern": {
              "fillmode": "overlay",
              "size": 10,
              "solidity": 0.2
             }
            },
            "type": "bar"
           }
          ],
          "barpolar": [
           {
            "marker": {
             "line": {
              "color": "white",
              "width": 0.5
             },
             "pattern": {
              "fillmode": "overlay",
              "size": 10,
              "solidity": 0.2
             }
            },
            "type": "barpolar"
           }
          ],
          "box": [
           {
            "boxpoints": "outliers",
            "notched": false,
            "type": "box"
           }
          ],
          "carpet": [
           {
            "aaxis": {
             "endlinecolor": "#2a3f5f",
             "gridcolor": "#C8D4E3",
             "linecolor": "#C8D4E3",
             "minorgridcolor": "#C8D4E3",
             "startlinecolor": "#2a3f5f"
            },
            "baxis": {
             "endlinecolor": "#2a3f5f",
             "gridcolor": "#C8D4E3",
             "linecolor": "#C8D4E3",
             "minorgridcolor": "#C8D4E3",
             "startlinecolor": "#2a3f5f"
            },
            "type": "carpet"
           }
          ],
          "choropleth": [
           {
            "colorbar": {
             "outlinewidth": 0,
             "ticks": ""
            },
            "type": "choropleth"
           }
          ],
          "contour": [
           {
            "colorbar": {
             "outlinewidth": 0,
             "ticks": ""
            },
            "colorscale": [
             [
              0,
              "#0d0887"
             ],
             [
              0.1111111111111111,
              "#46039f"
             ],
             [
              0.2222222222222222,
              "#7201a8"
             ],
             [
              0.3333333333333333,
              "#9c179e"
             ],
             [
              0.4444444444444444,
              "#bd3786"
             ],
             [
              0.5555555555555556,
              "#d8576b"
             ],
             [
              0.6666666666666666,
              "#ed7953"
             ],
             [
              0.7777777777777778,
              "#fb9f3a"
             ],
             [
              0.8888888888888888,
              "#fdca26"
             ],
             [
              1,
              "#f0f921"
             ]
            ],
            "type": "contour"
           }
          ],
          "contourcarpet": [
           {
            "colorbar": {
             "outlinewidth": 0,
             "ticks": ""
            },
            "type": "contourcarpet"
           }
          ],
          "heatmap": [
           {
            "colorbar": {
             "outlinewidth": 0,
             "ticks": ""
            },
            "colorscale": [
             [
              0,
              "#0d0887"
             ],
             [
              0.1111111111111111,
              "#46039f"
             ],
             [
              0.2222222222222222,
              "#7201a8"
             ],
             [
              0.3333333333333333,
              "#9c179e"
             ],
             [
              0.4444444444444444,
              "#bd3786"
             ],
             [
              0.5555555555555556,
              "#d8576b"
             ],
             [
              0.6666666666666666,
              "#ed7953"
             ],
             [
              0.7777777777777778,
              "#fb9f3a"
             ],
             [
              0.8888888888888888,
              "#fdca26"
             ],
             [
              1,
              "#f0f921"
             ]
            ],
            "type": "heatmap"
           }
          ],
          "heatmapgl": [
           {
            "colorbar": {
             "outlinewidth": 0,
             "ticks": ""
            },
            "colorscale": [
             [
              0,
              "#0d0887"
             ],
             [
              0.1111111111111111,
              "#46039f"
             ],
             [
              0.2222222222222222,
              "#7201a8"
             ],
             [
              0.3333333333333333,
              "#9c179e"
             ],
             [
              0.4444444444444444,
              "#bd3786"
             ],
             [
              0.5555555555555556,
              "#d8576b"
             ],
             [
              0.6666666666666666,
              "#ed7953"
             ],
             [
              0.7777777777777778,
              "#fb9f3a"
             ],
             [
              0.8888888888888888,
              "#fdca26"
             ],
             [
              1,
              "#f0f921"
             ]
            ],
            "type": "heatmapgl"
           }
          ],
          "histogram": [
           {
            "marker": {
             "line": {
              "width": 1
             },
             "pattern": {
              "fillmode": "overlay",
              "size": 10,
              "solidity": 0.2
             }
            },
            "type": "histogram"
           }
          ],
          "histogram2d": [
           {
            "colorbar": {
             "outlinewidth": 0,
             "ticks": ""
            },
            "colorscale": [
             [
              0,
              "#0d0887"
             ],
             [
              0.1111111111111111,
              "#46039f"
             ],
             [
              0.2222222222222222,
              "#7201a8"
             ],
             [
              0.3333333333333333,
              "#9c179e"
             ],
             [
              0.4444444444444444,
              "#bd3786"
             ],
             [
              0.5555555555555556,
              "#d8576b"
             ],
             [
              0.6666666666666666,
              "#ed7953"
             ],
             [
              0.7777777777777778,
              "#fb9f3a"
             ],
             [
              0.8888888888888888,
              "#fdca26"
             ],
             [
              1,
              "#f0f921"
             ]
            ],
            "type": "histogram2d"
           }
          ],
          "histogram2dcontour": [
           {
            "colorbar": {
             "outlinewidth": 0,
             "ticks": ""
            },
            "colorscale": [
             [
              0,
              "#0d0887"
             ],
             [
              0.1111111111111111,
              "#46039f"
             ],
             [
              0.2222222222222222,
              "#7201a8"
             ],
             [
              0.3333333333333333,
              "#9c179e"
             ],
             [
              0.4444444444444444,
              "#bd3786"
             ],
             [
              0.5555555555555556,
              "#d8576b"
             ],
             [
              0.6666666666666666,
              "#ed7953"
             ],
             [
              0.7777777777777778,
              "#fb9f3a"
             ],
             [
              0.8888888888888888,
              "#fdca26"
             ],
             [
              1,
              "#f0f921"
             ]
            ],
            "type": "histogram2dcontour"
           }
          ],
          "mesh3d": [
           {
            "colorbar": {
             "outlinewidth": 0,
             "ticks": ""
            },
            "type": "mesh3d"
           }
          ],
          "parcoords": [
           {
            "line": {
             "colorbar": {
              "outlinewidth": 0,
              "ticks": ""
             }
            },
            "type": "parcoords"
           }
          ],
          "pie": [
           {
            "automargin": true,
            "type": "pie"
           }
          ],
          "scatter": [
           {
            "fillpattern": {
             "fillmode": "overlay",
             "size": 10,
             "solidity": 0.2
            },
            "marker": {
             "opacity": 0.8
            },
            "type": "scatter"
           }
          ],
          "scatter3d": [
           {
            "line": {
             "colorbar": {
              "outlinewidth": 0,
              "ticks": ""
             }
            },
            "marker": {
             "colorbar": {
              "outlinewidth": 0,
              "ticks": ""
             },
             "opacity": 0.8
            },
            "type": "scatter3d"
           }
          ],
          "scattercarpet": [
           {
            "marker": {
             "colorbar": {
              "outlinewidth": 0,
              "ticks": ""
             }
            },
            "type": "scattercarpet"
           }
          ],
          "scattergeo": [
           {
            "marker": {
             "colorbar": {
              "outlinewidth": 0,
              "ticks": ""
             }
            },
            "type": "scattergeo"
           }
          ],
          "scattergl": [
           {
            "marker": {
             "colorbar": {
              "outlinewidth": 0,
              "ticks": ""
             }
            },
            "type": "scattergl"
           }
          ],
          "scattermapbox": [
           {
            "marker": {
             "colorbar": {
              "outlinewidth": 0,
              "ticks": ""
             }
            },
            "type": "scattermapbox"
           }
          ],
          "scatterpolar": [
           {
            "marker": {
             "colorbar": {
              "outlinewidth": 0,
              "ticks": ""
             }
            },
            "type": "scatterpolar"
           }
          ],
          "scatterpolargl": [
           {
            "marker": {
             "colorbar": {
              "outlinewidth": 0,
              "ticks": ""
             }
            },
            "type": "scatterpolargl"
           }
          ],
          "scatterternary": [
           {
            "marker": {
             "colorbar": {
              "outlinewidth": 0,
              "ticks": ""
             }
            },
            "type": "scatterternary"
           }
          ],
          "surface": [
           {
            "colorbar": {
             "outlinewidth": 0,
             "ticks": ""
            },
            "colorscale": [
             [
              0,
              "#0d0887"
             ],
             [
              0.1111111111111111,
              "#46039f"
             ],
             [
              0.2222222222222222,
              "#7201a8"
             ],
             [
              0.3333333333333333,
              "#9c179e"
             ],
             [
              0.4444444444444444,
              "#bd3786"
             ],
             [
              0.5555555555555556,
              "#d8576b"
             ],
             [
              0.6666666666666666,
              "#ed7953"
             ],
             [
              0.7777777777777778,
              "#fb9f3a"
             ],
             [
              0.8888888888888888,
              "#fdca26"
             ],
             [
              1,
              "#f0f921"
             ]
            ],
            "type": "surface"
           }
          ],
          "table": [
           {
            "cells": {
             "fill": {
              "color": "#EBF0F8"
             },
             "line": {
              "color": "white"
             }
            },
            "header": {
             "fill": {
              "color": "#C8D4E3"
             },
             "line": {
              "color": "white"
             }
            },
            "type": "table"
           }
          ]
         },
         "layout": {
          "annotationdefaults": {
           "arrowcolor": "#2a3f5f",
           "arrowhead": 0,
           "arrowwidth": 1
          },
          "autotypenumbers": "strict",
          "coloraxis": {
           "colorbar": {
            "outlinewidth": 0,
            "ticks": ""
           }
          },
          "colorscale": {
           "diverging": [
            [
             0,
             "#8e0152"
            ],
            [
             0.1,
             "#c51b7d"
            ],
            [
             0.2,
             "#de77ae"
            ],
            [
             0.3,
             "#f1b6da"
            ],
            [
             0.4,
             "#fde0ef"
            ],
            [
             0.5,
             "#f7f7f7"
            ],
            [
             0.6,
             "#e6f5d0"
            ],
            [
             0.7,
             "#b8e186"
            ],
            [
             0.8,
             "#7fbc41"
            ],
            [
             0.9,
             "#4d9221"
            ],
            [
             1,
             "#276419"
            ]
           ],
           "sequential": [
            [
             0,
             "#0d0887"
            ],
            [
             0.1111111111111111,
             "#46039f"
            ],
            [
             0.2222222222222222,
             "#7201a8"
            ],
            [
             0.3333333333333333,
             "#9c179e"
            ],
            [
             0.4444444444444444,
             "#bd3786"
            ],
            [
             0.5555555555555556,
             "#d8576b"
            ],
            [
             0.6666666666666666,
             "#ed7953"
            ],
            [
             0.7777777777777778,
             "#fb9f3a"
            ],
            [
             0.8888888888888888,
             "#fdca26"
            ],
            [
             1,
             "#f0f921"
            ]
           ],
           "sequentialminus": [
            [
             0,
             "#0d0887"
            ],
            [
             0.1111111111111111,
             "#46039f"
            ],
            [
             0.2222222222222222,
             "#7201a8"
            ],
            [
             0.3333333333333333,
             "#9c179e"
            ],
            [
             0.4444444444444444,
             "#bd3786"
            ],
            [
             0.5555555555555556,
             "#d8576b"
            ],
            [
             0.6666666666666666,
             "#ed7953"
            ],
            [
             0.7777777777777778,
             "#fb9f3a"
            ],
            [
             0.8888888888888888,
             "#fdca26"
            ],
            [
             1,
             "#f0f921"
            ]
           ]
          },
          "colorway": [
           "#636efa",
           "#EF553B",
           "#00cc96",
           "#ab63fa",
           "#FFA15A",
           "#19d3f3",
           "#FF6692",
           "#B6E880",
           "#FF97FF",
           "#FECB52"
          ],
          "font": {
           "color": "#2a3f5f"
          },
          "geo": {
           "bgcolor": "white",
           "lakecolor": "white",
           "landcolor": "white",
           "showlakes": true,
           "showland": true,
           "subunitcolor": "#C8D4E3"
          },
          "height": 400,
          "hoverlabel": {
           "align": "left"
          },
          "hovermode": "closest",
          "mapbox": {
           "style": "light"
          },
          "margin": {
           "b": 2,
           "l": 2,
           "r": 2,
           "t": 30
          },
          "paper_bgcolor": "white",
          "plot_bgcolor": "white",
          "polar": {
           "angularaxis": {
            "gridcolor": "#EBF0F8",
            "linecolor": "#EBF0F8",
            "ticks": ""
           },
           "bgcolor": "white",
           "radialaxis": {
            "gridcolor": "#EBF0F8",
            "linecolor": "#EBF0F8",
            "ticks": ""
           }
          },
          "scene": {
           "camera": {
            "eye": {
             "x": 1.5,
             "y": 1.5,
             "z": 0.1
            }
           },
           "xaxis": {
            "backgroundcolor": "white",
            "gridcolor": "#DFE8F3",
            "gridwidth": 2,
            "linecolor": "#EBF0F8",
            "showbackground": true,
            "ticks": "",
            "zerolinecolor": "#EBF0F8"
           },
           "yaxis": {
            "backgroundcolor": "white",
            "gridcolor": "#DFE8F3",
            "gridwidth": 2,
            "linecolor": "#EBF0F8",
            "showbackground": true,
            "ticks": "",
            "zerolinecolor": "#EBF0F8"
           },
           "zaxis": {
            "backgroundcolor": "white",
            "gridcolor": "#DFE8F3",
            "gridwidth": 2,
            "linecolor": "#EBF0F8",
            "showbackground": true,
            "ticks": "",
            "zerolinecolor": "#EBF0F8"
           }
          },
          "shapedefaults": {
           "line": {
            "color": "#2a3f5f"
           }
          },
          "ternary": {
           "aaxis": {
            "gridcolor": "#DFE8F3",
            "linecolor": "#A2B1C6",
            "ticks": ""
           },
           "baxis": {
            "gridcolor": "#DFE8F3",
            "linecolor": "#A2B1C6",
            "ticks": ""
           },
           "bgcolor": "white",
           "caxis": {
            "gridcolor": "#DFE8F3",
            "linecolor": "#A2B1C6",
            "ticks": ""
           }
          },
          "title": {
           "x": 0.5
          },
          "xaxis": {
           "automargin": true,
           "gridcolor": "#EBF0F8",
           "linecolor": "#EBF0F8",
           "linewidth": 2,
           "showline": true,
           "ticks": "",
           "title": {
            "standoff": 15
           },
           "zerolinecolor": "#EBF0F8",
           "zerolinewidth": 2
          },
          "yaxis": {
           "automargin": true,
           "gridcolor": "#EBF0F8",
           "linecolor": "#EBF0F8",
           "linewidth": 2,
           "showline": true,
           "ticks": "",
           "title": {
            "standoff": 15
           },
           "zerolinecolor": "#EBF0F8",
           "zerolinewidth": 2
          }
         }
        },
        "title": {
         "text": "60:40 split"
        },
        "xaxis": {
         "anchor": "y",
         "domain": [
          0,
          1
         ],
         "title": {
          "text": "TheGoodDoctor"
         }
        },
        "yaxis": {
         "anchor": "x",
         "domain": [
          0,
          1
         ],
         "title": {
          "text": "Average"
         }
        }
       }
      }
     },
     "metadata": {},
     "output_type": "display_data"
    },
    {
     "data": {
      "application/vnd.plotly.v1+json": {
       "config": {
        "plotlyServerURL": "https://plot.ly"
       },
       "data": [
        {
         "hovertemplate": "Set=train<br>TheGoodDoctor=%{x}<br>Average=%{y}<extra></extra>",
         "legendgroup": "train",
         "marker": {
          "color": "#636efa",
          "size": 19,
          "symbol": "circle"
         },
         "mode": "markers",
         "name": "train",
         "orientation": "v",
         "showlegend": true,
         "type": "scatter",
         "x": [
          68,
          36,
          66,
          24,
          34,
          32,
          100,
          61,
          13,
          48,
          33,
          20,
          39,
          9,
          18,
          36,
          47,
          72,
          10,
          22,
          42
         ],
         "xaxis": "x",
         "y": [
          57.34782608695652,
          63.08695652173913,
          61.60869565217392,
          60.73913043478261,
          49.73913043478261,
          62.43478260869565,
          61.08695652173913,
          56.21739130434783,
          72.17391304347827,
          47.69565217391305,
          68.30434782608695,
          66,
          56.43478260869565,
          70.69565217391305,
          66.47826086956522,
          49.391304347826086,
          55.30434782608695,
          50.78260869565217,
          73.65217391304348,
          51.21739130434783,
          54.30434782608695
         ],
         "yaxis": "y"
        },
        {
         "hovertemplate": "Set=test<br>TheGoodDoctor=%{x}<br>Average=%{y}<extra></extra>",
         "legendgroup": "test",
         "marker": {
          "color": "#EF553B",
          "size": 19,
          "symbol": "circle"
         },
         "mode": "markers",
         "name": "test",
         "orientation": "v",
         "showlegend": true,
         "type": "scatter",
         "x": [
          10,
          49,
          23,
          41,
          35,
          51,
          9,
          14,
          19,
          57
         ],
         "xaxis": "x",
         "y": [
          60.56521739130435,
          49.130434782608695,
          58.43478260869565,
          60.30434782608695,
          59.17391304347826,
          62.34782608695652,
          76.04347826086956,
          70.17391304347827,
          59.869565217391305,
          55.95652173913044
         ],
         "yaxis": "y"
        }
       ],
       "layout": {
        "legend": {
         "title": {
          "text": "Set"
         },
         "tracegroupgap": 0
        },
        "template": {
         "data": {
          "bar": [
           {
            "error_x": {
             "color": "#2a3f5f"
            },
            "error_y": {
             "color": "#2a3f5f"
            },
            "marker": {
             "line": {
              "color": "white",
              "width": 0.5
             },
             "pattern": {
              "fillmode": "overlay",
              "size": 10,
              "solidity": 0.2
             }
            },
            "type": "bar"
           }
          ],
          "barpolar": [
           {
            "marker": {
             "line": {
              "color": "white",
              "width": 0.5
             },
             "pattern": {
              "fillmode": "overlay",
              "size": 10,
              "solidity": 0.2
             }
            },
            "type": "barpolar"
           }
          ],
          "box": [
           {
            "boxpoints": "outliers",
            "notched": false,
            "type": "box"
           }
          ],
          "carpet": [
           {
            "aaxis": {
             "endlinecolor": "#2a3f5f",
             "gridcolor": "#C8D4E3",
             "linecolor": "#C8D4E3",
             "minorgridcolor": "#C8D4E3",
             "startlinecolor": "#2a3f5f"
            },
            "baxis": {
             "endlinecolor": "#2a3f5f",
             "gridcolor": "#C8D4E3",
             "linecolor": "#C8D4E3",
             "minorgridcolor": "#C8D4E3",
             "startlinecolor": "#2a3f5f"
            },
            "type": "carpet"
           }
          ],
          "choropleth": [
           {
            "colorbar": {
             "outlinewidth": 0,
             "ticks": ""
            },
            "type": "choropleth"
           }
          ],
          "contour": [
           {
            "colorbar": {
             "outlinewidth": 0,
             "ticks": ""
            },
            "colorscale": [
             [
              0,
              "#0d0887"
             ],
             [
              0.1111111111111111,
              "#46039f"
             ],
             [
              0.2222222222222222,
              "#7201a8"
             ],
             [
              0.3333333333333333,
              "#9c179e"
             ],
             [
              0.4444444444444444,
              "#bd3786"
             ],
             [
              0.5555555555555556,
              "#d8576b"
             ],
             [
              0.6666666666666666,
              "#ed7953"
             ],
             [
              0.7777777777777778,
              "#fb9f3a"
             ],
             [
              0.8888888888888888,
              "#fdca26"
             ],
             [
              1,
              "#f0f921"
             ]
            ],
            "type": "contour"
           }
          ],
          "contourcarpet": [
           {
            "colorbar": {
             "outlinewidth": 0,
             "ticks": ""
            },
            "type": "contourcarpet"
           }
          ],
          "heatmap": [
           {
            "colorbar": {
             "outlinewidth": 0,
             "ticks": ""
            },
            "colorscale": [
             [
              0,
              "#0d0887"
             ],
             [
              0.1111111111111111,
              "#46039f"
             ],
             [
              0.2222222222222222,
              "#7201a8"
             ],
             [
              0.3333333333333333,
              "#9c179e"
             ],
             [
              0.4444444444444444,
              "#bd3786"
             ],
             [
              0.5555555555555556,
              "#d8576b"
             ],
             [
              0.6666666666666666,
              "#ed7953"
             ],
             [
              0.7777777777777778,
              "#fb9f3a"
             ],
             [
              0.8888888888888888,
              "#fdca26"
             ],
             [
              1,
              "#f0f921"
             ]
            ],
            "type": "heatmap"
           }
          ],
          "heatmapgl": [
           {
            "colorbar": {
             "outlinewidth": 0,
             "ticks": ""
            },
            "colorscale": [
             [
              0,
              "#0d0887"
             ],
             [
              0.1111111111111111,
              "#46039f"
             ],
             [
              0.2222222222222222,
              "#7201a8"
             ],
             [
              0.3333333333333333,
              "#9c179e"
             ],
             [
              0.4444444444444444,
              "#bd3786"
             ],
             [
              0.5555555555555556,
              "#d8576b"
             ],
             [
              0.6666666666666666,
              "#ed7953"
             ],
             [
              0.7777777777777778,
              "#fb9f3a"
             ],
             [
              0.8888888888888888,
              "#fdca26"
             ],
             [
              1,
              "#f0f921"
             ]
            ],
            "type": "heatmapgl"
           }
          ],
          "histogram": [
           {
            "marker": {
             "line": {
              "width": 1
             },
             "pattern": {
              "fillmode": "overlay",
              "size": 10,
              "solidity": 0.2
             }
            },
            "type": "histogram"
           }
          ],
          "histogram2d": [
           {
            "colorbar": {
             "outlinewidth": 0,
             "ticks": ""
            },
            "colorscale": [
             [
              0,
              "#0d0887"
             ],
             [
              0.1111111111111111,
              "#46039f"
             ],
             [
              0.2222222222222222,
              "#7201a8"
             ],
             [
              0.3333333333333333,
              "#9c179e"
             ],
             [
              0.4444444444444444,
              "#bd3786"
             ],
             [
              0.5555555555555556,
              "#d8576b"
             ],
             [
              0.6666666666666666,
              "#ed7953"
             ],
             [
              0.7777777777777778,
              "#fb9f3a"
             ],
             [
              0.8888888888888888,
              "#fdca26"
             ],
             [
              1,
              "#f0f921"
             ]
            ],
            "type": "histogram2d"
           }
          ],
          "histogram2dcontour": [
           {
            "colorbar": {
             "outlinewidth": 0,
             "ticks": ""
            },
            "colorscale": [
             [
              0,
              "#0d0887"
             ],
             [
              0.1111111111111111,
              "#46039f"
             ],
             [
              0.2222222222222222,
              "#7201a8"
             ],
             [
              0.3333333333333333,
              "#9c179e"
             ],
             [
              0.4444444444444444,
              "#bd3786"
             ],
             [
              0.5555555555555556,
              "#d8576b"
             ],
             [
              0.6666666666666666,
              "#ed7953"
             ],
             [
              0.7777777777777778,
              "#fb9f3a"
             ],
             [
              0.8888888888888888,
              "#fdca26"
             ],
             [
              1,
              "#f0f921"
             ]
            ],
            "type": "histogram2dcontour"
           }
          ],
          "mesh3d": [
           {
            "colorbar": {
             "outlinewidth": 0,
             "ticks": ""
            },
            "type": "mesh3d"
           }
          ],
          "parcoords": [
           {
            "line": {
             "colorbar": {
              "outlinewidth": 0,
              "ticks": ""
             }
            },
            "type": "parcoords"
           }
          ],
          "pie": [
           {
            "automargin": true,
            "type": "pie"
           }
          ],
          "scatter": [
           {
            "fillpattern": {
             "fillmode": "overlay",
             "size": 10,
             "solidity": 0.2
            },
            "marker": {
             "opacity": 0.8
            },
            "type": "scatter"
           }
          ],
          "scatter3d": [
           {
            "line": {
             "colorbar": {
              "outlinewidth": 0,
              "ticks": ""
             }
            },
            "marker": {
             "colorbar": {
              "outlinewidth": 0,
              "ticks": ""
             },
             "opacity": 0.8
            },
            "type": "scatter3d"
           }
          ],
          "scattercarpet": [
           {
            "marker": {
             "colorbar": {
              "outlinewidth": 0,
              "ticks": ""
             }
            },
            "type": "scattercarpet"
           }
          ],
          "scattergeo": [
           {
            "marker": {
             "colorbar": {
              "outlinewidth": 0,
              "ticks": ""
             }
            },
            "type": "scattergeo"
           }
          ],
          "scattergl": [
           {
            "marker": {
             "colorbar": {
              "outlinewidth": 0,
              "ticks": ""
             }
            },
            "type": "scattergl"
           }
          ],
          "scattermapbox": [
           {
            "marker": {
             "colorbar": {
              "outlinewidth": 0,
              "ticks": ""
             }
            },
            "type": "scattermapbox"
           }
          ],
          "scatterpolar": [
           {
            "marker": {
             "colorbar": {
              "outlinewidth": 0,
              "ticks": ""
             }
            },
            "type": "scatterpolar"
           }
          ],
          "scatterpolargl": [
           {
            "marker": {
             "colorbar": {
              "outlinewidth": 0,
              "ticks": ""
             }
            },
            "type": "scatterpolargl"
           }
          ],
          "scatterternary": [
           {
            "marker": {
             "colorbar": {
              "outlinewidth": 0,
              "ticks": ""
             }
            },
            "type": "scatterternary"
           }
          ],
          "surface": [
           {
            "colorbar": {
             "outlinewidth": 0,
             "ticks": ""
            },
            "colorscale": [
             [
              0,
              "#0d0887"
             ],
             [
              0.1111111111111111,
              "#46039f"
             ],
             [
              0.2222222222222222,
              "#7201a8"
             ],
             [
              0.3333333333333333,
              "#9c179e"
             ],
             [
              0.4444444444444444,
              "#bd3786"
             ],
             [
              0.5555555555555556,
              "#d8576b"
             ],
             [
              0.6666666666666666,
              "#ed7953"
             ],
             [
              0.7777777777777778,
              "#fb9f3a"
             ],
             [
              0.8888888888888888,
              "#fdca26"
             ],
             [
              1,
              "#f0f921"
             ]
            ],
            "type": "surface"
           }
          ],
          "table": [
           {
            "cells": {
             "fill": {
              "color": "#EBF0F8"
             },
             "line": {
              "color": "white"
             }
            },
            "header": {
             "fill": {
              "color": "#C8D4E3"
             },
             "line": {
              "color": "white"
             }
            },
            "type": "table"
           }
          ]
         },
         "layout": {
          "annotationdefaults": {
           "arrowcolor": "#2a3f5f",
           "arrowhead": 0,
           "arrowwidth": 1
          },
          "autotypenumbers": "strict",
          "coloraxis": {
           "colorbar": {
            "outlinewidth": 0,
            "ticks": ""
           }
          },
          "colorscale": {
           "diverging": [
            [
             0,
             "#8e0152"
            ],
            [
             0.1,
             "#c51b7d"
            ],
            [
             0.2,
             "#de77ae"
            ],
            [
             0.3,
             "#f1b6da"
            ],
            [
             0.4,
             "#fde0ef"
            ],
            [
             0.5,
             "#f7f7f7"
            ],
            [
             0.6,
             "#e6f5d0"
            ],
            [
             0.7,
             "#b8e186"
            ],
            [
             0.8,
             "#7fbc41"
            ],
            [
             0.9,
             "#4d9221"
            ],
            [
             1,
             "#276419"
            ]
           ],
           "sequential": [
            [
             0,
             "#0d0887"
            ],
            [
             0.1111111111111111,
             "#46039f"
            ],
            [
             0.2222222222222222,
             "#7201a8"
            ],
            [
             0.3333333333333333,
             "#9c179e"
            ],
            [
             0.4444444444444444,
             "#bd3786"
            ],
            [
             0.5555555555555556,
             "#d8576b"
            ],
            [
             0.6666666666666666,
             "#ed7953"
            ],
            [
             0.7777777777777778,
             "#fb9f3a"
            ],
            [
             0.8888888888888888,
             "#fdca26"
            ],
            [
             1,
             "#f0f921"
            ]
           ],
           "sequentialminus": [
            [
             0,
             "#0d0887"
            ],
            [
             0.1111111111111111,
             "#46039f"
            ],
            [
             0.2222222222222222,
             "#7201a8"
            ],
            [
             0.3333333333333333,
             "#9c179e"
            ],
            [
             0.4444444444444444,
             "#bd3786"
            ],
            [
             0.5555555555555556,
             "#d8576b"
            ],
            [
             0.6666666666666666,
             "#ed7953"
            ],
            [
             0.7777777777777778,
             "#fb9f3a"
            ],
            [
             0.8888888888888888,
             "#fdca26"
            ],
            [
             1,
             "#f0f921"
            ]
           ]
          },
          "colorway": [
           "#636efa",
           "#EF553B",
           "#00cc96",
           "#ab63fa",
           "#FFA15A",
           "#19d3f3",
           "#FF6692",
           "#B6E880",
           "#FF97FF",
           "#FECB52"
          ],
          "font": {
           "color": "#2a3f5f"
          },
          "geo": {
           "bgcolor": "white",
           "lakecolor": "white",
           "landcolor": "white",
           "showlakes": true,
           "showland": true,
           "subunitcolor": "#C8D4E3"
          },
          "height": 400,
          "hoverlabel": {
           "align": "left"
          },
          "hovermode": "closest",
          "mapbox": {
           "style": "light"
          },
          "margin": {
           "b": 2,
           "l": 2,
           "r": 2,
           "t": 30
          },
          "paper_bgcolor": "white",
          "plot_bgcolor": "white",
          "polar": {
           "angularaxis": {
            "gridcolor": "#EBF0F8",
            "linecolor": "#EBF0F8",
            "ticks": ""
           },
           "bgcolor": "white",
           "radialaxis": {
            "gridcolor": "#EBF0F8",
            "linecolor": "#EBF0F8",
            "ticks": ""
           }
          },
          "scene": {
           "camera": {
            "eye": {
             "x": 1.5,
             "y": 1.5,
             "z": 0.1
            }
           },
           "xaxis": {
            "backgroundcolor": "white",
            "gridcolor": "#DFE8F3",
            "gridwidth": 2,
            "linecolor": "#EBF0F8",
            "showbackground": true,
            "ticks": "",
            "zerolinecolor": "#EBF0F8"
           },
           "yaxis": {
            "backgroundcolor": "white",
            "gridcolor": "#DFE8F3",
            "gridwidth": 2,
            "linecolor": "#EBF0F8",
            "showbackground": true,
            "ticks": "",
            "zerolinecolor": "#EBF0F8"
           },
           "zaxis": {
            "backgroundcolor": "white",
            "gridcolor": "#DFE8F3",
            "gridwidth": 2,
            "linecolor": "#EBF0F8",
            "showbackground": true,
            "ticks": "",
            "zerolinecolor": "#EBF0F8"
           }
          },
          "shapedefaults": {
           "line": {
            "color": "#2a3f5f"
           }
          },
          "ternary": {
           "aaxis": {
            "gridcolor": "#DFE8F3",
            "linecolor": "#A2B1C6",
            "ticks": ""
           },
           "baxis": {
            "gridcolor": "#DFE8F3",
            "linecolor": "#A2B1C6",
            "ticks": ""
           },
           "bgcolor": "white",
           "caxis": {
            "gridcolor": "#DFE8F3",
            "linecolor": "#A2B1C6",
            "ticks": ""
           }
          },
          "title": {
           "x": 0.5
          },
          "xaxis": {
           "automargin": true,
           "gridcolor": "#EBF0F8",
           "linecolor": "#EBF0F8",
           "linewidth": 2,
           "showline": true,
           "ticks": "",
           "title": {
            "standoff": 15
           },
           "zerolinecolor": "#EBF0F8",
           "zerolinewidth": 2
          },
          "yaxis": {
           "automargin": true,
           "gridcolor": "#EBF0F8",
           "linecolor": "#EBF0F8",
           "linewidth": 2,
           "showline": true,
           "ticks": "",
           "title": {
            "standoff": 15
           },
           "zerolinecolor": "#EBF0F8",
           "zerolinewidth": 2
          }
         }
        },
        "title": {
         "text": "70:30 split"
        },
        "xaxis": {
         "anchor": "y",
         "domain": [
          0,
          1
         ],
         "title": {
          "text": "TheGoodDoctor"
         }
        },
        "yaxis": {
         "anchor": "x",
         "domain": [
          0,
          1
         ],
         "title": {
          "text": "Average"
         }
        }
       }
      }
     },
     "metadata": {},
     "output_type": "display_data"
    },
    {
     "data": {
      "application/vnd.plotly.v1+json": {
       "config": {
        "plotlyServerURL": "https://plot.ly"
       },
       "data": [
        {
         "hovertemplate": "Set=train<br>TheGoodDoctor=%{x}<br>Average=%{y}<extra></extra>",
         "legendgroup": "train",
         "marker": {
          "color": "#636efa",
          "size": 19,
          "symbol": "circle"
         },
         "mode": "markers",
         "name": "train",
         "orientation": "v",
         "showlegend": true,
         "type": "scatter",
         "x": [
          14,
          19,
          57,
          68,
          36,
          66,
          24,
          34,
          32,
          100,
          61,
          13,
          48,
          33,
          20,
          39,
          9,
          18,
          36,
          47,
          72,
          10,
          22,
          42
         ],
         "xaxis": "x",
         "y": [
          70.17391304347827,
          59.869565217391305,
          55.95652173913044,
          57.34782608695652,
          63.08695652173913,
          61.60869565217392,
          60.73913043478261,
          49.73913043478261,
          62.43478260869565,
          61.08695652173913,
          56.21739130434783,
          72.17391304347827,
          47.69565217391305,
          68.30434782608695,
          66,
          56.43478260869565,
          70.69565217391305,
          66.47826086956522,
          49.391304347826086,
          55.30434782608695,
          50.78260869565217,
          73.65217391304348,
          51.21739130434783,
          54.30434782608695
         ],
         "yaxis": "y"
        },
        {
         "hovertemplate": "Set=test<br>TheGoodDoctor=%{x}<br>Average=%{y}<extra></extra>",
         "legendgroup": "test",
         "marker": {
          "color": "#EF553B",
          "size": 19,
          "symbol": "circle"
         },
         "mode": "markers",
         "name": "test",
         "orientation": "v",
         "showlegend": true,
         "type": "scatter",
         "x": [
          10,
          49,
          23,
          41,
          35,
          51,
          9
         ],
         "xaxis": "x",
         "y": [
          60.56521739130435,
          49.130434782608695,
          58.43478260869565,
          60.30434782608695,
          59.17391304347826,
          62.34782608695652,
          76.04347826086956
         ],
         "yaxis": "y"
        }
       ],
       "layout": {
        "legend": {
         "title": {
          "text": "Set"
         },
         "tracegroupgap": 0
        },
        "template": {
         "data": {
          "bar": [
           {
            "error_x": {
             "color": "#2a3f5f"
            },
            "error_y": {
             "color": "#2a3f5f"
            },
            "marker": {
             "line": {
              "color": "white",
              "width": 0.5
             },
             "pattern": {
              "fillmode": "overlay",
              "size": 10,
              "solidity": 0.2
             }
            },
            "type": "bar"
           }
          ],
          "barpolar": [
           {
            "marker": {
             "line": {
              "color": "white",
              "width": 0.5
             },
             "pattern": {
              "fillmode": "overlay",
              "size": 10,
              "solidity": 0.2
             }
            },
            "type": "barpolar"
           }
          ],
          "box": [
           {
            "boxpoints": "outliers",
            "notched": false,
            "type": "box"
           }
          ],
          "carpet": [
           {
            "aaxis": {
             "endlinecolor": "#2a3f5f",
             "gridcolor": "#C8D4E3",
             "linecolor": "#C8D4E3",
             "minorgridcolor": "#C8D4E3",
             "startlinecolor": "#2a3f5f"
            },
            "baxis": {
             "endlinecolor": "#2a3f5f",
             "gridcolor": "#C8D4E3",
             "linecolor": "#C8D4E3",
             "minorgridcolor": "#C8D4E3",
             "startlinecolor": "#2a3f5f"
            },
            "type": "carpet"
           }
          ],
          "choropleth": [
           {
            "colorbar": {
             "outlinewidth": 0,
             "ticks": ""
            },
            "type": "choropleth"
           }
          ],
          "contour": [
           {
            "colorbar": {
             "outlinewidth": 0,
             "ticks": ""
            },
            "colorscale": [
             [
              0,
              "#0d0887"
             ],
             [
              0.1111111111111111,
              "#46039f"
             ],
             [
              0.2222222222222222,
              "#7201a8"
             ],
             [
              0.3333333333333333,
              "#9c179e"
             ],
             [
              0.4444444444444444,
              "#bd3786"
             ],
             [
              0.5555555555555556,
              "#d8576b"
             ],
             [
              0.6666666666666666,
              "#ed7953"
             ],
             [
              0.7777777777777778,
              "#fb9f3a"
             ],
             [
              0.8888888888888888,
              "#fdca26"
             ],
             [
              1,
              "#f0f921"
             ]
            ],
            "type": "contour"
           }
          ],
          "contourcarpet": [
           {
            "colorbar": {
             "outlinewidth": 0,
             "ticks": ""
            },
            "type": "contourcarpet"
           }
          ],
          "heatmap": [
           {
            "colorbar": {
             "outlinewidth": 0,
             "ticks": ""
            },
            "colorscale": [
             [
              0,
              "#0d0887"
             ],
             [
              0.1111111111111111,
              "#46039f"
             ],
             [
              0.2222222222222222,
              "#7201a8"
             ],
             [
              0.3333333333333333,
              "#9c179e"
             ],
             [
              0.4444444444444444,
              "#bd3786"
             ],
             [
              0.5555555555555556,
              "#d8576b"
             ],
             [
              0.6666666666666666,
              "#ed7953"
             ],
             [
              0.7777777777777778,
              "#fb9f3a"
             ],
             [
              0.8888888888888888,
              "#fdca26"
             ],
             [
              1,
              "#f0f921"
             ]
            ],
            "type": "heatmap"
           }
          ],
          "heatmapgl": [
           {
            "colorbar": {
             "outlinewidth": 0,
             "ticks": ""
            },
            "colorscale": [
             [
              0,
              "#0d0887"
             ],
             [
              0.1111111111111111,
              "#46039f"
             ],
             [
              0.2222222222222222,
              "#7201a8"
             ],
             [
              0.3333333333333333,
              "#9c179e"
             ],
             [
              0.4444444444444444,
              "#bd3786"
             ],
             [
              0.5555555555555556,
              "#d8576b"
             ],
             [
              0.6666666666666666,
              "#ed7953"
             ],
             [
              0.7777777777777778,
              "#fb9f3a"
             ],
             [
              0.8888888888888888,
              "#fdca26"
             ],
             [
              1,
              "#f0f921"
             ]
            ],
            "type": "heatmapgl"
           }
          ],
          "histogram": [
           {
            "marker": {
             "line": {
              "width": 1
             },
             "pattern": {
              "fillmode": "overlay",
              "size": 10,
              "solidity": 0.2
             }
            },
            "type": "histogram"
           }
          ],
          "histogram2d": [
           {
            "colorbar": {
             "outlinewidth": 0,
             "ticks": ""
            },
            "colorscale": [
             [
              0,
              "#0d0887"
             ],
             [
              0.1111111111111111,
              "#46039f"
             ],
             [
              0.2222222222222222,
              "#7201a8"
             ],
             [
              0.3333333333333333,
              "#9c179e"
             ],
             [
              0.4444444444444444,
              "#bd3786"
             ],
             [
              0.5555555555555556,
              "#d8576b"
             ],
             [
              0.6666666666666666,
              "#ed7953"
             ],
             [
              0.7777777777777778,
              "#fb9f3a"
             ],
             [
              0.8888888888888888,
              "#fdca26"
             ],
             [
              1,
              "#f0f921"
             ]
            ],
            "type": "histogram2d"
           }
          ],
          "histogram2dcontour": [
           {
            "colorbar": {
             "outlinewidth": 0,
             "ticks": ""
            },
            "colorscale": [
             [
              0,
              "#0d0887"
             ],
             [
              0.1111111111111111,
              "#46039f"
             ],
             [
              0.2222222222222222,
              "#7201a8"
             ],
             [
              0.3333333333333333,
              "#9c179e"
             ],
             [
              0.4444444444444444,
              "#bd3786"
             ],
             [
              0.5555555555555556,
              "#d8576b"
             ],
             [
              0.6666666666666666,
              "#ed7953"
             ],
             [
              0.7777777777777778,
              "#fb9f3a"
             ],
             [
              0.8888888888888888,
              "#fdca26"
             ],
             [
              1,
              "#f0f921"
             ]
            ],
            "type": "histogram2dcontour"
           }
          ],
          "mesh3d": [
           {
            "colorbar": {
             "outlinewidth": 0,
             "ticks": ""
            },
            "type": "mesh3d"
           }
          ],
          "parcoords": [
           {
            "line": {
             "colorbar": {
              "outlinewidth": 0,
              "ticks": ""
             }
            },
            "type": "parcoords"
           }
          ],
          "pie": [
           {
            "automargin": true,
            "type": "pie"
           }
          ],
          "scatter": [
           {
            "fillpattern": {
             "fillmode": "overlay",
             "size": 10,
             "solidity": 0.2
            },
            "marker": {
             "opacity": 0.8
            },
            "type": "scatter"
           }
          ],
          "scatter3d": [
           {
            "line": {
             "colorbar": {
              "outlinewidth": 0,
              "ticks": ""
             }
            },
            "marker": {
             "colorbar": {
              "outlinewidth": 0,
              "ticks": ""
             },
             "opacity": 0.8
            },
            "type": "scatter3d"
           }
          ],
          "scattercarpet": [
           {
            "marker": {
             "colorbar": {
              "outlinewidth": 0,
              "ticks": ""
             }
            },
            "type": "scattercarpet"
           }
          ],
          "scattergeo": [
           {
            "marker": {
             "colorbar": {
              "outlinewidth": 0,
              "ticks": ""
             }
            },
            "type": "scattergeo"
           }
          ],
          "scattergl": [
           {
            "marker": {
             "colorbar": {
              "outlinewidth": 0,
              "ticks": ""
             }
            },
            "type": "scattergl"
           }
          ],
          "scattermapbox": [
           {
            "marker": {
             "colorbar": {
              "outlinewidth": 0,
              "ticks": ""
             }
            },
            "type": "scattermapbox"
           }
          ],
          "scatterpolar": [
           {
            "marker": {
             "colorbar": {
              "outlinewidth": 0,
              "ticks": ""
             }
            },
            "type": "scatterpolar"
           }
          ],
          "scatterpolargl": [
           {
            "marker": {
             "colorbar": {
              "outlinewidth": 0,
              "ticks": ""
             }
            },
            "type": "scatterpolargl"
           }
          ],
          "scatterternary": [
           {
            "marker": {
             "colorbar": {
              "outlinewidth": 0,
              "ticks": ""
             }
            },
            "type": "scatterternary"
           }
          ],
          "surface": [
           {
            "colorbar": {
             "outlinewidth": 0,
             "ticks": ""
            },
            "colorscale": [
             [
              0,
              "#0d0887"
             ],
             [
              0.1111111111111111,
              "#46039f"
             ],
             [
              0.2222222222222222,
              "#7201a8"
             ],
             [
              0.3333333333333333,
              "#9c179e"
             ],
             [
              0.4444444444444444,
              "#bd3786"
             ],
             [
              0.5555555555555556,
              "#d8576b"
             ],
             [
              0.6666666666666666,
              "#ed7953"
             ],
             [
              0.7777777777777778,
              "#fb9f3a"
             ],
             [
              0.8888888888888888,
              "#fdca26"
             ],
             [
              1,
              "#f0f921"
             ]
            ],
            "type": "surface"
           }
          ],
          "table": [
           {
            "cells": {
             "fill": {
              "color": "#EBF0F8"
             },
             "line": {
              "color": "white"
             }
            },
            "header": {
             "fill": {
              "color": "#C8D4E3"
             },
             "line": {
              "color": "white"
             }
            },
            "type": "table"
           }
          ]
         },
         "layout": {
          "annotationdefaults": {
           "arrowcolor": "#2a3f5f",
           "arrowhead": 0,
           "arrowwidth": 1
          },
          "autotypenumbers": "strict",
          "coloraxis": {
           "colorbar": {
            "outlinewidth": 0,
            "ticks": ""
           }
          },
          "colorscale": {
           "diverging": [
            [
             0,
             "#8e0152"
            ],
            [
             0.1,
             "#c51b7d"
            ],
            [
             0.2,
             "#de77ae"
            ],
            [
             0.3,
             "#f1b6da"
            ],
            [
             0.4,
             "#fde0ef"
            ],
            [
             0.5,
             "#f7f7f7"
            ],
            [
             0.6,
             "#e6f5d0"
            ],
            [
             0.7,
             "#b8e186"
            ],
            [
             0.8,
             "#7fbc41"
            ],
            [
             0.9,
             "#4d9221"
            ],
            [
             1,
             "#276419"
            ]
           ],
           "sequential": [
            [
             0,
             "#0d0887"
            ],
            [
             0.1111111111111111,
             "#46039f"
            ],
            [
             0.2222222222222222,
             "#7201a8"
            ],
            [
             0.3333333333333333,
             "#9c179e"
            ],
            [
             0.4444444444444444,
             "#bd3786"
            ],
            [
             0.5555555555555556,
             "#d8576b"
            ],
            [
             0.6666666666666666,
             "#ed7953"
            ],
            [
             0.7777777777777778,
             "#fb9f3a"
            ],
            [
             0.8888888888888888,
             "#fdca26"
            ],
            [
             1,
             "#f0f921"
            ]
           ],
           "sequentialminus": [
            [
             0,
             "#0d0887"
            ],
            [
             0.1111111111111111,
             "#46039f"
            ],
            [
             0.2222222222222222,
             "#7201a8"
            ],
            [
             0.3333333333333333,
             "#9c179e"
            ],
            [
             0.4444444444444444,
             "#bd3786"
            ],
            [
             0.5555555555555556,
             "#d8576b"
            ],
            [
             0.6666666666666666,
             "#ed7953"
            ],
            [
             0.7777777777777778,
             "#fb9f3a"
            ],
            [
             0.8888888888888888,
             "#fdca26"
            ],
            [
             1,
             "#f0f921"
            ]
           ]
          },
          "colorway": [
           "#636efa",
           "#EF553B",
           "#00cc96",
           "#ab63fa",
           "#FFA15A",
           "#19d3f3",
           "#FF6692",
           "#B6E880",
           "#FF97FF",
           "#FECB52"
          ],
          "font": {
           "color": "#2a3f5f"
          },
          "geo": {
           "bgcolor": "white",
           "lakecolor": "white",
           "landcolor": "white",
           "showlakes": true,
           "showland": true,
           "subunitcolor": "#C8D4E3"
          },
          "height": 400,
          "hoverlabel": {
           "align": "left"
          },
          "hovermode": "closest",
          "mapbox": {
           "style": "light"
          },
          "margin": {
           "b": 2,
           "l": 2,
           "r": 2,
           "t": 30
          },
          "paper_bgcolor": "white",
          "plot_bgcolor": "white",
          "polar": {
           "angularaxis": {
            "gridcolor": "#EBF0F8",
            "linecolor": "#EBF0F8",
            "ticks": ""
           },
           "bgcolor": "white",
           "radialaxis": {
            "gridcolor": "#EBF0F8",
            "linecolor": "#EBF0F8",
            "ticks": ""
           }
          },
          "scene": {
           "camera": {
            "eye": {
             "x": 1.5,
             "y": 1.5,
             "z": 0.1
            }
           },
           "xaxis": {
            "backgroundcolor": "white",
            "gridcolor": "#DFE8F3",
            "gridwidth": 2,
            "linecolor": "#EBF0F8",
            "showbackground": true,
            "ticks": "",
            "zerolinecolor": "#EBF0F8"
           },
           "yaxis": {
            "backgroundcolor": "white",
            "gridcolor": "#DFE8F3",
            "gridwidth": 2,
            "linecolor": "#EBF0F8",
            "showbackground": true,
            "ticks": "",
            "zerolinecolor": "#EBF0F8"
           },
           "zaxis": {
            "backgroundcolor": "white",
            "gridcolor": "#DFE8F3",
            "gridwidth": 2,
            "linecolor": "#EBF0F8",
            "showbackground": true,
            "ticks": "",
            "zerolinecolor": "#EBF0F8"
           }
          },
          "shapedefaults": {
           "line": {
            "color": "#2a3f5f"
           }
          },
          "ternary": {
           "aaxis": {
            "gridcolor": "#DFE8F3",
            "linecolor": "#A2B1C6",
            "ticks": ""
           },
           "baxis": {
            "gridcolor": "#DFE8F3",
            "linecolor": "#A2B1C6",
            "ticks": ""
           },
           "bgcolor": "white",
           "caxis": {
            "gridcolor": "#DFE8F3",
            "linecolor": "#A2B1C6",
            "ticks": ""
           }
          },
          "title": {
           "x": 0.5
          },
          "xaxis": {
           "automargin": true,
           "gridcolor": "#EBF0F8",
           "linecolor": "#EBF0F8",
           "linewidth": 2,
           "showline": true,
           "ticks": "",
           "title": {
            "standoff": 15
           },
           "zerolinecolor": "#EBF0F8",
           "zerolinewidth": 2
          },
          "yaxis": {
           "automargin": true,
           "gridcolor": "#EBF0F8",
           "linecolor": "#EBF0F8",
           "linewidth": 2,
           "showline": true,
           "ticks": "",
           "title": {
            "standoff": 15
           },
           "zerolinecolor": "#EBF0F8",
           "zerolinewidth": 2
          }
         }
        },
        "title": {
         "text": "80:20 split"
        },
        "xaxis": {
         "anchor": "y",
         "domain": [
          0,
          1
         ],
         "title": {
          "text": "TheGoodDoctor"
         }
        },
        "yaxis": {
         "anchor": "x",
         "domain": [
          0,
          1
         ],
         "title": {
          "text": "Average"
         }
        }
       }
      }
     },
     "metadata": {},
     "output_type": "display_data"
    }
   ],
   "source": [
    "# Split Dataset using different ratios 50:50, 60:40, 70:30, 80:20\n",
    "train_5050, test_5050 = train_test_split(data, test_size=0.5, random_state=42)\n",
    "train_6040, test_6040 = train_test_split(data, test_size=0.4, random_state=42)\n",
    "train_7030, test_7030 = train_test_split(data, test_size=0.3, random_state=42)\n",
    "train_8020, test_8020 = train_test_split(data, test_size=0.2, random_state=42)\n",
    "\n",
    "# Add a column to each set to identify if a datapoint belongs to \"train\" or \"test\"\n",
    "train_5050, test_5050 = train_5050.assign(Set=\"train\"), test_5050.assign(Set=\"test\")\n",
    "train_6040, test_6040 = train_6040.assign(Set=\"train\"), test_6040.assign(Set=\"test\")\n",
    "train_7030, test_7030 = train_7030.assign(Set=\"train\"), test_7030.assign(Set=\"test\")\n",
    "train_8020, test_8020 = train_8020.assign(Set=\"train\"), test_8020.assign(Set=\"test\")\n",
    "\n",
    "# Concatenate the \"train\" and \"test\" sets for each split so we can plot them on the same chart\n",
    "df_5050 = pd.concat([train_5050, test_5050], axis=0)\n",
    "df_6040 = pd.concat([train_6040, test_6040], axis=0)\n",
    "df_7030 = pd.concat([train_7030, test_7030], axis=0)\n",
    "df_8020 = pd.concat([train_8020, test_8020], axis=0)\n",
    "\n",
    "# Plot each distribution for comparison\n",
    "graphing.scatter_2D(df_5050, \"EmergencyNYC\", \"Average\", title=\"50:50 split\", label_colour=\"Set\", show=True)\n",
    "graphing.scatter_2D(df_6040, \"EmergencyNYC\", \"Average\", title=\"60:40 split\", label_colour=\"Set\", show=True)\n",
    "graphing.scatter_2D(df_7030, \"EmergencyNYC\", \"Average\", title=\"70:30 split\", label_colour=\"Set\", show=True)\n",
    "graphing.scatter_2D(df_8020, \"EmergencyNYC\", \"Average\", title=\"80:20 split\", label_colour=\"Set\")\n"
   ]
  },
  {
   "cell_type": "code",
   "execution_count": null,
   "metadata": {},
   "outputs": [
    {
     "name": "stdout",
     "output_type": "stream",
     "text": [
      "Mean Squared Error values (smaller is better)\n",
      "50:50 MSE = 30.712882 \n",
      "60:40 MSE = 29.627951 \n",
      "70:30 MSE = 32.222592 \n",
      "80:20 MSE = 37.923952 \n"
     ]
    }
   ],
   "source": [
    "def train_and_test_model(name, train, test):\n",
    "    '''\n",
    "    This method creates a model, trains it on the provided data, and assesses \n",
    "    it against the test data\n",
    "    '''\n",
    "    # This formula says that rescues_last_year is explained by weight_last_year\n",
    "    formula = \"Average ~ EmergencyNYC\"\n",
    "\n",
    "    # Create and train a linear regression model using the training data\n",
    "    model = smf.ols(formula = formula, data = train).fit()\n",
    "\n",
    "    # Now evaluate the model (by calculating the Mean Squared Error) using the \n",
    "    # corresponding \"test\" set for that split\n",
    "    correct_answers = test['Average']\n",
    "    predictions = model.predict(test['EmergencyNYC'])\n",
    "    MSE = mse(correct_answers, predictions)\n",
    "    print(name + ' MSE = %f ' % MSE)\n",
    "\n",
    "    return model\n",
    "\n",
    "\n",
    "# Train a model and test it for each kind of split\n",
    "print(\"Mean Squared Error values (smaller is better)\")\n",
    "model_5050 = train_and_test_model(\"50:50\", train_5050, test_5050)\n",
    "model_6040 = train_and_test_model(\"60:40\", train_6040, test_6040)\n",
    "model_7030 = train_and_test_model(\"70:30\", train_7030, test_7030)\n",
    "model_8020 = train_and_test_model(\"80:20\", train_8020, test_8020)"
   ]
  }
 ],
 "metadata": {
  "kernelspec": {
   "display_name": "Python 3",
   "language": "python",
   "name": "python3"
  },
  "language_info": {
   "codemirror_mode": {
    "name": "ipython",
    "version": 3
   },
   "file_extension": ".py",
   "mimetype": "text/x-python",
   "name": "python",
   "nbconvert_exporter": "python",
   "pygments_lexer": "ipython3",
   "version": "3.11.9"
  }
 },
 "nbformat": 4,
 "nbformat_minor": 2
}
