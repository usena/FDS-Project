{
 "cells": [
  {
   "cell_type": "code",
   "execution_count": 2,
   "metadata": {},
   "outputs": [],
   "source": [
    "import pandas as pd\n",
    "import numpy as np\n",
    "import matplotlib.pyplot as plt\n",
    "from functools import reduce\n",
    "import statsmodels.formula.api as smf\n",
    "from sklearn.model_selection import train_test_split\n",
    "from sklearn.metrics import mean_squared_error as mse\n",
    "from sklearn.metrics import r2_score\n",
    "import graphing"
   ]
  },
  {
   "cell_type": "code",
   "execution_count": 16,
   "metadata": {},
   "outputs": [],
   "source": [
    "df25 = pd.read_csv('Datasets/NYC/EmergencyNYC.csv',delimiter=',',on_bad_lines='skip')\n",
    "df26 = pd.read_csv('Datasets/NYC/acuteHydrocephalus.csv',delimiter=',',on_bad_lines='skip')\n",
    "df27 = pd.read_csv('Datasets/NYC/autoimmune.csv',delimiter=',',on_bad_lines='skip')\n",
    "df28 = pd.read_csv('Datasets/NYC/clot.csv',delimiter=',',on_bad_lines='skip')\n",
    "df29 = pd.read_csv('Datasets/NYC/delirium.csv',delimiter=',',on_bad_lines='skip')\n",
    "df30 = pd.read_csv('Datasets/NYC/dementia.csv',delimiter=',',on_bad_lines='skip')\n",
    "df31 = pd.read_csv('Datasets/NYC/donor.csv',delimiter=',',on_bad_lines='skip')\n",
    "df32 = pd.read_csv('Datasets/NYC/EMTs.csv',delimiter=',',on_bad_lines='skip')\n",
    "df33 = pd.read_csv('Datasets/NYC/gunshot.csv',delimiter=',',on_bad_lines='skip')\n",
    "df34 = pd.read_csv('Datasets/NYC/gynecologist.csv',delimiter=',',on_bad_lines='skip')\n",
    "df35 = pd.read_csv('Datasets/NYC/HepaticComa.csv',delimiter=',',on_bad_lines='skip')\n",
    "df36 = pd.read_csv('Datasets/NYC/incision.csv',delimiter=',',on_bad_lines='skip')\n",
    "df37 = pd.read_csv('Datasets/NYC/internal.csv',delimiter=',',on_bad_lines='skip')\n",
    "df38 = pd.read_csv('Datasets/NYC/metastasized.csv',delimiter=',',on_bad_lines='skip')\n",
    "df39 = pd.read_csv('Datasets/NYC/neurosurgery.csv',delimiter=',',on_bad_lines='skip')\n",
    "df40 = pd.read_csv('Datasets/NYC/organTransplant.csv',delimiter=',',on_bad_lines='skip')\n",
    "df41 = pd.read_csv('Datasets/NYC/paediatric.csv',delimiter=',',on_bad_lines='skip')\n",
    "df42 = pd.read_csv('Datasets/NYC/paramedics.csv',delimiter=',',on_bad_lines='skip')\n",
    "df43 = pd.read_csv('Datasets/NYC/seizures.csv',delimiter=',',on_bad_lines='skip')\n",
    "df44 = pd.read_csv('Datasets/NYC/SpinalCordInjury.csv',delimiter=',',on_bad_lines='skip')\n",
    "df45 = pd.read_csv('Datasets/NYC/stroke.csv',delimiter=',',on_bad_lines='skip')\n",
    "df46 = pd.read_csv('Datasets/NYC/trauma.csv',delimiter=',',on_bad_lines='skip')\n",
    "df47 = pd.read_csv('Datasets/NYC/tumor.csv',delimiter=',',on_bad_lines='skip')\n",
    "df48 = pd.read_csv('Datasets/NYC/vaccine.csv',delimiter=',',on_bad_lines='skip')"
   ]
  },
  {
   "cell_type": "code",
   "execution_count": 17,
   "metadata": {},
   "outputs": [],
   "source": [
    "df25.reset_index(inplace=True)\n",
    "df25.rename(columns={'index':'Date'},inplace=True)\n",
    "df25.rename(columns={'Category: All categories':'EmergencyNYC'},inplace=True)\n",
    "df25.drop(index=0,inplace=True)"
   ]
  },
  {
   "cell_type": "code",
   "execution_count": 18,
   "metadata": {},
   "outputs": [],
   "source": [
    "df26.reset_index(inplace=True)\n",
    "df26.rename(columns={'index':'Date'},inplace=True)\n",
    "df26.rename(columns={'Category: All categories':'AcuteHydrocephalus'},inplace=True)\n",
    "\n",
    "df27.reset_index(inplace=True)\n",
    "df27.rename(columns={'index':'Date'},inplace=True)\n",
    "df27.rename(columns={'Category: All categories':'Autoimmune'},inplace=True)\n",
    "\n",
    "df28.reset_index(inplace=True)\n",
    "df28.rename(columns={'index':'Date'},inplace=True)\n",
    "df28.rename(columns={'Category: All categories':'Clot'},inplace=True)\n",
    "\n",
    "df29.reset_index(inplace=True)\n",
    "df29.rename(columns={'index':'Date'},inplace=True)\n",
    "df29.rename(columns={'Category: All categories':'Delirium'},inplace=True)\n",
    "\n",
    "df30.reset_index(inplace=True)\n",
    "df30.rename(columns={'index':'Date'},inplace=True)\n",
    "df30.rename(columns={'Category: All categories':'Dementia'},inplace=True)\n",
    "\n",
    "df31.reset_index(inplace=True)\n",
    "df31.rename(columns={'index':'Date'},inplace=True)\n",
    "df31.rename(columns={'Category: All categories':'Donor'},inplace=True)\n",
    "\n",
    "df32.reset_index(inplace=True)\n",
    "df32.rename(columns={'index':'Date'},inplace=True)\n",
    "df32.rename(columns={'Category: All categories':'EMTs'},inplace=True)\n",
    "\n",
    "df33.reset_index(inplace=True)\n",
    "df33.rename(columns={'index':'Date'},inplace=True)\n",
    "df33.rename(columns={'Category: All categories':'GunshotWounds'},inplace=True)\n",
    "\n",
    "df34.reset_index(inplace=True)\n",
    "df34.rename(columns={'index':'Date'},inplace=True)\n",
    "df34.rename(columns={'Category: All categories':'Gynecologist'},inplace=True)\n",
    "\n",
    "df35.reset_index(inplace=True)\n",
    "df35.rename(columns={'index':'Date'},inplace=True)\n",
    "df35.rename(columns={'Category: All categories':'HepaticComa'},inplace=True)\n",
    "\n",
    "df36.reset_index(inplace=True)\n",
    "df36.rename(columns={'index':'Date'},inplace=True)\n",
    "df36.rename(columns={'Category: All categories':'Incision'},inplace=True)\n",
    "\n",
    "df37.reset_index(inplace=True)\n",
    "df37.rename(columns={'index':'Date'},inplace=True)\n",
    "df37.rename(columns={'Category: All categories':'InternalBleeding'},inplace=True)\n",
    "\n",
    "df38.reset_index(inplace=True)\n",
    "df38.rename(columns={'index':'Date'},inplace=True)\n",
    "df38.rename(columns={'Category: All categories':'Metastasized'},inplace=True)\n",
    "\n",
    "df39.reset_index(inplace=True)\n",
    "df39.rename(columns={'index':'Date'},inplace=True)\n",
    "df39.rename(columns={'Category: All categories':'Neurosurgery'},inplace=True)\n",
    "\n",
    "df40.reset_index(inplace=True)\n",
    "df40.rename(columns={'index':'Date'},inplace=True)\n",
    "df40.rename(columns={'Category: All categories':'OrganTransplant'},inplace=True)\n",
    "\n",
    "df41.reset_index(inplace=True)\n",
    "df41.rename(columns={'index':'Date'},inplace=True)\n",
    "df41.rename(columns={'Category: All categories':'Paediatric'},inplace=True)\n",
    "\n",
    "df42.reset_index(inplace=True)\n",
    "df42.rename(columns={'index':'Date'},inplace=True)\n",
    "df42.rename(columns={'Category: All categories':'Paramedics'},inplace=True)\n",
    "\n",
    "df43.reset_index(inplace=True)\n",
    "df43.rename(columns={'index':'Date'},inplace=True)\n",
    "df43.rename(columns={'Category: All categories':'Seizures'},inplace=True)\n",
    "\n",
    "df44.reset_index(inplace=True)\n",
    "df44.rename(columns={'index':'Date'},inplace=True)\n",
    "df44.rename(columns={'Category: All categories':'SpinalCordInjury'},inplace=True)\n",
    "\n",
    "df45.reset_index(inplace=True)\n",
    "df45.rename(columns={'index':'Date'},inplace=True)\n",
    "df45.rename(columns={'Category: All categories':'Stroke'},inplace=True)\n",
    "\n",
    "df46.reset_index(inplace=True)\n",
    "df46.rename(columns={'index':'Date'},inplace=True)\n",
    "df46.rename(columns={'Category: All categories':'Trauma'},inplace=True)\n",
    "\n",
    "df47.reset_index(inplace=True)\n",
    "df47.rename(columns={'index':'Date'},inplace=True)\n",
    "df47.rename(columns={'Category: All categories':'Tumor'},inplace=True)\n",
    "\n",
    "df48.reset_index(inplace=True)\n",
    "df48.rename(columns={'index':'Date'},inplace=True)\n",
    "df48.rename(columns={'Category: All categories':'CovidVaccine'},inplace=True)"
   ]
  },
  {
   "cell_type": "code",
   "execution_count": 19,
   "metadata": {},
   "outputs": [],
   "source": [
    "df26.drop(index=[0,1],inplace=True)\n",
    "df27.drop(index=[0,1],inplace=True)\n",
    "df28.drop(index=[0,1],inplace=True)\n",
    "df29.drop(index=[0,1],inplace=True)\n",
    "df30.drop(index=[0,1],inplace=True)\n",
    "df31.drop(index=[0,1],inplace=True)\n",
    "df32.drop(index=[0,1],inplace=True)\n",
    "df33.drop(index=[0,1],inplace=True)\n",
    "df34.drop(index=[0,1],inplace=True)\n",
    "df35.drop(index=[0,1],inplace=True)\n",
    "df36.drop(index=[0,1],inplace=True)\n",
    "df37.drop(index=[0,1],inplace=True)\n",
    "df38.drop(index=[0,1],inplace=True)\n",
    "df39.drop(index=[0,1],inplace=True)\n",
    "df40.drop(index=[0,1],inplace=True)\n",
    "df41.drop(index=[0,1],inplace=True)\n",
    "df42.drop(index=[0,1],inplace=True)\n",
    "df43.drop(index=[0,1],inplace=True)\n",
    "df44.drop(index=[0,1],inplace=True)\n",
    "df45.drop(index=[0,1],inplace=True)\n",
    "df46.drop(index=[0,1],inplace=True)\n",
    "df47.drop(index=[0,1],inplace=True)\n",
    "df48.drop(index=[0,1],inplace=True)"
   ]
  },
  {
   "cell_type": "markdown",
   "metadata": {},
   "source": [
    "df25['Date'] = pd.to_datetime(df25['Date'],format='%Y-%m',errors='coerce')\n",
    "df26['Date'] = pd.to_datetime(df26['Date'],format='%Y-%m',errors='coerce')\n",
    "df27['Date'] = pd.to_datetime(df27['Date'],format='%Y-%m',errors='coerce')\n",
    "df28['Date'] = pd.to_datetime(df28['Date'],format='%Y-%m',errors='coerce')\n",
    "df29['Date'] = pd.to_datetime(df29['Date'],format='%Y-%m',errors='coerce')\n",
    "df30['Date'] = pd.to_datetime(df30['Date'],format='%Y-%m',errors='coerce')\n",
    "df31['Date'] = pd.to_datetime(df31['Date'],format='%Y-%m',errors='coerce')\n",
    "df32['Date'] = pd.to_datetime(df32['Date'],format='%Y-%m',errors='coerce')\n",
    "df33['Date'] = pd.to_datetime(df33['Date'],format='%Y-%m',errors='coerce')\n",
    "df34['Date'] = pd.to_datetime(df34['Date'],format='%Y-%m',errors='coerce')\n",
    "df35['Date'] = pd.to_datetime(df35['Date'],format='%Y-%m',errors='coerce')\n",
    "df36['Date'] = pd.to_datetime(df36['Date'],format='%Y-%m',errors='coerce')\n",
    "df37['Date'] = pd.to_datetime(df37['Date'],format='%Y-%m',errors='coerce')\n",
    "df38['Date'] = pd.to_datetime(df38['Date'],format='%Y-%m',errors='coerce')\n",
    "df39['Date'] = pd.to_datetime(df39['Date'],format='%Y-%m',errors='coerce')\n",
    "df40['Date'] = pd.to_datetime(df40['Date'],format='%Y-%m',errors='coerce')\n",
    "df41['Date'] = pd.to_datetime(df41['Date'],format='%Y-%m',errors='coerce')\n",
    "df42['Date'] = pd.to_datetime(df42['Date'],format='%Y-%m',errors='coerce')\n",
    "df43['Date'] = pd.to_datetime(df43['Date'],format='%Y-%m',errors='coerce')\n",
    "df44['Date'] = pd.to_datetime(df44['Date'],format='%Y-%m',errors='coerce')\n",
    "df45['Date'] = pd.to_datetime(df45['Date'],format='%Y-%m',errors='coerce')\n",
    "df46['Date'] = pd.to_datetime(df46['Date'],format='%Y-%m',errors='coerce')\n",
    "df47['Date'] = pd.to_datetime(df47['Date'],format='%Y-%m',errors='coerce')\n",
    "df48['Date'] = pd.to_datetime(df48['Date'],format='%Y-%m',errors='coerce')"
   ]
  },
  {
   "cell_type": "code",
   "execution_count": 20,
   "metadata": {},
   "outputs": [
    {
     "data": {
      "text/html": [
       "<div>\n",
       "<style scoped>\n",
       "    .dataframe tbody tr th:only-of-type {\n",
       "        vertical-align: middle;\n",
       "    }\n",
       "\n",
       "    .dataframe tbody tr th {\n",
       "        vertical-align: top;\n",
       "    }\n",
       "\n",
       "    .dataframe thead th {\n",
       "        text-align: right;\n",
       "    }\n",
       "</style>\n",
       "<table border=\"1\" class=\"dataframe\">\n",
       "  <thead>\n",
       "    <tr style=\"text-align: right;\">\n",
       "      <th></th>\n",
       "      <th>Date</th>\n",
       "      <th>EmergencyNYC</th>\n",
       "      <th>AcuteHydrocephalus</th>\n",
       "      <th>Autoimmune</th>\n",
       "      <th>Clot</th>\n",
       "      <th>Delirium</th>\n",
       "      <th>Dementia</th>\n",
       "      <th>Donor</th>\n",
       "      <th>EMTs</th>\n",
       "      <th>GunshotWounds</th>\n",
       "      <th>...</th>\n",
       "      <th>Neurosurgery</th>\n",
       "      <th>OrganTransplant</th>\n",
       "      <th>Paediatric</th>\n",
       "      <th>Paramedics</th>\n",
       "      <th>Seizures</th>\n",
       "      <th>SpinalCordInjury</th>\n",
       "      <th>Stroke</th>\n",
       "      <th>Trauma</th>\n",
       "      <th>Tumor</th>\n",
       "      <th>CovidVaccine</th>\n",
       "    </tr>\n",
       "  </thead>\n",
       "  <tbody>\n",
       "    <tr>\n",
       "      <th>0</th>\n",
       "      <td>2023-03-05</td>\n",
       "      <td>0</td>\n",
       "      <td>0</td>\n",
       "      <td>87</td>\n",
       "      <td>84</td>\n",
       "      <td>68</td>\n",
       "      <td>65</td>\n",
       "      <td>72</td>\n",
       "      <td>71</td>\n",
       "      <td>58</td>\n",
       "      <td>...</td>\n",
       "      <td>81</td>\n",
       "      <td>66</td>\n",
       "      <td>57</td>\n",
       "      <td>67</td>\n",
       "      <td>95</td>\n",
       "      <td>75</td>\n",
       "      <td>71</td>\n",
       "      <td>94</td>\n",
       "      <td>85</td>\n",
       "      <td>53</td>\n",
       "    </tr>\n",
       "    <tr>\n",
       "      <th>1</th>\n",
       "      <td>2023-03-12</td>\n",
       "      <td>0</td>\n",
       "      <td>0</td>\n",
       "      <td>82</td>\n",
       "      <td>84</td>\n",
       "      <td>75</td>\n",
       "      <td>60</td>\n",
       "      <td>66</td>\n",
       "      <td>69</td>\n",
       "      <td>47</td>\n",
       "      <td>...</td>\n",
       "      <td>87</td>\n",
       "      <td>56</td>\n",
       "      <td>52</td>\n",
       "      <td>61</td>\n",
       "      <td>92</td>\n",
       "      <td>78</td>\n",
       "      <td>69</td>\n",
       "      <td>91</td>\n",
       "      <td>80</td>\n",
       "      <td>46</td>\n",
       "    </tr>\n",
       "    <tr>\n",
       "      <th>2</th>\n",
       "      <td>2023-03-19</td>\n",
       "      <td>0</td>\n",
       "      <td>0</td>\n",
       "      <td>85</td>\n",
       "      <td>87</td>\n",
       "      <td>79</td>\n",
       "      <td>76</td>\n",
       "      <td>73</td>\n",
       "      <td>0</td>\n",
       "      <td>58</td>\n",
       "      <td>...</td>\n",
       "      <td>93</td>\n",
       "      <td>85</td>\n",
       "      <td>56</td>\n",
       "      <td>65</td>\n",
       "      <td>96</td>\n",
       "      <td>81</td>\n",
       "      <td>72</td>\n",
       "      <td>92</td>\n",
       "      <td>83</td>\n",
       "      <td>51</td>\n",
       "    </tr>\n",
       "    <tr>\n",
       "      <th>3</th>\n",
       "      <td>2023-03-26</td>\n",
       "      <td>67</td>\n",
       "      <td>100</td>\n",
       "      <td>94</td>\n",
       "      <td>84</td>\n",
       "      <td>77</td>\n",
       "      <td>65</td>\n",
       "      <td>76</td>\n",
       "      <td>43</td>\n",
       "      <td>79</td>\n",
       "      <td>...</td>\n",
       "      <td>88</td>\n",
       "      <td>76</td>\n",
       "      <td>56</td>\n",
       "      <td>67</td>\n",
       "      <td>100</td>\n",
       "      <td>80</td>\n",
       "      <td>74</td>\n",
       "      <td>92</td>\n",
       "      <td>79</td>\n",
       "      <td>48</td>\n",
       "    </tr>\n",
       "    <tr>\n",
       "      <th>4</th>\n",
       "      <td>2023-04-02</td>\n",
       "      <td>100</td>\n",
       "      <td>0</td>\n",
       "      <td>82</td>\n",
       "      <td>85</td>\n",
       "      <td>68</td>\n",
       "      <td>58</td>\n",
       "      <td>72</td>\n",
       "      <td>55</td>\n",
       "      <td>49</td>\n",
       "      <td>...</td>\n",
       "      <td>87</td>\n",
       "      <td>68</td>\n",
       "      <td>46</td>\n",
       "      <td>58</td>\n",
       "      <td>90</td>\n",
       "      <td>85</td>\n",
       "      <td>73</td>\n",
       "      <td>93</td>\n",
       "      <td>79</td>\n",
       "      <td>44</td>\n",
       "    </tr>\n",
       "  </tbody>\n",
       "</table>\n",
       "<p>5 rows × 25 columns</p>\n",
       "</div>"
      ],
      "text/plain": [
       "         Date EmergencyNYC AcuteHydrocephalus Autoimmune Clot Delirium  \\\n",
       "0  2023-03-05            0                  0         87   84       68   \n",
       "1  2023-03-12            0                  0         82   84       75   \n",
       "2  2023-03-19            0                  0         85   87       79   \n",
       "3  2023-03-26           67                100         94   84       77   \n",
       "4  2023-04-02          100                  0         82   85       68   \n",
       "\n",
       "  Dementia Donor EMTs GunshotWounds  ... Neurosurgery OrganTransplant  \\\n",
       "0       65    72   71            58  ...           81              66   \n",
       "1       60    66   69            47  ...           87              56   \n",
       "2       76    73    0            58  ...           93              85   \n",
       "3       65    76   43            79  ...           88              76   \n",
       "4       58    72   55            49  ...           87              68   \n",
       "\n",
       "  Paediatric Paramedics Seizures SpinalCordInjury Stroke Trauma Tumor  \\\n",
       "0         57         67       95               75     71     94    85   \n",
       "1         52         61       92               78     69     91    80   \n",
       "2         56         65       96               81     72     92    83   \n",
       "3         56         67      100               80     74     92    79   \n",
       "4         46         58       90               85     73     93    79   \n",
       "\n",
       "  CovidVaccine  \n",
       "0           53  \n",
       "1           46  \n",
       "2           51  \n",
       "3           48  \n",
       "4           44  \n",
       "\n",
       "[5 rows x 25 columns]"
      ]
     },
     "execution_count": 20,
     "metadata": {},
     "output_type": "execute_result"
    }
   ],
   "source": [
    "dfs = [df25,df26,df27,df28,df29,df30,df31,df32,df33,df34,df35,df36,df37,df38,df39,df40,df41,df42,df43,df44,df45,df46,df47,df48]\n",
    "\n",
    "NewDF = reduce(lambda left, right: left.merge(right, on='Date'), dfs)\n",
    "\n",
    "NewDF.head()"
   ]
  },
  {
   "cell_type": "code",
   "execution_count": 22,
   "metadata": {},
   "outputs": [
    {
     "data": {
      "text/html": [
       "<div>\n",
       "<style scoped>\n",
       "    .dataframe tbody tr th:only-of-type {\n",
       "        vertical-align: middle;\n",
       "    }\n",
       "\n",
       "    .dataframe tbody tr th {\n",
       "        vertical-align: top;\n",
       "    }\n",
       "\n",
       "    .dataframe thead th {\n",
       "        text-align: right;\n",
       "    }\n",
       "</style>\n",
       "<table border=\"1\" class=\"dataframe\">\n",
       "  <thead>\n",
       "    <tr style=\"text-align: right;\">\n",
       "      <th></th>\n",
       "      <th>Date</th>\n",
       "      <th>EmergencyNYC</th>\n",
       "      <th>AcuteHydrocephalus</th>\n",
       "      <th>Autoimmune</th>\n",
       "      <th>Clot</th>\n",
       "      <th>Delirium</th>\n",
       "      <th>Dementia</th>\n",
       "      <th>Donor</th>\n",
       "      <th>EMTs</th>\n",
       "      <th>GunshotWounds</th>\n",
       "      <th>...</th>\n",
       "      <th>OrganTransplant</th>\n",
       "      <th>Paediatric</th>\n",
       "      <th>Paramedics</th>\n",
       "      <th>Seizures</th>\n",
       "      <th>SpinalCordInjury</th>\n",
       "      <th>Stroke</th>\n",
       "      <th>Trauma</th>\n",
       "      <th>Tumor</th>\n",
       "      <th>CovidVaccine</th>\n",
       "      <th>Average</th>\n",
       "    </tr>\n",
       "  </thead>\n",
       "  <tbody>\n",
       "    <tr>\n",
       "      <th>0</th>\n",
       "      <td>2023-03-05</td>\n",
       "      <td>0</td>\n",
       "      <td>0</td>\n",
       "      <td>87</td>\n",
       "      <td>84</td>\n",
       "      <td>68</td>\n",
       "      <td>65</td>\n",
       "      <td>72</td>\n",
       "      <td>71</td>\n",
       "      <td>58</td>\n",
       "      <td>...</td>\n",
       "      <td>66</td>\n",
       "      <td>57</td>\n",
       "      <td>67</td>\n",
       "      <td>95</td>\n",
       "      <td>75</td>\n",
       "      <td>71</td>\n",
       "      <td>94</td>\n",
       "      <td>85</td>\n",
       "      <td>53</td>\n",
       "      <td>70.391304</td>\n",
       "    </tr>\n",
       "    <tr>\n",
       "      <th>1</th>\n",
       "      <td>2023-03-12</td>\n",
       "      <td>0</td>\n",
       "      <td>0</td>\n",
       "      <td>82</td>\n",
       "      <td>84</td>\n",
       "      <td>75</td>\n",
       "      <td>60</td>\n",
       "      <td>66</td>\n",
       "      <td>69</td>\n",
       "      <td>47</td>\n",
       "      <td>...</td>\n",
       "      <td>56</td>\n",
       "      <td>52</td>\n",
       "      <td>61</td>\n",
       "      <td>92</td>\n",
       "      <td>78</td>\n",
       "      <td>69</td>\n",
       "      <td>91</td>\n",
       "      <td>80</td>\n",
       "      <td>46</td>\n",
       "      <td>65.173913</td>\n",
       "    </tr>\n",
       "    <tr>\n",
       "      <th>2</th>\n",
       "      <td>2023-03-19</td>\n",
       "      <td>0</td>\n",
       "      <td>0</td>\n",
       "      <td>85</td>\n",
       "      <td>87</td>\n",
       "      <td>79</td>\n",
       "      <td>76</td>\n",
       "      <td>73</td>\n",
       "      <td>0</td>\n",
       "      <td>58</td>\n",
       "      <td>...</td>\n",
       "      <td>85</td>\n",
       "      <td>56</td>\n",
       "      <td>65</td>\n",
       "      <td>96</td>\n",
       "      <td>81</td>\n",
       "      <td>72</td>\n",
       "      <td>92</td>\n",
       "      <td>83</td>\n",
       "      <td>51</td>\n",
       "      <td>70.608696</td>\n",
       "    </tr>\n",
       "    <tr>\n",
       "      <th>3</th>\n",
       "      <td>2023-03-26</td>\n",
       "      <td>67</td>\n",
       "      <td>100</td>\n",
       "      <td>94</td>\n",
       "      <td>84</td>\n",
       "      <td>77</td>\n",
       "      <td>65</td>\n",
       "      <td>76</td>\n",
       "      <td>43</td>\n",
       "      <td>79</td>\n",
       "      <td>...</td>\n",
       "      <td>76</td>\n",
       "      <td>56</td>\n",
       "      <td>67</td>\n",
       "      <td>100</td>\n",
       "      <td>80</td>\n",
       "      <td>74</td>\n",
       "      <td>92</td>\n",
       "      <td>79</td>\n",
       "      <td>48</td>\n",
       "      <td>77.869565</td>\n",
       "    </tr>\n",
       "    <tr>\n",
       "      <th>4</th>\n",
       "      <td>2023-04-02</td>\n",
       "      <td>100</td>\n",
       "      <td>0</td>\n",
       "      <td>82</td>\n",
       "      <td>85</td>\n",
       "      <td>68</td>\n",
       "      <td>58</td>\n",
       "      <td>72</td>\n",
       "      <td>55</td>\n",
       "      <td>49</td>\n",
       "      <td>...</td>\n",
       "      <td>68</td>\n",
       "      <td>46</td>\n",
       "      <td>58</td>\n",
       "      <td>90</td>\n",
       "      <td>85</td>\n",
       "      <td>73</td>\n",
       "      <td>93</td>\n",
       "      <td>79</td>\n",
       "      <td>44</td>\n",
       "      <td>68.652174</td>\n",
       "    </tr>\n",
       "  </tbody>\n",
       "</table>\n",
       "<p>5 rows × 26 columns</p>\n",
       "</div>"
      ],
      "text/plain": [
       "         Date  EmergencyNYC  AcuteHydrocephalus  Autoimmune  Clot  Delirium  \\\n",
       "0  2023-03-05             0                   0          87    84        68   \n",
       "1  2023-03-12             0                   0          82    84        75   \n",
       "2  2023-03-19             0                   0          85    87        79   \n",
       "3  2023-03-26            67                 100          94    84        77   \n",
       "4  2023-04-02           100                   0          82    85        68   \n",
       "\n",
       "   Dementia  Donor  EMTs  GunshotWounds  ...  OrganTransplant  Paediatric  \\\n",
       "0        65     72    71             58  ...               66          57   \n",
       "1        60     66    69             47  ...               56          52   \n",
       "2        76     73     0             58  ...               85          56   \n",
       "3        65     76    43             79  ...               76          56   \n",
       "4        58     72    55             49  ...               68          46   \n",
       "\n",
       "   Paramedics  Seizures  SpinalCordInjury  Stroke  Trauma  Tumor  \\\n",
       "0          67        95                75      71      94     85   \n",
       "1          61        92                78      69      91     80   \n",
       "2          65        96                81      72      92     83   \n",
       "3          67       100                80      74      92     79   \n",
       "4          58        90                85      73      93     79   \n",
       "\n",
       "   CovidVaccine    Average  \n",
       "0            53  70.391304  \n",
       "1            46  65.173913  \n",
       "2            51  70.608696  \n",
       "3            48  77.869565  \n",
       "4            44  68.652174  \n",
       "\n",
       "[5 rows x 26 columns]"
      ]
     },
     "execution_count": 22,
     "metadata": {},
     "output_type": "execute_result"
    }
   ],
   "source": [
    "columns = ['EmergencyNYC', 'AcuteHydrocephalus', 'Autoimmune', 'Clot', 'Delirium', 'Dementia', 'Donor', 'EMTs', 'GunshotWounds', 'Gynecologist', 'HepaticComa', 'Incision', 'InternalBleeding', 'Metastasized', 'Neurosurgery', 'OrganTransplant', 'Paediatric', 'Paramedics', 'Seizures', 'SpinalCordInjury', 'Stroke', 'Trauma', 'Tumor', 'CovidVaccine']\n",
    "NewDF[columns] = NewDF[columns].apply(pd.to_numeric,errors='coerce')\n",
    "\n",
    "terms = ['AcuteHydrocephalus', 'Autoimmune', 'Clot', 'Delirium', 'Dementia', 'Donor', 'EMTs', 'GunshotWounds', 'Gynecologist', 'HepaticComa', 'Incision', 'InternalBleeding', 'Metastasized', 'Neurosurgery', 'OrganTransplant', 'Paediatric', 'Paramedics', 'Seizures', 'SpinalCordInjury', 'Stroke', 'Trauma', 'Tumor', 'CovidVaccine']\n",
    "NewDF['Average'] = NewDF[terms].mean(axis=1)\n",
    "\n",
    "NewDF.head()"
   ]
  },
  {
   "cell_type": "code",
   "execution_count": 23,
   "metadata": {},
   "outputs": [
    {
     "data": {
      "image/png": "[encoded data removed]",
      "text/plain": [
       "<Figure size 640x480 with 1 Axes>"
      ]
     },
     "metadata": {},
     "output_type": "display_data"
    }
   ],
   "source": [
    "plt.scatter(NewDF['EmergencyNYC'],NewDF['Average'],color='blue')\n",
    "plt.xlabel('Emergency NYC Trends')\n",
    "plt.ylabel('Average Medical Terms Trends')\n",
    "plt.title('Relationship Between Emergency NYC Show & the Medical Terms')\n",
    "\n",
    "plt.show()"
   ]
  },
  {
   "cell_type": "code",
   "execution_count": 24,
   "metadata": {},
   "outputs": [
    {
     "data": {
      "text/plain": [
       "0.13618170920605271"
      ]
     },
     "execution_count": 24,
     "metadata": {},
     "output_type": "execute_result"
    }
   ],
   "source": [
    "NewDF['EmergencyNYC'].corr(NewDF['Average'])"
   ]
  },
  {
   "cell_type": "code",
   "execution_count": 26,
   "metadata": {},
   "outputs": [],
   "source": [
    "NewDF.to_csv('Emergency_NYC.csv', index=False)"
   ]
  },
  {
   "cell_type": "code",
   "execution_count": 27,
   "metadata": {},
   "outputs": [
    {
     "data": {
      "text/html": [
       "<div>\n",
       "<style scoped>\n",
       "    .dataframe tbody tr th:only-of-type {\n",
       "        vertical-align: middle;\n",
       "    }\n",
       "\n",
       "    .dataframe tbody tr th {\n",
       "        vertical-align: top;\n",
       "    }\n",
       "\n",
       "    .dataframe thead th {\n",
       "        text-align: right;\n",
       "    }\n",
       "</style>\n",
       "<table border=\"1\" class=\"dataframe\">\n",
       "  <thead>\n",
       "    <tr style=\"text-align: right;\">\n",
       "      <th></th>\n",
       "      <th>Date</th>\n",
       "      <th>EmergencyNYC</th>\n",
       "      <th>AcuteHydrocephalus</th>\n",
       "      <th>Autoimmune</th>\n",
       "      <th>Clot</th>\n",
       "      <th>Delirium</th>\n",
       "      <th>Dementia</th>\n",
       "      <th>Donor</th>\n",
       "      <th>EMTs</th>\n",
       "      <th>GunshotWounds</th>\n",
       "      <th>...</th>\n",
       "      <th>OrganTransplant</th>\n",
       "      <th>Paediatric</th>\n",
       "      <th>Paramedics</th>\n",
       "      <th>Seizures</th>\n",
       "      <th>SpinalCordInjury</th>\n",
       "      <th>Stroke</th>\n",
       "      <th>Trauma</th>\n",
       "      <th>Tumor</th>\n",
       "      <th>CovidVaccine</th>\n",
       "      <th>Average</th>\n",
       "    </tr>\n",
       "  </thead>\n",
       "  <tbody>\n",
       "    <tr>\n",
       "      <th>0</th>\n",
       "      <td>2023-03-05</td>\n",
       "      <td>0</td>\n",
       "      <td>0</td>\n",
       "      <td>87</td>\n",
       "      <td>84</td>\n",
       "      <td>68</td>\n",
       "      <td>65</td>\n",
       "      <td>72</td>\n",
       "      <td>71</td>\n",
       "      <td>58</td>\n",
       "      <td>...</td>\n",
       "      <td>66</td>\n",
       "      <td>57</td>\n",
       "      <td>67</td>\n",
       "      <td>95</td>\n",
       "      <td>75</td>\n",
       "      <td>71</td>\n",
       "      <td>94</td>\n",
       "      <td>85</td>\n",
       "      <td>53</td>\n",
       "      <td>70.391304</td>\n",
       "    </tr>\n",
       "    <tr>\n",
       "      <th>1</th>\n",
       "      <td>2023-03-12</td>\n",
       "      <td>0</td>\n",
       "      <td>0</td>\n",
       "      <td>82</td>\n",
       "      <td>84</td>\n",
       "      <td>75</td>\n",
       "      <td>60</td>\n",
       "      <td>66</td>\n",
       "      <td>69</td>\n",
       "      <td>47</td>\n",
       "      <td>...</td>\n",
       "      <td>56</td>\n",
       "      <td>52</td>\n",
       "      <td>61</td>\n",
       "      <td>92</td>\n",
       "      <td>78</td>\n",
       "      <td>69</td>\n",
       "      <td>91</td>\n",
       "      <td>80</td>\n",
       "      <td>46</td>\n",
       "      <td>65.173913</td>\n",
       "    </tr>\n",
       "    <tr>\n",
       "      <th>2</th>\n",
       "      <td>2023-03-19</td>\n",
       "      <td>0</td>\n",
       "      <td>0</td>\n",
       "      <td>85</td>\n",
       "      <td>87</td>\n",
       "      <td>79</td>\n",
       "      <td>76</td>\n",
       "      <td>73</td>\n",
       "      <td>0</td>\n",
       "      <td>58</td>\n",
       "      <td>...</td>\n",
       "      <td>85</td>\n",
       "      <td>56</td>\n",
       "      <td>65</td>\n",
       "      <td>96</td>\n",
       "      <td>81</td>\n",
       "      <td>72</td>\n",
       "      <td>92</td>\n",
       "      <td>83</td>\n",
       "      <td>51</td>\n",
       "      <td>70.608696</td>\n",
       "    </tr>\n",
       "    <tr>\n",
       "      <th>3</th>\n",
       "      <td>2023-03-26</td>\n",
       "      <td>67</td>\n",
       "      <td>100</td>\n",
       "      <td>94</td>\n",
       "      <td>84</td>\n",
       "      <td>77</td>\n",
       "      <td>65</td>\n",
       "      <td>76</td>\n",
       "      <td>43</td>\n",
       "      <td>79</td>\n",
       "      <td>...</td>\n",
       "      <td>76</td>\n",
       "      <td>56</td>\n",
       "      <td>67</td>\n",
       "      <td>100</td>\n",
       "      <td>80</td>\n",
       "      <td>74</td>\n",
       "      <td>92</td>\n",
       "      <td>79</td>\n",
       "      <td>48</td>\n",
       "      <td>77.869565</td>\n",
       "    </tr>\n",
       "    <tr>\n",
       "      <th>4</th>\n",
       "      <td>2023-04-02</td>\n",
       "      <td>100</td>\n",
       "      <td>0</td>\n",
       "      <td>82</td>\n",
       "      <td>85</td>\n",
       "      <td>68</td>\n",
       "      <td>58</td>\n",
       "      <td>72</td>\n",
       "      <td>55</td>\n",
       "      <td>49</td>\n",
       "      <td>...</td>\n",
       "      <td>68</td>\n",
       "      <td>46</td>\n",
       "      <td>58</td>\n",
       "      <td>90</td>\n",
       "      <td>85</td>\n",
       "      <td>73</td>\n",
       "      <td>93</td>\n",
       "      <td>79</td>\n",
       "      <td>44</td>\n",
       "      <td>68.652174</td>\n",
       "    </tr>\n",
       "  </tbody>\n",
       "</table>\n",
       "<p>5 rows × 26 columns</p>\n",
       "</div>"
      ],
      "text/plain": [
       "         Date  EmergencyNYC  AcuteHydrocephalus  Autoimmune  Clot  Delirium  \\\n",
       "0  2023-03-05             0                   0          87    84        68   \n",
       "1  2023-03-12             0                   0          82    84        75   \n",
       "2  2023-03-19             0                   0          85    87        79   \n",
       "3  2023-03-26            67                 100          94    84        77   \n",
       "4  2023-04-02           100                   0          82    85        68   \n",
       "\n",
       "   Dementia  Donor  EMTs  GunshotWounds  ...  OrganTransplant  Paediatric  \\\n",
       "0        65     72    71             58  ...               66          57   \n",
       "1        60     66    69             47  ...               56          52   \n",
       "2        76     73     0             58  ...               85          56   \n",
       "3        65     76    43             79  ...               76          56   \n",
       "4        58     72    55             49  ...               68          46   \n",
       "\n",
       "   Paramedics  Seizures  SpinalCordInjury  Stroke  Trauma  Tumor  \\\n",
       "0          67        95                75      71      94     85   \n",
       "1          61        92                78      69      91     80   \n",
       "2          65        96                81      72      92     83   \n",
       "3          67       100                80      74      92     79   \n",
       "4          58        90                85      73      93     79   \n",
       "\n",
       "   CovidVaccine    Average  \n",
       "0            53  70.391304  \n",
       "1            46  65.173913  \n",
       "2            51  70.608696  \n",
       "3            48  77.869565  \n",
       "4            44  68.652174  \n",
       "\n",
       "[5 rows x 26 columns]"
      ]
     },
     "execution_count": 27,
     "metadata": {},
     "output_type": "execute_result"
    }
   ],
   "source": [
    "dataset = pd.read_csv(\"Emergency_NYC.csv\", delimiter=',',on_bad_lines='skip')\n",
    "dataset.head()"
   ]
  },
  {
   "cell_type": "code",
   "execution_count": 28,
   "metadata": {},
   "outputs": [
    {
     "name": "stderr",
     "output_type": "stream",
     "text": [
      "C:\\Users\\User\\AppData\\Local\\Temp\\ipykernel_9636\\1066879644.py:7: FutureWarning:\n",
      "\n",
      "Series.__getitem__ treating keys as positions is deprecated. In a future version, integer keys will always be treated as labels (consistent with DataFrame behavior). To access a value by position, use `ser.iloc[pos]`\n",
      "\n"
     ]
    },
    {
     "data": {
      "application/vnd.plotly.v1+json": {
       "config": {
        "plotlyServerURL": "https://plot.ly"
       },
       "data": [
        {
         "hovertemplate": "EmergencyNYC=%{x}<br>Average=%{y}<extra></extra>",
         "legendgroup": "",
         "marker": {
          "color": "#636efa",
          "size": 17,
          "symbol": "circle"
         },
         "mode": "markers",
         "name": "",
         "orientation": "v",
         "showlegend": false,
         "type": "scatter",
         "x": [
          0,
          0,
          0,
          67,
          100,
          43,
          25,
          16,
          12,
          9,
          8,
          6,
          7,
          6,
          5,
          5,
          5,
          6,
          5,
          5,
          5,
          4,
          3,
          4,
          4,
          0,
          3,
          2,
          3,
          8,
          4,
          2,
          2,
          4,
          2,
          2,
          4,
          0,
          0,
          0,
          2,
          2,
          4,
          3,
          4,
          0,
          0,
          0,
          4,
          3,
          0,
          3,
          0,
          2,
          0,
          0,
          0,
          0,
          0,
          2,
          0,
          0,
          2,
          0,
          0,
          0,
          0,
          3,
          0,
          0,
          0,
          2,
          0,
          0,
          0,
          0,
          0,
          0,
          0,
          0,
          0,
          0,
          0,
          0,
          0,
          0,
          0,
          0,
          0,
          1,
          1
         ],
         "xaxis": "x",
         "y": [
          70.3913043478261,
          65.17391304347827,
          70.6086956521739,
          77.8695652173913,
          68.65217391304348,
          68.43478260869566,
          73.91304347826087,
          70.1304347826087,
          71,
          68,
          62.95652173913044,
          63.391304347826086,
          64,
          63.47826086956522,
          66.91304347826087,
          64.1304347826087,
          62.65217391304348,
          62.60869565217392,
          69.91304347826087,
          64.52173913043478,
          70.95652173913044,
          62.30434782608695,
          68.1304347826087,
          63.26086956521739,
          63.17391304347826,
          63.26086956521739,
          66.21739130434783,
          65,
          67.08695652173913,
          68.08695652173913,
          64.04347826086956,
          67.6086956521739,
          71.91304347826087,
          68.52173913043478,
          72.8695652173913,
          65.34782608695652,
          72.69565217391305,
          58.869565217391305,
          66.73913043478261,
          70.82608695652173,
          63.04347826086956,
          57.08695652173913,
          53.60869565217392,
          59.52173913043478,
          67.43478260869566,
          66.47826086956522,
          72.52173913043478,
          69.08695652173913,
          71.69565217391305,
          67,
          72.65217391304348,
          78.8695652173913,
          69.30434782608695,
          75.82608695652173,
          75.8695652173913,
          69.95652173913044,
          68.69565217391305,
          73,
          72.43478260869566,
          75,
          68.34782608695652,
          68.91304347826087,
          65.52173913043478,
          63.869565217391305,
          58.34782608695652,
          67.30434782608695,
          64.78260869565217,
          63.04347826086956,
          71.04347826086956,
          60.21739130434783,
          68.17391304347827,
          66.04347826086956,
          66.73913043478261,
          62.73913043478261,
          66.78260869565217,
          66.04347826086956,
          67.43478260869566,
          67.04347826086956,
          68.91304347826087,
          74.47826086956522,
          70.21739130434783,
          69.6086956521739,
          67.34782608695652,
          66.26086956521739,
          74.95652173913044,
          76.65217391304348,
          74.30434782608695,
          63.04347826086956,
          69.69565217391305,
          72.04347826086956,
          65.17391304347827
         ],
         "yaxis": "y"
        }
       ],
       "layout": {
        "legend": {
         "tracegroupgap": 0
        },
        "shapes": [
         {
          "line": {
           "color": "rgb(228,26,28)"
          },
          "path": "M0.0 67.46795764347561 L 0.5025125628140703 67.49194780821469 L 1.0050251256281406 67.51593797295375 L 1.507537688442211 67.53992813769283 L 2.0100502512562812 67.5639183024319 L 2.5125628140703515 67.58790846717098 L 3.015075376884422 67.61189863191004 L 3.517587939698492 67.63588879664911 L 4.0201005025125625 67.65987896138819 L 4.522613065326633 67.68386912612726 L 5.025125628140703 67.70785929086632 L 5.527638190954773 67.7318494556054 L 6.030150753768844 67.75583962034447 L 6.532663316582914 67.77982978508355 L 7.035175879396984 67.80381994982261 L 7.537688442211055 67.82781011456169 L 8.040201005025125 67.85180027930076 L 8.542713567839195 67.87579044403984 L 9.045226130653266 67.8997806087789 L 9.547738693467336 67.92377077351797 L 10.050251256281406 67.94776093825705 L 10.552763819095476 67.97175110299612 L 11.055276381909547 67.99574126773518 L 11.557788944723617 68.01973143247426 L 12.060301507537687 68.04372159721333 L 12.562814070351758 68.06771176195241 L 13.065326633165828 68.09170192669147 L 13.567839195979898 68.11569209143055 L 14.070351758793969 68.13968225616962 L 14.572864321608039 68.1636724209087 L 15.07537688442211 68.18766258564776 L 15.57788944723618 68.21165275038683 L 16.08040201005025 68.23564291512591 L 16.58291457286432 68.25963307986498 L 17.08542713567839 68.28362324460404 L 17.587939698492463 68.30761340934312 L 18.09045226130653 68.3316035740822 L 18.5929648241206 68.35559373882127 L 19.09547738693467 68.37958390356033 L 19.597989949748744 68.4035740682994 L 20.100502512562812 68.42756423303848 L 20.60301507537688 68.45155439777756 L 21.105527638190953 68.47554456251662 L 21.608040201005025 68.49953472725569 L 22.110552763819094 68.52352489199477 L 22.613065326633162 68.54751505673384 L 23.115577889447234 68.5715052214729 L 23.618090452261306 68.59549538621198 L 24.120603015075375 68.61948555095105 L 24.623115577889443 68.64347571569013 L 25.125628140703515 68.66746588042919 L 25.628140703517587 68.69145604516827 L 26.130653266331656 68.71544620990734 L 26.633165829145725 68.73943637464642 L 27.135678391959797 68.76342653938548 L 27.63819095477387 68.78741670412455 L 28.140703517587937 68.81140686886363 L 28.643216080402006 68.8353970336027 L 29.145728643216078 68.85938719834176 L 29.64824120603015 68.88337736308084 L 30.15075376884422 68.90736752781991 L 30.653266331658287 68.93135769255899 L 31.15577889447236 68.95534785729805 L 31.65829145728643 68.97933802203713 L 32.1608040201005 69.0033281867762 L 32.66331658291457 69.02731835151528 L 33.16582914572864 69.05130851625434 L 33.66834170854271 69.07529868099341 L 34.17085427135678 69.09928884573249 L 34.67336683417085 69.12327901047156 L 35.175879396984925 69.14726917521062 L 35.678391959798994 69.1712593399497 L 36.18090452261306 69.19524950468877 L 36.68341708542713 69.21923966942785 L 37.1859296482412 69.24322983416691 L 37.688442211055275 69.26721999890599 L 38.19095477386934 69.29121016364506 L 38.69346733668341 69.31520032838414 L 39.19597989949749 69.3391904931232 L 39.698492462311556 69.36318065786227 L 40.201005025125625 69.38717082260135 L 40.70351758793969 69.41116098734042 L 41.20603015075376 69.43515115207948 L 41.70854271356784 69.45914131681856 L 42.211055276381906 69.48313148155763 L 42.713567839195974 69.50712164629671 L 43.21608040201005 69.53111181103577 L 43.71859296482412 69.55510197577485 L 44.22110552763819 69.57909214051392 L 44.723618090452256 69.603082305253 L 45.226130653266324 69.62707246999206 L 45.7286432160804 69.65106263473113 L 46.23115577889447 69.67505279947021 L 46.73366834170854 69.69904296420927 L 47.23618090452261 69.72303312894834 L 47.73869346733668 69.74702329368742 L 48.24120603015075 69.7710134584265 L 48.74371859296482 69.79500362316557 L 49.24623115577889 69.81899378790463 L 49.74874371859296 69.8429839526437 L 50.25125628140703 69.86697411738278 L 50.7537688442211 69.89096428212184 L 51.256281407035175 69.91495444686092 L 51.75879396984924 69.9389446116 L 52.26130653266331 69.96293477633907 L 52.76381909547738 69.98692494107813 L 53.26633165829145 70.0109151058172 L 53.768844221105525 70.03490527055628 L 54.27135678391959 70.05889543529536 L 54.77386934673366 70.08288560003442 L 55.27638190954774 70.10687576477349 L 55.778894472361806 70.13086592951257 L 56.281407035175874 70.15485609425164 L 56.78391959798994 70.1788462589907 L 57.28643216080401 70.20283642372978 L 57.78894472361809 70.22682658846885 L 58.291457286432156 70.25081675320793 L 58.793969849246224 70.27480691794699 L 59.2964824120603 70.29879708268606 L 59.79899497487437 70.32278724742514 L 60.30150753768844 70.34677741216422 L 60.804020100502505 70.37076757690328 L 61.306532663316574 70.39475774164235 L 61.80904522613065 70.41874790638143 L 62.31155778894472 70.4427380711205 L 62.81407035175879 70.46672823585956 L 63.31658291457286 70.49071840059864 L 63.81909547738693 70.51470856533771 L 64.321608040201 70.53869873007679 L 64.82412060301507 70.56268889481585 L 65.32663316582914 70.58667905955492 L 65.82914572864321 70.610669224294 L 66.33165829145727 70.63465938903308 L 66.83417085427135 70.65864955377214 L 67.33668341708542 70.68263971851121 L 67.83919597989949 70.70662988325029 L 68.34170854271356 70.73062004798936 L 68.84422110552764 70.75461021272842 L 69.3467336683417 70.7786003774675 L 69.84924623115577 70.80259054220657 L 70.35175879396985 70.82658070694565 L 70.85427135678391 70.85057087168471 L 71.35678391959799 70.87456103642378 L 71.85929648241205 70.89855120116286 L 72.36180904522612 70.92254136590194 L 72.8643216080402 70.946531530641 L 73.36683417085426 70.97052169538007 L 73.86934673366834 70.99451186011915 L 74.3718592964824 71.01850202485822 L 74.87437185929647 71.04249218959728 L 75.37688442211055 71.06648235433636 L 75.87939698492461 71.09047251907543 L 76.38190954773869 71.11446268381451 L 76.88442211055276 71.13845284855357 L 77.38693467336682 71.16244301329264 L 77.8894472361809 71.18643317803172 L 78.39195979899498 71.2104233427708 L 78.89447236180904 71.23441350750986 L 79.39698492462311 71.25840367224893 L 79.89949748743717 71.282393836988 L 80.40201005025125 71.30638400172708 L 80.90452261306532 71.33037416646614 L 81.40703517587939 71.35436433120522 L 81.90954773869346 71.3783544959443 L 82.41206030150752 71.40234466068337 L 82.9145728643216 71.42633482542243 L 83.41708542713567 71.4503249901615 L 83.91959798994974 71.47431515490058 L 84.42211055276381 71.49830531963966 L 84.92462311557789 71.52229548437872 L 85.42713567839195 71.54628564911779 L 85.92964824120602 71.57027581385687 L 86.4321608040201 71.59426597859594 L 86.93467336683416 71.618256143335 L 87.43718592964824 71.64224630807408 L 87.9396984924623 71.66623647281315 L 88.44221105527637 71.69022663755223 L 88.94472361809045 71.71421680229129 L 89.44723618090451 71.73820696703037 L 89.94974874371859 71.76219713176944 L 90.45226130653265 71.7861872965085 L 90.95477386934672 71.81017746124758 L 91.4572864321608 71.83416762598665 L 91.95979899497486 71.85815779072573 L 92.46231155778894 71.8821479554648 L 92.96482412060301 71.90613812020386 L 93.46733668341707 71.93012828494294 L 93.96984924623115 71.95411844968201 L 94.47236180904522 71.97810861442107 L 94.97487437185929 72.00209877916015 L 95.47738693467336 72.02608894389923 L 95.97989949748742 72.0500791086383 L 96.4824120603015 72.07406927337738 L 96.98492462311557 72.09805943811644 L 97.48743718592964 72.12204960285551 L 97.98994974874371 72.14603976759459 L 98.49246231155777 72.17002993233365 L 98.99497487437185 72.19402009707272 L 99.49748743718592 72.2180102618118 L 100.0 72.24200042655087",
          "type": "path"
         }
        ],
        "template": {
         "data": {
          "bar": [
           {
            "error_x": {
             "color": "#2a3f5f"
            },
            "error_y": {
             "color": "#2a3f5f"
            },
            "marker": {
             "line": {
              "color": "white",
              "width": 0.5
             },
             "pattern": {
              "fillmode": "overlay",
              "size": 10,
              "solidity": 0.2
             }
            },
            "type": "bar"
           }
          ],
          "barpolar": [
           {
            "marker": {
             "line": {
              "color": "white",
              "width": 0.5
             },
             "pattern": {
              "fillmode": "overlay",
              "size": 10,
              "solidity": 0.2
             }
            },
            "type": "barpolar"
           }
          ],
          "box": [
           {
            "boxpoints": "outliers",
            "notched": false,
            "type": "box"
           }
          ],
          "carpet": [
           {
            "aaxis": {
             "endlinecolor": "#2a3f5f",
             "gridcolor": "#C8D4E3",
             "linecolor": "#C8D4E3",
             "minorgridcolor": "#C8D4E3",
             "startlinecolor": "#2a3f5f"
            },
            "baxis": {
             "endlinecolor": "#2a3f5f",
             "gridcolor": "#C8D4E3",
             "linecolor": "#C8D4E3",
             "minorgridcolor": "#C8D4E3",
             "startlinecolor": "#2a3f5f"
            },
            "type": "carpet"
           }
          ],
          "choropleth": [
           {
            "colorbar": {
             "outlinewidth": 0,
             "ticks": ""
            },
            "type": "choropleth"
           }
          ],
          "contour": [
           {
            "colorbar": {
             "outlinewidth": 0,
             "ticks": ""
            },
            "colorscale": [
             [
              0,
              "#0d0887"
             ],
             [
              0.1111111111111111,
              "#46039f"
             ],
             [
              0.2222222222222222,
              "#7201a8"
             ],
             [
              0.3333333333333333,
              "#9c179e"
             ],
             [
              0.4444444444444444,
              "#bd3786"
             ],
             [
              0.5555555555555556,
              "#d8576b"
             ],
             [
              0.6666666666666666,
              "#ed7953"
             ],
             [
              0.7777777777777778,
              "#fb9f3a"
             ],
             [
              0.8888888888888888,
              "#fdca26"
             ],
             [
              1,
              "#f0f921"
             ]
            ],
            "type": "contour"
           }
          ],
          "contourcarpet": [
           {
            "colorbar": {
             "outlinewidth": 0,
             "ticks": ""
            },
            "type": "contourcarpet"
           }
          ],
          "heatmap": [
           {
            "colorbar": {
             "outlinewidth": 0,
             "ticks": ""
            },
            "colorscale": [
             [
              0,
              "#0d0887"
             ],
             [
              0.1111111111111111,
              "#46039f"
             ],
             [
              0.2222222222222222,
              "#7201a8"
             ],
             [
              0.3333333333333333,
              "#9c179e"
             ],
             [
              0.4444444444444444,
              "#bd3786"
             ],
             [
              0.5555555555555556,
              "#d8576b"
             ],
             [
              0.6666666666666666,
              "#ed7953"
             ],
             [
              0.7777777777777778,
              "#fb9f3a"
             ],
             [
              0.8888888888888888,
              "#fdca26"
             ],
             [
              1,
              "#f0f921"
             ]
            ],
            "type": "heatmap"
           }
          ],
          "heatmapgl": [
           {
            "colorbar": {
             "outlinewidth": 0,
             "ticks": ""
            },
            "colorscale": [
             [
              0,
              "#0d0887"
             ],
             [
              0.1111111111111111,
              "#46039f"
             ],
             [
              0.2222222222222222,
              "#7201a8"
             ],
             [
              0.3333333333333333,
              "#9c179e"
             ],
             [
              0.4444444444444444,
              "#bd3786"
             ],
             [
              0.5555555555555556,
              "#d8576b"
             ],
             [
              0.6666666666666666,
              "#ed7953"
             ],
             [
              0.7777777777777778,
              "#fb9f3a"
             ],
             [
              0.8888888888888888,
              "#fdca26"
             ],
             [
              1,
              "#f0f921"
             ]
            ],
            "type": "heatmapgl"
           }
          ],
          "histogram": [
           {
            "marker": {
             "line": {
              "width": 1
             },
             "pattern": {
              "fillmode": "overlay",
              "size": 10,
              "solidity": 0.2
             }
            },
            "type": "histogram"
           }
          ],
          "histogram2d": [
           {
            "colorbar": {
             "outlinewidth": 0,
             "ticks": ""
            },
            "colorscale": [
             [
              0,
              "#0d0887"
             ],
             [
              0.1111111111111111,
              "#46039f"
             ],
             [
              0.2222222222222222,
              "#7201a8"
             ],
             [
              0.3333333333333333,
              "#9c179e"
             ],
             [
              0.4444444444444444,
              "#bd3786"
             ],
             [
              0.5555555555555556,
              "#d8576b"
             ],
             [
              0.6666666666666666,
              "#ed7953"
             ],
             [
              0.7777777777777778,
              "#fb9f3a"
             ],
             [
              0.8888888888888888,
              "#fdca26"
             ],
             [
              1,
              "#f0f921"
             ]
            ],
            "type": "histogram2d"
           }
          ],
          "histogram2dcontour": [
           {
            "colorbar": {
             "outlinewidth": 0,
             "ticks": ""
            },
            "colorscale": [
             [
              0,
              "#0d0887"
             ],
             [
              0.1111111111111111,
              "#46039f"
             ],
             [
              0.2222222222222222,
              "#7201a8"
             ],
             [
              0.3333333333333333,
              "#9c179e"
             ],
             [
              0.4444444444444444,
              "#bd3786"
             ],
             [
              0.5555555555555556,
              "#d8576b"
             ],
             [
              0.6666666666666666,
              "#ed7953"
             ],
             [
              0.7777777777777778,
              "#fb9f3a"
             ],
             [
              0.8888888888888888,
              "#fdca26"
             ],
             [
              1,
              "#f0f921"
             ]
            ],
            "type": "histogram2dcontour"
           }
          ],
          "mesh3d": [
           {
            "colorbar": {
             "outlinewidth": 0,
             "ticks": ""
            },
            "type": "mesh3d"
           }
          ],
          "parcoords": [
           {
            "line": {
             "colorbar": {
              "outlinewidth": 0,
              "ticks": ""
             }
            },
            "type": "parcoords"
           }
          ],
          "pie": [
           {
            "automargin": true,
            "type": "pie"
           }
          ],
          "scatter": [
           {
            "fillpattern": {
             "fillmode": "overlay",
             "size": 10,
             "solidity": 0.2
            },
            "marker": {
             "opacity": 0.8
            },
            "type": "scatter"
           }
          ],
          "scatter3d": [
           {
            "line": {
             "colorbar": {
              "outlinewidth": 0,
              "ticks": ""
             }
            },
            "marker": {
             "colorbar": {
              "outlinewidth": 0,
              "ticks": ""
             },
             "opacity": 0.8
            },
            "type": "scatter3d"
           }
          ],
          "scattercarpet": [
           {
            "marker": {
             "colorbar": {
              "outlinewidth": 0,
              "ticks": ""
             }
            },
            "type": "scattercarpet"
           }
          ],
          "scattergeo": [
           {
            "marker": {
             "colorbar": {
              "outlinewidth": 0,
              "ticks": ""
             }
            },
            "type": "scattergeo"
           }
          ],
          "scattergl": [
           {
            "marker": {
             "colorbar": {
              "outlinewidth": 0,
              "ticks": ""
             }
            },
            "type": "scattergl"
           }
          ],
          "scattermapbox": [
           {
            "marker": {
             "colorbar": {
              "outlinewidth": 0,
              "ticks": ""
             }
            },
            "type": "scattermapbox"
           }
          ],
          "scatterpolar": [
           {
            "marker": {
             "colorbar": {
              "outlinewidth": 0,
              "ticks": ""
             }
            },
            "type": "scatterpolar"
           }
          ],
          "scatterpolargl": [
           {
            "marker": {
             "colorbar": {
              "outlinewidth": 0,
              "ticks": ""
             }
            },
            "type": "scatterpolargl"
           }
          ],
          "scatterternary": [
           {
            "marker": {
             "colorbar": {
              "outlinewidth": 0,
              "ticks": ""
             }
            },
            "type": "scatterternary"
           }
          ],
          "surface": [
           {
            "colorbar": {
             "outlinewidth": 0,
             "ticks": ""
            },
            "colorscale": [
             [
              0,
              "#0d0887"
             ],
             [
              0.1111111111111111,
              "#46039f"
             ],
             [
              0.2222222222222222,
              "#7201a8"
             ],
             [
              0.3333333333333333,
              "#9c179e"
             ],
             [
              0.4444444444444444,
              "#bd3786"
             ],
             [
              0.5555555555555556,
              "#d8576b"
             ],
             [
              0.6666666666666666,
              "#ed7953"
             ],
             [
              0.7777777777777778,
              "#fb9f3a"
             ],
             [
              0.8888888888888888,
              "#fdca26"
             ],
             [
              1,
              "#f0f921"
             ]
            ],
            "type": "surface"
           }
          ],
          "table": [
           {
            "cells": {
             "fill": {
              "color": "#EBF0F8"
             },
             "line": {
              "color": "white"
             }
            },
            "header": {
             "fill": {
              "color": "#C8D4E3"
             },
             "line": {
              "color": "white"
             }
            },
            "type": "table"
           }
          ]
         },
         "layout": {
          "annotationdefaults": {
           "arrowcolor": "#2a3f5f",
           "arrowhead": 0,
           "arrowwidth": 1
          },
          "autotypenumbers": "strict",
          "coloraxis": {
           "colorbar": {
            "outlinewidth": 0,
            "ticks": ""
           }
          },
          "colorscale": {
           "diverging": [
            [
             0,
             "#8e0152"
            ],
            [
             0.1,
             "#c51b7d"
            ],
            [
             0.2,
             "#de77ae"
            ],
            [
             0.3,
             "#f1b6da"
            ],
            [
             0.4,
             "#fde0ef"
            ],
            [
             0.5,
             "#f7f7f7"
            ],
            [
             0.6,
             "#e6f5d0"
            ],
            [
             0.7,
             "#b8e186"
            ],
            [
             0.8,
             "#7fbc41"
            ],
            [
             0.9,
             "#4d9221"
            ],
            [
             1,
             "#276419"
            ]
           ],
           "sequential": [
            [
             0,
             "#0d0887"
            ],
            [
             0.1111111111111111,
             "#46039f"
            ],
            [
             0.2222222222222222,
             "#7201a8"
            ],
            [
             0.3333333333333333,
             "#9c179e"
            ],
            [
             0.4444444444444444,
             "#bd3786"
            ],
            [
             0.5555555555555556,
             "#d8576b"
            ],
            [
             0.6666666666666666,
             "#ed7953"
            ],
            [
             0.7777777777777778,
             "#fb9f3a"
            ],
            [
             0.8888888888888888,
             "#fdca26"
            ],
            [
             1,
             "#f0f921"
            ]
           ],
           "sequentialminus": [
            [
             0,
             "#0d0887"
            ],
            [
             0.1111111111111111,
             "#46039f"
            ],
            [
             0.2222222222222222,
             "#7201a8"
            ],
            [
             0.3333333333333333,
             "#9c179e"
            ],
            [
             0.4444444444444444,
             "#bd3786"
            ],
            [
             0.5555555555555556,
             "#d8576b"
            ],
            [
             0.6666666666666666,
             "#ed7953"
            ],
            [
             0.7777777777777778,
             "#fb9f3a"
            ],
            [
             0.8888888888888888,
             "#fdca26"
            ],
            [
             1,
             "#f0f921"
            ]
           ]
          },
          "colorway": [
           "#636efa",
           "#EF553B",
           "#00cc96",
           "#ab63fa",
           "#FFA15A",
           "#19d3f3",
           "#FF6692",
           "#B6E880",
           "#FF97FF",
           "#FECB52"
          ],
          "font": {
           "color": "#2a3f5f"
          },
          "geo": {
           "bgcolor": "white",
           "lakecolor": "white",
           "landcolor": "white",
           "showlakes": true,
           "showland": true,
           "subunitcolor": "#C8D4E3"
          },
          "height": 400,
          "hoverlabel": {
           "align": "left"
          },
          "hovermode": "closest",
          "mapbox": {
           "style": "light"
          },
          "margin": {
           "b": 2,
           "l": 2,
           "r": 2,
           "t": 30
          },
          "paper_bgcolor": "white",
          "plot_bgcolor": "white",
          "polar": {
           "angularaxis": {
            "gridcolor": "#EBF0F8",
            "linecolor": "#EBF0F8",
            "ticks": ""
           },
           "bgcolor": "white",
           "radialaxis": {
            "gridcolor": "#EBF0F8",
            "linecolor": "#EBF0F8",
            "ticks": ""
           }
          },
          "scene": {
           "camera": {
            "eye": {
             "x": 1.5,
             "y": 1.5,
             "z": 0.1
            }
           },
           "xaxis": {
            "backgroundcolor": "white",
            "gridcolor": "#DFE8F3",
            "gridwidth": 2,
            "linecolor": "#EBF0F8",
            "showbackground": true,
            "ticks": "",
            "zerolinecolor": "#EBF0F8"
           },
           "yaxis": {
            "backgroundcolor": "white",
            "gridcolor": "#DFE8F3",
            "gridwidth": 2,
            "linecolor": "#EBF0F8",
            "showbackground": true,
            "ticks": "",
            "zerolinecolor": "#EBF0F8"
           },
           "zaxis": {
            "backgroundcolor": "white",
            "gridcolor": "#DFE8F3",
            "gridwidth": 2,
            "linecolor": "#EBF0F8",
            "showbackground": true,
            "ticks": "",
            "zerolinecolor": "#EBF0F8"
           }
          },
          "shapedefaults": {
           "line": {
            "color": "#2a3f5f"
           }
          },
          "ternary": {
           "aaxis": {
            "gridcolor": "#DFE8F3",
            "linecolor": "#A2B1C6",
            "ticks": ""
           },
           "baxis": {
            "gridcolor": "#DFE8F3",
            "linecolor": "#A2B1C6",
            "ticks": ""
           },
           "bgcolor": "white",
           "caxis": {
            "gridcolor": "#DFE8F3",
            "linecolor": "#A2B1C6",
            "ticks": ""
           }
          },
          "title": {
           "x": 0.5
          },
          "xaxis": {
           "automargin": true,
           "gridcolor": "#EBF0F8",
           "linecolor": "#EBF0F8",
           "linewidth": 2,
           "showline": true,
           "ticks": "",
           "title": {
            "standoff": 15
           },
           "zerolinecolor": "#EBF0F8",
           "zerolinewidth": 2
          },
          "yaxis": {
           "automargin": true,
           "gridcolor": "#EBF0F8",
           "linecolor": "#EBF0F8",
           "linewidth": 2,
           "showline": true,
           "ticks": "",
           "title": {
            "standoff": 15
           },
           "zerolinecolor": "#EBF0F8",
           "zerolinewidth": 2
          }
         }
        },
        "xaxis": {
         "anchor": "y",
         "domain": [
          0,
          1
         ],
         "title": {
          "text": "EmergencyNYC"
         }
        },
        "yaxis": {
         "anchor": "x",
         "domain": [
          0,
          1
         ],
         "title": {
          "text": "Average"
         }
        }
       }
      }
     },
     "metadata": {},
     "output_type": "display_data"
    }
   ],
   "source": [
    "formula = \"Average ~ EmergencyNYC\"\n",
    "\n",
    "model = smf.ols(formula = formula, data = dataset).fit()\n",
    "\n",
    "graphing.scatter_2D(dataset,    label_x=\"EmergencyNYC\",\n",
    "                                label_y=\"Average\",\n",
    "                                trendline=lambda x: model.params[1] * x + model.params[0]\n",
    "                                )"
   ]
  },
  {
   "cell_type": "code",
   "execution_count": 29,
   "metadata": {},
   "outputs": [
    {
     "name": "stdout",
     "output_type": "stream",
     "text": [
      "Intercept: 67.46795764347561 Slope: 0.04774042783075256\n"
     ]
    },
    {
     "name": "stderr",
     "output_type": "stream",
     "text": [
      "C:\\Users\\User\\AppData\\Local\\Temp\\ipykernel_9636\\2475838416.py:1: FutureWarning:\n",
      "\n",
      "Series.__getitem__ treating keys as positions is deprecated. In a future version, integer keys will always be treated as labels (consistent with DataFrame behavior). To access a value by position, use `ser.iloc[pos]`\n",
      "\n"
     ]
    }
   ],
   "source": [
    "print(\"Intercept:\", model.params[0], \"Slope:\", model.params[1])"
   ]
  },
  {
   "cell_type": "code",
   "execution_count": 30,
   "metadata": {},
   "outputs": [
    {
     "name": "stdout",
     "output_type": "stream",
     "text": [
      "Train\n",
      "    EmergencyNYC    Average\n",
      "18             5  69.913043\n",
      "24             4  63.173913\n",
      "71             2  66.043478\n",
      "68             0  71.043478\n",
      "55             0  69.956522\n",
      "(63, 2)\n",
      "Test\n",
      "    EmergencyNYC    Average\n",
      "56             0  68.695652\n",
      "21             4  62.304348\n",
      "35             2  65.347826\n",
      "2              0  70.608696\n",
      "23             4  63.260870\n",
      "(28, 2)\n"
     ]
    }
   ],
   "source": [
    "data = dataset[['EmergencyNYC', 'Average']]\n",
    "\n",
    "train, test = train_test_split(data, train_size=0.7, random_state=2)\n",
    "\n",
    "print(\"Train\")\n",
    "print(train.head())\n",
    "print(train.shape)\n",
    "\n",
    "print(\"Test\")\n",
    "print(test.head())\n",
    "print(test.shape)"
   ]
  },
  {
   "cell_type": "code",
   "execution_count": 31,
   "metadata": {},
   "outputs": [
    {
     "name": "stderr",
     "output_type": "stream",
     "text": [
      "C:\\Users\\User\\AppData\\Local\\Temp\\ipykernel_9636\\2071607067.py:9: FutureWarning:\n",
      "\n",
      "Series.__getitem__ treating keys as positions is deprecated. In a future version, integer keys will always be treated as labels (consistent with DataFrame behavior). To access a value by position, use `ser.iloc[pos]`\n",
      "\n"
     ]
    },
    {
     "data": {
      "application/vnd.plotly.v1+json": {
       "config": {
        "plotlyServerURL": "https://plot.ly"
       },
       "data": [
        {
         "hovertemplate": "Data=train<br>EmergencyNYC=%{x}<br>Average=%{y}<extra></extra>",
         "legendgroup": "train",
         "marker": {
          "color": "#636efa",
          "size": 17,
          "symbol": "circle"
         },
         "mode": "markers",
         "name": "train",
         "orientation": "v",
         "showlegend": true,
         "type": "scatter",
         "x": [
          5,
          4,
          2,
          0,
          0,
          25,
          0,
          0,
          8,
          2,
          4,
          0,
          4,
          2,
          5,
          2,
          2,
          9,
          0,
          6,
          0,
          0,
          2,
          0,
          0,
          0,
          12,
          0,
          0,
          0,
          1,
          3,
          0,
          0,
          7,
          0,
          0,
          0,
          0,
          0,
          4,
          0,
          3,
          4,
          100,
          3,
          0,
          0,
          5,
          2,
          0,
          0,
          0,
          3,
          2,
          16,
          0,
          0,
          3,
          3,
          0,
          5,
          2
         ],
         "xaxis": "x",
         "y": [
          69.91304347826087,
          63.17391304347826,
          66.04347826086956,
          71.04347826086956,
          69.95652173913044,
          73.91304347826087,
          73,
          76.65217391304348,
          62.95652173913044,
          65.52173913043478,
          71.69565217391305,
          74.30434782608695,
          67.43478260869566,
          71.91304347826087,
          64.52173913043478,
          75,
          75.82608695652173,
          68,
          63.04347826086956,
          62.60869565217392,
          75.8695652173913,
          58.34782608695652,
          57.08695652173913,
          62.73913043478261,
          66.47826086956522,
          68.91304347826087,
          71,
          68.91304347826087,
          66.78260869565217,
          69.6086956521739,
          72.04347826086956,
          66.21739130434783,
          69.69565217391305,
          72.65217391304348,
          64,
          64.78260869565217,
          69.30434782608695,
          67.04347826086956,
          72.52173913043478,
          72.43478260869566,
          68.52173913043478,
          66.73913043478261,
          78.8695652173913,
          53.60869565217392,
          68.65217391304348,
          63.04347826086956,
          70.82608695652173,
          58.869565217391305,
          70.95652173913044,
          67.6086956521739,
          63.869565217391305,
          69.08695652173913,
          74.95652173913044,
          67,
          72.8695652173913,
          70.1304347826087,
          66.04347826086956,
          67.34782608695652,
          59.52173913043478,
          68.1304347826087,
          66.73913043478261,
          64.1304347826087,
          63.04347826086956
         ],
         "yaxis": "y"
        },
        {
         "hovertemplate": "Data=test<br>EmergencyNYC=%{x}<br>Average=%{y}<extra></extra>",
         "legendgroup": "test",
         "marker": {
          "color": "#EF553B",
          "size": 17,
          "symbol": "circle"
         },
         "mode": "markers",
         "name": "test",
         "orientation": "v",
         "showlegend": true,
         "type": "scatter",
         "x": [
          0,
          4,
          2,
          0,
          4,
          6,
          5,
          5,
          0,
          0,
          0,
          0,
          0,
          4,
          67,
          8,
          0,
          4,
          1,
          6,
          3,
          2,
          43,
          0,
          0,
          0,
          0,
          0
         ],
         "xaxis": "x",
         "y": [
          68.69565217391305,
          62.30434782608695,
          65.34782608695652,
          70.6086956521739,
          63.26086956521739,
          63.47826086956522,
          62.65217391304348,
          66.91304347826087,
          68.17391304347827,
          66.26086956521739,
          67.43478260869566,
          70.21739130434783,
          70.3913043478261,
          64.04347826086956,
          77.8695652173913,
          68.08695652173913,
          63.26086956521739,
          72.69565217391305,
          65.17391304347827,
          63.391304347826086,
          67.08695652173913,
          65,
          68.43478260869566,
          67.30434782608695,
          74.47826086956522,
          60.21739130434783,
          68.34782608695652,
          65.17391304347827
         ],
         "yaxis": "y"
        }
       ],
       "layout": {
        "legend": {
         "title": {
          "text": "Data"
         },
         "tracegroupgap": 0
        },
        "shapes": [
         {
          "line": {
           "color": "rgb(228,26,28)"
          },
          "path": "M0.0 67.46795764347561 L 0.5025125628140703 67.49194780821469 L 1.0050251256281406 67.51593797295375 L 1.507537688442211 67.53992813769283 L 2.0100502512562812 67.5639183024319 L 2.5125628140703515 67.58790846717098 L 3.015075376884422 67.61189863191004 L 3.517587939698492 67.63588879664911 L 4.0201005025125625 67.65987896138819 L 4.522613065326633 67.68386912612726 L 5.025125628140703 67.70785929086632 L 5.527638190954773 67.7318494556054 L 6.030150753768844 67.75583962034447 L 6.532663316582914 67.77982978508355 L 7.035175879396984 67.80381994982261 L 7.537688442211055 67.82781011456169 L 8.040201005025125 67.85180027930076 L 8.542713567839195 67.87579044403984 L 9.045226130653266 67.8997806087789 L 9.547738693467336 67.92377077351797 L 10.050251256281406 67.94776093825705 L 10.552763819095476 67.97175110299612 L 11.055276381909547 67.99574126773518 L 11.557788944723617 68.01973143247426 L 12.060301507537687 68.04372159721333 L 12.562814070351758 68.06771176195241 L 13.065326633165828 68.09170192669147 L 13.567839195979898 68.11569209143055 L 14.070351758793969 68.13968225616962 L 14.572864321608039 68.1636724209087 L 15.07537688442211 68.18766258564776 L 15.57788944723618 68.21165275038683 L 16.08040201005025 68.23564291512591 L 16.58291457286432 68.25963307986498 L 17.08542713567839 68.28362324460404 L 17.587939698492463 68.30761340934312 L 18.09045226130653 68.3316035740822 L 18.5929648241206 68.35559373882127 L 19.09547738693467 68.37958390356033 L 19.597989949748744 68.4035740682994 L 20.100502512562812 68.42756423303848 L 20.60301507537688 68.45155439777756 L 21.105527638190953 68.47554456251662 L 21.608040201005025 68.49953472725569 L 22.110552763819094 68.52352489199477 L 22.613065326633162 68.54751505673384 L 23.115577889447234 68.5715052214729 L 23.618090452261306 68.59549538621198 L 24.120603015075375 68.61948555095105 L 24.623115577889443 68.64347571569013 L 25.125628140703515 68.66746588042919 L 25.628140703517587 68.69145604516827 L 26.130653266331656 68.71544620990734 L 26.633165829145725 68.73943637464642 L 27.135678391959797 68.76342653938548 L 27.63819095477387 68.78741670412455 L 28.140703517587937 68.81140686886363 L 28.643216080402006 68.8353970336027 L 29.145728643216078 68.85938719834176 L 29.64824120603015 68.88337736308084 L 30.15075376884422 68.90736752781991 L 30.653266331658287 68.93135769255899 L 31.15577889447236 68.95534785729805 L 31.65829145728643 68.97933802203713 L 32.1608040201005 69.0033281867762 L 32.66331658291457 69.02731835151528 L 33.16582914572864 69.05130851625434 L 33.66834170854271 69.07529868099341 L 34.17085427135678 69.09928884573249 L 34.67336683417085 69.12327901047156 L 35.175879396984925 69.14726917521062 L 35.678391959798994 69.1712593399497 L 36.18090452261306 69.19524950468877 L 36.68341708542713 69.21923966942785 L 37.1859296482412 69.24322983416691 L 37.688442211055275 69.26721999890599 L 38.19095477386934 69.29121016364506 L 38.69346733668341 69.31520032838414 L 39.19597989949749 69.3391904931232 L 39.698492462311556 69.36318065786227 L 40.201005025125625 69.38717082260135 L 40.70351758793969 69.41116098734042 L 41.20603015075376 69.43515115207948 L 41.70854271356784 69.45914131681856 L 42.211055276381906 69.48313148155763 L 42.713567839195974 69.50712164629671 L 43.21608040201005 69.53111181103577 L 43.71859296482412 69.55510197577485 L 44.22110552763819 69.57909214051392 L 44.723618090452256 69.603082305253 L 45.226130653266324 69.62707246999206 L 45.7286432160804 69.65106263473113 L 46.23115577889447 69.67505279947021 L 46.73366834170854 69.69904296420927 L 47.23618090452261 69.72303312894834 L 47.73869346733668 69.74702329368742 L 48.24120603015075 69.7710134584265 L 48.74371859296482 69.79500362316557 L 49.24623115577889 69.81899378790463 L 49.74874371859296 69.8429839526437 L 50.25125628140703 69.86697411738278 L 50.7537688442211 69.89096428212184 L 51.256281407035175 69.91495444686092 L 51.75879396984924 69.9389446116 L 52.26130653266331 69.96293477633907 L 52.76381909547738 69.98692494107813 L 53.26633165829145 70.0109151058172 L 53.768844221105525 70.03490527055628 L 54.27135678391959 70.05889543529536 L 54.77386934673366 70.08288560003442 L 55.27638190954774 70.10687576477349 L 55.778894472361806 70.13086592951257 L 56.281407035175874 70.15485609425164 L 56.78391959798994 70.1788462589907 L 57.28643216080401 70.20283642372978 L 57.78894472361809 70.22682658846885 L 58.291457286432156 70.25081675320793 L 58.793969849246224 70.27480691794699 L 59.2964824120603 70.29879708268606 L 59.79899497487437 70.32278724742514 L 60.30150753768844 70.34677741216422 L 60.804020100502505 70.37076757690328 L 61.306532663316574 70.39475774164235 L 61.80904522613065 70.41874790638143 L 62.31155778894472 70.4427380711205 L 62.81407035175879 70.46672823585956 L 63.31658291457286 70.49071840059864 L 63.81909547738693 70.51470856533771 L 64.321608040201 70.53869873007679 L 64.82412060301507 70.56268889481585 L 65.32663316582914 70.58667905955492 L 65.82914572864321 70.610669224294 L 66.33165829145727 70.63465938903308 L 66.83417085427135 70.65864955377214 L 67.33668341708542 70.68263971851121 L 67.83919597989949 70.70662988325029 L 68.34170854271356 70.73062004798936 L 68.84422110552764 70.75461021272842 L 69.3467336683417 70.7786003774675 L 69.84924623115577 70.80259054220657 L 70.35175879396985 70.82658070694565 L 70.85427135678391 70.85057087168471 L 71.35678391959799 70.87456103642378 L 71.85929648241205 70.89855120116286 L 72.36180904522612 70.92254136590194 L 72.8643216080402 70.946531530641 L 73.36683417085426 70.97052169538007 L 73.86934673366834 70.99451186011915 L 74.3718592964824 71.01850202485822 L 74.87437185929647 71.04249218959728 L 75.37688442211055 71.06648235433636 L 75.87939698492461 71.09047251907543 L 76.38190954773869 71.11446268381451 L 76.88442211055276 71.13845284855357 L 77.38693467336682 71.16244301329264 L 77.8894472361809 71.18643317803172 L 78.39195979899498 71.2104233427708 L 78.89447236180904 71.23441350750986 L 79.39698492462311 71.25840367224893 L 79.89949748743717 71.282393836988 L 80.40201005025125 71.30638400172708 L 80.90452261306532 71.33037416646614 L 81.40703517587939 71.35436433120522 L 81.90954773869346 71.3783544959443 L 82.41206030150752 71.40234466068337 L 82.9145728643216 71.42633482542243 L 83.41708542713567 71.4503249901615 L 83.91959798994974 71.47431515490058 L 84.42211055276381 71.49830531963966 L 84.92462311557789 71.52229548437872 L 85.42713567839195 71.54628564911779 L 85.92964824120602 71.57027581385687 L 86.4321608040201 71.59426597859594 L 86.93467336683416 71.618256143335 L 87.43718592964824 71.64224630807408 L 87.9396984924623 71.66623647281315 L 88.44221105527637 71.69022663755223 L 88.94472361809045 71.71421680229129 L 89.44723618090451 71.73820696703037 L 89.94974874371859 71.76219713176944 L 90.45226130653265 71.7861872965085 L 90.95477386934672 71.81017746124758 L 91.4572864321608 71.83416762598665 L 91.95979899497486 71.85815779072573 L 92.46231155778894 71.8821479554648 L 92.96482412060301 71.90613812020386 L 93.46733668341707 71.93012828494294 L 93.96984924623115 71.95411844968201 L 94.47236180904522 71.97810861442107 L 94.97487437185929 72.00209877916015 L 95.47738693467336 72.02608894389923 L 95.97989949748742 72.0500791086383 L 96.4824120603015 72.07406927337738 L 96.98492462311557 72.09805943811644 L 97.48743718592964 72.12204960285551 L 97.98994974874371 72.14603976759459 L 98.49246231155777 72.17002993233365 L 98.99497487437185 72.19402009707272 L 99.49748743718592 72.2180102618118 L 100.0 72.24200042655087",
          "type": "path"
         }
        ],
        "template": {
         "data": {
          "bar": [
           {
            "error_x": {
             "color": "#2a3f5f"
            },
            "error_y": {
             "color": "#2a3f5f"
            },
            "marker": {
             "line": {
              "color": "white",
              "width": 0.5
             },
             "pattern": {
              "fillmode": "overlay",
              "size": 10,
              "solidity": 0.2
             }
            },
            "type": "bar"
           }
          ],
          "barpolar": [
           {
            "marker": {
             "line": {
              "color": "white",
              "width": 0.5
             },
             "pattern": {
              "fillmode": "overlay",
              "size": 10,
              "solidity": 0.2
             }
            },
            "type": "barpolar"
           }
          ],
          "box": [
           {
            "boxpoints": "outliers",
            "notched": false,
            "type": "box"
           }
          ],
          "carpet": [
           {
            "aaxis": {
             "endlinecolor": "#2a3f5f",
             "gridcolor": "#C8D4E3",
             "linecolor": "#C8D4E3",
             "minorgridcolor": "#C8D4E3",
             "startlinecolor": "#2a3f5f"
            },
            "baxis": {
             "endlinecolor": "#2a3f5f",
             "gridcolor": "#C8D4E3",
             "linecolor": "#C8D4E3",
             "minorgridcolor": "#C8D4E3",
             "startlinecolor": "#2a3f5f"
            },
            "type": "carpet"
           }
          ],
          "choropleth": [
           {
            "colorbar": {
             "outlinewidth": 0,
             "ticks": ""
            },
            "type": "choropleth"
           }
          ],
          "contour": [
           {
            "colorbar": {
             "outlinewidth": 0,
             "ticks": ""
            },
            "colorscale": [
             [
              0,
              "#0d0887"
             ],
             [
              0.1111111111111111,
              "#46039f"
             ],
             [
              0.2222222222222222,
              "#7201a8"
             ],
             [
              0.3333333333333333,
              "#9c179e"
             ],
             [
              0.4444444444444444,
              "#bd3786"
             ],
             [
              0.5555555555555556,
              "#d8576b"
             ],
             [
              0.6666666666666666,
              "#ed7953"
             ],
             [
              0.7777777777777778,
              "#fb9f3a"
             ],
             [
              0.8888888888888888,
              "#fdca26"
             ],
             [
              1,
              "#f0f921"
             ]
            ],
            "type": "contour"
           }
          ],
          "contourcarpet": [
           {
            "colorbar": {
             "outlinewidth": 0,
             "ticks": ""
            },
            "type": "contourcarpet"
           }
          ],
          "heatmap": [
           {
            "colorbar": {
             "outlinewidth": 0,
             "ticks": ""
            },
            "colorscale": [
             [
              0,
              "#0d0887"
             ],
             [
              0.1111111111111111,
              "#46039f"
             ],
             [
              0.2222222222222222,
              "#7201a8"
             ],
             [
              0.3333333333333333,
              "#9c179e"
             ],
             [
              0.4444444444444444,
              "#bd3786"
             ],
             [
              0.5555555555555556,
              "#d8576b"
             ],
             [
              0.6666666666666666,
              "#ed7953"
             ],
             [
              0.7777777777777778,
              "#fb9f3a"
             ],
             [
              0.8888888888888888,
              "#fdca26"
             ],
             [
              1,
              "#f0f921"
             ]
            ],
            "type": "heatmap"
           }
          ],
          "heatmapgl": [
           {
            "colorbar": {
             "outlinewidth": 0,
             "ticks": ""
            },
            "colorscale": [
             [
              0,
              "#0d0887"
             ],
             [
              0.1111111111111111,
              "#46039f"
             ],
             [
              0.2222222222222222,
              "#7201a8"
             ],
             [
              0.3333333333333333,
              "#9c179e"
             ],
             [
              0.4444444444444444,
              "#bd3786"
             ],
             [
              0.5555555555555556,
              "#d8576b"
             ],
             [
              0.6666666666666666,
              "#ed7953"
             ],
             [
              0.7777777777777778,
              "#fb9f3a"
             ],
             [
              0.8888888888888888,
              "#fdca26"
             ],
             [
              1,
              "#f0f921"
             ]
            ],
            "type": "heatmapgl"
           }
          ],
          "histogram": [
           {
            "marker": {
             "line": {
              "width": 1
             },
             "pattern": {
              "fillmode": "overlay",
              "size": 10,
              "solidity": 0.2
             }
            },
            "type": "histogram"
           }
          ],
          "histogram2d": [
           {
            "colorbar": {
             "outlinewidth": 0,
             "ticks": ""
            },
            "colorscale": [
             [
              0,
              "#0d0887"
             ],
             [
              0.1111111111111111,
              "#46039f"
             ],
             [
              0.2222222222222222,
              "#7201a8"
             ],
             [
              0.3333333333333333,
              "#9c179e"
             ],
             [
              0.4444444444444444,
              "#bd3786"
             ],
             [
              0.5555555555555556,
              "#d8576b"
             ],
             [
              0.6666666666666666,
              "#ed7953"
             ],
             [
              0.7777777777777778,
              "#fb9f3a"
             ],
             [
              0.8888888888888888,
              "#fdca26"
             ],
             [
              1,
              "#f0f921"
             ]
            ],
            "type": "histogram2d"
           }
          ],
          "histogram2dcontour": [
           {
            "colorbar": {
             "outlinewidth": 0,
             "ticks": ""
            },
            "colorscale": [
             [
              0,
              "#0d0887"
             ],
             [
              0.1111111111111111,
              "#46039f"
             ],
             [
              0.2222222222222222,
              "#7201a8"
             ],
             [
              0.3333333333333333,
              "#9c179e"
             ],
             [
              0.4444444444444444,
              "#bd3786"
             ],
             [
              0.5555555555555556,
              "#d8576b"
             ],
             [
              0.6666666666666666,
              "#ed7953"
             ],
             [
              0.7777777777777778,
              "#fb9f3a"
             ],
             [
              0.8888888888888888,
              "#fdca26"
             ],
             [
              1,
              "#f0f921"
             ]
            ],
            "type": "histogram2dcontour"
           }
          ],
          "mesh3d": [
           {
            "colorbar": {
             "outlinewidth": 0,
             "ticks": ""
            },
            "type": "mesh3d"
           }
          ],
          "parcoords": [
           {
            "line": {
             "colorbar": {
              "outlinewidth": 0,
              "ticks": ""
             }
            },
            "type": "parcoords"
           }
          ],
          "pie": [
           {
            "automargin": true,
            "type": "pie"
           }
          ],
          "scatter": [
           {
            "fillpattern": {
             "fillmode": "overlay",
             "size": 10,
             "solidity": 0.2
            },
            "marker": {
             "opacity": 0.8
            },
            "type": "scatter"
           }
          ],
          "scatter3d": [
           {
            "line": {
             "colorbar": {
              "outlinewidth": 0,
              "ticks": ""
             }
            },
            "marker": {
             "colorbar": {
              "outlinewidth": 0,
              "ticks": ""
             },
             "opacity": 0.8
            },
            "type": "scatter3d"
           }
          ],
          "scattercarpet": [
           {
            "marker": {
             "colorbar": {
              "outlinewidth": 0,
              "ticks": ""
             }
            },
            "type": "scattercarpet"
           }
          ],
          "scattergeo": [
           {
            "marker": {
             "colorbar": {
              "outlinewidth": 0,
              "ticks": ""
             }
            },
            "type": "scattergeo"
           }
          ],
          "scattergl": [
           {
            "marker": {
             "colorbar": {
              "outlinewidth": 0,
              "ticks": ""
             }
            },
            "type": "scattergl"
           }
          ],
          "scattermapbox": [
           {
            "marker": {
             "colorbar": {
              "outlinewidth": 0,
              "ticks": ""
             }
            },
            "type": "scattermapbox"
           }
          ],
          "scatterpolar": [
           {
            "marker": {
             "colorbar": {
              "outlinewidth": 0,
              "ticks": ""
             }
            },
            "type": "scatterpolar"
           }
          ],
          "scatterpolargl": [
           {
            "marker": {
             "colorbar": {
              "outlinewidth": 0,
              "ticks": ""
             }
            },
            "type": "scatterpolargl"
           }
          ],
          "scatterternary": [
           {
            "marker": {
             "colorbar": {
              "outlinewidth": 0,
              "ticks": ""
             }
            },
            "type": "scatterternary"
           }
          ],
          "surface": [
           {
            "colorbar": {
             "outlinewidth": 0,
             "ticks": ""
            },
            "colorscale": [
             [
              0,
              "#0d0887"
             ],
             [
              0.1111111111111111,
              "#46039f"
             ],
             [
              0.2222222222222222,
              "#7201a8"
             ],
             [
              0.3333333333333333,
              "#9c179e"
             ],
             [
              0.4444444444444444,
              "#bd3786"
             ],
             [
              0.5555555555555556,
              "#d8576b"
             ],
             [
              0.6666666666666666,
              "#ed7953"
             ],
             [
              0.7777777777777778,
              "#fb9f3a"
             ],
             [
              0.8888888888888888,
              "#fdca26"
             ],
             [
              1,
              "#f0f921"
             ]
            ],
            "type": "surface"
           }
          ],
          "table": [
           {
            "cells": {
             "fill": {
              "color": "#EBF0F8"
             },
             "line": {
              "color": "white"
             }
            },
            "header": {
             "fill": {
              "color": "#C8D4E3"
             },
             "line": {
              "color": "white"
             }
            },
            "type": "table"
           }
          ]
         },
         "layout": {
          "annotationdefaults": {
           "arrowcolor": "#2a3f5f",
           "arrowhead": 0,
           "arrowwidth": 1
          },
          "autotypenumbers": "strict",
          "coloraxis": {
           "colorbar": {
            "outlinewidth": 0,
            "ticks": ""
           }
          },
          "colorscale": {
           "diverging": [
            [
             0,
             "#8e0152"
            ],
            [
             0.1,
             "#c51b7d"
            ],
            [
             0.2,
             "#de77ae"
            ],
            [
             0.3,
             "#f1b6da"
            ],
            [
             0.4,
             "#fde0ef"
            ],
            [
             0.5,
             "#f7f7f7"
            ],
            [
             0.6,
             "#e6f5d0"
            ],
            [
             0.7,
             "#b8e186"
            ],
            [
             0.8,
             "#7fbc41"
            ],
            [
             0.9,
             "#4d9221"
            ],
            [
             1,
             "#276419"
            ]
           ],
           "sequential": [
            [
             0,
             "#0d0887"
            ],
            [
             0.1111111111111111,
             "#46039f"
            ],
            [
             0.2222222222222222,
             "#7201a8"
            ],
            [
             0.3333333333333333,
             "#9c179e"
            ],
            [
             0.4444444444444444,
             "#bd3786"
            ],
            [
             0.5555555555555556,
             "#d8576b"
            ],
            [
             0.6666666666666666,
             "#ed7953"
            ],
            [
             0.7777777777777778,
             "#fb9f3a"
            ],
            [
             0.8888888888888888,
             "#fdca26"
            ],
            [
             1,
             "#f0f921"
            ]
           ],
           "sequentialminus": [
            [
             0,
             "#0d0887"
            ],
            [
             0.1111111111111111,
             "#46039f"
            ],
            [
             0.2222222222222222,
             "#7201a8"
            ],
            [
             0.3333333333333333,
             "#9c179e"
            ],
            [
             0.4444444444444444,
             "#bd3786"
            ],
            [
             0.5555555555555556,
             "#d8576b"
            ],
            [
             0.6666666666666666,
             "#ed7953"
            ],
            [
             0.7777777777777778,
             "#fb9f3a"
            ],
            [
             0.8888888888888888,
             "#fdca26"
            ],
            [
             1,
             "#f0f921"
            ]
           ]
          },
          "colorway": [
           "#636efa",
           "#EF553B",
           "#00cc96",
           "#ab63fa",
           "#FFA15A",
           "#19d3f3",
           "#FF6692",
           "#B6E880",
           "#FF97FF",
           "#FECB52"
          ],
          "font": {
           "color": "#2a3f5f"
          },
          "geo": {
           "bgcolor": "white",
           "lakecolor": "white",
           "landcolor": "white",
           "showlakes": true,
           "showland": true,
           "subunitcolor": "#C8D4E3"
          },
          "height": 400,
          "hoverlabel": {
           "align": "left"
          },
          "hovermode": "closest",
          "mapbox": {
           "style": "light"
          },
          "margin": {
           "b": 2,
           "l": 2,
           "r": 2,
           "t": 30
          },
          "paper_bgcolor": "white",
          "plot_bgcolor": "white",
          "polar": {
           "angularaxis": {
            "gridcolor": "#EBF0F8",
            "linecolor": "#EBF0F8",
            "ticks": ""
           },
           "bgcolor": "white",
           "radialaxis": {
            "gridcolor": "#EBF0F8",
            "linecolor": "#EBF0F8",
            "ticks": ""
           }
          },
          "scene": {
           "camera": {
            "eye": {
             "x": 1.5,
             "y": 1.5,
             "z": 0.1
            }
           },
           "xaxis": {
            "backgroundcolor": "white",
            "gridcolor": "#DFE8F3",
            "gridwidth": 2,
            "linecolor": "#EBF0F8",
            "showbackground": true,
            "ticks": "",
            "zerolinecolor": "#EBF0F8"
           },
           "yaxis": {
            "backgroundcolor": "white",
            "gridcolor": "#DFE8F3",
            "gridwidth": 2,
            "linecolor": "#EBF0F8",
            "showbackground": true,
            "ticks": "",
            "zerolinecolor": "#EBF0F8"
           },
           "zaxis": {
            "backgroundcolor": "white",
            "gridcolor": "#DFE8F3",
            "gridwidth": 2,
            "linecolor": "#EBF0F8",
            "showbackground": true,
            "ticks": "",
            "zerolinecolor": "#EBF0F8"
           }
          },
          "shapedefaults": {
           "line": {
            "color": "#2a3f5f"
           }
          },
          "ternary": {
           "aaxis": {
            "gridcolor": "#DFE8F3",
            "linecolor": "#A2B1C6",
            "ticks": ""
           },
           "baxis": {
            "gridcolor": "#DFE8F3",
            "linecolor": "#A2B1C6",
            "ticks": ""
           },
           "bgcolor": "white",
           "caxis": {
            "gridcolor": "#DFE8F3",
            "linecolor": "#A2B1C6",
            "ticks": ""
           }
          },
          "title": {
           "x": 0.5
          },
          "xaxis": {
           "automargin": true,
           "gridcolor": "#EBF0F8",
           "linecolor": "#EBF0F8",
           "linewidth": 2,
           "showline": true,
           "ticks": "",
           "title": {
            "standoff": 15
           },
           "zerolinecolor": "#EBF0F8",
           "zerolinewidth": 2
          },
          "yaxis": {
           "automargin": true,
           "gridcolor": "#EBF0F8",
           "linecolor": "#EBF0F8",
           "linewidth": 2,
           "showline": true,
           "ticks": "",
           "title": {
            "standoff": 15
           },
           "zerolinecolor": "#EBF0F8",
           "zerolinewidth": 2
          }
         }
        },
        "xaxis": {
         "anchor": "y",
         "domain": [
          0,
          1
         ],
         "title": {
          "text": "EmergencyNYC"
         }
        },
        "yaxis": {
         "anchor": "x",
         "domain": [
          0,
          1
         ],
         "title": {
          "text": "Average"
         }
        }
       }
      }
     },
     "metadata": {},
     "output_type": "display_data"
    }
   ],
   "source": [
    "# You don't need to understand this code well\n",
    "# It's just used to create a scatter plot\n",
    "\n",
    "# concatenate training and test so they can be graphed\n",
    "plot_set = pd.concat([train,test])\n",
    "plot_set[\"Data\"] = [\"train\"] * len(train) + [\"test\"] * len(test)\n",
    "\n",
    "# Create graph\n",
    "graphing.scatter_2D(plot_set, \"EmergencyNYC\", \"Average\", \"Data\", trendline = lambda x: model.params[1] * x + model.params[0])"
   ]
  },
  {
   "cell_type": "code",
   "execution_count": 32,
   "metadata": {},
   "outputs": [
    {
     "name": "stderr",
     "output_type": "stream",
     "text": [
      "C:\\Users\\User\\AppData\\Local\\Temp\\ipykernel_9636\\3484552983.py:2: FutureWarning:\n",
      "\n",
      "Series.__getitem__ treating keys as positions is deprecated. In a future version, integer keys will always be treated as labels (consistent with DataFrame behavior). To access a value by position, use `ser.iloc[pos]`\n",
      "\n"
     ]
    },
    {
     "data": {
      "application/vnd.plotly.v1+json": {
       "config": {
        "plotlyServerURL": "https://plot.ly"
       },
       "data": [
        {
         "hovertemplate": "EmergencyNYC=%{x}<br>Average=%{y}<extra></extra>",
         "legendgroup": "",
         "marker": {
          "color": "#636efa",
          "size": 18,
          "symbol": "circle"
         },
         "mode": "markers",
         "name": "",
         "orientation": "v",
         "showlegend": false,
         "type": "scatter",
         "x": [
          5,
          4,
          2,
          0,
          0,
          25,
          0,
          0,
          8,
          2,
          4,
          0,
          4,
          2,
          5,
          2,
          2,
          9,
          0,
          6,
          0,
          0,
          2,
          0,
          0,
          0,
          12,
          0,
          0,
          0,
          1,
          3,
          0,
          0,
          7,
          0,
          0,
          0,
          0,
          0,
          4,
          0,
          3,
          4,
          100,
          3,
          0,
          0,
          5,
          2,
          0,
          0,
          0,
          3,
          2,
          16,
          0,
          0,
          3,
          3,
          0,
          5,
          2
         ],
         "xaxis": "x",
         "y": [
          69.91304347826087,
          63.17391304347826,
          66.04347826086956,
          71.04347826086956,
          69.95652173913044,
          73.91304347826087,
          73,
          76.65217391304348,
          62.95652173913044,
          65.52173913043478,
          71.69565217391305,
          74.30434782608695,
          67.43478260869566,
          71.91304347826087,
          64.52173913043478,
          75,
          75.82608695652173,
          68,
          63.04347826086956,
          62.60869565217392,
          75.8695652173913,
          58.34782608695652,
          57.08695652173913,
          62.73913043478261,
          66.47826086956522,
          68.91304347826087,
          71,
          68.91304347826087,
          66.78260869565217,
          69.6086956521739,
          72.04347826086956,
          66.21739130434783,
          69.69565217391305,
          72.65217391304348,
          64,
          64.78260869565217,
          69.30434782608695,
          67.04347826086956,
          72.52173913043478,
          72.43478260869566,
          68.52173913043478,
          66.73913043478261,
          78.8695652173913,
          53.60869565217392,
          68.65217391304348,
          63.04347826086956,
          70.82608695652173,
          58.869565217391305,
          70.95652173913044,
          67.6086956521739,
          63.869565217391305,
          69.08695652173913,
          74.95652173913044,
          67,
          72.8695652173913,
          70.1304347826087,
          66.04347826086956,
          67.34782608695652,
          59.52173913043478,
          68.1304347826087,
          66.73913043478261,
          64.1304347826087,
          63.04347826086956
         ],
         "yaxis": "y"
        }
       ],
       "layout": {
        "legend": {
         "tracegroupgap": 0
        },
        "shapes": [
         {
          "line": {
           "color": "rgb(228,26,28)"
          },
          "path": "M0.0 67.95135825907904 L 0.5025125628140703 67.95635665260137 L 1.0050251256281406 67.96135504612371 L 1.507537688442211 67.96635343964604 L 2.0100502512562812 67.97135183316838 L 2.5125628140703515 67.97635022669071 L 3.015075376884422 67.98134862021305 L 3.517587939698492 67.98634701373538 L 4.0201005025125625 67.99134540725771 L 4.522613065326633 67.99634380078005 L 5.025125628140703 68.00134219430238 L 5.527638190954773 68.00634058782472 L 6.030150753768844 68.01133898134705 L 6.532663316582914 68.01633737486938 L 7.035175879396984 68.02133576839172 L 7.537688442211055 68.02633416191405 L 8.040201005025125 68.03133255543639 L 8.542713567839195 68.03633094895872 L 9.045226130653266 68.04132934248106 L 9.547738693467336 68.04632773600339 L 10.050251256281406 68.05132612952572 L 10.552763819095476 68.05632452304806 L 11.055276381909547 68.06132291657039 L 11.557788944723617 68.06632131009273 L 12.060301507537687 68.07131970361506 L 12.562814070351758 68.0763180971374 L 13.065326633165828 68.08131649065973 L 13.567839195979898 68.08631488418206 L 14.070351758793969 68.0913132777044 L 14.572864321608039 68.09631167122673 L 15.07537688442211 68.10131006474907 L 15.57788944723618 68.1063084582714 L 16.08040201005025 68.11130685179373 L 16.58291457286432 68.11630524531607 L 17.08542713567839 68.1213036388384 L 17.587939698492463 68.12630203236074 L 18.09045226130653 68.13130042588307 L 18.5929648241206 68.13629881940541 L 19.09547738693467 68.14129721292774 L 19.597989949748744 68.14629560645007 L 20.100502512562812 68.15129399997241 L 20.60301507537688 68.15629239349474 L 21.105527638190953 68.16129078701708 L 21.608040201005025 68.16628918053941 L 22.110552763819094 68.17128757406175 L 22.613065326633162 68.17628596758408 L 23.115577889447234 68.1812843611064 L 23.618090452261306 68.18628275462875 L 24.120603015075375 68.19128114815108 L 24.623115577889443 68.19627954167342 L 25.125628140703515 68.20127793519575 L 25.628140703517587 68.20627632871809 L 26.130653266331656 68.21127472224042 L 26.633165829145725 68.21627311576275 L 27.135678391959797 68.22127150928509 L 27.63819095477387 68.22626990280742 L 28.140703517587937 68.23126829632976 L 28.643216080402006 68.23626668985209 L 29.145728643216078 68.24126508337442 L 29.64824120603015 68.24626347689676 L 30.15075376884422 68.25126187041909 L 30.653266331658287 68.25626026394143 L 31.15577889447236 68.26125865746376 L 31.65829145728643 68.2662570509861 L 32.1608040201005 68.27125544450843 L 32.66331658291457 68.27625383803075 L 33.16582914572864 68.2812522315531 L 33.66834170854271 68.28625062507543 L 34.17085427135678 68.29124901859777 L 34.67336683417085 68.2962474121201 L 35.175879396984925 68.30124580564244 L 35.678391959798994 68.30624419916477 L 36.18090452261306 68.3112425926871 L 36.68341708542713 68.31624098620944 L 37.1859296482412 68.32123937973176 L 37.688442211055275 68.3262377732541 L 38.19095477386934 68.33123616677643 L 38.69346733668341 68.33623456029876 L 39.19597989949749 68.3412329538211 L 39.698492462311556 68.34623134734343 L 40.201005025125625 68.35122974086578 L 40.70351758793969 68.3562281343881 L 41.20603015075376 68.36122652791045 L 41.70854271356784 68.36622492143277 L 42.211055276381906 68.3712233149551 L 42.713567839195974 68.37622170847744 L 43.21608040201005 68.38122010199977 L 43.71859296482412 68.38621849552212 L 44.22110552763819 68.39121688904444 L 44.723618090452256 68.39621528256679 L 45.226130653266324 68.40121367608911 L 45.7286432160804 68.40621206961144 L 46.23115577889447 68.41121046313378 L 46.73366834170854 68.41620885665611 L 47.23618090452261 68.42120725017845 L 47.73869346733668 68.42620564370078 L 48.24120603015075 68.43120403722311 L 48.74371859296482 68.43620243074545 L 49.24623115577889 68.44120082426778 L 49.74874371859296 68.44619921779012 L 50.25125628140703 68.45119761131245 L 50.7537688442211 68.4561960048348 L 51.256281407035175 68.46119439835712 L 51.75879396984924 68.46619279187945 L 52.26130653266331 68.47119118540179 L 52.76381909547738 68.47618957892412 L 53.26633165829145 68.48118797244646 L 53.768844221105525 68.48618636596879 L 54.27135678391959 68.49118475949113 L 54.77386934673366 68.49618315301346 L 55.27638190954774 68.50118154653579 L 55.778894472361806 68.50617994005813 L 56.281407035175874 68.51117833358046 L 56.78391959798994 68.5161767271028 L 57.28643216080401 68.52117512062513 L 57.78894472361809 68.52617351414746 L 58.291457286432156 68.5311719076698 L 58.793969849246224 68.53617030119213 L 59.2964824120603 68.54116869471447 L 59.79899497487437 68.5461670882368 L 60.30150753768844 68.55116548175914 L 60.804020100502505 68.55616387528147 L 61.306532663316574 68.5611622688038 L 61.80904522613065 68.56616066232614 L 62.31155778894472 68.57115905584847 L 62.81407035175879 68.57615744937081 L 63.31658291457286 68.58115584289314 L 63.81909547738693 68.58615423641548 L 64.321608040201 68.59115262993781 L 64.82412060301507 68.59615102346014 L 65.32663316582914 68.60114941698248 L 65.82914572864321 68.60614781050481 L 66.33165829145727 68.61114620402715 L 66.83417085427135 68.61614459754948 L 67.33668341708542 68.62114299107182 L 67.83919597989949 68.62614138459415 L 68.34170854271356 68.63113977811648 L 68.84422110552764 68.63613817163882 L 69.3467336683417 68.64113656516115 L 69.84924623115577 68.64613495868349 L 70.35175879396985 68.65113335220582 L 70.85427135678391 68.65613174572815 L 71.35678391959799 68.66113013925049 L 71.85929648241205 68.66612853277282 L 72.36180904522612 68.67112692629516 L 72.8643216080402 68.67612531981749 L 73.36683417085426 68.68112371333983 L 73.86934673366834 68.68612210686216 L 74.3718592964824 68.69112050038449 L 74.87437185929647 68.69611889390683 L 75.37688442211055 68.70111728742916 L 75.87939698492461 68.7061156809515 L 76.38190954773869 68.71111407447383 L 76.88442211055276 68.71611246799617 L 77.38693467336682 68.7211108615185 L 77.8894472361809 68.72610925504083 L 78.39195979899498 68.73110764856317 L 78.89447236180904 68.7361060420855 L 79.39698492462311 68.74110443560784 L 79.89949748743717 68.74610282913017 L 80.40201005025125 68.7511012226525 L 80.90452261306532 68.75609961617484 L 81.40703517587939 68.76109800969716 L 81.90954773869346 68.7660964032195 L 82.41206030150752 68.77109479674183 L 82.9145728643216 68.77609319026418 L 83.41708542713567 68.7810915837865 L 83.91959798994974 68.78608997730883 L 84.42211055276381 68.79108837083118 L 84.92462311557789 68.7960867643535 L 85.42713567839195 68.80108515787585 L 85.92964824120602 68.80608355139817 L 86.4321608040201 68.81108194492052 L 86.93467336683416 68.81608033844284 L 87.43718592964824 68.82107873196517 L 87.9396984924623 68.82607712548752 L 88.44221105527637 68.83107551900984 L 88.94472361809045 68.83607391253219 L 89.44723618090451 68.84107230605451 L 89.94974874371859 68.84607069957684 L 90.45226130653265 68.85106909309918 L 90.95477386934672 68.85606748662151 L 91.4572864321608 68.86106588014385 L 91.95979899497486 68.86606427366618 L 92.46231155778894 68.87106266718853 L 92.96482412060301 68.87606106071085 L 93.46733668341707 68.88105945423318 L 93.96984924623115 68.88605784775552 L 94.47236180904522 68.89105624127785 L 94.97487437185929 68.8960546348002 L 95.47738693467336 68.90105302832252 L 95.97989949748742 68.90605142184486 L 96.4824120603015 68.91104981536719 L 96.98492462311557 68.91604820888952 L 97.48743718592964 68.92104660241186 L 97.98994974874371 68.92604499593419 L 98.49246231155777 68.93104338945653 L 98.99497487437185 68.93604178297886 L 99.49748743718592 68.94104017650119 L 100.0 68.94603857002353",
          "type": "path"
         }
        ],
        "template": {
         "data": {
          "bar": [
           {
            "error_x": {
             "color": "#2a3f5f"
            },
            "error_y": {
             "color": "#2a3f5f"
            },
            "marker": {
             "line": {
              "color": "white",
              "width": 0.5
             },
             "pattern": {
              "fillmode": "overlay",
              "size": 10,
              "solidity": 0.2
             }
            },
            "type": "bar"
           }
          ],
          "barpolar": [
           {
            "marker": {
             "line": {
              "color": "white",
              "width": 0.5
             },
             "pattern": {
              "fillmode": "overlay",
              "size": 10,
              "solidity": 0.2
             }
            },
            "type": "barpolar"
           }
          ],
          "box": [
           {
            "boxpoints": "outliers",
            "notched": false,
            "type": "box"
           }
          ],
          "carpet": [
           {
            "aaxis": {
             "endlinecolor": "#2a3f5f",
             "gridcolor": "#C8D4E3",
             "linecolor": "#C8D4E3",
             "minorgridcolor": "#C8D4E3",
             "startlinecolor": "#2a3f5f"
            },
            "baxis": {
             "endlinecolor": "#2a3f5f",
             "gridcolor": "#C8D4E3",
             "linecolor": "#C8D4E3",
             "minorgridcolor": "#C8D4E3",
             "startlinecolor": "#2a3f5f"
            },
            "type": "carpet"
           }
          ],
          "choropleth": [
           {
            "colorbar": {
             "outlinewidth": 0,
             "ticks": ""
            },
            "type": "choropleth"
           }
          ],
          "contour": [
           {
            "colorbar": {
             "outlinewidth": 0,
             "ticks": ""
            },
            "colorscale": [
             [
              0,
              "#0d0887"
             ],
             [
              0.1111111111111111,
              "#46039f"
             ],
             [
              0.2222222222222222,
              "#7201a8"
             ],
             [
              0.3333333333333333,
              "#9c179e"
             ],
             [
              0.4444444444444444,
              "#bd3786"
             ],
             [
              0.5555555555555556,
              "#d8576b"
             ],
             [
              0.6666666666666666,
              "#ed7953"
             ],
             [
              0.7777777777777778,
              "#fb9f3a"
             ],
             [
              0.8888888888888888,
              "#fdca26"
             ],
             [
              1,
              "#f0f921"
             ]
            ],
            "type": "contour"
           }
          ],
          "contourcarpet": [
           {
            "colorbar": {
             "outlinewidth": 0,
             "ticks": ""
            },
            "type": "contourcarpet"
           }
          ],
          "heatmap": [
           {
            "colorbar": {
             "outlinewidth": 0,
             "ticks": ""
            },
            "colorscale": [
             [
              0,
              "#0d0887"
             ],
             [
              0.1111111111111111,
              "#46039f"
             ],
             [
              0.2222222222222222,
              "#7201a8"
             ],
             [
              0.3333333333333333,
              "#9c179e"
             ],
             [
              0.4444444444444444,
              "#bd3786"
             ],
             [
              0.5555555555555556,
              "#d8576b"
             ],
             [
              0.6666666666666666,
              "#ed7953"
             ],
             [
              0.7777777777777778,
              "#fb9f3a"
             ],
             [
              0.8888888888888888,
              "#fdca26"
             ],
             [
              1,
              "#f0f921"
             ]
            ],
            "type": "heatmap"
           }
          ],
          "heatmapgl": [
           {
            "colorbar": {
             "outlinewidth": 0,
             "ticks": ""
            },
            "colorscale": [
             [
              0,
              "#0d0887"
             ],
             [
              0.1111111111111111,
              "#46039f"
             ],
             [
              0.2222222222222222,
              "#7201a8"
             ],
             [
              0.3333333333333333,
              "#9c179e"
             ],
             [
              0.4444444444444444,
              "#bd3786"
             ],
             [
              0.5555555555555556,
              "#d8576b"
             ],
             [
              0.6666666666666666,
              "#ed7953"
             ],
             [
              0.7777777777777778,
              "#fb9f3a"
             ],
             [
              0.8888888888888888,
              "#fdca26"
             ],
             [
              1,
              "#f0f921"
             ]
            ],
            "type": "heatmapgl"
           }
          ],
          "histogram": [
           {
            "marker": {
             "line": {
              "width": 1
             },
             "pattern": {
              "fillmode": "overlay",
              "size": 10,
              "solidity": 0.2
             }
            },
            "type": "histogram"
           }
          ],
          "histogram2d": [
           {
            "colorbar": {
             "outlinewidth": 0,
             "ticks": ""
            },
            "colorscale": [
             [
              0,
              "#0d0887"
             ],
             [
              0.1111111111111111,
              "#46039f"
             ],
             [
              0.2222222222222222,
              "#7201a8"
             ],
             [
              0.3333333333333333,
              "#9c179e"
             ],
             [
              0.4444444444444444,
              "#bd3786"
             ],
             [
              0.5555555555555556,
              "#d8576b"
             ],
             [
              0.6666666666666666,
              "#ed7953"
             ],
             [
              0.7777777777777778,
              "#fb9f3a"
             ],
             [
              0.8888888888888888,
              "#fdca26"
             ],
             [
              1,
              "#f0f921"
             ]
            ],
            "type": "histogram2d"
           }
          ],
          "histogram2dcontour": [
           {
            "colorbar": {
             "outlinewidth": 0,
             "ticks": ""
            },
            "colorscale": [
             [
              0,
              "#0d0887"
             ],
             [
              0.1111111111111111,
              "#46039f"
             ],
             [
              0.2222222222222222,
              "#7201a8"
             ],
             [
              0.3333333333333333,
              "#9c179e"
             ],
             [
              0.4444444444444444,
              "#bd3786"
             ],
             [
              0.5555555555555556,
              "#d8576b"
             ],
             [
              0.6666666666666666,
              "#ed7953"
             ],
             [
              0.7777777777777778,
              "#fb9f3a"
             ],
             [
              0.8888888888888888,
              "#fdca26"
             ],
             [
              1,
              "#f0f921"
             ]
            ],
            "type": "histogram2dcontour"
           }
          ],
          "mesh3d": [
           {
            "colorbar": {
             "outlinewidth": 0,
             "ticks": ""
            },
            "type": "mesh3d"
           }
          ],
          "parcoords": [
           {
            "line": {
             "colorbar": {
              "outlinewidth": 0,
              "ticks": ""
             }
            },
            "type": "parcoords"
           }
          ],
          "pie": [
           {
            "automargin": true,
            "type": "pie"
           }
          ],
          "scatter": [
           {
            "fillpattern": {
             "fillmode": "overlay",
             "size": 10,
             "solidity": 0.2
            },
            "marker": {
             "opacity": 0.8
            },
            "type": "scatter"
           }
          ],
          "scatter3d": [
           {
            "line": {
             "colorbar": {
              "outlinewidth": 0,
              "ticks": ""
             }
            },
            "marker": {
             "colorbar": {
              "outlinewidth": 0,
              "ticks": ""
             },
             "opacity": 0.8
            },
            "type": "scatter3d"
           }
          ],
          "scattercarpet": [
           {
            "marker": {
             "colorbar": {
              "outlinewidth": 0,
              "ticks": ""
             }
            },
            "type": "scattercarpet"
           }
          ],
          "scattergeo": [
           {
            "marker": {
             "colorbar": {
              "outlinewidth": 0,
              "ticks": ""
             }
            },
            "type": "scattergeo"
           }
          ],
          "scattergl": [
           {
            "marker": {
             "colorbar": {
              "outlinewidth": 0,
              "ticks": ""
             }
            },
            "type": "scattergl"
           }
          ],
          "scattermapbox": [
           {
            "marker": {
             "colorbar": {
              "outlinewidth": 0,
              "ticks": ""
             }
            },
            "type": "scattermapbox"
           }
          ],
          "scatterpolar": [
           {
            "marker": {
             "colorbar": {
              "outlinewidth": 0,
              "ticks": ""
             }
            },
            "type": "scatterpolar"
           }
          ],
          "scatterpolargl": [
           {
            "marker": {
             "colorbar": {
              "outlinewidth": 0,
              "ticks": ""
             }
            },
            "type": "scatterpolargl"
           }
          ],
          "scatterternary": [
           {
            "marker": {
             "colorbar": {
              "outlinewidth": 0,
              "ticks": ""
             }
            },
            "type": "scatterternary"
           }
          ],
          "surface": [
           {
            "colorbar": {
             "outlinewidth": 0,
             "ticks": ""
            },
            "colorscale": [
             [
              0,
              "#0d0887"
             ],
             [
              0.1111111111111111,
              "#46039f"
             ],
             [
              0.2222222222222222,
              "#7201a8"
             ],
             [
              0.3333333333333333,
              "#9c179e"
             ],
             [
              0.4444444444444444,
              "#bd3786"
             ],
             [
              0.5555555555555556,
              "#d8576b"
             ],
             [
              0.6666666666666666,
              "#ed7953"
             ],
             [
              0.7777777777777778,
              "#fb9f3a"
             ],
             [
              0.8888888888888888,
              "#fdca26"
             ],
             [
              1,
              "#f0f921"
             ]
            ],
            "type": "surface"
           }
          ],
          "table": [
           {
            "cells": {
             "fill": {
              "color": "#EBF0F8"
             },
             "line": {
              "color": "white"
             }
            },
            "header": {
             "fill": {
              "color": "#C8D4E3"
             },
             "line": {
              "color": "white"
             }
            },
            "type": "table"
           }
          ]
         },
         "layout": {
          "annotationdefaults": {
           "arrowcolor": "#2a3f5f",
           "arrowhead": 0,
           "arrowwidth": 1
          },
          "autotypenumbers": "strict",
          "coloraxis": {
           "colorbar": {
            "outlinewidth": 0,
            "ticks": ""
           }
          },
          "colorscale": {
           "diverging": [
            [
             0,
             "#8e0152"
            ],
            [
             0.1,
             "#c51b7d"
            ],
            [
             0.2,
             "#de77ae"
            ],
            [
             0.3,
             "#f1b6da"
            ],
            [
             0.4,
             "#fde0ef"
            ],
            [
             0.5,
             "#f7f7f7"
            ],
            [
             0.6,
             "#e6f5d0"
            ],
            [
             0.7,
             "#b8e186"
            ],
            [
             0.8,
             "#7fbc41"
            ],
            [
             0.9,
             "#4d9221"
            ],
            [
             1,
             "#276419"
            ]
           ],
           "sequential": [
            [
             0,
             "#0d0887"
            ],
            [
             0.1111111111111111,
             "#46039f"
            ],
            [
             0.2222222222222222,
             "#7201a8"
            ],
            [
             0.3333333333333333,
             "#9c179e"
            ],
            [
             0.4444444444444444,
             "#bd3786"
            ],
            [
             0.5555555555555556,
             "#d8576b"
            ],
            [
             0.6666666666666666,
             "#ed7953"
            ],
            [
             0.7777777777777778,
             "#fb9f3a"
            ],
            [
             0.8888888888888888,
             "#fdca26"
            ],
            [
             1,
             "#f0f921"
            ]
           ],
           "sequentialminus": [
            [
             0,
             "#0d0887"
            ],
            [
             0.1111111111111111,
             "#46039f"
            ],
            [
             0.2222222222222222,
             "#7201a8"
            ],
            [
             0.3333333333333333,
             "#9c179e"
            ],
            [
             0.4444444444444444,
             "#bd3786"
            ],
            [
             0.5555555555555556,
             "#d8576b"
            ],
            [
             0.6666666666666666,
             "#ed7953"
            ],
            [
             0.7777777777777778,
             "#fb9f3a"
            ],
            [
             0.8888888888888888,
             "#fdca26"
            ],
            [
             1,
             "#f0f921"
            ]
           ]
          },
          "colorway": [
           "#636efa",
           "#EF553B",
           "#00cc96",
           "#ab63fa",
           "#FFA15A",
           "#19d3f3",
           "#FF6692",
           "#B6E880",
           "#FF97FF",
           "#FECB52"
          ],
          "font": {
           "color": "#2a3f5f"
          },
          "geo": {
           "bgcolor": "white",
           "lakecolor": "white",
           "landcolor": "white",
           "showlakes": true,
           "showland": true,
           "subunitcolor": "#C8D4E3"
          },
          "height": 400,
          "hoverlabel": {
           "align": "left"
          },
          "hovermode": "closest",
          "mapbox": {
           "style": "light"
          },
          "margin": {
           "b": 2,
           "l": 2,
           "r": 2,
           "t": 30
          },
          "paper_bgcolor": "white",
          "plot_bgcolor": "white",
          "polar": {
           "angularaxis": {
            "gridcolor": "#EBF0F8",
            "linecolor": "#EBF0F8",
            "ticks": ""
           },
           "bgcolor": "white",
           "radialaxis": {
            "gridcolor": "#EBF0F8",
            "linecolor": "#EBF0F8",
            "ticks": ""
           }
          },
          "scene": {
           "camera": {
            "eye": {
             "x": 1.5,
             "y": 1.5,
             "z": 0.1
            }
           },
           "xaxis": {
            "backgroundcolor": "white",
            "gridcolor": "#DFE8F3",
            "gridwidth": 2,
            "linecolor": "#EBF0F8",
            "showbackground": true,
            "ticks": "",
            "zerolinecolor": "#EBF0F8"
           },
           "yaxis": {
            "backgroundcolor": "white",
            "gridcolor": "#DFE8F3",
            "gridwidth": 2,
            "linecolor": "#EBF0F8",
            "showbackground": true,
            "ticks": "",
            "zerolinecolor": "#EBF0F8"
           },
           "zaxis": {
            "backgroundcolor": "white",
            "gridcolor": "#DFE8F3",
            "gridwidth": 2,
            "linecolor": "#EBF0F8",
            "showbackground": true,
            "ticks": "",
            "zerolinecolor": "#EBF0F8"
           }
          },
          "shapedefaults": {
           "line": {
            "color": "#2a3f5f"
           }
          },
          "ternary": {
           "aaxis": {
            "gridcolor": "#DFE8F3",
            "linecolor": "#A2B1C6",
            "ticks": ""
           },
           "baxis": {
            "gridcolor": "#DFE8F3",
            "linecolor": "#A2B1C6",
            "ticks": ""
           },
           "bgcolor": "white",
           "caxis": {
            "gridcolor": "#DFE8F3",
            "linecolor": "#A2B1C6",
            "ticks": ""
           }
          },
          "title": {
           "x": 0.5
          },
          "xaxis": {
           "automargin": true,
           "gridcolor": "#EBF0F8",
           "linecolor": "#EBF0F8",
           "linewidth": 2,
           "showline": true,
           "ticks": "",
           "title": {
            "standoff": 15
           },
           "zerolinecolor": "#EBF0F8",
           "zerolinewidth": 2
          },
          "yaxis": {
           "automargin": true,
           "gridcolor": "#EBF0F8",
           "linecolor": "#EBF0F8",
           "linewidth": 2,
           "showline": true,
           "ticks": "",
           "title": {
            "standoff": 15
           },
           "zerolinecolor": "#EBF0F8",
           "zerolinewidth": 2
          }
         }
        },
        "xaxis": {
         "anchor": "y",
         "domain": [
          0,
          1
         ],
         "title": {
          "text": "EmergencyNYC"
         }
        },
        "yaxis": {
         "anchor": "x",
         "domain": [
          0,
          1
         ],
         "title": {
          "text": "Average"
         }
        }
       }
      }
     },
     "metadata": {},
     "output_type": "display_data"
    }
   ],
   "source": [
    "model1 = smf.ols(formula=formula, data = train).fit()\n",
    "graphing.scatter_2D(train, \"EmergencyNYC\", \"Average\", trendline = lambda x: model1.params[1] * x + model1.params[0])"
   ]
  },
  {
   "cell_type": "code",
   "execution_count": 34,
   "metadata": {},
   "outputs": [
    {
     "name": "stdout",
     "output_type": "stream",
     "text": [
      "MSE = 24.632040 \n"
     ]
    }
   ],
   "source": [
    "correct_labels = train['Average']\n",
    "predicted = model1.predict(train['EmergencyNYC'])\n",
    "\n",
    "MSE = mse(correct_labels, predicted)\n",
    "print('MSE = %f ' % MSE)"
   ]
  },
  {
   "cell_type": "code",
   "execution_count": 35,
   "metadata": {},
   "outputs": [
    {
     "name": "stderr",
     "output_type": "stream",
     "text": [
      "C:\\Users\\User\\AppData\\Local\\Temp\\ipykernel_9636\\3977753709.py:1: FutureWarning:\n",
      "\n",
      "Series.__getitem__ treating keys as positions is deprecated. In a future version, integer keys will always be treated as labels (consistent with DataFrame behavior). To access a value by position, use `ser.iloc[pos]`\n",
      "\n"
     ]
    },
    {
     "data": {
      "application/vnd.plotly.v1+json": {
       "config": {
        "plotlyServerURL": "https://plot.ly"
       },
       "data": [
        {
         "hovertemplate": "EmergencyNYC=%{x}<br>Average=%{y}<extra></extra>",
         "legendgroup": "",
         "marker": {
          "color": "#636efa",
          "size": 19,
          "symbol": "circle"
         },
         "mode": "markers",
         "name": "",
         "orientation": "v",
         "showlegend": false,
         "type": "scatter",
         "x": [
          0,
          4,
          2,
          0,
          4,
          6,
          5,
          5,
          0,
          0,
          0,
          0,
          0,
          4,
          67,
          8,
          0,
          4,
          1,
          6,
          3,
          2,
          43,
          0,
          0,
          0,
          0,
          0
         ],
         "xaxis": "x",
         "y": [
          68.69565217391305,
          62.30434782608695,
          65.34782608695652,
          70.6086956521739,
          63.26086956521739,
          63.47826086956522,
          62.65217391304348,
          66.91304347826087,
          68.17391304347827,
          66.26086956521739,
          67.43478260869566,
          70.21739130434783,
          70.3913043478261,
          64.04347826086956,
          77.8695652173913,
          68.08695652173913,
          63.26086956521739,
          72.69565217391305,
          65.17391304347827,
          63.391304347826086,
          67.08695652173913,
          65,
          68.43478260869566,
          67.30434782608695,
          74.47826086956522,
          60.21739130434783,
          68.34782608695652,
          65.17391304347827
         ],
         "yaxis": "y"
        }
       ],
       "layout": {
        "legend": {
         "tracegroupgap": 0
        },
        "shapes": [
         {
          "line": {
           "color": "rgb(228,26,28)"
          },
          "path": "M0.0 67.95135825907904 L 0.33668341708542715 67.95470718273901 L 0.6733668341708543 67.95805610639897 L 1.0100502512562815 67.96140503005894 L 1.3467336683417086 67.9647539537189 L 1.6834170854271358 67.96810287737887 L 2.020100502512563 67.97145180103882 L 2.35678391959799 67.9748007246988 L 2.693467336683417 67.97814964835875 L 3.0301507537688446 67.98149857201872 L 3.3668341708542715 67.98484749567868 L 3.7035175879396984 67.98819641933865 L 4.040201005025126 67.9915453429986 L 4.376884422110553 67.99489426665858 L 4.71356783919598 67.99824319031853 L 5.050251256281407 68.0015921139785 L 5.386934673366834 68.00494103763846 L 5.723618090452262 68.00828996129843 L 6.060301507537689 68.01163888495839 L 6.396984924623116 68.01498780861836 L 6.733668341708543 68.01833673227831 L 7.07035175879397 68.02168565593828 L 7.407035175879397 68.02503457959824 L 7.743718592964824 68.02838350325821 L 8.080402010050252 68.03173242691818 L 8.417085427135678 68.03508135057814 L 8.753768844221106 68.03843027423811 L 9.090452261306533 68.04177919789807 L 9.42713567839196 68.04512812155804 L 9.763819095477388 68.048477045218 L 10.100502512562814 68.05182596887796 L 10.437185929648242 68.05517489253792 L 10.773869346733669 68.05852381619789 L 11.110552763819095 68.06187273985785 L 11.447236180904524 68.06522166351782 L 11.78391959798995 68.06857058717777 L 12.120603015075378 68.07191951083774 L 12.457286432160805 68.0752684344977 L 12.793969849246231 68.07861735815767 L 13.13065326633166 68.08196628181763 L 13.467336683417086 68.0853152054776 L 13.804020100502512 68.08866412913756 L 14.14070351758794 68.09201305279753 L 14.477386934673367 68.09536197645748 L 14.814070351758794 68.09871090011745 L 15.150753768844222 68.10205982377742 L 15.487437185929648 68.10540874743738 L 15.824120603015077 68.10875767109735 L 16.160804020100503 68.11210659475731 L 16.49748743718593 68.11545551841728 L 16.834170854271356 68.11880444207723 L 17.170854271356784 68.1221533657372 L 17.507537688442213 68.12550228939716 L 17.844221105527637 68.12885121305713 L 18.180904522613066 68.13220013671709 L 18.517587939698494 68.13554906037706 L 18.85427135678392 68.13889798403702 L 19.190954773869347 68.14224690769699 L 19.527638190954775 68.14559583135694 L 19.864321608040203 68.14894475501691 L 20.201005025125628 68.15229367867687 L 20.537688442211056 68.15564260233684 L 20.874371859296485 68.1589915259968 L 21.21105527638191 68.16234044965677 L 21.547738693467338 68.16568937331672 L 21.884422110552766 68.1690382969767 L 22.22110552763819 68.17238722063665 L 22.55778894472362 68.17573614429662 L 22.894472361809047 68.17908506795659 L 23.231155778894472 68.18243399161655 L 23.5678391959799 68.18578291527652 L 23.90452261306533 68.18913183893648 L 24.241206030150757 68.19248076259645 L 24.57788944723618 68.1958296862564 L 24.91457286432161 68.19917860991637 L 25.251256281407038 68.20252753357633 L 25.587939698492463 68.2058764572363 L 25.92462311557789 68.20922538089626 L 26.26130653266332 68.21257430455623 L 26.597989949748744 68.21592322821618 L 26.934673366834172 68.21927215187615 L 27.2713567839196 68.22262107553611 L 27.608040201005025 68.22596999919608 L 27.944723618090453 68.22931892285604 L 28.28140703517588 68.23266784651601 L 28.618090452261306 68.23601677017597 L 28.954773869346734 68.23936569383594 L 29.291457286432163 68.24271461749589 L 29.628140703517587 68.24606354115586 L 29.964824120603016 68.24941246481583 L 30.301507537688444 68.25276138847579 L 30.638190954773872 68.25611031213576 L 30.974874371859297 68.25945923579572 L 31.311557788944725 68.26280815945569 L 31.648241206030153 68.26615708311564 L 31.984924623115578 68.26950600677561 L 32.321608040201006 68.27285493043557 L 32.65829145728643 68.27620385409554 L 32.99497487437186 68.2795527777555 L 33.33165829145729 68.28290170141547 L 33.66834170854271 68.28625062507543 L 34.005025125628144 68.2895995487354 L 34.34170854271357 68.29294847239535 L 34.678391959798994 68.29629739605532 L 35.015075376884425 68.29964631971528 L 35.35175879396985 68.30299524337525 L 35.688442211055275 68.3063441670352 L 36.02512562814071 68.30969309069518 L 36.36180904522613 68.31304201435513 L 36.698492462311556 68.3163909380151 L 37.03517587939699 68.31973986167506 L 37.37185929648241 68.32308878533503 L 37.70854271356784 68.326437708995 L 38.04522613065327 68.32978663265496 L 38.381909547738694 68.33313555631493 L 38.718592964824126 68.33648447997489 L 39.05527638190955 68.33983340363486 L 39.391959798994975 68.34318232729481 L 39.72864321608041 68.34653125095478 L 40.06532663316583 68.34988017461474 L 40.402010050251256 68.35322909827471 L 40.73869346733669 68.35657802193467 L 41.07537688442211 68.35992694559464 L 41.41206030150754 68.3632758692546 L 41.74874371859297 68.36662479291456 L 42.085427135678394 68.36997371657452 L 42.42211055276382 68.37332264023449 L 42.75879396984925 68.37667156389445 L 43.095477386934675 68.38002048755442 L 43.4321608040201 68.38336941121437 L 43.76884422110553 68.38671833487435 L 44.10552763819096 68.3900672585343 L 44.44221105527638 68.39341618219427 L 44.77889447236181 68.39676510585423 L 45.11557788944724 68.4001140295142 L 45.45226130653266 68.40346295317417 L 45.788944723618094 68.40681187683413 L 46.12562814070352 68.4101608004941 L 46.462311557788944 68.41350972415405 L 46.798994974874375 68.41685864781402 L 47.1356783919598 68.42020757147398 L 47.472361809045225 68.42355649513395 L 47.80904522613066 68.42690541879391 L 48.14572864321608 68.43025434245388 L 48.48241206030151 68.43360326611383 L 48.81909547738694 68.4369521897738 L 49.15577889447236 68.44030111343376 L 49.492462311557794 68.44365003709373 L 49.82914572864322 68.44699896075369 L 50.165829145728644 68.45034788441366 L 50.502512562814076 68.45369680807362 L 50.8391959798995 68.45704573173359 L 51.175879396984925 68.46039465539354 L 51.51256281407036 68.46374357905351 L 51.84924623115578 68.46709250271347 L 52.185929648241206 68.47044142637344 L 52.52261306532664 68.47379035003341 L 52.85929648241206 68.47713927369337 L 53.19597989949749 68.48048819735334 L 53.53266331658292 68.4838371210133 L 53.869346733668344 68.48718604467327 L 54.20603015075377 68.49053496833322 L 54.5427135678392 68.49388389199319 L 54.879396984924625 68.49723281565315 L 55.21608040201005 68.50058173931312 L 55.55276381909548 68.50393066297308 L 55.88944723618091 68.50727958663305 L 56.22613065326633 68.510628510293 L 56.56281407035176 68.51397743395297 L 56.89949748743719 68.51732635761293 L 57.23618090452261 68.5206752812729 L 57.572864321608044 68.52402420493286 L 57.90954773869347 68.52737312859283 L 58.246231155778894 68.53072205225278 L 58.582914572864325 68.53407097591275 L 58.91959798994975 68.53741989957271 L 59.256281407035175 68.54076882323268 L 59.59296482412061 68.54411774689264 L 59.92964824120603 68.54746667055261 L 60.26633165829146 68.55081559421258 L 60.60301507537689 68.55416451787254 L 60.93969849246231 68.5575134415325 L 61.276381909547744 68.56086236519246 L 61.61306532663317 68.56421128885243 L 61.949748743718594 68.56756021251239 L 62.286432160804026 68.57090913617236 L 62.62311557788945 68.57425805983232 L 62.959798994974875 68.57760698349229 L 63.29648241206031 68.58095590715224 L 63.63316582914573 68.58430483081221 L 63.969849246231156 68.58765375447217 L 64.30653266331659 68.59100267813214 L 64.64321608040201 68.5943516017921 L 64.97989949748744 68.59770052545207 L 65.31658291457286 68.60104944911203 L 65.6532663316583 68.604398372772 L 65.98994974874373 68.60774729643195 L 66.32663316582915 68.61109622009192 L 66.66331658291458 68.61444514375188 L 67.0 68.61779406741185",
          "type": "path"
         }
        ],
        "template": {
         "data": {
          "bar": [
           {
            "error_x": {
             "color": "#2a3f5f"
            },
            "error_y": {
             "color": "#2a3f5f"
            },
            "marker": {
             "line": {
              "color": "white",
              "width": 0.5
             },
             "pattern": {
              "fillmode": "overlay",
              "size": 10,
              "solidity": 0.2
             }
            },
            "type": "bar"
           }
          ],
          "barpolar": [
           {
            "marker": {
             "line": {
              "color": "white",
              "width": 0.5
             },
             "pattern": {
              "fillmode": "overlay",
              "size": 10,
              "solidity": 0.2
             }
            },
            "type": "barpolar"
           }
          ],
          "box": [
           {
            "boxpoints": "outliers",
            "notched": false,
            "type": "box"
           }
          ],
          "carpet": [
           {
            "aaxis": {
             "endlinecolor": "#2a3f5f",
             "gridcolor": "#C8D4E3",
             "linecolor": "#C8D4E3",
             "minorgridcolor": "#C8D4E3",
             "startlinecolor": "#2a3f5f"
            },
            "baxis": {
             "endlinecolor": "#2a3f5f",
             "gridcolor": "#C8D4E3",
             "linecolor": "#C8D4E3",
             "minorgridcolor": "#C8D4E3",
             "startlinecolor": "#2a3f5f"
            },
            "type": "carpet"
           }
          ],
          "choropleth": [
           {
            "colorbar": {
             "outlinewidth": 0,
             "ticks": ""
            },
            "type": "choropleth"
           }
          ],
          "contour": [
           {
            "colorbar": {
             "outlinewidth": 0,
             "ticks": ""
            },
            "colorscale": [
             [
              0,
              "#0d0887"
             ],
             [
              0.1111111111111111,
              "#46039f"
             ],
             [
              0.2222222222222222,
              "#7201a8"
             ],
             [
              0.3333333333333333,
              "#9c179e"
             ],
             [
              0.4444444444444444,
              "#bd3786"
             ],
             [
              0.5555555555555556,
              "#d8576b"
             ],
             [
              0.6666666666666666,
              "#ed7953"
             ],
             [
              0.7777777777777778,
              "#fb9f3a"
             ],
             [
              0.8888888888888888,
              "#fdca26"
             ],
             [
              1,
              "#f0f921"
             ]
            ],
            "type": "contour"
           }
          ],
          "contourcarpet": [
           {
            "colorbar": {
             "outlinewidth": 0,
             "ticks": ""
            },
            "type": "contourcarpet"
           }
          ],
          "heatmap": [
           {
            "colorbar": {
             "outlinewidth": 0,
             "ticks": ""
            },
            "colorscale": [
             [
              0,
              "#0d0887"
             ],
             [
              0.1111111111111111,
              "#46039f"
             ],
             [
              0.2222222222222222,
              "#7201a8"
             ],
             [
              0.3333333333333333,
              "#9c179e"
             ],
             [
              0.4444444444444444,
              "#bd3786"
             ],
             [
              0.5555555555555556,
              "#d8576b"
             ],
             [
              0.6666666666666666,
              "#ed7953"
             ],
             [
              0.7777777777777778,
              "#fb9f3a"
             ],
             [
              0.8888888888888888,
              "#fdca26"
             ],
             [
              1,
              "#f0f921"
             ]
            ],
            "type": "heatmap"
           }
          ],
          "heatmapgl": [
           {
            "colorbar": {
             "outlinewidth": 0,
             "ticks": ""
            },
            "colorscale": [
             [
              0,
              "#0d0887"
             ],
             [
              0.1111111111111111,
              "#46039f"
             ],
             [
              0.2222222222222222,
              "#7201a8"
             ],
             [
              0.3333333333333333,
              "#9c179e"
             ],
             [
              0.4444444444444444,
              "#bd3786"
             ],
             [
              0.5555555555555556,
              "#d8576b"
             ],
             [
              0.6666666666666666,
              "#ed7953"
             ],
             [
              0.7777777777777778,
              "#fb9f3a"
             ],
             [
              0.8888888888888888,
              "#fdca26"
             ],
             [
              1,
              "#f0f921"
             ]
            ],
            "type": "heatmapgl"
           }
          ],
          "histogram": [
           {
            "marker": {
             "line": {
              "width": 1
             },
             "pattern": {
              "fillmode": "overlay",
              "size": 10,
              "solidity": 0.2
             }
            },
            "type": "histogram"
           }
          ],
          "histogram2d": [
           {
            "colorbar": {
             "outlinewidth": 0,
             "ticks": ""
            },
            "colorscale": [
             [
              0,
              "#0d0887"
             ],
             [
              0.1111111111111111,
              "#46039f"
             ],
             [
              0.2222222222222222,
              "#7201a8"
             ],
             [
              0.3333333333333333,
              "#9c179e"
             ],
             [
              0.4444444444444444,
              "#bd3786"
             ],
             [
              0.5555555555555556,
              "#d8576b"
             ],
             [
              0.6666666666666666,
              "#ed7953"
             ],
             [
              0.7777777777777778,
              "#fb9f3a"
             ],
             [
              0.8888888888888888,
              "#fdca26"
             ],
             [
              1,
              "#f0f921"
             ]
            ],
            "type": "histogram2d"
           }
          ],
          "histogram2dcontour": [
           {
            "colorbar": {
             "outlinewidth": 0,
             "ticks": ""
            },
            "colorscale": [
             [
              0,
              "#0d0887"
             ],
             [
              0.1111111111111111,
              "#46039f"
             ],
             [
              0.2222222222222222,
              "#7201a8"
             ],
             [
              0.3333333333333333,
              "#9c179e"
             ],
             [
              0.4444444444444444,
              "#bd3786"
             ],
             [
              0.5555555555555556,
              "#d8576b"
             ],
             [
              0.6666666666666666,
              "#ed7953"
             ],
             [
              0.7777777777777778,
              "#fb9f3a"
             ],
             [
              0.8888888888888888,
              "#fdca26"
             ],
             [
              1,
              "#f0f921"
             ]
            ],
            "type": "histogram2dcontour"
           }
          ],
          "mesh3d": [
           {
            "colorbar": {
             "outlinewidth": 0,
             "ticks": ""
            },
            "type": "mesh3d"
           }
          ],
          "parcoords": [
           {
            "line": {
             "colorbar": {
              "outlinewidth": 0,
              "ticks": ""
             }
            },
            "type": "parcoords"
           }
          ],
          "pie": [
           {
            "automargin": true,
            "type": "pie"
           }
          ],
          "scatter": [
           {
            "fillpattern": {
             "fillmode": "overlay",
             "size": 10,
             "solidity": 0.2
            },
            "marker": {
             "opacity": 0.8
            },
            "type": "scatter"
           }
          ],
          "scatter3d": [
           {
            "line": {
             "colorbar": {
              "outlinewidth": 0,
              "ticks": ""
             }
            },
            "marker": {
             "colorbar": {
              "outlinewidth": 0,
              "ticks": ""
             },
             "opacity": 0.8
            },
            "type": "scatter3d"
           }
          ],
          "scattercarpet": [
           {
            "marker": {
             "colorbar": {
              "outlinewidth": 0,
              "ticks": ""
             }
            },
            "type": "scattercarpet"
           }
          ],
          "scattergeo": [
           {
            "marker": {
             "colorbar": {
              "outlinewidth": 0,
              "ticks": ""
             }
            },
            "type": "scattergeo"
           }
          ],
          "scattergl": [
           {
            "marker": {
             "colorbar": {
              "outlinewidth": 0,
              "ticks": ""
             }
            },
            "type": "scattergl"
           }
          ],
          "scattermapbox": [
           {
            "marker": {
             "colorbar": {
              "outlinewidth": 0,
              "ticks": ""
             }
            },
            "type": "scattermapbox"
           }
          ],
          "scatterpolar": [
           {
            "marker": {
             "colorbar": {
              "outlinewidth": 0,
              "ticks": ""
             }
            },
            "type": "scatterpolar"
           }
          ],
          "scatterpolargl": [
           {
            "marker": {
             "colorbar": {
              "outlinewidth": 0,
              "ticks": ""
             }
            },
            "type": "scatterpolargl"
           }
          ],
          "scatterternary": [
           {
            "marker": {
             "colorbar": {
              "outlinewidth": 0,
              "ticks": ""
             }
            },
            "type": "scatterternary"
           }
          ],
          "surface": [
           {
            "colorbar": {
             "outlinewidth": 0,
             "ticks": ""
            },
            "colorscale": [
             [
              0,
              "#0d0887"
             ],
             [
              0.1111111111111111,
              "#46039f"
             ],
             [
              0.2222222222222222,
              "#7201a8"
             ],
             [
              0.3333333333333333,
              "#9c179e"
             ],
             [
              0.4444444444444444,
              "#bd3786"
             ],
             [
              0.5555555555555556,
              "#d8576b"
             ],
             [
              0.6666666666666666,
              "#ed7953"
             ],
             [
              0.7777777777777778,
              "#fb9f3a"
             ],
             [
              0.8888888888888888,
              "#fdca26"
             ],
             [
              1,
              "#f0f921"
             ]
            ],
            "type": "surface"
           }
          ],
          "table": [
           {
            "cells": {
             "fill": {
              "color": "#EBF0F8"
             },
             "line": {
              "color": "white"
             }
            },
            "header": {
             "fill": {
              "color": "#C8D4E3"
             },
             "line": {
              "color": "white"
             }
            },
            "type": "table"
           }
          ]
         },
         "layout": {
          "annotationdefaults": {
           "arrowcolor": "#2a3f5f",
           "arrowhead": 0,
           "arrowwidth": 1
          },
          "autotypenumbers": "strict",
          "coloraxis": {
           "colorbar": {
            "outlinewidth": 0,
            "ticks": ""
           }
          },
          "colorscale": {
           "diverging": [
            [
             0,
             "#8e0152"
            ],
            [
             0.1,
             "#c51b7d"
            ],
            [
             0.2,
             "#de77ae"
            ],
            [
             0.3,
             "#f1b6da"
            ],
            [
             0.4,
             "#fde0ef"
            ],
            [
             0.5,
             "#f7f7f7"
            ],
            [
             0.6,
             "#e6f5d0"
            ],
            [
             0.7,
             "#b8e186"
            ],
            [
             0.8,
             "#7fbc41"
            ],
            [
             0.9,
             "#4d9221"
            ],
            [
             1,
             "#276419"
            ]
           ],
           "sequential": [
            [
             0,
             "#0d0887"
            ],
            [
             0.1111111111111111,
             "#46039f"
            ],
            [
             0.2222222222222222,
             "#7201a8"
            ],
            [
             0.3333333333333333,
             "#9c179e"
            ],
            [
             0.4444444444444444,
             "#bd3786"
            ],
            [
             0.5555555555555556,
             "#d8576b"
            ],
            [
             0.6666666666666666,
             "#ed7953"
            ],
            [
             0.7777777777777778,
             "#fb9f3a"
            ],
            [
             0.8888888888888888,
             "#fdca26"
            ],
            [
             1,
             "#f0f921"
            ]
           ],
           "sequentialminus": [
            [
             0,
             "#0d0887"
            ],
            [
             0.1111111111111111,
             "#46039f"
            ],
            [
             0.2222222222222222,
             "#7201a8"
            ],
            [
             0.3333333333333333,
             "#9c179e"
            ],
            [
             0.4444444444444444,
             "#bd3786"
            ],
            [
             0.5555555555555556,
             "#d8576b"
            ],
            [
             0.6666666666666666,
             "#ed7953"
            ],
            [
             0.7777777777777778,
             "#fb9f3a"
            ],
            [
             0.8888888888888888,
             "#fdca26"
            ],
            [
             1,
             "#f0f921"
            ]
           ]
          },
          "colorway": [
           "#636efa",
           "#EF553B",
           "#00cc96",
           "#ab63fa",
           "#FFA15A",
           "#19d3f3",
           "#FF6692",
           "#B6E880",
           "#FF97FF",
           "#FECB52"
          ],
          "font": {
           "color": "#2a3f5f"
          },
          "geo": {
           "bgcolor": "white",
           "lakecolor": "white",
           "landcolor": "white",
           "showlakes": true,
           "showland": true,
           "subunitcolor": "#C8D4E3"
          },
          "height": 400,
          "hoverlabel": {
           "align": "left"
          },
          "hovermode": "closest",
          "mapbox": {
           "style": "light"
          },
          "margin": {
           "b": 2,
           "l": 2,
           "r": 2,
           "t": 30
          },
          "paper_bgcolor": "white",
          "plot_bgcolor": "white",
          "polar": {
           "angularaxis": {
            "gridcolor": "#EBF0F8",
            "linecolor": "#EBF0F8",
            "ticks": ""
           },
           "bgcolor": "white",
           "radialaxis": {
            "gridcolor": "#EBF0F8",
            "linecolor": "#EBF0F8",
            "ticks": ""
           }
          },
          "scene": {
           "camera": {
            "eye": {
             "x": 1.5,
             "y": 1.5,
             "z": 0.1
            }
           },
           "xaxis": {
            "backgroundcolor": "white",
            "gridcolor": "#DFE8F3",
            "gridwidth": 2,
            "linecolor": "#EBF0F8",
            "showbackground": true,
            "ticks": "",
            "zerolinecolor": "#EBF0F8"
           },
           "yaxis": {
            "backgroundcolor": "white",
            "gridcolor": "#DFE8F3",
            "gridwidth": 2,
            "linecolor": "#EBF0F8",
            "showbackground": true,
            "ticks": "",
            "zerolinecolor": "#EBF0F8"
           },
           "zaxis": {
            "backgroundcolor": "white",
            "gridcolor": "#DFE8F3",
            "gridwidth": 2,
            "linecolor": "#EBF0F8",
            "showbackground": true,
            "ticks": "",
            "zerolinecolor": "#EBF0F8"
           }
          },
          "shapedefaults": {
           "line": {
            "color": "#2a3f5f"
           }
          },
          "ternary": {
           "aaxis": {
            "gridcolor": "#DFE8F3",
            "linecolor": "#A2B1C6",
            "ticks": ""
           },
           "baxis": {
            "gridcolor": "#DFE8F3",
            "linecolor": "#A2B1C6",
            "ticks": ""
           },
           "bgcolor": "white",
           "caxis": {
            "gridcolor": "#DFE8F3",
            "linecolor": "#A2B1C6",
            "ticks": ""
           }
          },
          "title": {
           "x": 0.5
          },
          "xaxis": {
           "automargin": true,
           "gridcolor": "#EBF0F8",
           "linecolor": "#EBF0F8",
           "linewidth": 2,
           "showline": true,
           "ticks": "",
           "title": {
            "standoff": 15
           },
           "zerolinecolor": "#EBF0F8",
           "zerolinewidth": 2
          },
          "yaxis": {
           "automargin": true,
           "gridcolor": "#EBF0F8",
           "linecolor": "#EBF0F8",
           "linewidth": 2,
           "showline": true,
           "ticks": "",
           "title": {
            "standoff": 15
           },
           "zerolinecolor": "#EBF0F8",
           "zerolinewidth": 2
          }
         }
        },
        "xaxis": {
         "anchor": "y",
         "domain": [
          0,
          1
         ],
         "title": {
          "text": "EmergencyNYC"
         }
        },
        "yaxis": {
         "anchor": "x",
         "domain": [
          0,
          1
         ],
         "title": {
          "text": "Average"
         }
        }
       }
      }
     },
     "metadata": {},
     "output_type": "display_data"
    }
   ],
   "source": [
    "graphing.scatter_2D(test, \"EmergencyNYC\", \"Average\", trendline = lambda x: model1.params[1] * x + model1.params[0])"
   ]
  },
  {
   "cell_type": "code",
   "execution_count": 36,
   "metadata": {},
   "outputs": [
    {
     "name": "stdout",
     "output_type": "stream",
     "text": [
      "MSE = 15.306395 \n"
     ]
    }
   ],
   "source": [
    "# We use the in-buit sklearn function to calculate the MSE\n",
    "correct_labels = test['Average']\n",
    "predicted = model1.predict(test['EmergencyNYC'])\n",
    "\n",
    "MSE = mse(correct_labels, predicted)\n",
    "print('MSE = %f ' % MSE)"
   ]
  },
  {
   "cell_type": "code",
   "execution_count": 45,
   "metadata": {},
   "outputs": [
    {
     "data": {
      "application/vnd.plotly.v1+json": {
       "config": {
        "plotlyServerURL": "https://plot.ly"
       },
       "data": [
        {
         "hovertemplate": "Set=train<br>EmergencyNYC=%{x}<br>Average=%{y}<extra></extra>",
         "legendgroup": "train",
         "marker": {
          "color": "#636efa",
          "size": 17,
          "symbol": "circle"
         },
         "mode": "markers",
         "name": "train",
         "orientation": "v",
         "showlegend": true,
         "type": "scatter",
         "x": [
          0,
          6,
          0,
          0,
          2,
          0,
          0,
          0,
          12,
          0,
          0,
          0,
          1,
          3,
          0,
          0,
          7,
          0,
          0,
          0,
          0,
          0,
          4,
          0,
          3,
          4,
          100,
          3,
          0,
          0,
          5,
          2,
          0,
          0,
          0,
          3,
          2,
          16,
          0,
          0,
          3,
          3,
          0,
          5,
          2
         ],
         "xaxis": "x",
         "y": [
          63.04347826086956,
          62.60869565217392,
          75.8695652173913,
          58.34782608695652,
          57.08695652173913,
          62.73913043478261,
          66.47826086956522,
          68.91304347826087,
          71,
          68.91304347826087,
          66.78260869565217,
          69.6086956521739,
          72.04347826086956,
          66.21739130434783,
          69.69565217391305,
          72.65217391304348,
          64,
          64.78260869565217,
          69.30434782608695,
          67.04347826086956,
          72.52173913043478,
          72.43478260869566,
          68.52173913043478,
          66.73913043478261,
          78.8695652173913,
          53.60869565217392,
          68.65217391304348,
          63.04347826086956,
          70.82608695652173,
          58.869565217391305,
          70.95652173913044,
          67.6086956521739,
          63.869565217391305,
          69.08695652173913,
          74.95652173913044,
          67,
          72.8695652173913,
          70.1304347826087,
          66.04347826086956,
          67.34782608695652,
          59.52173913043478,
          68.1304347826087,
          66.73913043478261,
          64.1304347826087,
          63.04347826086956
         ],
         "yaxis": "y"
        },
        {
         "hovertemplate": "Set=test<br>EmergencyNYC=%{x}<br>Average=%{y}<extra></extra>",
         "legendgroup": "test",
         "marker": {
          "color": "#EF553B",
          "size": 17,
          "symbol": "circle"
         },
         "mode": "markers",
         "name": "test",
         "orientation": "v",
         "showlegend": true,
         "type": "scatter",
         "x": [
          0,
          4,
          2,
          0,
          4,
          6,
          5,
          5,
          0,
          0,
          0,
          0,
          0,
          4,
          67,
          8,
          0,
          4,
          1,
          6,
          3,
          2,
          43,
          0,
          0,
          0,
          0,
          0,
          5,
          4,
          2,
          0,
          0,
          25,
          0,
          0,
          8,
          2,
          4,
          0,
          4,
          2,
          5,
          2,
          2,
          9
         ],
         "xaxis": "x",
         "y": [
          68.69565217391305,
          62.30434782608695,
          65.34782608695652,
          70.6086956521739,
          63.26086956521739,
          63.47826086956522,
          62.65217391304348,
          66.91304347826087,
          68.17391304347827,
          66.26086956521739,
          67.43478260869566,
          70.21739130434783,
          70.3913043478261,
          64.04347826086956,
          77.8695652173913,
          68.08695652173913,
          63.26086956521739,
          72.69565217391305,
          65.17391304347827,
          63.391304347826086,
          67.08695652173913,
          65,
          68.43478260869566,
          67.30434782608695,
          74.47826086956522,
          60.21739130434783,
          68.34782608695652,
          65.17391304347827,
          69.91304347826087,
          63.17391304347826,
          66.04347826086956,
          71.04347826086956,
          69.95652173913044,
          73.91304347826087,
          73,
          76.65217391304348,
          62.95652173913044,
          65.52173913043478,
          71.69565217391305,
          74.30434782608695,
          67.43478260869566,
          71.91304347826087,
          64.52173913043478,
          75,
          75.82608695652173,
          68
         ],
         "yaxis": "y"
        }
       ],
       "layout": {
        "legend": {
         "title": {
          "text": "Set"
         },
         "tracegroupgap": 0
        },
        "template": {
         "data": {
          "bar": [
           {
            "error_x": {
             "color": "#2a3f5f"
            },
            "error_y": {
             "color": "#2a3f5f"
            },
            "marker": {
             "line": {
              "color": "white",
              "width": 0.5
             },
             "pattern": {
              "fillmode": "overlay",
              "size": 10,
              "solidity": 0.2
             }
            },
            "type": "bar"
           }
          ],
          "barpolar": [
           {
            "marker": {
             "line": {
              "color": "white",
              "width": 0.5
             },
             "pattern": {
              "fillmode": "overlay",
              "size": 10,
              "solidity": 0.2
             }
            },
            "type": "barpolar"
           }
          ],
          "box": [
           {
            "boxpoints": "outliers",
            "notched": false,
            "type": "box"
           }
          ],
          "carpet": [
           {
            "aaxis": {
             "endlinecolor": "#2a3f5f",
             "gridcolor": "#C8D4E3",
             "linecolor": "#C8D4E3",
             "minorgridcolor": "#C8D4E3",
             "startlinecolor": "#2a3f5f"
            },
            "baxis": {
             "endlinecolor": "#2a3f5f",
             "gridcolor": "#C8D4E3",
             "linecolor": "#C8D4E3",
             "minorgridcolor": "#C8D4E3",
             "startlinecolor": "#2a3f5f"
            },
            "type": "carpet"
           }
          ],
          "choropleth": [
           {
            "colorbar": {
             "outlinewidth": 0,
             "ticks": ""
            },
            "type": "choropleth"
           }
          ],
          "contour": [
           {
            "colorbar": {
             "outlinewidth": 0,
             "ticks": ""
            },
            "colorscale": [
             [
              0,
              "#0d0887"
             ],
             [
              0.1111111111111111,
              "#46039f"
             ],
             [
              0.2222222222222222,
              "#7201a8"
             ],
             [
              0.3333333333333333,
              "#9c179e"
             ],
             [
              0.4444444444444444,
              "#bd3786"
             ],
             [
              0.5555555555555556,
              "#d8576b"
             ],
             [
              0.6666666666666666,
              "#ed7953"
             ],
             [
              0.7777777777777778,
              "#fb9f3a"
             ],
             [
              0.8888888888888888,
              "#fdca26"
             ],
             [
              1,
              "#f0f921"
             ]
            ],
            "type": "contour"
           }
          ],
          "contourcarpet": [
           {
            "colorbar": {
             "outlinewidth": 0,
             "ticks": ""
            },
            "type": "contourcarpet"
           }
          ],
          "heatmap": [
           {
            "colorbar": {
             "outlinewidth": 0,
             "ticks": ""
            },
            "colorscale": [
             [
              0,
              "#0d0887"
             ],
             [
              0.1111111111111111,
              "#46039f"
             ],
             [
              0.2222222222222222,
              "#7201a8"
             ],
             [
              0.3333333333333333,
              "#9c179e"
             ],
             [
              0.4444444444444444,
              "#bd3786"
             ],
             [
              0.5555555555555556,
              "#d8576b"
             ],
             [
              0.6666666666666666,
              "#ed7953"
             ],
             [
              0.7777777777777778,
              "#fb9f3a"
             ],
             [
              0.8888888888888888,
              "#fdca26"
             ],
             [
              1,
              "#f0f921"
             ]
            ],
            "type": "heatmap"
           }
          ],
          "heatmapgl": [
           {
            "colorbar": {
             "outlinewidth": 0,
             "ticks": ""
            },
            "colorscale": [
             [
              0,
              "#0d0887"
             ],
             [
              0.1111111111111111,
              "#46039f"
             ],
             [
              0.2222222222222222,
              "#7201a8"
             ],
             [
              0.3333333333333333,
              "#9c179e"
             ],
             [
              0.4444444444444444,
              "#bd3786"
             ],
             [
              0.5555555555555556,
              "#d8576b"
             ],
             [
              0.6666666666666666,
              "#ed7953"
             ],
             [
              0.7777777777777778,
              "#fb9f3a"
             ],
             [
              0.8888888888888888,
              "#fdca26"
             ],
             [
              1,
              "#f0f921"
             ]
            ],
            "type": "heatmapgl"
           }
          ],
          "histogram": [
           {
            "marker": {
             "line": {
              "width": 1
             },
             "pattern": {
              "fillmode": "overlay",
              "size": 10,
              "solidity": 0.2
             }
            },
            "type": "histogram"
           }
          ],
          "histogram2d": [
           {
            "colorbar": {
             "outlinewidth": 0,
             "ticks": ""
            },
            "colorscale": [
             [
              0,
              "#0d0887"
             ],
             [
              0.1111111111111111,
              "#46039f"
             ],
             [
              0.2222222222222222,
              "#7201a8"
             ],
             [
              0.3333333333333333,
              "#9c179e"
             ],
             [
              0.4444444444444444,
              "#bd3786"
             ],
             [
              0.5555555555555556,
              "#d8576b"
             ],
             [
              0.6666666666666666,
              "#ed7953"
             ],
             [
              0.7777777777777778,
              "#fb9f3a"
             ],
             [
              0.8888888888888888,
              "#fdca26"
             ],
             [
              1,
              "#f0f921"
             ]
            ],
            "type": "histogram2d"
           }
          ],
          "histogram2dcontour": [
           {
            "colorbar": {
             "outlinewidth": 0,
             "ticks": ""
            },
            "colorscale": [
             [
              0,
              "#0d0887"
             ],
             [
              0.1111111111111111,
              "#46039f"
             ],
             [
              0.2222222222222222,
              "#7201a8"
             ],
             [
              0.3333333333333333,
              "#9c179e"
             ],
             [
              0.4444444444444444,
              "#bd3786"
             ],
             [
              0.5555555555555556,
              "#d8576b"
             ],
             [
              0.6666666666666666,
              "#ed7953"
             ],
             [
              0.7777777777777778,
              "#fb9f3a"
             ],
             [
              0.8888888888888888,
              "#fdca26"
             ],
             [
              1,
              "#f0f921"
             ]
            ],
            "type": "histogram2dcontour"
           }
          ],
          "mesh3d": [
           {
            "colorbar": {
             "outlinewidth": 0,
             "ticks": ""
            },
            "type": "mesh3d"
           }
          ],
          "parcoords": [
           {
            "line": {
             "colorbar": {
              "outlinewidth": 0,
              "ticks": ""
             }
            },
            "type": "parcoords"
           }
          ],
          "pie": [
           {
            "automargin": true,
            "type": "pie"
           }
          ],
          "scatter": [
           {
            "fillpattern": {
             "fillmode": "overlay",
             "size": 10,
             "solidity": 0.2
            },
            "marker": {
             "opacity": 0.8
            },
            "type": "scatter"
           }
          ],
          "scatter3d": [
           {
            "line": {
             "colorbar": {
              "outlinewidth": 0,
              "ticks": ""
             }
            },
            "marker": {
             "colorbar": {
              "outlinewidth": 0,
              "ticks": ""
             },
             "opacity": 0.8
            },
            "type": "scatter3d"
           }
          ],
          "scattercarpet": [
           {
            "marker": {
             "colorbar": {
              "outlinewidth": 0,
              "ticks": ""
             }
            },
            "type": "scattercarpet"
           }
          ],
          "scattergeo": [
           {
            "marker": {
             "colorbar": {
              "outlinewidth": 0,
              "ticks": ""
             }
            },
            "type": "scattergeo"
           }
          ],
          "scattergl": [
           {
            "marker": {
             "colorbar": {
              "outlinewidth": 0,
              "ticks": ""
             }
            },
            "type": "scattergl"
           }
          ],
          "scattermapbox": [
           {
            "marker": {
             "colorbar": {
              "outlinewidth": 0,
              "ticks": ""
             }
            },
            "type": "scattermapbox"
           }
          ],
          "scatterpolar": [
           {
            "marker": {
             "colorbar": {
              "outlinewidth": 0,
              "ticks": ""
             }
            },
            "type": "scatterpolar"
           }
          ],
          "scatterpolargl": [
           {
            "marker": {
             "colorbar": {
              "outlinewidth": 0,
              "ticks": ""
             }
            },
            "type": "scatterpolargl"
           }
          ],
          "scatterternary": [
           {
            "marker": {
             "colorbar": {
              "outlinewidth": 0,
              "ticks": ""
             }
            },
            "type": "scatterternary"
           }
          ],
          "surface": [
           {
            "colorbar": {
             "outlinewidth": 0,
             "ticks": ""
            },
            "colorscale": [
             [
              0,
              "#0d0887"
             ],
             [
              0.1111111111111111,
              "#46039f"
             ],
             [
              0.2222222222222222,
              "#7201a8"
             ],
             [
              0.3333333333333333,
              "#9c179e"
             ],
             [
              0.4444444444444444,
              "#bd3786"
             ],
             [
              0.5555555555555556,
              "#d8576b"
             ],
             [
              0.6666666666666666,
              "#ed7953"
             ],
             [
              0.7777777777777778,
              "#fb9f3a"
             ],
             [
              0.8888888888888888,
              "#fdca26"
             ],
             [
              1,
              "#f0f921"
             ]
            ],
            "type": "surface"
           }
          ],
          "table": [
           {
            "cells": {
             "fill": {
              "color": "#EBF0F8"
             },
             "line": {
              "color": "white"
             }
            },
            "header": {
             "fill": {
              "color": "#C8D4E3"
             },
             "line": {
              "color": "white"
             }
            },
            "type": "table"
           }
          ]
         },
         "layout": {
          "annotationdefaults": {
           "arrowcolor": "#2a3f5f",
           "arrowhead": 0,
           "arrowwidth": 1
          },
          "autotypenumbers": "strict",
          "coloraxis": {
           "colorbar": {
            "outlinewidth": 0,
            "ticks": ""
           }
          },
          "colorscale": {
           "diverging": [
            [
             0,
             "#8e0152"
            ],
            [
             0.1,
             "#c51b7d"
            ],
            [
             0.2,
             "#de77ae"
            ],
            [
             0.3,
             "#f1b6da"
            ],
            [
             0.4,
             "#fde0ef"
            ],
            [
             0.5,
             "#f7f7f7"
            ],
            [
             0.6,
             "#e6f5d0"
            ],
            [
             0.7,
             "#b8e186"
            ],
            [
             0.8,
             "#7fbc41"
            ],
            [
             0.9,
             "#4d9221"
            ],
            [
             1,
             "#276419"
            ]
           ],
           "sequential": [
            [
             0,
             "#0d0887"
            ],
            [
             0.1111111111111111,
             "#46039f"
            ],
            [
             0.2222222222222222,
             "#7201a8"
            ],
            [
             0.3333333333333333,
             "#9c179e"
            ],
            [
             0.4444444444444444,
             "#bd3786"
            ],
            [
             0.5555555555555556,
             "#d8576b"
            ],
            [
             0.6666666666666666,
             "#ed7953"
            ],
            [
             0.7777777777777778,
             "#fb9f3a"
            ],
            [
             0.8888888888888888,
             "#fdca26"
            ],
            [
             1,
             "#f0f921"
            ]
           ],
           "sequentialminus": [
            [
             0,
             "#0d0887"
            ],
            [
             0.1111111111111111,
             "#46039f"
            ],
            [
             0.2222222222222222,
             "#7201a8"
            ],
            [
             0.3333333333333333,
             "#9c179e"
            ],
            [
             0.4444444444444444,
             "#bd3786"
            ],
            [
             0.5555555555555556,
             "#d8576b"
            ],
            [
             0.6666666666666666,
             "#ed7953"
            ],
            [
             0.7777777777777778,
             "#fb9f3a"
            ],
            [
             0.8888888888888888,
             "#fdca26"
            ],
            [
             1,
             "#f0f921"
            ]
           ]
          },
          "colorway": [
           "#636efa",
           "#EF553B",
           "#00cc96",
           "#ab63fa",
           "#FFA15A",
           "#19d3f3",
           "#FF6692",
           "#B6E880",
           "#FF97FF",
           "#FECB52"
          ],
          "font": {
           "color": "#2a3f5f"
          },
          "geo": {
           "bgcolor": "white",
           "lakecolor": "white",
           "landcolor": "white",
           "showlakes": true,
           "showland": true,
           "subunitcolor": "#C8D4E3"
          },
          "height": 400,
          "hoverlabel": {
           "align": "left"
          },
          "hovermode": "closest",
          "mapbox": {
           "style": "light"
          },
          "margin": {
           "b": 2,
           "l": 2,
           "r": 2,
           "t": 30
          },
          "paper_bgcolor": "white",
          "plot_bgcolor": "white",
          "polar": {
           "angularaxis": {
            "gridcolor": "#EBF0F8",
            "linecolor": "#EBF0F8",
            "ticks": ""
           },
           "bgcolor": "white",
           "radialaxis": {
            "gridcolor": "#EBF0F8",
            "linecolor": "#EBF0F8",
            "ticks": ""
           }
          },
          "scene": {
           "camera": {
            "eye": {
             "x": 1.5,
             "y": 1.5,
             "z": 0.1
            }
           },
           "xaxis": {
            "backgroundcolor": "white",
            "gridcolor": "#DFE8F3",
            "gridwidth": 2,
            "linecolor": "#EBF0F8",
            "showbackground": true,
            "ticks": "",
            "zerolinecolor": "#EBF0F8"
           },
           "yaxis": {
            "backgroundcolor": "white",
            "gridcolor": "#DFE8F3",
            "gridwidth": 2,
            "linecolor": "#EBF0F8",
            "showbackground": true,
            "ticks": "",
            "zerolinecolor": "#EBF0F8"
           },
           "zaxis": {
            "backgroundcolor": "white",
            "gridcolor": "#DFE8F3",
            "gridwidth": 2,
            "linecolor": "#EBF0F8",
            "showbackground": true,
            "ticks": "",
            "zerolinecolor": "#EBF0F8"
           }
          },
          "shapedefaults": {
           "line": {
            "color": "#2a3f5f"
           }
          },
          "ternary": {
           "aaxis": {
            "gridcolor": "#DFE8F3",
            "linecolor": "#A2B1C6",
            "ticks": ""
           },
           "baxis": {
            "gridcolor": "#DFE8F3",
            "linecolor": "#A2B1C6",
            "ticks": ""
           },
           "bgcolor": "white",
           "caxis": {
            "gridcolor": "#DFE8F3",
            "linecolor": "#A2B1C6",
            "ticks": ""
           }
          },
          "title": {
           "x": 0.5
          },
          "xaxis": {
           "automargin": true,
           "gridcolor": "#EBF0F8",
           "linecolor": "#EBF0F8",
           "linewidth": 2,
           "showline": true,
           "ticks": "",
           "title": {
            "standoff": 15
           },
           "zerolinecolor": "#EBF0F8",
           "zerolinewidth": 2
          },
          "yaxis": {
           "automargin": true,
           "gridcolor": "#EBF0F8",
           "linecolor": "#EBF0F8",
           "linewidth": 2,
           "showline": true,
           "ticks": "",
           "title": {
            "standoff": 15
           },
           "zerolinecolor": "#EBF0F8",
           "zerolinewidth": 2
          }
         }
        },
        "title": {
         "text": "50:50 split"
        },
        "xaxis": {
         "anchor": "y",
         "domain": [
          0,
          1
         ],
         "title": {
          "text": "EmergencyNYC"
         }
        },
        "yaxis": {
         "anchor": "x",
         "domain": [
          0,
          1
         ],
         "title": {
          "text": "Average"
         }
        }
       }
      }
     },
     "metadata": {},
     "output_type": "display_data"
    },
    {
     "data": {
      "application/vnd.plotly.v1+json": {
       "config": {
        "plotlyServerURL": "https://plot.ly"
       },
       "data": [
        {
         "hovertemplate": "Set=train<br>EmergencyNYC=%{x}<br>Average=%{y}<extra></extra>",
         "legendgroup": "train",
         "marker": {
          "color": "#636efa",
          "size": 17,
          "symbol": "circle"
         },
         "mode": "markers",
         "name": "train",
         "orientation": "v",
         "showlegend": true,
         "type": "scatter",
         "x": [
          2,
          4,
          0,
          4,
          2,
          5,
          2,
          2,
          9,
          0,
          6,
          0,
          0,
          2,
          0,
          0,
          0,
          12,
          0,
          0,
          0,
          1,
          3,
          0,
          0,
          7,
          0,
          0,
          0,
          0,
          0,
          4,
          0,
          3,
          4,
          100,
          3,
          0,
          0,
          5,
          2,
          0,
          0,
          0,
          3,
          2,
          16,
          0,
          0,
          3,
          3,
          0,
          5,
          2
         ],
         "xaxis": "x",
         "y": [
          65.52173913043478,
          71.69565217391305,
          74.30434782608695,
          67.43478260869566,
          71.91304347826087,
          64.52173913043478,
          75,
          75.82608695652173,
          68,
          63.04347826086956,
          62.60869565217392,
          75.8695652173913,
          58.34782608695652,
          57.08695652173913,
          62.73913043478261,
          66.47826086956522,
          68.91304347826087,
          71,
          68.91304347826087,
          66.78260869565217,
          69.6086956521739,
          72.04347826086956,
          66.21739130434783,
          69.69565217391305,
          72.65217391304348,
          64,
          64.78260869565217,
          69.30434782608695,
          67.04347826086956,
          72.52173913043478,
          72.43478260869566,
          68.52173913043478,
          66.73913043478261,
          78.8695652173913,
          53.60869565217392,
          68.65217391304348,
          63.04347826086956,
          70.82608695652173,
          58.869565217391305,
          70.95652173913044,
          67.6086956521739,
          63.869565217391305,
          69.08695652173913,
          74.95652173913044,
          67,
          72.8695652173913,
          70.1304347826087,
          66.04347826086956,
          67.34782608695652,
          59.52173913043478,
          68.1304347826087,
          66.73913043478261,
          64.1304347826087,
          63.04347826086956
         ],
         "yaxis": "y"
        },
        {
         "hovertemplate": "Set=test<br>EmergencyNYC=%{x}<br>Average=%{y}<extra></extra>",
         "legendgroup": "test",
         "marker": {
          "color": "#EF553B",
          "size": 17,
          "symbol": "circle"
         },
         "mode": "markers",
         "name": "test",
         "orientation": "v",
         "showlegend": true,
         "type": "scatter",
         "x": [
          0,
          4,
          2,
          0,
          4,
          6,
          5,
          5,
          0,
          0,
          0,
          0,
          0,
          4,
          67,
          8,
          0,
          4,
          1,
          6,
          3,
          2,
          43,
          0,
          0,
          0,
          0,
          0,
          5,
          4,
          2,
          0,
          0,
          25,
          0,
          0,
          8
         ],
         "xaxis": "x",
         "y": [
          68.69565217391305,
          62.30434782608695,
          65.34782608695652,
          70.6086956521739,
          63.26086956521739,
          63.47826086956522,
          62.65217391304348,
          66.91304347826087,
          68.17391304347827,
          66.26086956521739,
          67.43478260869566,
          70.21739130434783,
          70.3913043478261,
          64.04347826086956,
          77.8695652173913,
          68.08695652173913,
          63.26086956521739,
          72.69565217391305,
          65.17391304347827,
          63.391304347826086,
          67.08695652173913,
          65,
          68.43478260869566,
          67.30434782608695,
          74.47826086956522,
          60.21739130434783,
          68.34782608695652,
          65.17391304347827,
          69.91304347826087,
          63.17391304347826,
          66.04347826086956,
          71.04347826086956,
          69.95652173913044,
          73.91304347826087,
          73,
          76.65217391304348,
          62.95652173913044
         ],
         "yaxis": "y"
        }
       ],
       "layout": {
        "legend": {
         "title": {
          "text": "Set"
         },
         "tracegroupgap": 0
        },
        "template": {
         "data": {
          "bar": [
           {
            "error_x": {
             "color": "#2a3f5f"
            },
            "error_y": {
             "color": "#2a3f5f"
            },
            "marker": {
             "line": {
              "color": "white",
              "width": 0.5
             },
             "pattern": {
              "fillmode": "overlay",
              "size": 10,
              "solidity": 0.2
             }
            },
            "type": "bar"
           }
          ],
          "barpolar": [
           {
            "marker": {
             "line": {
              "color": "white",
              "width": 0.5
             },
             "pattern": {
              "fillmode": "overlay",
              "size": 10,
              "solidity": 0.2
             }
            },
            "type": "barpolar"
           }
          ],
          "box": [
           {
            "boxpoints": "outliers",
            "notched": false,
            "type": "box"
           }
          ],
          "carpet": [
           {
            "aaxis": {
             "endlinecolor": "#2a3f5f",
             "gridcolor": "#C8D4E3",
             "linecolor": "#C8D4E3",
             "minorgridcolor": "#C8D4E3",
             "startlinecolor": "#2a3f5f"
            },
            "baxis": {
             "endlinecolor": "#2a3f5f",
             "gridcolor": "#C8D4E3",
             "linecolor": "#C8D4E3",
             "minorgridcolor": "#C8D4E3",
             "startlinecolor": "#2a3f5f"
            },
            "type": "carpet"
           }
          ],
          "choropleth": [
           {
            "colorbar": {
             "outlinewidth": 0,
             "ticks": ""
            },
            "type": "choropleth"
           }
          ],
          "contour": [
           {
            "colorbar": {
             "outlinewidth": 0,
             "ticks": ""
            },
            "colorscale": [
             [
              0,
              "#0d0887"
             ],
             [
              0.1111111111111111,
              "#46039f"
             ],
             [
              0.2222222222222222,
              "#7201a8"
             ],
             [
              0.3333333333333333,
              "#9c179e"
             ],
             [
              0.4444444444444444,
              "#bd3786"
             ],
             [
              0.5555555555555556,
              "#d8576b"
             ],
             [
              0.6666666666666666,
              "#ed7953"
             ],
             [
              0.7777777777777778,
              "#fb9f3a"
             ],
             [
              0.8888888888888888,
              "#fdca26"
             ],
             [
              1,
              "#f0f921"
             ]
            ],
            "type": "contour"
           }
          ],
          "contourcarpet": [
           {
            "colorbar": {
             "outlinewidth": 0,
             "ticks": ""
            },
            "type": "contourcarpet"
           }
          ],
          "heatmap": [
           {
            "colorbar": {
             "outlinewidth": 0,
             "ticks": ""
            },
            "colorscale": [
             [
              0,
              "#0d0887"
             ],
             [
              0.1111111111111111,
              "#46039f"
             ],
             [
              0.2222222222222222,
              "#7201a8"
             ],
             [
              0.3333333333333333,
              "#9c179e"
             ],
             [
              0.4444444444444444,
              "#bd3786"
             ],
             [
              0.5555555555555556,
              "#d8576b"
             ],
             [
              0.6666666666666666,
              "#ed7953"
             ],
             [
              0.7777777777777778,
              "#fb9f3a"
             ],
             [
              0.8888888888888888,
              "#fdca26"
             ],
             [
              1,
              "#f0f921"
             ]
            ],
            "type": "heatmap"
           }
          ],
          "heatmapgl": [
           {
            "colorbar": {
             "outlinewidth": 0,
             "ticks": ""
            },
            "colorscale": [
             [
              0,
              "#0d0887"
             ],
             [
              0.1111111111111111,
              "#46039f"
             ],
             [
              0.2222222222222222,
              "#7201a8"
             ],
             [
              0.3333333333333333,
              "#9c179e"
             ],
             [
              0.4444444444444444,
              "#bd3786"
             ],
             [
              0.5555555555555556,
              "#d8576b"
             ],
             [
              0.6666666666666666,
              "#ed7953"
             ],
             [
              0.7777777777777778,
              "#fb9f3a"
             ],
             [
              0.8888888888888888,
              "#fdca26"
             ],
             [
              1,
              "#f0f921"
             ]
            ],
            "type": "heatmapgl"
           }
          ],
          "histogram": [
           {
            "marker": {
             "line": {
              "width": 1
             },
             "pattern": {
              "fillmode": "overlay",
              "size": 10,
              "solidity": 0.2
             }
            },
            "type": "histogram"
           }
          ],
          "histogram2d": [
           {
            "colorbar": {
             "outlinewidth": 0,
             "ticks": ""
            },
            "colorscale": [
             [
              0,
              "#0d0887"
             ],
             [
              0.1111111111111111,
              "#46039f"
             ],
             [
              0.2222222222222222,
              "#7201a8"
             ],
             [
              0.3333333333333333,
              "#9c179e"
             ],
             [
              0.4444444444444444,
              "#bd3786"
             ],
             [
              0.5555555555555556,
              "#d8576b"
             ],
             [
              0.6666666666666666,
              "#ed7953"
             ],
             [
              0.7777777777777778,
              "#fb9f3a"
             ],
             [
              0.8888888888888888,
              "#fdca26"
             ],
             [
              1,
              "#f0f921"
             ]
            ],
            "type": "histogram2d"
           }
          ],
          "histogram2dcontour": [
           {
            "colorbar": {
             "outlinewidth": 0,
             "ticks": ""
            },
            "colorscale": [
             [
              0,
              "#0d0887"
             ],
             [
              0.1111111111111111,
              "#46039f"
             ],
             [
              0.2222222222222222,
              "#7201a8"
             ],
             [
              0.3333333333333333,
              "#9c179e"
             ],
             [
              0.4444444444444444,
              "#bd3786"
             ],
             [
              0.5555555555555556,
              "#d8576b"
             ],
             [
              0.6666666666666666,
              "#ed7953"
             ],
             [
              0.7777777777777778,
              "#fb9f3a"
             ],
             [
              0.8888888888888888,
              "#fdca26"
             ],
             [
              1,
              "#f0f921"
             ]
            ],
            "type": "histogram2dcontour"
           }
          ],
          "mesh3d": [
           {
            "colorbar": {
             "outlinewidth": 0,
             "ticks": ""
            },
            "type": "mesh3d"
           }
          ],
          "parcoords": [
           {
            "line": {
             "colorbar": {
              "outlinewidth": 0,
              "ticks": ""
             }
            },
            "type": "parcoords"
           }
          ],
          "pie": [
           {
            "automargin": true,
            "type": "pie"
           }
          ],
          "scatter": [
           {
            "fillpattern": {
             "fillmode": "overlay",
             "size": 10,
             "solidity": 0.2
            },
            "marker": {
             "opacity": 0.8
            },
            "type": "scatter"
           }
          ],
          "scatter3d": [
           {
            "line": {
             "colorbar": {
              "outlinewidth": 0,
              "ticks": ""
             }
            },
            "marker": {
             "colorbar": {
              "outlinewidth": 0,
              "ticks": ""
             },
             "opacity": 0.8
            },
            "type": "scatter3d"
           }
          ],
          "scattercarpet": [
           {
            "marker": {
             "colorbar": {
              "outlinewidth": 0,
              "ticks": ""
             }
            },
            "type": "scattercarpet"
           }
          ],
          "scattergeo": [
           {
            "marker": {
             "colorbar": {
              "outlinewidth": 0,
              "ticks": ""
             }
            },
            "type": "scattergeo"
           }
          ],
          "scattergl": [
           {
            "marker": {
             "colorbar": {
              "outlinewidth": 0,
              "ticks": ""
             }
            },
            "type": "scattergl"
           }
          ],
          "scattermapbox": [
           {
            "marker": {
             "colorbar": {
              "outlinewidth": 0,
              "ticks": ""
             }
            },
            "type": "scattermapbox"
           }
          ],
          "scatterpolar": [
           {
            "marker": {
             "colorbar": {
              "outlinewidth": 0,
              "ticks": ""
             }
            },
            "type": "scatterpolar"
           }
          ],
          "scatterpolargl": [
           {
            "marker": {
             "colorbar": {
              "outlinewidth": 0,
              "ticks": ""
             }
            },
            "type": "scatterpolargl"
           }
          ],
          "scatterternary": [
           {
            "marker": {
             "colorbar": {
              "outlinewidth": 0,
              "ticks": ""
             }
            },
            "type": "scatterternary"
           }
          ],
          "surface": [
           {
            "colorbar": {
             "outlinewidth": 0,
             "ticks": ""
            },
            "colorscale": [
             [
              0,
              "#0d0887"
             ],
             [
              0.1111111111111111,
              "#46039f"
             ],
             [
              0.2222222222222222,
              "#7201a8"
             ],
             [
              0.3333333333333333,
              "#9c179e"
             ],
             [
              0.4444444444444444,
              "#bd3786"
             ],
             [
              0.5555555555555556,
              "#d8576b"
             ],
             [
              0.6666666666666666,
              "#ed7953"
             ],
             [
              0.7777777777777778,
              "#fb9f3a"
             ],
             [
              0.8888888888888888,
              "#fdca26"
             ],
             [
              1,
              "#f0f921"
             ]
            ],
            "type": "surface"
           }
          ],
          "table": [
           {
            "cells": {
             "fill": {
              "color": "#EBF0F8"
             },
             "line": {
              "color": "white"
             }
            },
            "header": {
             "fill": {
              "color": "#C8D4E3"
             },
             "line": {
              "color": "white"
             }
            },
            "type": "table"
           }
          ]
         },
         "layout": {
          "annotationdefaults": {
           "arrowcolor": "#2a3f5f",
           "arrowhead": 0,
           "arrowwidth": 1
          },
          "autotypenumbers": "strict",
          "coloraxis": {
           "colorbar": {
            "outlinewidth": 0,
            "ticks": ""
           }
          },
          "colorscale": {
           "diverging": [
            [
             0,
             "#8e0152"
            ],
            [
             0.1,
             "#c51b7d"
            ],
            [
             0.2,
             "#de77ae"
            ],
            [
             0.3,
             "#f1b6da"
            ],
            [
             0.4,
             "#fde0ef"
            ],
            [
             0.5,
             "#f7f7f7"
            ],
            [
             0.6,
             "#e6f5d0"
            ],
            [
             0.7,
             "#b8e186"
            ],
            [
             0.8,
             "#7fbc41"
            ],
            [
             0.9,
             "#4d9221"
            ],
            [
             1,
             "#276419"
            ]
           ],
           "sequential": [
            [
             0,
             "#0d0887"
            ],
            [
             0.1111111111111111,
             "#46039f"
            ],
            [
             0.2222222222222222,
             "#7201a8"
            ],
            [
             0.3333333333333333,
             "#9c179e"
            ],
            [
             0.4444444444444444,
             "#bd3786"
            ],
            [
             0.5555555555555556,
             "#d8576b"
            ],
            [
             0.6666666666666666,
             "#ed7953"
            ],
            [
             0.7777777777777778,
             "#fb9f3a"
            ],
            [
             0.8888888888888888,
             "#fdca26"
            ],
            [
             1,
             "#f0f921"
            ]
           ],
           "sequentialminus": [
            [
             0,
             "#0d0887"
            ],
            [
             0.1111111111111111,
             "#46039f"
            ],
            [
             0.2222222222222222,
             "#7201a8"
            ],
            [
             0.3333333333333333,
             "#9c179e"
            ],
            [
             0.4444444444444444,
             "#bd3786"
            ],
            [
             0.5555555555555556,
             "#d8576b"
            ],
            [
             0.6666666666666666,
             "#ed7953"
            ],
            [
             0.7777777777777778,
             "#fb9f3a"
            ],
            [
             0.8888888888888888,
             "#fdca26"
            ],
            [
             1,
             "#f0f921"
            ]
           ]
          },
          "colorway": [
           "#636efa",
           "#EF553B",
           "#00cc96",
           "#ab63fa",
           "#FFA15A",
           "#19d3f3",
           "#FF6692",
           "#B6E880",
           "#FF97FF",
           "#FECB52"
          ],
          "font": {
           "color": "#2a3f5f"
          },
          "geo": {
           "bgcolor": "white",
           "lakecolor": "white",
           "landcolor": "white",
           "showlakes": true,
           "showland": true,
           "subunitcolor": "#C8D4E3"
          },
          "height": 400,
          "hoverlabel": {
           "align": "left"
          },
          "hovermode": "closest",
          "mapbox": {
           "style": "light"
          },
          "margin": {
           "b": 2,
           "l": 2,
           "r": 2,
           "t": 30
          },
          "paper_bgcolor": "white",
          "plot_bgcolor": "white",
          "polar": {
           "angularaxis": {
            "gridcolor": "#EBF0F8",
            "linecolor": "#EBF0F8",
            "ticks": ""
           },
           "bgcolor": "white",
           "radialaxis": {
            "gridcolor": "#EBF0F8",
            "linecolor": "#EBF0F8",
            "ticks": ""
           }
          },
          "scene": {
           "camera": {
            "eye": {
             "x": 1.5,
             "y": 1.5,
             "z": 0.1
            }
           },
           "xaxis": {
            "backgroundcolor": "white",
            "gridcolor": "#DFE8F3",
            "gridwidth": 2,
            "linecolor": "#EBF0F8",
            "showbackground": true,
            "ticks": "",
            "zerolinecolor": "#EBF0F8"
           },
           "yaxis": {
            "backgroundcolor": "white",
            "gridcolor": "#DFE8F3",
            "gridwidth": 2,
            "linecolor": "#EBF0F8",
            "showbackground": true,
            "ticks": "",
            "zerolinecolor": "#EBF0F8"
           },
           "zaxis": {
            "backgroundcolor": "white",
            "gridcolor": "#DFE8F3",
            "gridwidth": 2,
            "linecolor": "#EBF0F8",
            "showbackground": true,
            "ticks": "",
            "zerolinecolor": "#EBF0F8"
           }
          },
          "shapedefaults": {
           "line": {
            "color": "#2a3f5f"
           }
          },
          "ternary": {
           "aaxis": {
            "gridcolor": "#DFE8F3",
            "linecolor": "#A2B1C6",
            "ticks": ""
           },
           "baxis": {
            "gridcolor": "#DFE8F3",
            "linecolor": "#A2B1C6",
            "ticks": ""
           },
           "bgcolor": "white",
           "caxis": {
            "gridcolor": "#DFE8F3",
            "linecolor": "#A2B1C6",
            "ticks": ""
           }
          },
          "title": {
           "x": 0.5
          },
          "xaxis": {
           "automargin": true,
           "gridcolor": "#EBF0F8",
           "linecolor": "#EBF0F8",
           "linewidth": 2,
           "showline": true,
           "ticks": "",
           "title": {
            "standoff": 15
           },
           "zerolinecolor": "#EBF0F8",
           "zerolinewidth": 2
          },
          "yaxis": {
           "automargin": true,
           "gridcolor": "#EBF0F8",
           "linecolor": "#EBF0F8",
           "linewidth": 2,
           "showline": true,
           "ticks": "",
           "title": {
            "standoff": 15
           },
           "zerolinecolor": "#EBF0F8",
           "zerolinewidth": 2
          }
         }
        },
        "title": {
         "text": "60:40 split"
        },
        "xaxis": {
         "anchor": "y",
         "domain": [
          0,
          1
         ],
         "title": {
          "text": "EmergencyNYC"
         }
        },
        "yaxis": {
         "anchor": "x",
         "domain": [
          0,
          1
         ],
         "title": {
          "text": "Average"
         }
        }
       }
      }
     },
     "metadata": {},
     "output_type": "display_data"
    },
    {
     "data": {
      "application/vnd.plotly.v1+json": {
       "config": {
        "plotlyServerURL": "https://plot.ly"
       },
       "data": [
        {
         "hovertemplate": "Set=train<br>EmergencyNYC=%{x}<br>Average=%{y}<extra></extra>",
         "legendgroup": "train",
         "marker": {
          "color": "#636efa",
          "size": 17,
          "symbol": "circle"
         },
         "mode": "markers",
         "name": "train",
         "orientation": "v",
         "showlegend": true,
         "type": "scatter",
         "x": [
          5,
          4,
          2,
          0,
          0,
          25,
          0,
          0,
          8,
          2,
          4,
          0,
          4,
          2,
          5,
          2,
          2,
          9,
          0,
          6,
          0,
          0,
          2,
          0,
          0,
          0,
          12,
          0,
          0,
          0,
          1,
          3,
          0,
          0,
          7,
          0,
          0,
          0,
          0,
          0,
          4,
          0,
          3,
          4,
          100,
          3,
          0,
          0,
          5,
          2,
          0,
          0,
          0,
          3,
          2,
          16,
          0,
          0,
          3,
          3,
          0,
          5,
          2
         ],
         "xaxis": "x",
         "y": [
          69.91304347826087,
          63.17391304347826,
          66.04347826086956,
          71.04347826086956,
          69.95652173913044,
          73.91304347826087,
          73,
          76.65217391304348,
          62.95652173913044,
          65.52173913043478,
          71.69565217391305,
          74.30434782608695,
          67.43478260869566,
          71.91304347826087,
          64.52173913043478,
          75,
          75.82608695652173,
          68,
          63.04347826086956,
          62.60869565217392,
          75.8695652173913,
          58.34782608695652,
          57.08695652173913,
          62.73913043478261,
          66.47826086956522,
          68.91304347826087,
          71,
          68.91304347826087,
          66.78260869565217,
          69.6086956521739,
          72.04347826086956,
          66.21739130434783,
          69.69565217391305,
          72.65217391304348,
          64,
          64.78260869565217,
          69.30434782608695,
          67.04347826086956,
          72.52173913043478,
          72.43478260869566,
          68.52173913043478,
          66.73913043478261,
          78.8695652173913,
          53.60869565217392,
          68.65217391304348,
          63.04347826086956,
          70.82608695652173,
          58.869565217391305,
          70.95652173913044,
          67.6086956521739,
          63.869565217391305,
          69.08695652173913,
          74.95652173913044,
          67,
          72.8695652173913,
          70.1304347826087,
          66.04347826086956,
          67.34782608695652,
          59.52173913043478,
          68.1304347826087,
          66.73913043478261,
          64.1304347826087,
          63.04347826086956
         ],
         "yaxis": "y"
        },
        {
         "hovertemplate": "Set=test<br>EmergencyNYC=%{x}<br>Average=%{y}<extra></extra>",
         "legendgroup": "test",
         "marker": {
          "color": "#EF553B",
          "size": 17,
          "symbol": "circle"
         },
         "mode": "markers",
         "name": "test",
         "orientation": "v",
         "showlegend": true,
         "type": "scatter",
         "x": [
          0,
          4,
          2,
          0,
          4,
          6,
          5,
          5,
          0,
          0,
          0,
          0,
          0,
          4,
          67,
          8,
          0,
          4,
          1,
          6,
          3,
          2,
          43,
          0,
          0,
          0,
          0,
          0
         ],
         "xaxis": "x",
         "y": [
          68.69565217391305,
          62.30434782608695,
          65.34782608695652,
          70.6086956521739,
          63.26086956521739,
          63.47826086956522,
          62.65217391304348,
          66.91304347826087,
          68.17391304347827,
          66.26086956521739,
          67.43478260869566,
          70.21739130434783,
          70.3913043478261,
          64.04347826086956,
          77.8695652173913,
          68.08695652173913,
          63.26086956521739,
          72.69565217391305,
          65.17391304347827,
          63.391304347826086,
          67.08695652173913,
          65,
          68.43478260869566,
          67.30434782608695,
          74.47826086956522,
          60.21739130434783,
          68.34782608695652,
          65.17391304347827
         ],
         "yaxis": "y"
        }
       ],
       "layout": {
        "legend": {
         "title": {
          "text": "Set"
         },
         "tracegroupgap": 0
        },
        "template": {
         "data": {
          "bar": [
           {
            "error_x": {
             "color": "#2a3f5f"
            },
            "error_y": {
             "color": "#2a3f5f"
            },
            "marker": {
             "line": {
              "color": "white",
              "width": 0.5
             },
             "pattern": {
              "fillmode": "overlay",
              "size": 10,
              "solidity": 0.2
             }
            },
            "type": "bar"
           }
          ],
          "barpolar": [
           {
            "marker": {
             "line": {
              "color": "white",
              "width": 0.5
             },
             "pattern": {
              "fillmode": "overlay",
              "size": 10,
              "solidity": 0.2
             }
            },
            "type": "barpolar"
           }
          ],
          "box": [
           {
            "boxpoints": "outliers",
            "notched": false,
            "type": "box"
           }
          ],
          "carpet": [
           {
            "aaxis": {
             "endlinecolor": "#2a3f5f",
             "gridcolor": "#C8D4E3",
             "linecolor": "#C8D4E3",
             "minorgridcolor": "#C8D4E3",
             "startlinecolor": "#2a3f5f"
            },
            "baxis": {
             "endlinecolor": "#2a3f5f",
             "gridcolor": "#C8D4E3",
             "linecolor": "#C8D4E3",
             "minorgridcolor": "#C8D4E3",
             "startlinecolor": "#2a3f5f"
            },
            "type": "carpet"
           }
          ],
          "choropleth": [
           {
            "colorbar": {
             "outlinewidth": 0,
             "ticks": ""
            },
            "type": "choropleth"
           }
          ],
          "contour": [
           {
            "colorbar": {
             "outlinewidth": 0,
             "ticks": ""
            },
            "colorscale": [
             [
              0,
              "#0d0887"
             ],
             [
              0.1111111111111111,
              "#46039f"
             ],
             [
              0.2222222222222222,
              "#7201a8"
             ],
             [
              0.3333333333333333,
              "#9c179e"
             ],
             [
              0.4444444444444444,
              "#bd3786"
             ],
             [
              0.5555555555555556,
              "#d8576b"
             ],
             [
              0.6666666666666666,
              "#ed7953"
             ],
             [
              0.7777777777777778,
              "#fb9f3a"
             ],
             [
              0.8888888888888888,
              "#fdca26"
             ],
             [
              1,
              "#f0f921"
             ]
            ],
            "type": "contour"
           }
          ],
          "contourcarpet": [
           {
            "colorbar": {
             "outlinewidth": 0,
             "ticks": ""
            },
            "type": "contourcarpet"
           }
          ],
          "heatmap": [
           {
            "colorbar": {
             "outlinewidth": 0,
             "ticks": ""
            },
            "colorscale": [
             [
              0,
              "#0d0887"
             ],
             [
              0.1111111111111111,
              "#46039f"
             ],
             [
              0.2222222222222222,
              "#7201a8"
             ],
             [
              0.3333333333333333,
              "#9c179e"
             ],
             [
              0.4444444444444444,
              "#bd3786"
             ],
             [
              0.5555555555555556,
              "#d8576b"
             ],
             [
              0.6666666666666666,
              "#ed7953"
             ],
             [
              0.7777777777777778,
              "#fb9f3a"
             ],
             [
              0.8888888888888888,
              "#fdca26"
             ],
             [
              1,
              "#f0f921"
             ]
            ],
            "type": "heatmap"
           }
          ],
          "heatmapgl": [
           {
            "colorbar": {
             "outlinewidth": 0,
             "ticks": ""
            },
            "colorscale": [
             [
              0,
              "#0d0887"
             ],
             [
              0.1111111111111111,
              "#46039f"
             ],
             [
              0.2222222222222222,
              "#7201a8"
             ],
             [
              0.3333333333333333,
              "#9c179e"
             ],
             [
              0.4444444444444444,
              "#bd3786"
             ],
             [
              0.5555555555555556,
              "#d8576b"
             ],
             [
              0.6666666666666666,
              "#ed7953"
             ],
             [
              0.7777777777777778,
              "#fb9f3a"
             ],
             [
              0.8888888888888888,
              "#fdca26"
             ],
             [
              1,
              "#f0f921"
             ]
            ],
            "type": "heatmapgl"
           }
          ],
          "histogram": [
           {
            "marker": {
             "line": {
              "width": 1
             },
             "pattern": {
              "fillmode": "overlay",
              "size": 10,
              "solidity": 0.2
             }
            },
            "type": "histogram"
           }
          ],
          "histogram2d": [
           {
            "colorbar": {
             "outlinewidth": 0,
             "ticks": ""
            },
            "colorscale": [
             [
              0,
              "#0d0887"
             ],
             [
              0.1111111111111111,
              "#46039f"
             ],
             [
              0.2222222222222222,
              "#7201a8"
             ],
             [
              0.3333333333333333,
              "#9c179e"
             ],
             [
              0.4444444444444444,
              "#bd3786"
             ],
             [
              0.5555555555555556,
              "#d8576b"
             ],
             [
              0.6666666666666666,
              "#ed7953"
             ],
             [
              0.7777777777777778,
              "#fb9f3a"
             ],
             [
              0.8888888888888888,
              "#fdca26"
             ],
             [
              1,
              "#f0f921"
             ]
            ],
            "type": "histogram2d"
           }
          ],
          "histogram2dcontour": [
           {
            "colorbar": {
             "outlinewidth": 0,
             "ticks": ""
            },
            "colorscale": [
             [
              0,
              "#0d0887"
             ],
             [
              0.1111111111111111,
              "#46039f"
             ],
             [
              0.2222222222222222,
              "#7201a8"
             ],
             [
              0.3333333333333333,
              "#9c179e"
             ],
             [
              0.4444444444444444,
              "#bd3786"
             ],
             [
              0.5555555555555556,
              "#d8576b"
             ],
             [
              0.6666666666666666,
              "#ed7953"
             ],
             [
              0.7777777777777778,
              "#fb9f3a"
             ],
             [
              0.8888888888888888,
              "#fdca26"
             ],
             [
              1,
              "#f0f921"
             ]
            ],
            "type": "histogram2dcontour"
           }
          ],
          "mesh3d": [
           {
            "colorbar": {
             "outlinewidth": 0,
             "ticks": ""
            },
            "type": "mesh3d"
           }
          ],
          "parcoords": [
           {
            "line": {
             "colorbar": {
              "outlinewidth": 0,
              "ticks": ""
             }
            },
            "type": "parcoords"
           }
          ],
          "pie": [
           {
            "automargin": true,
            "type": "pie"
           }
          ],
          "scatter": [
           {
            "fillpattern": {
             "fillmode": "overlay",
             "size": 10,
             "solidity": 0.2
            },
            "marker": {
             "opacity": 0.8
            },
            "type": "scatter"
           }
          ],
          "scatter3d": [
           {
            "line": {
             "colorbar": {
              "outlinewidth": 0,
              "ticks": ""
             }
            },
            "marker": {
             "colorbar": {
              "outlinewidth": 0,
              "ticks": ""
             },
             "opacity": 0.8
            },
            "type": "scatter3d"
           }
          ],
          "scattercarpet": [
           {
            "marker": {
             "colorbar": {
              "outlinewidth": 0,
              "ticks": ""
             }
            },
            "type": "scattercarpet"
           }
          ],
          "scattergeo": [
           {
            "marker": {
             "colorbar": {
              "outlinewidth": 0,
              "ticks": ""
             }
            },
            "type": "scattergeo"
           }
          ],
          "scattergl": [
           {
            "marker": {
             "colorbar": {
              "outlinewidth": 0,
              "ticks": ""
             }
            },
            "type": "scattergl"
           }
          ],
          "scattermapbox": [
           {
            "marker": {
             "colorbar": {
              "outlinewidth": 0,
              "ticks": ""
             }
            },
            "type": "scattermapbox"
           }
          ],
          "scatterpolar": [
           {
            "marker": {
             "colorbar": {
              "outlinewidth": 0,
              "ticks": ""
             }
            },
            "type": "scatterpolar"
           }
          ],
          "scatterpolargl": [
           {
            "marker": {
             "colorbar": {
              "outlinewidth": 0,
              "ticks": ""
             }
            },
            "type": "scatterpolargl"
           }
          ],
          "scatterternary": [
           {
            "marker": {
             "colorbar": {
              "outlinewidth": 0,
              "ticks": ""
             }
            },
            "type": "scatterternary"
           }
          ],
          "surface": [
           {
            "colorbar": {
             "outlinewidth": 0,
             "ticks": ""
            },
            "colorscale": [
             [
              0,
              "#0d0887"
             ],
             [
              0.1111111111111111,
              "#46039f"
             ],
             [
              0.2222222222222222,
              "#7201a8"
             ],
             [
              0.3333333333333333,
              "#9c179e"
             ],
             [
              0.4444444444444444,
              "#bd3786"
             ],
             [
              0.5555555555555556,
              "#d8576b"
             ],
             [
              0.6666666666666666,
              "#ed7953"
             ],
             [
              0.7777777777777778,
              "#fb9f3a"
             ],
             [
              0.8888888888888888,
              "#fdca26"
             ],
             [
              1,
              "#f0f921"
             ]
            ],
            "type": "surface"
           }
          ],
          "table": [
           {
            "cells": {
             "fill": {
              "color": "#EBF0F8"
             },
             "line": {
              "color": "white"
             }
            },
            "header": {
             "fill": {
              "color": "#C8D4E3"
             },
             "line": {
              "color": "white"
             }
            },
            "type": "table"
           }
          ]
         },
         "layout": {
          "annotationdefaults": {
           "arrowcolor": "#2a3f5f",
           "arrowhead": 0,
           "arrowwidth": 1
          },
          "autotypenumbers": "strict",
          "coloraxis": {
           "colorbar": {
            "outlinewidth": 0,
            "ticks": ""
           }
          },
          "colorscale": {
           "diverging": [
            [
             0,
             "#8e0152"
            ],
            [
             0.1,
             "#c51b7d"
            ],
            [
             0.2,
             "#de77ae"
            ],
            [
             0.3,
             "#f1b6da"
            ],
            [
             0.4,
             "#fde0ef"
            ],
            [
             0.5,
             "#f7f7f7"
            ],
            [
             0.6,
             "#e6f5d0"
            ],
            [
             0.7,
             "#b8e186"
            ],
            [
             0.8,
             "#7fbc41"
            ],
            [
             0.9,
             "#4d9221"
            ],
            [
             1,
             "#276419"
            ]
           ],
           "sequential": [
            [
             0,
             "#0d0887"
            ],
            [
             0.1111111111111111,
             "#46039f"
            ],
            [
             0.2222222222222222,
             "#7201a8"
            ],
            [
             0.3333333333333333,
             "#9c179e"
            ],
            [
             0.4444444444444444,
             "#bd3786"
            ],
            [
             0.5555555555555556,
             "#d8576b"
            ],
            [
             0.6666666666666666,
             "#ed7953"
            ],
            [
             0.7777777777777778,
             "#fb9f3a"
            ],
            [
             0.8888888888888888,
             "#fdca26"
            ],
            [
             1,
             "#f0f921"
            ]
           ],
           "sequentialminus": [
            [
             0,
             "#0d0887"
            ],
            [
             0.1111111111111111,
             "#46039f"
            ],
            [
             0.2222222222222222,
             "#7201a8"
            ],
            [
             0.3333333333333333,
             "#9c179e"
            ],
            [
             0.4444444444444444,
             "#bd3786"
            ],
            [
             0.5555555555555556,
             "#d8576b"
            ],
            [
             0.6666666666666666,
             "#ed7953"
            ],
            [
             0.7777777777777778,
             "#fb9f3a"
            ],
            [
             0.8888888888888888,
             "#fdca26"
            ],
            [
             1,
             "#f0f921"
            ]
           ]
          },
          "colorway": [
           "#636efa",
           "#EF553B",
           "#00cc96",
           "#ab63fa",
           "#FFA15A",
           "#19d3f3",
           "#FF6692",
           "#B6E880",
           "#FF97FF",
           "#FECB52"
          ],
          "font": {
           "color": "#2a3f5f"
          },
          "geo": {
           "bgcolor": "white",
           "lakecolor": "white",
           "landcolor": "white",
           "showlakes": true,
           "showland": true,
           "subunitcolor": "#C8D4E3"
          },
          "height": 400,
          "hoverlabel": {
           "align": "left"
          },
          "hovermode": "closest",
          "mapbox": {
           "style": "light"
          },
          "margin": {
           "b": 2,
           "l": 2,
           "r": 2,
           "t": 30
          },
          "paper_bgcolor": "white",
          "plot_bgcolor": "white",
          "polar": {
           "angularaxis": {
            "gridcolor": "#EBF0F8",
            "linecolor": "#EBF0F8",
            "ticks": ""
           },
           "bgcolor": "white",
           "radialaxis": {
            "gridcolor": "#EBF0F8",
            "linecolor": "#EBF0F8",
            "ticks": ""
           }
          },
          "scene": {
           "camera": {
            "eye": {
             "x": 1.5,
             "y": 1.5,
             "z": 0.1
            }
           },
           "xaxis": {
            "backgroundcolor": "white",
            "gridcolor": "#DFE8F3",
            "gridwidth": 2,
            "linecolor": "#EBF0F8",
            "showbackground": true,
            "ticks": "",
            "zerolinecolor": "#EBF0F8"
           },
           "yaxis": {
            "backgroundcolor": "white",
            "gridcolor": "#DFE8F3",
            "gridwidth": 2,
            "linecolor": "#EBF0F8",
            "showbackground": true,
            "ticks": "",
            "zerolinecolor": "#EBF0F8"
           },
           "zaxis": {
            "backgroundcolor": "white",
            "gridcolor": "#DFE8F3",
            "gridwidth": 2,
            "linecolor": "#EBF0F8",
            "showbackground": true,
            "ticks": "",
            "zerolinecolor": "#EBF0F8"
           }
          },
          "shapedefaults": {
           "line": {
            "color": "#2a3f5f"
           }
          },
          "ternary": {
           "aaxis": {
            "gridcolor": "#DFE8F3",
            "linecolor": "#A2B1C6",
            "ticks": ""
           },
           "baxis": {
            "gridcolor": "#DFE8F3",
            "linecolor": "#A2B1C6",
            "ticks": ""
           },
           "bgcolor": "white",
           "caxis": {
            "gridcolor": "#DFE8F3",
            "linecolor": "#A2B1C6",
            "ticks": ""
           }
          },
          "title": {
           "x": 0.5
          },
          "xaxis": {
           "automargin": true,
           "gridcolor": "#EBF0F8",
           "linecolor": "#EBF0F8",
           "linewidth": 2,
           "showline": true,
           "ticks": "",
           "title": {
            "standoff": 15
           },
           "zerolinecolor": "#EBF0F8",
           "zerolinewidth": 2
          },
          "yaxis": {
           "automargin": true,
           "gridcolor": "#EBF0F8",
           "linecolor": "#EBF0F8",
           "linewidth": 2,
           "showline": true,
           "ticks": "",
           "title": {
            "standoff": 15
           },
           "zerolinecolor": "#EBF0F8",
           "zerolinewidth": 2
          }
         }
        },
        "title": {
         "text": "70:30 split"
        },
        "xaxis": {
         "anchor": "y",
         "domain": [
          0,
          1
         ],
         "title": {
          "text": "EmergencyNYC"
         }
        },
        "yaxis": {
         "anchor": "x",
         "domain": [
          0,
          1
         ],
         "title": {
          "text": "Average"
         }
        }
       }
      }
     },
     "metadata": {},
     "output_type": "display_data"
    },
    {
     "data": {
      "application/vnd.plotly.v1+json": {
       "config": {
        "plotlyServerURL": "https://plot.ly"
       },
       "data": [
        {
         "hovertemplate": "Set=train<br>EmergencyNYC=%{x}<br>Average=%{y}<extra></extra>",
         "legendgroup": "train",
         "marker": {
          "color": "#636efa",
          "size": 17,
          "symbol": "circle"
         },
         "mode": "markers",
         "name": "train",
         "orientation": "v",
         "showlegend": true,
         "type": "scatter",
         "x": [
          6,
          3,
          2,
          43,
          0,
          0,
          0,
          0,
          0,
          5,
          4,
          2,
          0,
          0,
          25,
          0,
          0,
          8,
          2,
          4,
          0,
          4,
          2,
          5,
          2,
          2,
          9,
          0,
          6,
          0,
          0,
          2,
          0,
          0,
          0,
          12,
          0,
          0,
          0,
          1,
          3,
          0,
          0,
          7,
          0,
          0,
          0,
          0,
          0,
          4,
          0,
          3,
          4,
          100,
          3,
          0,
          0,
          5,
          2,
          0,
          0,
          0,
          3,
          2,
          16,
          0,
          0,
          3,
          3,
          0,
          5,
          2
         ],
         "xaxis": "x",
         "y": [
          63.391304347826086,
          67.08695652173913,
          65,
          68.43478260869566,
          67.30434782608695,
          74.47826086956522,
          60.21739130434783,
          68.34782608695652,
          65.17391304347827,
          69.91304347826087,
          63.17391304347826,
          66.04347826086956,
          71.04347826086956,
          69.95652173913044,
          73.91304347826087,
          73,
          76.65217391304348,
          62.95652173913044,
          65.52173913043478,
          71.69565217391305,
          74.30434782608695,
          67.43478260869566,
          71.91304347826087,
          64.52173913043478,
          75,
          75.82608695652173,
          68,
          63.04347826086956,
          62.60869565217392,
          75.8695652173913,
          58.34782608695652,
          57.08695652173913,
          62.73913043478261,
          66.47826086956522,
          68.91304347826087,
          71,
          68.91304347826087,
          66.78260869565217,
          69.6086956521739,
          72.04347826086956,
          66.21739130434783,
          69.69565217391305,
          72.65217391304348,
          64,
          64.78260869565217,
          69.30434782608695,
          67.04347826086956,
          72.52173913043478,
          72.43478260869566,
          68.52173913043478,
          66.73913043478261,
          78.8695652173913,
          53.60869565217392,
          68.65217391304348,
          63.04347826086956,
          70.82608695652173,
          58.869565217391305,
          70.95652173913044,
          67.6086956521739,
          63.869565217391305,
          69.08695652173913,
          74.95652173913044,
          67,
          72.8695652173913,
          70.1304347826087,
          66.04347826086956,
          67.34782608695652,
          59.52173913043478,
          68.1304347826087,
          66.73913043478261,
          64.1304347826087,
          63.04347826086956
         ],
         "yaxis": "y"
        },
        {
         "hovertemplate": "Set=test<br>EmergencyNYC=%{x}<br>Average=%{y}<extra></extra>",
         "legendgroup": "test",
         "marker": {
          "color": "#EF553B",
          "size": 17,
          "symbol": "circle"
         },
         "mode": "markers",
         "name": "test",
         "orientation": "v",
         "showlegend": true,
         "type": "scatter",
         "x": [
          0,
          4,
          2,
          0,
          4,
          6,
          5,
          5,
          0,
          0,
          0,
          0,
          0,
          4,
          67,
          8,
          0,
          4,
          1
         ],
         "xaxis": "x",
         "y": [
          68.69565217391305,
          62.30434782608695,
          65.34782608695652,
          70.6086956521739,
          63.26086956521739,
          63.47826086956522,
          62.65217391304348,
          66.91304347826087,
          68.17391304347827,
          66.26086956521739,
          67.43478260869566,
          70.21739130434783,
          70.3913043478261,
          64.04347826086956,
          77.8695652173913,
          68.08695652173913,
          63.26086956521739,
          72.69565217391305,
          65.17391304347827
         ],
         "yaxis": "y"
        }
       ],
       "layout": {
        "legend": {
         "title": {
          "text": "Set"
         },
         "tracegroupgap": 0
        },
        "template": {
         "data": {
          "bar": [
           {
            "error_x": {
             "color": "#2a3f5f"
            },
            "error_y": {
             "color": "#2a3f5f"
            },
            "marker": {
             "line": {
              "color": "white",
              "width": 0.5
             },
             "pattern": {
              "fillmode": "overlay",
              "size": 10,
              "solidity": 0.2
             }
            },
            "type": "bar"
           }
          ],
          "barpolar": [
           {
            "marker": {
             "line": {
              "color": "white",
              "width": 0.5
             },
             "pattern": {
              "fillmode": "overlay",
              "size": 10,
              "solidity": 0.2
             }
            },
            "type": "barpolar"
           }
          ],
          "box": [
           {
            "boxpoints": "outliers",
            "notched": false,
            "type": "box"
           }
          ],
          "carpet": [
           {
            "aaxis": {
             "endlinecolor": "#2a3f5f",
             "gridcolor": "#C8D4E3",
             "linecolor": "#C8D4E3",
             "minorgridcolor": "#C8D4E3",
             "startlinecolor": "#2a3f5f"
            },
            "baxis": {
             "endlinecolor": "#2a3f5f",
             "gridcolor": "#C8D4E3",
             "linecolor": "#C8D4E3",
             "minorgridcolor": "#C8D4E3",
             "startlinecolor": "#2a3f5f"
            },
            "type": "carpet"
           }
          ],
          "choropleth": [
           {
            "colorbar": {
             "outlinewidth": 0,
             "ticks": ""
            },
            "type": "choropleth"
           }
          ],
          "contour": [
           {
            "colorbar": {
             "outlinewidth": 0,
             "ticks": ""
            },
            "colorscale": [
             [
              0,
              "#0d0887"
             ],
             [
              0.1111111111111111,
              "#46039f"
             ],
             [
              0.2222222222222222,
              "#7201a8"
             ],
             [
              0.3333333333333333,
              "#9c179e"
             ],
             [
              0.4444444444444444,
              "#bd3786"
             ],
             [
              0.5555555555555556,
              "#d8576b"
             ],
             [
              0.6666666666666666,
              "#ed7953"
             ],
             [
              0.7777777777777778,
              "#fb9f3a"
             ],
             [
              0.8888888888888888,
              "#fdca26"
             ],
             [
              1,
              "#f0f921"
             ]
            ],
            "type": "contour"
           }
          ],
          "contourcarpet": [
           {
            "colorbar": {
             "outlinewidth": 0,
             "ticks": ""
            },
            "type": "contourcarpet"
           }
          ],
          "heatmap": [
           {
            "colorbar": {
             "outlinewidth": 0,
             "ticks": ""
            },
            "colorscale": [
             [
              0,
              "#0d0887"
             ],
             [
              0.1111111111111111,
              "#46039f"
             ],
             [
              0.2222222222222222,
              "#7201a8"
             ],
             [
              0.3333333333333333,
              "#9c179e"
             ],
             [
              0.4444444444444444,
              "#bd3786"
             ],
             [
              0.5555555555555556,
              "#d8576b"
             ],
             [
              0.6666666666666666,
              "#ed7953"
             ],
             [
              0.7777777777777778,
              "#fb9f3a"
             ],
             [
              0.8888888888888888,
              "#fdca26"
             ],
             [
              1,
              "#f0f921"
             ]
            ],
            "type": "heatmap"
           }
          ],
          "heatmapgl": [
           {
            "colorbar": {
             "outlinewidth": 0,
             "ticks": ""
            },
            "colorscale": [
             [
              0,
              "#0d0887"
             ],
             [
              0.1111111111111111,
              "#46039f"
             ],
             [
              0.2222222222222222,
              "#7201a8"
             ],
             [
              0.3333333333333333,
              "#9c179e"
             ],
             [
              0.4444444444444444,
              "#bd3786"
             ],
             [
              0.5555555555555556,
              "#d8576b"
             ],
             [
              0.6666666666666666,
              "#ed7953"
             ],
             [
              0.7777777777777778,
              "#fb9f3a"
             ],
             [
              0.8888888888888888,
              "#fdca26"
             ],
             [
              1,
              "#f0f921"
             ]
            ],
            "type": "heatmapgl"
           }
          ],
          "histogram": [
           {
            "marker": {
             "line": {
              "width": 1
             },
             "pattern": {
              "fillmode": "overlay",
              "size": 10,
              "solidity": 0.2
             }
            },
            "type": "histogram"
           }
          ],
          "histogram2d": [
           {
            "colorbar": {
             "outlinewidth": 0,
             "ticks": ""
            },
            "colorscale": [
             [
              0,
              "#0d0887"
             ],
             [
              0.1111111111111111,
              "#46039f"
             ],
             [
              0.2222222222222222,
              "#7201a8"
             ],
             [
              0.3333333333333333,
              "#9c179e"
             ],
             [
              0.4444444444444444,
              "#bd3786"
             ],
             [
              0.5555555555555556,
              "#d8576b"
             ],
             [
              0.6666666666666666,
              "#ed7953"
             ],
             [
              0.7777777777777778,
              "#fb9f3a"
             ],
             [
              0.8888888888888888,
              "#fdca26"
             ],
             [
              1,
              "#f0f921"
             ]
            ],
            "type": "histogram2d"
           }
          ],
          "histogram2dcontour": [
           {
            "colorbar": {
             "outlinewidth": 0,
             "ticks": ""
            },
            "colorscale": [
             [
              0,
              "#0d0887"
             ],
             [
              0.1111111111111111,
              "#46039f"
             ],
             [
              0.2222222222222222,
              "#7201a8"
             ],
             [
              0.3333333333333333,
              "#9c179e"
             ],
             [
              0.4444444444444444,
              "#bd3786"
             ],
             [
              0.5555555555555556,
              "#d8576b"
             ],
             [
              0.6666666666666666,
              "#ed7953"
             ],
             [
              0.7777777777777778,
              "#fb9f3a"
             ],
             [
              0.8888888888888888,
              "#fdca26"
             ],
             [
              1,
              "#f0f921"
             ]
            ],
            "type": "histogram2dcontour"
           }
          ],
          "mesh3d": [
           {
            "colorbar": {
             "outlinewidth": 0,
             "ticks": ""
            },
            "type": "mesh3d"
           }
          ],
          "parcoords": [
           {
            "line": {
             "colorbar": {
              "outlinewidth": 0,
              "ticks": ""
             }
            },
            "type": "parcoords"
           }
          ],
          "pie": [
           {
            "automargin": true,
            "type": "pie"
           }
          ],
          "scatter": [
           {
            "fillpattern": {
             "fillmode": "overlay",
             "size": 10,
             "solidity": 0.2
            },
            "marker": {
             "opacity": 0.8
            },
            "type": "scatter"
           }
          ],
          "scatter3d": [
           {
            "line": {
             "colorbar": {
              "outlinewidth": 0,
              "ticks": ""
             }
            },
            "marker": {
             "colorbar": {
              "outlinewidth": 0,
              "ticks": ""
             },
             "opacity": 0.8
            },
            "type": "scatter3d"
           }
          ],
          "scattercarpet": [
           {
            "marker": {
             "colorbar": {
              "outlinewidth": 0,
              "ticks": ""
             }
            },
            "type": "scattercarpet"
           }
          ],
          "scattergeo": [
           {
            "marker": {
             "colorbar": {
              "outlinewidth": 0,
              "ticks": ""
             }
            },
            "type": "scattergeo"
           }
          ],
          "scattergl": [
           {
            "marker": {
             "colorbar": {
              "outlinewidth": 0,
              "ticks": ""
             }
            },
            "type": "scattergl"
           }
          ],
          "scattermapbox": [
           {
            "marker": {
             "colorbar": {
              "outlinewidth": 0,
              "ticks": ""
             }
            },
            "type": "scattermapbox"
           }
          ],
          "scatterpolar": [
           {
            "marker": {
             "colorbar": {
              "outlinewidth": 0,
              "ticks": ""
             }
            },
            "type": "scatterpolar"
           }
          ],
          "scatterpolargl": [
           {
            "marker": {
             "colorbar": {
              "outlinewidth": 0,
              "ticks": ""
             }
            },
            "type": "scatterpolargl"
           }
          ],
          "scatterternary": [
           {
            "marker": {
             "colorbar": {
              "outlinewidth": 0,
              "ticks": ""
             }
            },
            "type": "scatterternary"
           }
          ],
          "surface": [
           {
            "colorbar": {
             "outlinewidth": 0,
             "ticks": ""
            },
            "colorscale": [
             [
              0,
              "#0d0887"
             ],
             [
              0.1111111111111111,
              "#46039f"
             ],
             [
              0.2222222222222222,
              "#7201a8"
             ],
             [
              0.3333333333333333,
              "#9c179e"
             ],
             [
              0.4444444444444444,
              "#bd3786"
             ],
             [
              0.5555555555555556,
              "#d8576b"
             ],
             [
              0.6666666666666666,
              "#ed7953"
             ],
             [
              0.7777777777777778,
              "#fb9f3a"
             ],
             [
              0.8888888888888888,
              "#fdca26"
             ],
             [
              1,
              "#f0f921"
             ]
            ],
            "type": "surface"
           }
          ],
          "table": [
           {
            "cells": {
             "fill": {
              "color": "#EBF0F8"
             },
             "line": {
              "color": "white"
             }
            },
            "header": {
             "fill": {
              "color": "#C8D4E3"
             },
             "line": {
              "color": "white"
             }
            },
            "type": "table"
           }
          ]
         },
         "layout": {
          "annotationdefaults": {
           "arrowcolor": "#2a3f5f",
           "arrowhead": 0,
           "arrowwidth": 1
          },
          "autotypenumbers": "strict",
          "coloraxis": {
           "colorbar": {
            "outlinewidth": 0,
            "ticks": ""
           }
          },
          "colorscale": {
           "diverging": [
            [
             0,
             "#8e0152"
            ],
            [
             0.1,
             "#c51b7d"
            ],
            [
             0.2,
             "#de77ae"
            ],
            [
             0.3,
             "#f1b6da"
            ],
            [
             0.4,
             "#fde0ef"
            ],
            [
             0.5,
             "#f7f7f7"
            ],
            [
             0.6,
             "#e6f5d0"
            ],
            [
             0.7,
             "#b8e186"
            ],
            [
             0.8,
             "#7fbc41"
            ],
            [
             0.9,
             "#4d9221"
            ],
            [
             1,
             "#276419"
            ]
           ],
           "sequential": [
            [
             0,
             "#0d0887"
            ],
            [
             0.1111111111111111,
             "#46039f"
            ],
            [
             0.2222222222222222,
             "#7201a8"
            ],
            [
             0.3333333333333333,
             "#9c179e"
            ],
            [
             0.4444444444444444,
             "#bd3786"
            ],
            [
             0.5555555555555556,
             "#d8576b"
            ],
            [
             0.6666666666666666,
             "#ed7953"
            ],
            [
             0.7777777777777778,
             "#fb9f3a"
            ],
            [
             0.8888888888888888,
             "#fdca26"
            ],
            [
             1,
             "#f0f921"
            ]
           ],
           "sequentialminus": [
            [
             0,
             "#0d0887"
            ],
            [
             0.1111111111111111,
             "#46039f"
            ],
            [
             0.2222222222222222,
             "#7201a8"
            ],
            [
             0.3333333333333333,
             "#9c179e"
            ],
            [
             0.4444444444444444,
             "#bd3786"
            ],
            [
             0.5555555555555556,
             "#d8576b"
            ],
            [
             0.6666666666666666,
             "#ed7953"
            ],
            [
             0.7777777777777778,
             "#fb9f3a"
            ],
            [
             0.8888888888888888,
             "#fdca26"
            ],
            [
             1,
             "#f0f921"
            ]
           ]
          },
          "colorway": [
           "#636efa",
           "#EF553B",
           "#00cc96",
           "#ab63fa",
           "#FFA15A",
           "#19d3f3",
           "#FF6692",
           "#B6E880",
           "#FF97FF",
           "#FECB52"
          ],
          "font": {
           "color": "#2a3f5f"
          },
          "geo": {
           "bgcolor": "white",
           "lakecolor": "white",
           "landcolor": "white",
           "showlakes": true,
           "showland": true,
           "subunitcolor": "#C8D4E3"
          },
          "height": 400,
          "hoverlabel": {
           "align": "left"
          },
          "hovermode": "closest",
          "mapbox": {
           "style": "light"
          },
          "margin": {
           "b": 2,
           "l": 2,
           "r": 2,
           "t": 30
          },
          "paper_bgcolor": "white",
          "plot_bgcolor": "white",
          "polar": {
           "angularaxis": {
            "gridcolor": "#EBF0F8",
            "linecolor": "#EBF0F8",
            "ticks": ""
           },
           "bgcolor": "white",
           "radialaxis": {
            "gridcolor": "#EBF0F8",
            "linecolor": "#EBF0F8",
            "ticks": ""
           }
          },
          "scene": {
           "camera": {
            "eye": {
             "x": 1.5,
             "y": 1.5,
             "z": 0.1
            }
           },
           "xaxis": {
            "backgroundcolor": "white",
            "gridcolor": "#DFE8F3",
            "gridwidth": 2,
            "linecolor": "#EBF0F8",
            "showbackground": true,
            "ticks": "",
            "zerolinecolor": "#EBF0F8"
           },
           "yaxis": {
            "backgroundcolor": "white",
            "gridcolor": "#DFE8F3",
            "gridwidth": 2,
            "linecolor": "#EBF0F8",
            "showbackground": true,
            "ticks": "",
            "zerolinecolor": "#EBF0F8"
           },
           "zaxis": {
            "backgroundcolor": "white",
            "gridcolor": "#DFE8F3",
            "gridwidth": 2,
            "linecolor": "#EBF0F8",
            "showbackground": true,
            "ticks": "",
            "zerolinecolor": "#EBF0F8"
           }
          },
          "shapedefaults": {
           "line": {
            "color": "#2a3f5f"
           }
          },
          "ternary": {
           "aaxis": {
            "gridcolor": "#DFE8F3",
            "linecolor": "#A2B1C6",
            "ticks": ""
           },
           "baxis": {
            "gridcolor": "#DFE8F3",
            "linecolor": "#A2B1C6",
            "ticks": ""
           },
           "bgcolor": "white",
           "caxis": {
            "gridcolor": "#DFE8F3",
            "linecolor": "#A2B1C6",
            "ticks": ""
           }
          },
          "title": {
           "x": 0.5
          },
          "xaxis": {
           "automargin": true,
           "gridcolor": "#EBF0F8",
           "linecolor": "#EBF0F8",
           "linewidth": 2,
           "showline": true,
           "ticks": "",
           "title": {
            "standoff": 15
           },
           "zerolinecolor": "#EBF0F8",
           "zerolinewidth": 2
          },
          "yaxis": {
           "automargin": true,
           "gridcolor": "#EBF0F8",
           "linecolor": "#EBF0F8",
           "linewidth": 2,
           "showline": true,
           "ticks": "",
           "title": {
            "standoff": 15
           },
           "zerolinecolor": "#EBF0F8",
           "zerolinewidth": 2
          }
         }
        },
        "title": {
         "text": "80:20 split"
        },
        "xaxis": {
         "anchor": "y",
         "domain": [
          0,
          1
         ],
         "title": {
          "text": "EmergencyNYC"
         }
        },
        "yaxis": {
         "anchor": "x",
         "domain": [
          0,
          1
         ],
         "title": {
          "text": "Average"
         }
        }
       }
      }
     },
     "metadata": {},
     "output_type": "display_data"
    }
   ],
   "source": [
    "# Split Dataset using different ratios 50:50, 60:40, 70:30, 80:20\n",
    "train_5050, test_5050 = train_test_split(data, test_size=0.5, random_state=2)\n",
    "train_6040, test_6040 = train_test_split(data, test_size=0.4, random_state=2)\n",
    "train_7030, test_7030 = train_test_split(data, test_size=0.3, random_state=2)\n",
    "train_8020, test_8020 = train_test_split(data, test_size=0.2, random_state=2)\n",
    "\n",
    "# Add a column to each set to identify if a datapoint belongs to \"train\" or \"test\"\n",
    "train_5050, test_5050 = train_5050.assign(Set=\"train\"), test_5050.assign(Set=\"test\")\n",
    "train_6040, test_6040 = train_6040.assign(Set=\"train\"), test_6040.assign(Set=\"test\")\n",
    "train_7030, test_7030 = train_7030.assign(Set=\"train\"), test_7030.assign(Set=\"test\")\n",
    "train_8020, test_8020 = train_8020.assign(Set=\"train\"), test_8020.assign(Set=\"test\")\n",
    "\n",
    "# Concatenate the \"train\" and \"test\" sets for each split so we can plot them on the same chart\n",
    "df_5050 = pd.concat([train_5050, test_5050], axis=0)\n",
    "df_6040 = pd.concat([train_6040, test_6040], axis=0)\n",
    "df_7030 = pd.concat([train_7030, test_7030], axis=0)\n",
    "df_8020 = pd.concat([train_8020, test_8020], axis=0)\n",
    "\n",
    "# Plot each distribution for comparison\n",
    "graphing.scatter_2D(df_5050, \"EmergencyNYC\", \"Average\", title=\"50:50 split\", label_colour=\"Set\", show=True)\n",
    "graphing.scatter_2D(df_6040, \"EmergencyNYC\", \"Average\", title=\"60:40 split\", label_colour=\"Set\", show=True)\n",
    "graphing.scatter_2D(df_7030, \"EmergencyNYC\", \"Average\", title=\"70:30 split\", label_colour=\"Set\", show=True)\n",
    "graphing.scatter_2D(df_8020, \"EmergencyNYC\", \"Average\", title=\"80:20 split\", label_colour=\"Set\")\n"
   ]
  },
  {
   "cell_type": "code",
   "execution_count": 46,
   "metadata": {},
   "outputs": [
    {
     "name": "stdout",
     "output_type": "stream",
     "text": [
      "Mean Squared Error values (smaller is better)\n",
      "50:50 MSE = 18.980058 \n",
      "60:40 MSE = 17.074131 \n",
      "70:30 MSE = 15.306395 \n",
      "80:20 MSE = 14.739524 \n"
     ]
    }
   ],
   "source": [
    "def train_and_test_model(name, train, test):\n",
    "    '''\n",
    "    This method creates a model, trains it on the provided data, and assesses \n",
    "    it against the test data\n",
    "    '''\n",
    "    # This formula says that rescues_last_year is explained by weight_last_year\n",
    "    formula = \"Average ~ EmergencyNYC\"\n",
    "\n",
    "    # Create and train a linear regression model using the training data\n",
    "    model = smf.ols(formula = formula, data = train).fit()\n",
    "\n",
    "    # Now evaluate the model (by calculating the Mean Squared Error) using the \n",
    "    # corresponding \"test\" set for that split\n",
    "    correct_answers = test['Average']\n",
    "    predictions = model.predict(test['EmergencyNYC'])\n",
    "    MSE = mse(correct_answers, predictions)\n",
    "    print(name + ' MSE = %f ' % MSE)\n",
    "\n",
    "    return model\n",
    "\n",
    "\n",
    "# Train a model and test it for each kind of split\n",
    "print(\"Mean Squared Error values (smaller is better)\")\n",
    "model_5050 = train_and_test_model(\"50:50\", train_5050, test_5050)\n",
    "model_6040 = train_and_test_model(\"60:40\", train_6040, test_6040)\n",
    "model_7030 = train_and_test_model(\"70:30\", train_7030, test_7030)\n",
    "model_8020 = train_and_test_model(\"80:20\", train_8020, test_8020)"
   ]
  }
 ],
 "metadata": {
  "kernelspec": {
   "display_name": "Python 3",
   "language": "python",
   "name": "python3"
  },
  "language_info": {
   "codemirror_mode": {
    "name": "ipython",
    "version": 3
   },
   "file_extension": ".py",
   "mimetype": "text/x-python",
   "name": "python",
   "nbconvert_exporter": "python",
   "pygments_lexer": "ipython3",
   "version": "3.11.9"
  }
 },
 "nbformat": 4,
 "nbformat_minor": 2
}
